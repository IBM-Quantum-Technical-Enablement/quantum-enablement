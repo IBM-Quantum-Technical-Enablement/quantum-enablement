{
 "cells": [
  {
   "cell_type": "markdown",
   "id": "469c64fb-72d7-41f1-989a-435176ba5a27",
   "metadata": {},
   "source": [
    "## Benchmarking quantum circuits for bad qubits and edges"
   ]
  },
  {
   "cell_type": "markdown",
   "id": "1ed82bfa-4c00-41e8-9a83-72e519101ee3",
   "metadata": {},
   "source": [
    "We identify bad qubits and edges for different hardware. We use the calibration data for this purpose. The bad qubits are determined by their SPAM probabilities only. It may be possible to put in 1q gate error probabilities as well. But usually they are order of magnitudes lesser, and hence can be ignored. The bad edges are determined by the 2q gate error probabilities.\n",
    "\n",
    "We shall use the statistical method of `z-score` to identify outliers."
   ]
  },
  {
   "cell_type": "code",
   "execution_count": 1,
   "id": "cc31ae4d-a0bf-4e59-8df0-021efc5f58ee",
   "metadata": {},
   "outputs": [],
   "source": [
    "import numpy as np\n",
    "\n",
    "def identify_bad_qubits(backend, z_score:float=1.0):\n",
    "    \"\"\"\n",
    "        If some qubits are really bad, and statistical outliers, it is useful\n",
    "        to remove those qubits as long as the isomorphism of the mapped circuit\n",
    "        is not lost\n",
    "    \"\"\"\n",
    "    spam_error = {}\n",
    "    \n",
    "    for qubit in range(backend.configuration().n_qubits):\n",
    "        spam_error[qubit] = backend.properties().readout_error(qubit)\n",
    "\n",
    "    retained = {}\n",
    "    outliers = {}\n",
    "\n",
    "    mean_score = np.mean(list(spam_error.values()))\n",
    "    std_score = np.std(list(spam_error.values()))\n",
    "\n",
    "    for qubit, score in spam_error.items():\n",
    "        if (score-mean_score)/std_score > z_score:\n",
    "            outliers[qubit] = score\n",
    "        else:\n",
    "            retained[qubit] = score\n",
    "\n",
    "    return outliers, retained, np.median(list(spam_error.values()))"
   ]
  },
  {
   "cell_type": "code",
   "execution_count": 2,
   "id": "a34bf46f-0baa-42fa-bd0e-68c176f10213",
   "metadata": {},
   "outputs": [],
   "source": [
    "def identify_bad_edges(backend, z_score:float=1.0):\n",
    "    \"\"\"\n",
    "        If some edges are really bad, and statistical outliers, it is useful\n",
    "        to remove those edges as long as the isomorphism of the mapped circuit\n",
    "        is not lost\n",
    "    \"\"\"\n",
    "    if 'cx' in backend.configuration().basis_gates:\n",
    "        basis_2q_gate = 'cx'\n",
    "    elif 'ecr' in backend.configuration().basis_gates:\n",
    "        basis_2q_gate = 'ecr'\n",
    "    else:\n",
    "        basis_2q_gate = 'cz'\n",
    "\n",
    "    gate_2q_error = {}\n",
    "\n",
    "    for qubit1 in range(backend.configuration().n_qubits):\n",
    "        for qubit2 in range(backend.configuration().n_qubits):\n",
    "            if [qubit1, qubit2] in backend.configuration().coupling_map:\n",
    "                gate_2q_error[(qubit1, qubit2)] = backend.properties().gate_error(basis_2q_gate, [qubit1, qubit2])\n",
    "\n",
    "    retained = {}\n",
    "    outliers = {}\n",
    "\n",
    "    mean_score = np.mean(list(gate_2q_error.values()))\n",
    "    std_score = np.std(list(gate_2q_error.values()))\n",
    "\n",
    "    for edge, score in gate_2q_error.items():\n",
    "        if std_score == 0:\n",
    "            retained[edge] = score\n",
    "        elif (score-mean_score)/std_score > z_score:\n",
    "            outliers[edge] = score\n",
    "        else:\n",
    "            retained[edge] = score\n",
    "\n",
    "    return outliers, retained, np.median(list(gate_2q_error.values()))"
   ]
  },
  {
   "cell_type": "code",
   "execution_count": 3,
   "id": "5dc3c5fe-04fa-424e-8220-a96897436462",
   "metadata": {},
   "outputs": [],
   "source": [
    "def create_punctured_coupling_map(backend, spam_outliers: dict, edge_outliers: dict) -> list:\n",
    "    \"\"\"\n",
    "        Create punched coupling map by removing spam and edge outliers\n",
    "    \"\"\"\n",
    "    coupling_map = backend.configuration().coupling_map\n",
    "    punched_coupling_map = []\n",
    "\n",
    "    bad_qubits = list(spam_outliers.keys())\n",
    "    bad_edges = list(edge_outliers.keys())\n",
    "\n",
    "    for edge in coupling_map:\n",
    "        if edge not in bad_edges and edge[0] not in bad_qubits and edge[1] not in bad_qubits:\n",
    "            punched_coupling_map.append(edge)\n",
    "\n",
    "    return punched_coupling_map"
   ]
  },
  {
   "cell_type": "code",
   "execution_count": 25,
   "id": "642dceec-25ee-40cf-9abf-63eca5193923",
   "metadata": {},
   "outputs": [],
   "source": [
    "def obtain_median_and_worst_qubit(backend, qubit_list: list, median: float) -> float:\n",
    "    spam_error_list = []\n",
    "    for qubit in qubit_list:\n",
    "        spam_error_list.append(backend.properties().readout_error(qubit))\n",
    "\n",
    "    qubit_worst = max(spam_error_list)\n",
    "    bad_qubits_count = [spam for spam in spam_error_list if spam > median]\n",
    "\n",
    "    return qubit_worst, len(bad_qubits_count)"
   ]
  },
  {
   "cell_type": "code",
   "execution_count": 26,
   "id": "fc5156a7-3548-48fc-b0a1-c6c79d01ffc4",
   "metadata": {},
   "outputs": [],
   "source": [
    "def obtain_median_and_worst_edge(backend, edge_list: list, median: float) -> float:\n",
    "    if 'cx' in backend.configuration().basis_gates:\n",
    "        basis_2q_gate = 'cx'\n",
    "    elif 'ecr' in backend.configuration().basis_gates:\n",
    "        basis_2q_gate = 'ecr'\n",
    "    else:\n",
    "        basis_2q_gate = 'cz'\n",
    "    \n",
    "    edge_error_list = []\n",
    "    for edge in edge_list:\n",
    "        edge_error_list.append(backend.properties().gate_error(basis_2q_gate, edge))\n",
    "\n",
    "    edge_worst = max(edge_error_list)\n",
    "    bad_edge_count = [edge for edge in edge_error_list if edge > median]\n",
    "\n",
    "    return edge_worst, len(bad_edge_count)"
   ]
  },
  {
   "cell_type": "markdown",
   "id": "ff86a1b4-3047-4ca7-9d05-1bd671751417",
   "metadata": {},
   "source": [
    "### Test for hardware"
   ]
  },
  {
   "cell_type": "code",
   "execution_count": 6,
   "id": "a1432fd5-3934-4643-8021-c83796c71073",
   "metadata": {},
   "outputs": [],
   "source": [
    "from qiskit_ibm_runtime import QiskitRuntimeService\n",
    "service = QiskitRuntimeService(channel='ibm_quantum', instance='client-enablement/solutions/demo-testing')"
   ]
  },
  {
   "cell_type": "code",
   "execution_count": 7,
   "id": "43c6c2fd-c083-4aae-a076-b3b78bbdd00b",
   "metadata": {},
   "outputs": [
    {
     "data": {
      "text/plain": [
       "[<IBMBackend('ibm_kyiv')>,\n",
       " <IBMBackend('ibm_brisbane')>,\n",
       " <IBMBackend('ibm_nazca')>,\n",
       " <IBMBackend('ibm_sherbrooke')>,\n",
       " <IBMBackend('ibm_torino')>,\n",
       " <IBMBackend('ibm_kyoto')>]"
      ]
     },
     "execution_count": 7,
     "metadata": {},
     "output_type": "execute_result"
    }
   ],
   "source": [
    "list_of_hardware = service.backends()\n",
    "list_of_hardware"
   ]
  },
  {
   "cell_type": "code",
   "execution_count": 32,
   "id": "1843bb38-e643-47f6-b948-34097360a24c",
   "metadata": {},
   "outputs": [],
   "source": [
    "benchmark_data = {}\n",
    "z_scores = [1.5,1.0,0.5,0.1,0.05]"
   ]
  },
  {
   "cell_type": "code",
   "execution_count": 33,
   "id": "bae3ca49-2ff5-44e1-a749-097ba9f5e173",
   "metadata": {},
   "outputs": [],
   "source": [
    "import networkx as nx\n",
    "\n",
    "for hardware in list_of_hardware:\n",
    "    if hardware.name == 'ibm_nazca':\n",
    "        continue\n",
    "    benchmark_data[hardware.name] = {}\n",
    "\n",
    "    for z_score in z_scores:\n",
    "        benchmark_data[hardware.name][z_score] = {}\n",
    "        benchmark_data[hardware.name][z_score]['spam'] = {}\n",
    "        benchmark_data[hardware.name][z_score]['edge'] = {}\n",
    "        \n",
    "        # obtain spam outliers\n",
    "        spam_outliers, spam_retained, qubit_median = identify_bad_qubits(hardware, z_score=z_score)\n",
    "        benchmark_data[hardware.name][z_score]['spam']['outliers'] = spam_outliers\n",
    "\n",
    "        # obtain edge outliers\n",
    "        edge_outliers, edge_retained, edge_median = identify_bad_edges(hardware, z_score=z_score)\n",
    "        benchmark_data[hardware.name][z_score]['edge']['outliers'] = edge_outliers\n",
    "\n",
    "        # obtain punctured coupling map\n",
    "        punctured_coupling_map = create_punctured_coupling_map(hardware, \n",
    "                                                               spam_outliers, edge_outliers)\n",
    "\n",
    "        # find connected components\n",
    "        graph = nx.Graph()\n",
    "        graph.add_edges_from(punctured_coupling_map)\n",
    "        connected_components = list(nx.connected_components(graph))\n",
    "        component_sizes = [len(component) for component in connected_components]\n",
    "        component_sizes.sort(reverse=True)\n",
    "        benchmark_data[hardware.name][z_score]['component_size'] = component_sizes\n",
    "\n",
    "        # get median and worst data\n",
    "        qubit_worst, bad_qubit_count = obtain_median_and_worst_qubit(hardware, spam_retained, qubit_median)\n",
    "        edge_worst, bad_edge_count = obtain_median_and_worst_edge(hardware, edge_retained, edge_median)\n",
    "        \n",
    "        benchmark_data[hardware.name][z_score]['spam']['median'] = qubit_median\n",
    "        benchmark_data[hardware.name][z_score]['spam']['worst'] = qubit_worst\n",
    "        benchmark_data[hardware.name][z_score]['spam']['num_qubit_worse_than_median'] = bad_qubit_count\n",
    "\n",
    "        benchmark_data[hardware.name][z_score]['edge']['median'] = edge_median\n",
    "        benchmark_data[hardware.name][z_score]['edge']['worst'] = edge_worst\n",
    "        benchmark_data[hardware.name][z_score]['edge']['num_edge_worse_than_median'] = bad_edge_count"
   ]
  },
  {
   "cell_type": "code",
   "execution_count": 38,
   "id": "c1ec4acf-dacd-417a-ae29-c551aa45f330",
   "metadata": {},
   "outputs": [],
   "source": [
    "from datetime import datetime\n",
    "date = datetime.today().strftime('%Y-%m-%d')\n",
    "\n",
    "filename = 'benchmark_punctured_coupling_map_'+date+'_calibration_data.pkl'"
   ]
  },
  {
   "cell_type": "code",
   "execution_count": 40,
   "id": "733d0d5a-b180-4eca-b84d-60750f247ec2",
   "metadata": {},
   "outputs": [],
   "source": [
    "import pickle\n",
    "\n",
    "file = open(filename, 'wb')\n",
    "pickle.dump(benchmark_data, file)"
   ]
  },
  {
   "cell_type": "code",
   "execution_count": null,
   "id": "8f4d5927-964e-434c-92a8-74cc40baa706",
   "metadata": {},
   "outputs": [],
   "source": []
  }
 ],
 "metadata": {
  "kernelspec": {
   "display_name": "Python 3 (ipykernel)",
   "language": "python",
   "name": "python3"
  },
  "language_info": {
   "codemirror_mode": {
    "name": "ipython",
    "version": 3
   },
   "file_extension": ".py",
   "mimetype": "text/x-python",
   "name": "python",
   "nbconvert_exporter": "python",
   "pygments_lexer": "ipython3",
   "version": "3.10.0"
  }
 },
 "nbformat": 4,
 "nbformat_minor": 5
}
