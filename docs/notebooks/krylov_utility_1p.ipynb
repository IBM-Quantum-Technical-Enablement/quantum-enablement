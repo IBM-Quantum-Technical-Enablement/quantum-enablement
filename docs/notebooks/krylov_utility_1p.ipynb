{
 "cells": [
  {
   "cell_type": "markdown",
   "metadata": {},
   "source": [
    "# Calculating ground states on large scale systems: Quantum Krylov Subspaces"
   ]
  },
  {
   "cell_type": "markdown",
   "metadata": {},
   "source": [
    "## Step 1: Map problem to quantum native format\n",
    "\n",
    "Across disciplines, we're interested in learning ground state properties of quantum systems. Examples include understanding the fundamental nature of particles and forces, predicting and undestanding the behavior of complex materials and understanding bio-chemical interactions and reactions. Because of the exponential growth of the Hilbert space and the correlation that arise in entangled systems, classical algorithm struggle to solve this problem for quantum systems of increasing size. At one end of the spectrum, existing approach that take advantage of the quantum hardware focus on variational quantum methods (e. g. [variational quantum eigen-solver](https://learning.quantum.ibm.com/tutorial/variational-quantum-eigensolver)). These techniques face challenges with current devices because of the high number of function calls required in the optimization process, which is incompatible with advanced error mitigation techniques, thus limiting their efficacy to small systems. At the other end of the spectrum, there are fault-tolerant quantum methods with performance guarantees (e.g. [quantum phase estimation](https://arxiv.org/pdf/quant-ph/0604193.pdf)) which require deep circuits that can be executed only on a fault-tolerant device. For these reasons, we introduce here a quantum algorithm based on subspace methods (as reviewed [here](https://arxiv.org/pdf/2312.00178.pdf)), the quantum Krylov algorithm. This algorithm performs well at large scale on existing quantum hardware, shares similar [performance guarantees](https://arxiv.org/pdf/2110.07492.pdf) as phase estimation, are compatible with advanced error mitigation techniques and could provide results that are classically inaccessible.\n",
    "\n",
    "Let us now go into more details of how subspace methods, and the quantum Krylov algorithm in particular, work. Given a matrix $H$ for which we want to know its lowest eigenvalue, subspace methods construct of a smaller representation $\\tilde{H}$ of $H$, which captures its properties of interest. In the case of the quantum Krylov algorithm, the Krylov subspace is used to construct the effective representation.\n",
    "\n",
    "### What is the Krylov subspace? \n",
    "\n",
    "By definition, the Krylov subspace $K^r$ of order $r$ is the subspace spanned by vectors obtained by multiplying higher powers of $H$, up to $r-1$, with a reference vector $\\vert \\psi \\rangle$.\n",
    "\n",
    "$$K^r = \\left\\{ \\vert \\psi \\rangle, H \\vert \\psi \\rangle, H^2 \\vert \\psi \\rangle, ..., H^{r-1} \\vert \\psi \\rangle \\right\\}$$\n",
    "\n",
    "We can gain some insight on why this subspace is interesting by expanding the reference state in terms of the eigenvectors $\\vert \\lambda_i \\rangle$ of the matrix $H$:\n",
    "\n",
    "$$ \\vert \\psi \\rangle = c_1 \\vert \\lambda_1 \\rangle + c_2 \\vert \\lambda_2 \\rangle + ... + c_n \\vert \\lambda_n \\rangle $$\n",
    "\n",
    "Applying $j^{th}$ power of the matrix $H$ gives:\n",
    "\n",
    "$$ H^n \\vert \\psi \\rangle = c_1 \\lambda_1^n \\vert \\lambda_1 \\rangle + c_2 \\lambda_2^n \\vert \\lambda_2 \\rangle + ... + c_n \\lambda_n^n \\vert \\lambda_n \\rangle $$\n",
    "\n",
    "Which means that the component $k$ with the largest eigenvalue $\\lambda_k$ is amplified by the power iteration (This can also be a problem as the basis vector become too similar to each other). The same is true for the smallest eigenvalue, if we consider power iteration of the matrix $H^{-1}$.\n",
    "\n",
    "### Why is it useful for ground state energy problems?\n",
    "\n",
    "The Krylov subspace is constructed using the power iteration method. Therefore, states in the Krylov subspace corresponding to the multiplication with higher power of the matrix with the reference states will have the contribution of the ground state $\\vert \\lambda_k \\rangle$ enhanced.\n",
    "\n",
    "\n",
    "The Krylov subspace that we use classically cannot be accessed on a quantum computer as $H$ is not a unitary matrix. Instead, we can use the time-evolution operator $U = e^{-iHt}$ which can be shown to give similar [convergence guarantees](https://arxiv.org/pdf/2110.07492.pdf) as the power method. Powers of $U$ then become different time steps $U^k = e^{-iH(kt)}$.\n",
    "\n",
    "\n",
    "$$K_U^r = \\left\\{ \\vert \\psi \\rangle, U \\vert \\psi \\rangle, U^2 \\vert \\psi \\rangle, ..., U^{r-1} \\vert \\psi \\rangle \\right\\}$$\n",
    "\n",
    "The subspace $K_U^r$ obtained in this way is called \"Unitary\" Krylov subspace.\n",
    "\n",
    "\n",
    "### How does the algorithm work in summary?\n",
    "\n",
    "First, we want to find a compact represention of the Hamiltonian in the Krylov subspace $\\tilde{H}$. Given that the Krylov subspace has dimension $r$, the Hamiltonian projected into the Krylov subspace will have dimensions $r \\times r$. We can then easily diagonalize the projected Hamiltonian $\\tilde{H}$. However, we cannot directly diagonalize $\\tilde{H}$ because of the non-orthogonality of the Krylov subpace vectors. We'll have to measure their overlaps and construct a matrix $\\tilde{S}$ collecting them to do so. We can then  solve the generalized eigenvalue problem\n",
    "\n",
    "$$ \\tilde{H} \\ \\vec{c} = c \\ \\tilde{S} \\ \\vec{c} $$\n",
    "\n",
    "Where $\\tilde{H}=\\langle \\psi_m \\vert H \\vert \\psi_n \\rangle$ is the Hamiltonian matrix in the Krylov subspace $K_D = \\left\\{ \\vert \\psi_0 \\rangle, \\vert \\psi_1 \\rangle, ..., \\vert \\psi_D \\rangle \\right\\}$ with dimension $D$, $\\vec{c}$ is a vector of variational coefficients that are optimized to get the lowest value of the energy $c_{min}=E_{GS}$ and $\\tilde{S}=\\langle \\psi_m  \\vert \\psi_n \\rangle$ is a matrix of overlaps between states of the Krylov subspace.\n",
    "\n",
    "Each of the Krylov subspace's vectors are obtained by time-evolving the reference state $\\vert \\psi \\rangle$ under the Hamiltonian $H$ for a certain time: $\\vert \\psi_l \\rangle = U \\vert \\psi \\rangle = e^{-i H t_l}\\vert \\psi \\rangle$. \n",
    "\n",
    "We can implement the algorithm on a quantum computer by using the Hadamard test to calculate the matrix elements of $\\tilde{H}$ and $\\tilde{S}$ as expectation values:\n",
    "\n",
    "$$\\langle \\psi_m \\vert H \\vert \\psi_n \\rangle = $$\n",
    "$$= \\langle \\psi \\vert  e^{i H t_m}   H e^{-i H t_n} \\vert \\psi \\rangle$$\n",
    "$$= \\langle \\psi \\vert  e^{i H m \\delta t}   H e^{-i H n \\delta t} \\vert \\psi \\rangle$$\n",
    "$$= \\langle \\psi \\vert H e^{-i H (n-m) \\delta t} \\vert \\psi \\rangle$$"
   ]
  },
  {
   "cell_type": "markdown",
   "metadata": {},
   "source": [
    "### Imports and definitions\n",
    "\n"
   ]
  },
  {
   "cell_type": "code",
   "execution_count": 1,
   "metadata": {},
   "outputs": [],
   "source": [
    "import numpy as np\n",
    "import scipy as sp\n",
    "import matplotlib.pylab as plt\n",
    "from typing import Union, List\n",
    "import warnings\n",
    "warnings.filterwarnings('ignore')\n",
    "\n",
    "from qiskit.quantum_info import SparsePauliOp\n",
    "from qiskit.circuit import Parameter\n",
    "from qiskit import QuantumCircuit, QuantumRegister, transpile\n",
    "from qiskit.circuit.library import PauliEvolutionGate\n",
    "from qiskit.synthesis import SuzukiTrotter\n",
    "from qiskit.providers.fake_provider import Fake20QV1\n",
    "from qiskit_ibm_runtime import QiskitRuntimeService, EstimatorV2 as Estimator\n",
    "\n",
    "\n",
    "def solve_regularized_gen_eig(h: np.ndarray, s:np.ndarray, threshold: float, k: int =1, return_dimn: bool = False) -> Union[float, List[float]]:\n",
    "    \"\"\"\n",
    "    Method for solving the generalized eigenvalue problem with regularization\n",
    "\n",
    "    Args:\n",
    "        h (numpy.ndarray):\n",
    "            The effective representation of the matrix in the Krylov subspace\n",
    "        s (numpy.ndarray):\n",
    "            The matrix of overlaps between vectors of the Krylov subspace\n",
    "        threshold (float):\n",
    "            Cut-off value for the eigenvalue of s\n",
    "        k (int):\n",
    "            Number of eigenvalues to return\n",
    "        return_dimn (bool):\n",
    "            Whether to return the size of the regularized subspace\n",
    "\n",
    "    Returns:\n",
    "        lowest k-eigenvalue(s) that are the solution of the regularized generalized eigenvalue problem\n",
    "\n",
    "    \n",
    "    \"\"\"\n",
    "    s_vals, s_vecs = sp.linalg.eigh(s)\n",
    "    s_vecs = s_vecs.T\n",
    "    good_vecs = np.array([vec for val, vec in zip(s_vals, s_vecs) if val > threshold])\n",
    "    h_reg = good_vecs.conj() @ h @ good_vecs.T\n",
    "    s_reg = good_vecs.conj() @ s @ good_vecs.T\n",
    "    if k==1:\n",
    "        if return_dimn:\n",
    "            return sp.linalg.eigh(h_reg, s_reg)[0][0], len(good_vecs)\n",
    "        else:\n",
    "            return sp.linalg.eigh(h_reg, s_reg)[0][0]\n",
    "    else:\n",
    "        if return_dimn:\n",
    "            return sp.linalg.eigh(h_reg, s_reg)[0][:k], len(good_vecs)\n",
    "        else:\n",
    "            return sp.linalg.eigh(h_reg, s_reg)[0][:k]"
   ]
  },
  {
   "cell_type": "markdown",
   "metadata": {},
   "source": [
    "### Define Hamiltonian\n",
    "\n",
    "Let's consider the Heisenberg Hamiltonian for $N$ qubits on a linear chain: $H= J \\sum_{i,j}^N X_i X_j + Y_i Y_j + Z_i Z_j$"
   ]
  },
  {
   "cell_type": "code",
   "execution_count": 2,
   "metadata": {},
   "outputs": [
    {
     "name": "stdout",
     "output_type": "stream",
     "text": [
      "[('ZZIII', 1), ('IZZII', 1), ('IIZZI', 1), ('IIIZZ', 1), ('XXIII', 1), ('IXXII', 1), ('IIXXI', 1), ('IIIXX', 1), ('YYIII', 1), ('IYYII', 1), ('IIYYI', 1), ('IIIYY', 1)]\n"
     ]
    }
   ],
   "source": [
    "# Define problem Hamiltonian.\n",
    "n_qubits = 5\n",
    "J = 1 # coupling strength for ZZ interaction\n",
    "\n",
    "# Define the Hamiltonian: \n",
    "H_int = [['I']*n_qubits for _ in range(3*(n_qubits-1))]\n",
    "for i in range(n_qubits-1):\n",
    "    H_int[i][i] = 'Z'\n",
    "    H_int[i][i+1] = 'Z'\n",
    "for i in range(n_qubits-1):\n",
    "    H_int[n_qubits-1+i][i] = 'X'\n",
    "    H_int[n_qubits-1+i][i+1] = 'X'\n",
    "for i in range(n_qubits-1):\n",
    "    H_int[2*(n_qubits-1)+i][i] = 'Y'\n",
    "    H_int[2*(n_qubits-1)+i][i+1] = 'Y'\n",
    "H_int = [''.join(term) for term in H_int]\n",
    "H_tot = [(term, J) if term.count('Z') == 2 else (term, 1) for term in H_int]\n",
    "\n",
    "# Get operator\n",
    "H_op = SparsePauliOp.from_list(H_tot)\n",
    "print(H_tot)"
   ]
  },
  {
   "cell_type": "markdown",
   "metadata": {},
   "source": [
    "### Set parameters for the algorithm"
   ]
  },
  {
   "cell_type": "code",
   "execution_count": 3,
   "metadata": {},
   "outputs": [],
   "source": [
    "# Set parameters for quantum Krylov algorithm\n",
    "krylov_dim = 10 # size of krylov subspace\n",
    "dt = 0.1 # time step\n",
    "num_trotter_steps = 4\n",
    "dt_circ = dt/num_trotter_steps"
   ]
  },
  {
   "cell_type": "markdown",
   "metadata": {},
   "source": [
    "### State preparation\n",
    "Pick a reference state $\\vert \\psi \\rangle$ that has some overlap with the ground state. For this Hamiltonian, We use the \"checkerboard\" state $\\vert 0101...01 \\rangle$ as our reference."
   ]
  },
  {
   "cell_type": "code",
   "execution_count": 4,
   "metadata": {},
   "outputs": [
    {
     "data": {
      "image/png": "[encoded data removed]",
      "text/plain": [
       "<Figure size 203.885x451.5 with 1 Axes>"
      ]
     },
     "execution_count": 4,
     "metadata": {},
     "output_type": "execute_result"
    }
   ],
   "source": [
    "qc_state_prep = QuantumCircuit(n_qubits)\n",
    "for i in range(n_qubits):\n",
    "    if i%2 != 0:\n",
    "        qc_state_prep.x(i)\n",
    "qc_state_prep.draw('mpl')"
   ]
  },
  {
   "cell_type": "markdown",
   "metadata": {},
   "source": [
    "### Time evolution\n",
    "\n",
    "We can realize the time-evolution operator generated by a given Hamiltonian: $U=e^{-iHt}$ via the [Suzuki-Trotter approximation]((https://docs.quantum.ibm.com/api/qiskit/qiskit.synthesis.SuzukiTrotter))."
   ]
  },
  {
   "cell_type": "code",
   "execution_count": 5,
   "metadata": {},
   "outputs": [
    {
     "data": {
      "text/plain": [
       "<qiskit.circuit.instructionset.InstructionSet at 0x130d82800>"
      ]
     },
     "execution_count": 5,
     "metadata": {},
     "output_type": "execute_result"
    }
   ],
   "source": [
    "t = Parameter('t')\n",
    "\n",
    "## Create the time-evo op circuit\n",
    "evol_gate = PauliEvolutionGate(H_op, time=t, synthesis=SuzukiTrotter(order=num_trotter_steps) )\n",
    "\n",
    "qr = QuantumRegister(n_qubits)\n",
    "qc_evol = QuantumCircuit(qr)\n",
    "qc_evol.append(evol_gate, qargs=qr)\n"
   ]
  },
  {
   "cell_type": "markdown",
   "metadata": {},
   "source": [
    "### Hadamard test\n",
    "\n",
    "\n",
    "\n",
    "\\begin{equation}\n",
    "    |0\\rangle_a|\\psi_0\\rangle\\quad\\longrightarrow\\quad\\frac{1}{\\sqrt{2}}\\Big(|0\\rangle+|1\\rangle\\Big)_a|\\psi_0\\rangle\\quad\\longrightarrow\\quad\\frac{1}{\\sqrt{2}}\\Big(|0\\rangle_a|\\psi_0\\rangle+|1\\rangle_aU_j^\\dagger PU_k|\\psi_0\\rangle\\Big)\n",
    "\\end{equation}\n",
    "Where $P$ is one of the terms in the decomposition of the Hamiltonian $H=\\sum P$. To measure $X$, first apply $H$...\n",
    "\\begin{equation}\n",
    "    \\longrightarrow\\quad\\frac{1}{2}|0\\rangle_a\\Big(|\\psi_0\\rangle+U_j^\\dagger PU_k|\\psi_0\\rangle\\Big) + \\frac{1}{2}|1\\rangle_a\\Big(|\\psi_0\\rangle-U_j^\\dagger PU_k|\\psi_0\\rangle\\Big)\n",
    "\\end{equation}\n",
    "... then measure:\n",
    "\\begin{equation}\n",
    "\\begin{split}\n",
    "    \\Rightarrow\\quad\\langle X\\rangle_a &= \\frac{1}{4}\\Bigg(\\Big\\||\\psi_0\\rangle+U_j^\\dagger PU_k|\\psi_0\\rangle\\Big\\|^2-\\Big\\||\\psi_0\\rangle-U_j^\\dagger PU_k|\\psi_0\\rangle\\Big\\|^2\\Bigg) \\\\\n",
    "    &= \\text{Re}\\Big[\\langle\\psi_0|U_j^\\dagger PU_k|\\psi_0\\rangle\\Big].\n",
    "\\end{split}\n",
    "\\end{equation}\n",
    "Similarly, measuring $Y$ yields\n",
    "\\begin{equation}\n",
    "    \\langle Y\\rangle_a = \\text{Im}\\Big[\\langle\\psi_0|U_j^\\dagger PU_k|\\psi_0\\rangle\\Big].\n",
    "\\end{equation}"
   ]
  },
  {
   "cell_type": "code",
   "execution_count": 6,
   "metadata": {},
   "outputs": [
    {
     "name": "stdout",
     "output_type": "stream",
     "text": [
      "Circuit for calculating the real part of the overlap in S via Hadamard test\n"
     ]
    },
    {
     "data": {
      "image/png": "[encoded data removed]",
      "text/plain": [
       "<Figure size 236.576x267.556 with 1 Axes>"
      ]
     },
     "execution_count": 6,
     "metadata": {},
     "output_type": "execute_result"
    }
   ],
   "source": [
    "## Create the time-evo op circuit\n",
    "evol_gate = PauliEvolutionGate(H_op, time=dt, synthesis= SuzukiTrotter(order=num_trotter_steps) ) #MatrixExponential exact matrix exp, SuzukiTrotter(order=2) for order-2 Trotter evo op\n",
    "\n",
    "## Create the time-evo op dagger circuit\n",
    "evol_gate_d = PauliEvolutionGate(H_op, time=dt, synthesis= SuzukiTrotter(order=num_trotter_steps) )\n",
    "evol_gate_d = evol_gate_d.inverse()\n",
    "\n",
    "# Put pieces together\n",
    "qc_reg = QuantumRegister(n_qubits)\n",
    "qc_temp = QuantumCircuit(qc_reg)\n",
    "qc_temp.compose(qc_state_prep, inplace=True)\n",
    "for _ in range(num_trotter_steps):\n",
    "    qc_temp.append(evol_gate, qargs=qc_reg)\n",
    "for _ in range(num_trotter_steps):\n",
    "    qc_temp.append(evol_gate_d, qargs=qc_reg)\n",
    "qc_temp.compose(qc_state_prep.inverse(), inplace=True)\n",
    "\n",
    "# Create controlled version of the circuit\n",
    "controlled_U = qc_temp.to_gate().control(1)\n",
    "\n",
    "# Create hadamard test circuit for real part\n",
    "qr = QuantumRegister(n_qubits+1)\n",
    "qc_real = QuantumCircuit(qr)\n",
    "qc_real.h(0)\n",
    "qc_real.append(controlled_U, list(range(n_qubits+1)))\n",
    "qc_real.h(0)\n",
    "\n",
    "print('Circuit for calculating the real part of the overlap in S via Hadamard test')\n",
    "qc_real.draw('mpl', fold=-1, scale=0.5)"
   ]
  },
  {
   "cell_type": "markdown",
   "metadata": {},
   "source": [
    "The Hadamard test circuit can be a deep circuit once we transpile to native gates and topology of a device. For example the 5 qubits case considered here "
   ]
  },
  {
   "cell_type": "code",
   "execution_count": 7,
   "metadata": {},
   "outputs": [
    {
     "name": "stdout",
     "output_type": "stream",
     "text": [
      "The circuit has 2Q gates depth:  33443\n"
     ]
    }
   ],
   "source": [
    "circuit_trans_unopt = transpile(circuits=qc_real.decompose().decompose(), backend=Fake20QV1())\n",
    "\n",
    "print('The circuit has 2Q gates depth: ', circuit_trans_unopt.depth(lambda x: x[0].num_qubits == 2))\n"
   ]
  },
  {
   "attachments": {
    "optimized_H_test.png": {
     "image/png": "[encoded data removed]"
    }
   },
   "cell_type": "markdown",
   "metadata": {},
   "source": [
    "## Step 2: Optimize circuits and operators\n",
    "\n",
    "We can optimize the deep circuits for the Hadamard test that we have obtained by introducing some approximations and relying on some assumption about the model Hamiltonian. For example, consider the following circuit for the Hadamard test:\n",
    "\n",
    "\n",
    "![optimized_H_test.png](attachment:optimized_H_test.png)\n",
    "\n",
    "Assume we can classically calculate $E_0$, the eigenvalue of $|0\\rangle^N$ under the Hamiltonian $H$.\n",
    "This is satisfied when the Hamiltonian preserves the U(1) symmetry.\n",
    "Assume that the gate $\\psi_0-prep$ prepares our desired reference state $\\ket{\\psi_0}$, e.g., to prepare the HF state for chemistry $\\psi_0-prep$ would be a product of single-qubit NOTs, so controlled-$\\psi_0-prep$ is just a product of CNOTs.\n",
    "Then the circuit above implements the following state prior to measurement:\n",
    "\n",
    "\\begin{equation}\n",
    "\\begin{split}\n",
    "    \\ket{0} \\ket{0}^N\\xrightarrow{H}&\\frac{1}{\\sqrt{2}}\n",
    "    \\left(\n",
    "    \\ket{0}\\ket{0}^N+ \\ket{1} \\ket{0}^N\n",
    "    \\right)\\\\\n",
    "    \\xrightarrow{\\text{1-ctrl-init}}&\\frac{1}{\\sqrt{2}}\\left(|0\\rangle|0\\rangle^N+|1\\rangle|\\psi_0\\rangle\\right)\\\\\n",
    "    \\xrightarrow{U}&\\frac{1}{\\sqrt{2}}\\left(e^{i\\phi}\\ket{0}\\ket{0}^N+\\ket{1} U\\ket{\\psi_0}\\right)\\\\\n",
    "    \\xrightarrow{\\text{0-ctrl-init}}&\\frac{1}{\\sqrt{2}}\n",
    "    \\left(\n",
    "    e^{i\\phi}\\ket{0} \\ket{\\psi_0}\n",
    "    +\\ket{1} U\\ket{\\psi_0}\n",
    "    \\right)\\\\\n",
    "    =&\\frac{1}{2}\n",
    "    \\left(\n",
    "    \\ket{+}\\left(e^{i\\phi}\\ket{\\psi_0}+U\\ket{\\psi_0}\\right)\n",
    "    +\\ket{-}\\left(e^{i\\phi}\\ket{\\psi_0}-U\\ket{\\psi_0}\\right)\n",
    "    \\right)\\\\\n",
    "    =&\\frac{1}{2}\n",
    "    \\left(\n",
    "    \\ket{+i}\\left(e^{i\\phi}\\ket{\\psi_0}-iU\\ket{\\psi_0}\\right)\n",
    "    +\\ket{-i}\\left(e^{i\\phi}\\ket{\\psi_0}+iU\\ket{\\psi_0}\\right)\n",
    "    \\right)\n",
    "\\end{split}\n",
    "\\end{equation}\n",
    "\n",
    "where we have used the classical simulable phase shift $ U\\ket{0}^N = e^{i\\phi}\\ket{0}$ in the third line. Therefore the expectation values are obtained as\n",
    "\n",
    "\\begin{equation}\n",
    "\\begin{split}\n",
    "    \\langle X\\otimes P\\rangle&=\\frac{1}{4}\n",
    "    \\Big(\n",
    "    \\left(e^{-i\\phi}\\bra{\\psi_0}+\\bra{\\psi_0}U^\\dagger\\right)P\\left(e^{i\\phi}\\ket{\\psi_0}+U\\ket{\\psi_0}\\right)\n",
    "    \\\\\n",
    "    &\\qquad-\\left(e^{-i\\phi}\\bra{\\psi_0}-\\bra{\\psi_0}U^\\dagger\\right)P\\left(e^{i\\phi}\\ket{\\psi_0}-U\\ket{\\psi_0}\\right)\n",
    "    \\Big)\\\\\n",
    "    &=\\text{Re}\\left[e^{-i\\phi}\\bra{\\psi_0}PU\\ket{\\psi_0}\\right],\n",
    "\\end{split}\n",
    "\\end{equation}\n",
    "\n",
    "\\begin{equation}\n",
    "\\begin{split}\n",
    "    \\langle Y\\otimes P\\rangle&=\\frac{1}{4}\n",
    "    \\Big(\n",
    "    \\left(e^{-i\\phi}\\bra{\\psi_0}+i\\bra{\\psi_0}U^\\dagger\\right)P\\left(e^{i\\phi}\\ket{\\psi_0}-iU\\ket{\\psi_0}\\right)\n",
    "    \\\\\n",
    "    &\\qquad-\\left(e^{-i\\phi}\\bra{\\psi_0}-i\\bra{\\psi_0}U^\\dagger\\right)P\\left(e^{i\\phi}\\ket{\\psi_0}+iU\\ket{\\psi_0}\\right)\n",
    "    \\Big)\\\\\n",
    "    &=\\text{Im}\\left[e^{-i\\phi}\\bra{\\psi_0}PU\\ket{\\psi_0}\\right].\n",
    "\\end{split}\n",
    "\\end{equation}\n"
   ]
  },
  {
   "cell_type": "markdown",
   "metadata": {},
   "source": [
    "### Decompose time-evolution operator with Suzuki-Trotter decomposition\n",
    "Instead of implementing the time-evolution operator exactly we can use the Suzuki-Trotter decomposition to implement an approximation of it. Repeating several times a certain order Trotter decomposition gives us further reduction of the error introduced from the approximation. In the following, we directly build the Trotter implementation in the most efficient way for the interaction graph of the Hamiltonian we are considering (nearest neighbor interactions only). In practice we insert Pauli rotations $R_{xx}$, $R_{yy}$, $R_{zz}$ with a parametrized angle $t$ which correspond to the approximate implementation of $e^{-i (XX + YY + ZZ) t}$. This gives a much shallower circuit than what is obtained using the generic `PauliEvolutionGate()` functionality. "
   ]
  },
  {
   "cell_type": "code",
   "execution_count": 8,
   "metadata": {},
   "outputs": [
    {
     "data": {
      "image/png": "[encoded data removed]",
      "text/plain": [
       "<Figure size 1081.7x225.75 with 1 Axes>"
      ]
     },
     "execution_count": 8,
     "metadata": {},
     "output_type": "execute_result"
    }
   ],
   "source": [
    "t = Parameter('t')\n",
    "\n",
    "# Create instruction for rotation about XX+YY-ZZ:\n",
    "Rxyz_circ = QuantumCircuit(2)\n",
    "Rxyz_circ.rxx(t,0,1)\n",
    "Rxyz_circ.ryy(t,0,1)\n",
    "Rxyz_circ.rzz(t,0,1)\n",
    "Rxyz_instr = Rxyz_circ.to_instruction(label='RXX+YY-ZZ')\n",
    "\n",
    "interaction_list = [[[i, i+1] for i in range(0, n_qubits-1, 2)], [[i, i+1] for i in range(1, n_qubits-1, 2)]] # linear chain\n",
    "\n",
    "qr = QuantumRegister(n_qubits)\n",
    "trotter_step_circ = QuantumCircuit(qr)\n",
    "for i, color in enumerate(interaction_list):\n",
    "    for interaction in color:\n",
    "        trotter_step_circ.append(Rxyz_instr, interaction)\n",
    "\n",
    "\n",
    "qc_evol = QuantumCircuit(qr)\n",
    "for _ in range(num_trotter_steps):\n",
    "    qc_evol.compose(trotter_step_circ, inplace=True)\n",
    "\n",
    "qc_evol.decompose().draw('mpl', fold=-1, scale = 0.5)"
   ]
  },
  {
   "cell_type": "code",
   "execution_count": null,
   "metadata": {},
   "outputs": [],
   "source": [
    "t = Parameter('t')\n",
    "\n",
    "# Create instruction for rotation about XX+YY-ZZ:\n",
    "Rxyz_circ = QuantumCircuit(2)\n",
    "Rxyz_circ.rxx(t,0,1)\n",
    "Rxyz_circ.ryy(t,0,1)\n",
    "Rxyz_circ.rzz(t,0,1)\n",
    "Rxyz_instr = Rxyz_circ.to_instruction(label='RXX+YY+ZZ')\n",
    "\n",
    "interaction_list = [[[i, i+1] for i in range(0, n_qubits-1, 2)], [[i, i+1] for i in range(1, n_qubits-1, 2)]] # linear chain\n",
    "\n",
    "qr = QuantumRegister(n_qubits)\n",
    "trotter_step_circ = QuantumCircuit(qr)\n",
    "for i, color in enumerate(interaction_list):\n",
    "    for interaction in color:\n",
    "        trotter_step_circ.append(Rxyz_instr, interaction)\n",
    "reverse_trotter_step_circ = trotter_step_circ.reverse_ops()\n",
    "\n",
    "qc_evol = QuantumCircuit(qr)\n",
    "for step in range(num_trotter_steps):\n",
    "    if step % 2 == 0:\n",
    "        qc_evol = qc_evol.compose(trotter_step_circ)\n",
    "    else:\n",
    "        qc_evol = qc_evol.compose(reverse_trotter_step_circ)\n",
    "\n",
    "qc_evol.decompose().draw('mpl', fold=-1, scale = 0.5)\n",
    "\n",
    "    # # Remove extra identities from last layer of all but final Trotter step:\n",
    "    # if step < num_trotter_steps - 1 and minimize_unique_layers and barriers:\n",
    "    #     barrier_indices = [i for i,v in enumerate(trotter_circ.data) if v.operation.name == 'barrier']\n",
    "    #     last_barrier_index = barrier_indices[-1]\n",
    "    #     for i in range(len(trotter_circ.data)-1, last_barrier_index, -1):\n",
    "    #         if not trotter_circ.data[i].operation.params: # the only non-parameterized gates are the identity gates\n",
    "    #             trotter_circ.data = trotter_circ.data[:i]+trotter_circ.data[i+1:]\n"
   ]
  },
  {
   "cell_type": "markdown",
   "metadata": {},
   "source": [
    "### Use an optimized circuit for state preparation"
   ]
  },
  {
   "cell_type": "code",
   "execution_count": 10,
   "metadata": {},
   "outputs": [
    {
     "data": {
      "image/png": "[encoded data removed]",
      "text/plain": [
       "<Figure size 101.943x267.556 with 1 Axes>"
      ]
     },
     "execution_count": 10,
     "metadata": {},
     "output_type": "execute_result"
    }
   ],
   "source": [
    "controlled_state_prep = QuantumCircuit(n_qubits + 1)\n",
    "controlled_state_prep.cx(0,int(n_qubits/2)+1)\n",
    "controlled_state_prep.draw('mpl', fold=-1, scale=0.5)\n",
    "\n",
    "\n",
    "controlled_state_prep.draw('mpl', fold=-1, scale=0.5)"
   ]
  },
  {
   "cell_type": "markdown",
   "metadata": {},
   "source": [
    "### Template circuits for calculating matrix elements of $\\tilde{S}$ and $\\tilde{H}$ via Hadamard test\n",
    "The only difference between the circuits used in the Hadamard test will be the phase in the time-evolution operator and the observables measured. Therefore we can prepare a template circuit which represent the generic circuit for the Hadamard test, with placeholders for the gates that depend on the time-evolution operator."
   ]
  },
  {
   "cell_type": "code",
   "execution_count": 17,
   "metadata": {},
   "outputs": [],
   "source": [
    "\n",
    "# Parameters for the template circuits\n",
    "parameters = []\n",
    "for idx_ket in range(krylov_dim):\n",
    "    for idx_bra in range(idx_ket + 1):\n",
    "        parameters.append(dt_circ*(idx_ket-idx_bra))"
   ]
  },
  {
   "cell_type": "code",
   "execution_count": 13,
   "metadata": {},
   "outputs": [
    {
     "data": {
      "image/png": "[encoded data removed]",
      "text/plain": [
       "<Figure size 533.054x107.022 with 1 Axes>"
      ]
     },
     "execution_count": 13,
     "metadata": {},
     "output_type": "execute_result"
    }
   ],
   "source": [
    "# Create hadamard test circuit for real part\n",
    "qr = QuantumRegister(n_qubits+1)\n",
    "qc_real = QuantumCircuit(qr)\n",
    "qc_real.h(0)\n",
    "qc_real.compose(controlled_state_prep, list(range(n_qubits+1)), inplace=True)\n",
    "# qc_real.barrier()\n",
    "qc_real.compose(qc_evol, list(range(1, n_qubits+1)), inplace=True)\n",
    "# qc_real.barrier()\n",
    "qc_real.x(0)\n",
    "qc_real.compose(controlled_state_prep.inverse(), list(range(n_qubits+1)), inplace=True)\n",
    "qc_real.x(0)\n",
    "qc_real.h(0)\n",
    "\n",
    "S_real_circ = qc_real.decompose().copy()\n",
    "\n",
    "H_real_circ = qc_real.decompose().copy()\n",
    "\n",
    "# # Create hadamard test circuit for imaginary part\n",
    "qr = QuantumRegister(n_qubits+1)\n",
    "qc_imag = QuantumCircuit(qr)\n",
    "qc_imag.h(0)\n",
    "qc_imag.sdg(0)\n",
    "qc_imag.compose(controlled_state_prep, list(range(n_qubits+1)), inplace=True)\n",
    "# qc_imag.barrier()\n",
    "qc_imag.compose(qc_evol, list(range(1, n_qubits+1)), inplace=True)\n",
    "# qc_imag.barrier()\n",
    "qc_imag.x(0)\n",
    "qc_imag.compose(controlled_state_prep.inverse(), list(range(n_qubits+1)), inplace=True)\n",
    "qc_imag.x(0)\n",
    "qc_imag.h(0)\n",
    "\n",
    "\n",
    "S_imag_circ = qc_imag.decompose().copy()\n",
    "\n",
    "H_imag_circ = qc_imag.decompose().copy()\n",
    "\n",
    "S_real_circ.draw('mpl', fold=-1, scale = 0.2)"
   ]
  },
  {
   "cell_type": "code",
   "execution_count": 14,
   "metadata": {},
   "outputs": [
    {
     "name": "stdout",
     "output_type": "stream",
     "text": [
      "The optimized circuit has 2Q gates depth:  50\n",
      "Compared to the unoptimized circuit depth of 33443\n"
     ]
    }
   ],
   "source": [
    "circuit_trans_opt = transpile(S_real_circ.decompose().decompose(), Fake20QV1())\n",
    "\n",
    "print('The optimized circuit has 2Q gates depth: ', circuit_trans_opt.depth(lambda x: x[0].num_qubits ==2))\n",
    "print('Compared to the unoptimized circuit depth of', circuit_trans_unopt.depth(lambda x: x[0].num_qubits == 2))"
   ]
  },
  {
   "cell_type": "markdown",
   "metadata": {},
   "source": [
    "We have considerably reduced the depth of the Hadamard test with a combination of Trotter approximation and uncontrolled unitaries"
   ]
  },
  {
   "cell_type": "markdown",
   "metadata": {},
   "source": [
    "## Step 3: Execute using a quantum primitive"
   ]
  },
  {
   "cell_type": "markdown",
   "metadata": {},
   "source": [
    "Instantiate the backend and set runtime parameters"
   ]
  },
  {
   "cell_type": "code",
   "execution_count": 15,
   "metadata": {},
   "outputs": [],
   "source": [
    "from qiskit_ibm_runtime import QiskitRuntimeService, Session\n",
    "from qiskit_aer import AerSimulator\n",
    "\n",
    "service = QiskitRuntimeService(instance='quantum-demonstrations/main/krylov-gs')\n",
    "\n",
    "# backend = service.least_busy(operational=True, simulator=True)\n",
    "# backend = AerSimulator()\n",
    "\n",
    "backend_id = 'ibm_kyiv'\n",
    "backend = service.backend(backend_id)\n",
    "\n",
    "shots = 10000\n"
   ]
  },
  {
   "cell_type": "markdown",
   "metadata": {},
   "source": [
    "### Transpile + schedule with DD"
   ]
  },
  {
   "cell_type": "code",
   "execution_count": 16,
   "metadata": {},
   "outputs": [],
   "source": [
    "from qiskit.circuit.library import XGate, YGate\n",
    "from qiskit.transpiler import InstructionProperties\n",
    "from qiskit.transpiler import PassManager\n",
    "from qiskit.transpiler.preset_passmanagers import generate_preset_pass_manager\n",
    "from qiskit.transpiler.passes.scheduling import (\n",
    "    ALAPScheduleAnalysis,\n",
    "    PadDynamicalDecoupling,\n",
    ")\n",
    "\n",
    "\n",
    "\n",
    "X = XGate()\n",
    "Y = YGate()\n",
    " \n",
    "dd_sequence = [X, X]\n",
    "\n",
    "target = backend.target\n",
    "basis_gates = list(target.operation_names)\n",
    "phys_qubits = [0,1,2,3,4,5]\n",
    " \n",
    "y_gate_properties = {}\n",
    "for qubit in range(target.num_qubits):\n",
    "    y_gate_properties.update(\n",
    "        {\n",
    "            (qubit,): InstructionProperties(\n",
    "                duration=target[\"x\"][(qubit,)].duration,\n",
    "                error=target[\"x\"][(qubit,)].error,\n",
    "            )\n",
    "        }\n",
    "    )\n",
    "if 'y' not in target.operation_names:\n",
    "    target.add_instruction(YGate(), y_gate_properties)\n",
    "\n",
    "pm = generate_preset_pass_manager(optimization_level=3, backend=backend, initial_layout = phys_qubits, basis_gates=basis_gates)\n",
    "\n",
    "\n",
    "pm.scheduling = PassManager(\n",
    "    [\n",
    "        ALAPScheduleAnalysis(target=target),\n",
    "        PadDynamicalDecoupling(target=target, dd_sequence=dd_sequence),\n",
    "    ]\n",
    ")\n",
    "\n",
    "S_real_circ_trans_dd = pm.run(S_real_circ)\n",
    "S_imag_circ_trans_dd = pm.run(S_imag_circ)\n",
    "\n"
   ]
  },
  {
   "cell_type": "code",
   "execution_count": null,
   "metadata": {},
   "outputs": [],
   "source": [
    "S_real_circ_trans_dd.draw('mpl', fold=-1, scale=0.4)"
   ]
  },
  {
   "cell_type": "markdown",
   "metadata": {},
   "source": [
    "Execute circuits for $\\tilde{S}$ with the Estimator"
   ]
  },
  {
   "cell_type": "code",
   "execution_count": 18,
   "metadata": {},
   "outputs": [],
   "source": [
    "\n",
    "# Define a set of observables to measure\n",
    "control_qubit = phys_qubits[0]\n",
    "observable = ['I' for _ in range(target.num_qubits)]\n",
    "observable[control_qubit] = 'Z'\n",
    "observable = ''.join(observable[::-1])\n",
    "# observable = 'I'*(n_qubits) + 'Z'\n",
    "observables = [observable]\n",
    "\n",
    "# Define a sweep over parameter values\n",
    "params = np.vstack(parameters).T\n",
    "\n",
    "# Estimate the expectation value for all combinations of\n",
    "# observables and parameter values, where the pub result will have\n",
    "# shape (# observables, # parameter values).\n",
    "pub = (S_real_circ_trans_dd, observables, params)\n",
    "with Session(backend=backend) as session:\n",
    "    estimator = Estimator(session=session, options={\"resilience_level\": 1, \"experimental\": {\"execution\": {\"fast_parametric_update\" : True}}})\n",
    "    S_real_results = estimator.run([pub], precision=1/np.sqrt(shots)).result()[0]\n",
    "\n",
    "# job = estimator.run([pub], precision=1/np.sqrt(shots))\n",
    "# S_real_results = job.result()[0]\n",
    "\n",
    "pub = (S_imag_circ_trans_dd, observables, params)\n",
    "with Session(backend=backend) as session:\n",
    "    estimator = Estimator(session=session, options={\"resilience_level\": 1, \"experimental\": {\"execution\": {\"fast_parametric_update\" : True}}})\n",
    "    S_imag_results = estimator.run([pub], precision=1/np.sqrt(shots)).result()[0]\n",
    "\n",
    "# job = estimator.run([pub], precision=1/np.sqrt(shots))\n",
    "# S_imag_results = job.result()[0]"
   ]
  },
  {
   "cell_type": "markdown",
   "metadata": {},
   "source": [
    "And for $\\tilde{H}$"
   ]
  },
  {
   "cell_type": "code",
   "execution_count": 19,
   "metadata": {},
   "outputs": [],
   "source": [
    "\n",
    "H_real_circ_trans_dd = pm.run(H_real_circ)\n",
    "H_imag_circ_trans_dd = pm.run(H_imag_circ)\n"
   ]
  },
  {
   "cell_type": "code",
   "execution_count": 20,
   "metadata": {},
   "outputs": [],
   "source": [
    "# Hamiltonian terms to measure\n",
    "control_qubit = phys_qubits[0] # control qubit of hadamard test\n",
    "\n",
    "observable_list = []\n",
    "for pauli, coeff in zip(H_op.paulis, H_op.coeffs):\n",
    "    observable = ['I' for _ in range(target.num_qubits)] # create observable covering the full device\n",
    "    observable[control_qubit] = 'Z' # measure control qubit in Z basis\n",
    "    label  = pauli.to_label() # get pauli measurement on system qubits\n",
    "    for idx,pauli in enumerate(label): #for each pauli to measure\n",
    "        qubit = phys_qubits[1:][idx] # get the corresponding physical qubit (except the control)\n",
    "        observable[qubit] = pauli # set the measurement of that qubit in the right basis\n",
    "    observable = ''.join(observable[::-1])\n",
    "    observable_list.append([observable]) #collect all measurements\n",
    "\n"
   ]
  },
  {
   "cell_type": "code",
   "execution_count": 21,
   "metadata": {},
   "outputs": [
    {
     "name": "stderr",
     "output_type": "stream",
     "text": [
      "ERROR:websocket:ping/pong timed out - goodbye\n",
      "ERROR:websocket:[Errno 8] nodename nor servname provided, or not known - goodbye\n"
     ]
    }
   ],
   "source": [
    "\n",
    "# Define a set of observables to measure\n",
    "observables = observable_list\n",
    "\n",
    "# Define a sweep over parameter values\n",
    "params = np.vstack(parameters).T\n",
    "\n",
    "# Estimate the expectation value for all combinations of\n",
    "# observables and parameter values, where the pub result will have\n",
    "# shape (# observables, # parameter values).\n",
    "pub = (H_real_circ_trans_dd, observables, params)\n",
    "with Session(backend=backend) as session:\n",
    "    estimator = Estimator(session=session,options={\"resilience_level\": 1, \"experimental\": {\"execution\": {\"fast_parametric_update\" : True}}})\n",
    "    H_real_results = estimator.run([pub], precision=1/np.sqrt(shots)).result()[0]\n",
    "# job = estimator.run([pub], precision=1/np.sqrt(shots))\n",
    "# H_real_results = job.result()[0]\n",
    "\n",
    "pub = (H_imag_circ_trans_dd, observables, params)\n",
    "with Session(backend=backend) as session:\n",
    "    estimator = Estimator(session=session, options={\"resilience_level\": 1, \"experimental\": {\"execution\": {\"fast_parametric_update\" : True}}})\n",
    "    H_imag_results = estimator.run([pub], precision=1/np.sqrt(shots)).result()[0]\n",
    "# job = estimator.run([pub], precision=1/np.sqrt(shots))\n",
    "# H_imag_results = job.result()[0]"
   ]
  },
  {
   "cell_type": "markdown",
   "metadata": {},
   "source": [
    "## Step 4: Post-process and analyze results"
   ]
  },
  {
   "cell_type": "markdown",
   "metadata": {},
   "source": [
    "Once we have the results of the circuit executions we can post-process the data to calculate the matrix elements of $\\tilde{S}$"
   ]
  },
  {
   "cell_type": "code",
   "execution_count": 22,
   "metadata": {},
   "outputs": [],
   "source": [
    "S_circ = np.zeros((krylov_dim, krylov_dim), dtype=complex)\n",
    "count = 0\n",
    "for idx_ket in range(krylov_dim):\n",
    "    for idx_bra in range(idx_ket + 1):\n",
    "\n",
    "        # Get expectation values from experiment\n",
    "        expval_real = S_real_results.data.evs[0][count]\n",
    "        expval_imag = S_imag_results.data.evs[0][count]\n",
    "\n",
    "        # Get expectation values\n",
    "        expval = expval_real + 1j*expval_imag\n",
    "\n",
    "        # Fill-in matrix elements\n",
    "        S_circ[idx_bra, idx_ket] = expval\n",
    "        S_circ[idx_ket, idx_bra] = expval.conjugate()\n",
    "\n",
    "        count+=1"
   ]
  },
  {
   "cell_type": "markdown",
   "metadata": {},
   "source": [
    "And the matrix elements of $\\tilde{H}$"
   ]
  },
  {
   "cell_type": "code",
   "execution_count": 23,
   "metadata": {},
   "outputs": [],
   "source": [
    "H_eff_circ = np.zeros((krylov_dim, krylov_dim), dtype=complex)\n",
    "for obs_idx, (pauli, coeff) in enumerate(zip(H_op.paulis, H_op.coeffs)):\n",
    "    count = 0\n",
    "    for idx_ket in range(krylov_dim):\n",
    "        for idx_bra in range(idx_ket + 1):\n",
    "            # Get expectation values from experiment\n",
    "            expval_real = H_real_results.data.evs[obs_idx][count]\n",
    "            expval_imag = H_imag_results.data.evs[obs_idx][count]\n",
    "            \n",
    "\n",
    "            # # Get expectation values\n",
    "            expval = expval_real + 1j*expval_imag\n",
    "\n",
    "\n",
    "            # Fill-in matrix elements\n",
    "            H_eff_circ[idx_bra, idx_ket] += coeff*expval\n",
    "            if idx_bra != idx_ket: # don't duplicate terms on diagonal\n",
    "                H_eff_circ[idx_ket, idx_bra] += (coeff*expval).conjugate()\n",
    "\n",
    "\n",
    "            count+=1"
   ]
  },
  {
   "cell_type": "markdown",
   "metadata": {},
   "source": [
    "Finally, we can solve the generalized eigenvalue problem for $\\tilde{H}$:\n",
    "\n",
    "$$\\tilde{H} \\vec{c} = c \\tilde{S} \\vec{c}$$\n",
    "\n",
    "and get an estimate of the ground state energy $c_{min}$"
   ]
  },
  {
   "cell_type": "code",
   "execution_count": 39,
   "metadata": {},
   "outputs": [
    {
     "name": "stdout",
     "output_type": "stream",
     "text": [
      "The estimated ground state energy is:  -0.28629684873892713\n",
      "The estimated ground state energy is:  -0.2343028445868771\n",
      "The estimated ground state energy is:  -2.826193015276582\n",
      "The estimated ground state energy is:  -1.4307923132224531\n",
      "The estimated ground state energy is:  -1.1950353328391063\n",
      "The estimated ground state energy is:  -2.9720058403282383\n",
      "The estimated ground state energy is:  -2.8285870930854022\n",
      "The estimated ground state energy is:  -2.9400355266787956\n",
      "The estimated ground state energy is:  -3.147375133006272\n",
      "The estimated ground state energy is:  -3.8402374257975462\n"
     ]
    }
   ],
   "source": [
    "gnd_en_circ_est_list = []\n",
    "for d in range(1, krylov_dim+1):\n",
    "    # Solve generalized eigenvalue problem\n",
    "    gnd_en_circ_est = solve_regularized_gen_eig(H_eff_circ[:d, :d], S_circ[:d, :d], threshold=5e-2)\n",
    "    gnd_en_circ_est_list.append(gnd_en_circ_est)\n",
    "    print('The estimated ground state energy is: ', gnd_en_circ_est)"
   ]
  },
  {
   "cell_type": "code",
   "execution_count": 40,
   "metadata": {},
   "outputs": [
    {
     "name": "stdout",
     "output_type": "stream",
     "text": [
      "n_sys_qubits 5\n",
      "n_exc 1 , subspace dimension 6\n",
      "gs_en -3.23606797749979\n"
     ]
    }
   ],
   "source": [
    "from qiskit.quantum_info import Pauli\n",
    "import time\n",
    "import itertools as it\n",
    "\n",
    "H_x = []\n",
    "for p, coeff in H_op.to_list():\n",
    "    H_x.append(set([i for i,v in enumerate(Pauli(p).x) if v]))\n",
    "\n",
    "H_z = []\n",
    "for p, coeff in H_op.to_list():\n",
    "    H_z.append(set([i for i,v in enumerate(Pauli(p).z) if v]))\n",
    "\n",
    "H_c = H_op.coeffs\n",
    "\n",
    "print('n_sys_qubits', n_qubits)\n",
    "\n",
    "# n_exc particle Hamiltonian:\n",
    "\n",
    "n_exc = 1\n",
    "sub_dimn = int(sp.special.comb(n_qubits+1,n_exc))\n",
    "print('n_exc', n_exc, ', subspace dimension', sub_dimn)\n",
    "\n",
    "few_particle_H = np.zeros((sub_dimn,sub_dimn), dtype=complex)\n",
    "\n",
    "sparse_vecs = [set(vec) for vec in it.combinations(range(n_qubits+1),r=n_exc)] # list all of the possible sets of n_exc indices of 1s in n_exc-particle states\n",
    "\n",
    "start_time = time.time()\n",
    "m = 0\n",
    "for i, i_set in enumerate(sparse_vecs):\n",
    "    for j, j_set in enumerate(sparse_vecs):\n",
    "        m += 1\n",
    "        # if m % int((sub_dimn**2)/100) == 0:\n",
    "        #     print(np.round(m/int((sub_dimn**2)/100),2), '% complete, time =', time.time()-start_time)\n",
    "        #     start_time = time.time()\n",
    "\n",
    "        if len(i_set.symmetric_difference(j_set)) <= 2:\n",
    "\n",
    "            for p_x, p_z, coeff in zip(H_x, H_z, H_c):\n",
    "\n",
    "                if i_set.symmetric_difference(j_set) == p_x:\n",
    "                    sgn = ((-1j)**len(p_x.intersection(p_z)))*((-1)**len(i_set.intersection(p_z)))\n",
    "                else:\n",
    "                    sgn = 0\n",
    "\n",
    "                few_particle_H[i,j] += sgn*coeff\n",
    "\n",
    "gs_en = min(np.linalg.eigvalsh(few_particle_H))\n",
    "print('gs_en', gs_en)\n",
    "\n",
    "\n"
   ]
  },
  {
   "cell_type": "code",
   "execution_count": 41,
   "metadata": {},
   "outputs": [
    {
     "data": {
      "image/png": "[encoded data removed]",
      "text/plain": [
       "<Figure size 640x480 with 1 Axes>"
      ]
     },
     "metadata": {},
     "output_type": "display_data"
    }
   ],
   "source": [
    "plt.plot(range(1, krylov_dim+1), gnd_en_circ_est_list, color = 'blue', linestyle='-.' , label = 'estimate')\n",
    "plt.plot(range(1, krylov_dim+1), [gs_en]*krylov_dim, color = 'red', linestyle='-' , label = 'exact')\n",
    "plt.xticks(range(1, krylov_dim+1), range(1, krylov_dim+1))\n",
    "plt.legend()\n",
    "plt.xlabel('Krylov space dimension')\n",
    "plt.ylabel('Energy')\n",
    "plt.title('Estimating Ground state energy with Quantum Krylov')\n",
    "plt.show()"
   ]
  },
  {
   "cell_type": "code",
   "execution_count": null,
   "metadata": {},
   "outputs": [],
   "source": []
  }
 ],
 "metadata": {
  "kernelspec": {
   "display_name": "Python 3",
   "language": "python",
   "name": "python3"
  },
  "language_info": {
   "codemirror_mode": {
    "name": "ipython",
    "version": 3
   },
   "file_extension": ".py",
   "mimetype": "text/x-python",
   "name": "python",
   "nbconvert_exporter": "python",
   "pygments_lexer": "ipython3",
   "version": "3.12.1"
  }
 },
 "nbformat": 4,
 "nbformat_minor": 2
}
