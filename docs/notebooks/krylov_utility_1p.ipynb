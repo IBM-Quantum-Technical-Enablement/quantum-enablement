{
 "cells": [
  {
   "cell_type": "markdown",
   "metadata": {},
   "source": [
    "# Calculating ground states on large scale systems: Quantum Krylov Subspaces"
   ]
  },
  {
   "cell_type": "markdown",
   "metadata": {},
   "source": [
    "## Step 1: Map problem to quantum native format\n",
    "\n",
    "Across disciplines, we're interested in learning ground state properties of quantum systems. Examples include understanding the fundamental nature of particles and forces, predicting and undestanding the behavior of complex materials and understanding bio-chemical interactions and reactions. Because of the exponential growth of the Hilbert space and the correlation that arise in entangled systems, classical algorithm struggle to solve this problem for quantum systems of increasing size. At one end of the spectrum, existing approach that take advantage of the quantum hardware focus on variational quantum methods (e. g. [variational quantum eigen-solver](https://learning.quantum.ibm.com/tutorial/variational-quantum-eigensolver)). These techniques face challenges with current devices because of the high number of function calls required in the optimization process, which is incompatible with advanced error mitigation techniques, thus limiting their efficacy to small systems. At the other end of the spectrum, there are fault-tolerant quantum methods with performance guarantees (e.g. [quantum phase estimation](https://arxiv.org/pdf/quant-ph/0604193.pdf)) which require deep circuits that can be executed only on a fault-tolerant device. For these reasons, we introduce here a quantum algorithm based on subspace methods (as reviewed [here](https://arxiv.org/pdf/2312.00178.pdf)), the quantum Krylov algorithm. This algorithm performs well at large scale on existing quantum hardware, shares similar [performance guarantees](https://arxiv.org/pdf/2110.07492.pdf) as phase estimation, are compatible with advanced error mitigation techniques and could provide results that are classically inaccessible.\n",
    "\n",
    "Let us now go into more details of how subspace methods, and the quantum Krylov algorithm in particular, work. Given a matrix $H$ for which we want to know its lowest eigenvalue, subspace methods construct of a smaller representation $\\tilde{H}$ of $H$, which captures its properties of interest. In the case of the quantum Krylov algorithm, the Krylov subspace is used to construct the effective representation.\n",
    "\n",
    "### What is the Krylov subspace? \n",
    "\n",
    "By definition, the Krylov subspace $K^r$ of order $r$ is the subspace spanned by vectors obtained by multiplying higher powers of $H$, up to $r-1$, with a reference vector $\\vert \\psi \\rangle$.\n",
    "\n",
    "$$K^r = \\left\\{ \\vert \\psi \\rangle, H \\vert \\psi \\rangle, H^2 \\vert \\psi \\rangle, ..., H^{r-1} \\vert \\psi \\rangle \\right\\}$$\n",
    "\n",
    "We can gain some insight on why this subspace is interesting by expanding the reference state in terms of the eigenvectors $\\vert \\lambda_i \\rangle$ of the matrix $H$:\n",
    "\n",
    "$$ \\vert \\psi \\rangle = c_1 \\vert \\lambda_1 \\rangle + c_2 \\vert \\lambda_2 \\rangle + ... + c_n \\vert \\lambda_n \\rangle $$\n",
    "\n",
    "Applying $j^{th}$ power of the matrix $H$ gives:\n",
    "\n",
    "$$ H^n \\vert \\psi \\rangle = c_1 \\lambda_1^n \\vert \\lambda_1 \\rangle + c_2 \\lambda_2^n \\vert \\lambda_2 \\rangle + ... + c_n \\lambda_n^n \\vert \\lambda_n \\rangle $$\n",
    "\n",
    "Which means that the component $k$ with the largest eigenvalue $\\lambda_k$ is amplified by the power iteration (This can also be a problem as the basis vector become too similar to each other). The same is true for the smallest eigenvalue, if we consider power iteration of the matrix $H^{-1}$.\n",
    "\n",
    "### Why is it useful for ground state energy problems?\n",
    "\n",
    "The Krylov subspace is constructed using the power iteration method. Therefore, states in the Krylov subspace corresponding to the multiplication with higher power of the matrix with the reference states will have the contribution of the ground state $\\vert \\lambda_k \\rangle$ enhanced.\n",
    "\n",
    "\n",
    "The Krylov subspace that we use classically cannot be accessed on a quantum computer as $H$ is not a unitary matrix. Instead, we can use the time-evolution operator $U = e^{-iHt}$ which can be shown to give similar [convergence guarantees](https://arxiv.org/pdf/2110.07492.pdf) as the power method. Powers of $U$ then become different time steps $U^k = e^{-iH(kt)}$.\n",
    "\n",
    "\n",
    "$$K_U^r = \\left\\{ \\vert \\psi \\rangle, U \\vert \\psi \\rangle, U^2 \\vert \\psi \\rangle, ..., U^{r-1} \\vert \\psi \\rangle \\right\\}$$\n",
    "\n",
    "The subspace $K_U^r$ obtained in this way is called \"Unitary\" Krylov subspace.\n",
    "\n",
    "\n",
    "### How does the algorithm work in summary?\n",
    "\n",
    "First, we want to find a compact represention of the Hamiltonian in the Krylov subspace $\\tilde{H}$. Given that the Krylov subspace has dimension $r$, the Hamiltonian projected into the Krylov subspace will have dimensions $r \\times r$. We can then easily diagonalize the projected Hamiltonian $\\tilde{H}$. However, we cannot directly diagonalize $\\tilde{H}$ because of the non-orthogonality of the Krylov subpace vectors. We'll have to measure their overlaps and construct a matrix $\\tilde{S}$ collecting them to do so. We can then  solve the generalized eigenvalue problem\n",
    "\n",
    "$$ \\tilde{H} \\ \\vec{c} = c \\ \\tilde{S} \\ \\vec{c} $$\n",
    "\n",
    "Where $\\tilde{H}=\\langle \\psi_m \\vert H \\vert \\psi_n \\rangle$ is the Hamiltonian matrix in the Krylov subspace $K_D = \\left\\{ \\vert \\psi_0 \\rangle, \\vert \\psi_1 \\rangle, ..., \\vert \\psi_D \\rangle \\right\\}$ with dimension $D$, $\\vec{c}$ is a vector of variational coefficients that are optimized to get the lowest value of the energy $c_{min}=E_{GS}$ and $\\tilde{S}=\\langle \\psi_m  \\vert \\psi_n \\rangle$ is a matrix of overlaps between states of the Krylov subspace.\n",
    "\n",
    "Each of the Krylov subspace's vectors are obtained by time-evolving the reference state $\\vert \\psi \\rangle$ under the Hamiltonian $H$ for a certain time: $\\vert \\psi_l \\rangle = U \\vert \\psi \\rangle = e^{-i H t_l}\\vert \\psi \\rangle$. \n",
    "\n",
    "We can implement the algorithm on a quantum computer by using the Hadamard test to calculate the matrix elements of $\\tilde{H}$ and $\\tilde{S}$ as expectation values:\n",
    "\n",
    "$$\\langle \\psi_m \\vert H \\vert \\psi_n \\rangle = $$\n",
    "$$= \\langle \\psi \\vert  e^{i H t_m}   H e^{-i H t_n} \\vert \\psi \\rangle$$\n",
    "$$= \\langle \\psi \\vert  e^{i H m \\delta t}   H e^{-i H n \\delta t} \\vert \\psi \\rangle$$\n",
    "$$= \\langle \\psi \\vert H e^{-i H (n-m) \\delta t} \\vert \\psi \\rangle$$"
   ]
  },
  {
   "cell_type": "markdown",
   "metadata": {},
   "source": [
    "### Imports and definitions\n",
    "\n"
   ]
  },
  {
   "cell_type": "code",
   "execution_count": 1,
   "metadata": {},
   "outputs": [],
   "source": [
    "import numpy as np\n",
    "import scipy as sp\n",
    "import matplotlib.pylab as plt\n",
    "from typing import Union, List\n",
    "import warnings\n",
    "warnings.filterwarnings('ignore')\n",
    "\n",
    "from qiskit.quantum_info import SparsePauliOp\n",
    "from qiskit.circuit import Parameter\n",
    "from qiskit import QuantumCircuit, QuantumRegister, transpile\n",
    "from qiskit.circuit.library import PauliEvolutionGate\n",
    "from qiskit.synthesis import SuzukiTrotter\n",
    "from qiskit.providers.fake_provider import Fake20QV1\n",
    "from qiskit_ibm_runtime import QiskitRuntimeService, EstimatorV2 as Estimator\n",
    "\n",
    "\n",
    "def solve_regularized_gen_eig(h: np.ndarray, s:np.ndarray, threshold: float, k: int =1, return_dimn: bool = False) -> Union[float, List[float]]:\n",
    "    \"\"\"\n",
    "    Method for solving the generalized eigenvalue problem with regularization\n",
    "\n",
    "    Args:\n",
    "        h (numpy.ndarray):\n",
    "            The effective representation of the matrix in the Krylov subspace\n",
    "        s (numpy.ndarray):\n",
    "            The matrix of overlaps between vectors of the Krylov subspace\n",
    "        threshold (float):\n",
    "            Cut-off value for the eigenvalue of s\n",
    "        k (int):\n",
    "            Number of eigenvalues to return\n",
    "        return_dimn (bool):\n",
    "            Whether to return the size of the regularized subspace\n",
    "\n",
    "    Returns:\n",
    "        lowest k-eigenvalue(s) that are the solution of the regularized generalized eigenvalue problem\n",
    "\n",
    "    \n",
    "    \"\"\"\n",
    "    s_vals, s_vecs = sp.linalg.eigh(s)\n",
    "    s_vecs = s_vecs.T\n",
    "    good_vecs = np.array([vec for val, vec in zip(s_vals, s_vecs) if val > threshold])\n",
    "    h_reg = good_vecs.conj() @ h @ good_vecs.T\n",
    "    s_reg = good_vecs.conj() @ s @ good_vecs.T\n",
    "    if k==1:\n",
    "        if return_dimn:\n",
    "            return sp.linalg.eigh(h_reg, s_reg)[0][0], len(good_vecs)\n",
    "        else:\n",
    "            return sp.linalg.eigh(h_reg, s_reg)[0][0]\n",
    "    else:\n",
    "        if return_dimn:\n",
    "            return sp.linalg.eigh(h_reg, s_reg)[0][:k], len(good_vecs)\n",
    "        else:\n",
    "            return sp.linalg.eigh(h_reg, s_reg)[0][:k]"
   ]
  },
  {
   "cell_type": "markdown",
   "metadata": {},
   "source": [
    "### Define Hamiltonian\n",
    "\n",
    "Let's consider the Heisenberg Hamiltonian for $N$ qubits on a linear chain: $H= J \\sum_{i,j}^N X_i X_j + Y_i Y_j - Z_i Z_j$"
   ]
  },
  {
   "cell_type": "code",
   "execution_count": 2,
   "metadata": {},
   "outputs": [
    {
     "name": "stdout",
     "output_type": "stream",
     "text": [
      "[('ZZIII', -1), ('IZZII', -1), ('IIZZI', -1), ('IIIZZ', -1), ('XXIII', 1), ('IXXII', 1), ('IIXXI', 1), ('IIIXX', 1), ('YYIII', 1), ('IYYII', 1), ('IIYYI', 1), ('IIIYY', 1)]\n"
     ]
    }
   ],
   "source": [
    "# Define problem Hamiltonian.\n",
    "n_qubits = 5\n",
    "J = 1 # coupling strength for ZZ interaction\n",
    "\n",
    "# Define the Hamiltonian: \n",
    "H_int = [['I']*n_qubits for _ in range(3*(n_qubits-1))]\n",
    "for i in range(n_qubits-1):\n",
    "    H_int[i][i] = 'Z'\n",
    "    H_int[i][i+1] = 'Z'\n",
    "for i in range(n_qubits-1):\n",
    "    H_int[n_qubits-1+i][i] = 'X'\n",
    "    H_int[n_qubits-1+i][i+1] = 'X'\n",
    "for i in range(n_qubits-1):\n",
    "    H_int[2*(n_qubits-1)+i][i] = 'Y'\n",
    "    H_int[2*(n_qubits-1)+i][i+1] = 'Y'\n",
    "H_int = [''.join(term) for term in H_int]\n",
    "H_tot = [(term, -J) if term.count('Z') == 2 else (term, 1) for term in H_int]\n",
    "\n",
    "# Get operator\n",
    "H_op = SparsePauliOp.from_list(H_tot)\n",
    "print(H_tot)"
   ]
  },
  {
   "cell_type": "markdown",
   "metadata": {},
   "source": [
    "Heuristically choose `dt` (based on upper bounds)"
   ]
  },
  {
   "cell_type": "code",
   "execution_count": 3,
   "metadata": {},
   "outputs": [
    {
     "data": {
      "text/plain": [
       "0.7853981633974483"
      ]
     },
     "execution_count": 3,
     "metadata": {},
     "output_type": "execute_result"
    }
   ],
   "source": [
    "from qiskit.quantum_info import Pauli\n",
    "# Get Hamiltonian restricted to single-particle states\n",
    "single_particle_H = np.zeros((n_qubits,n_qubits))\n",
    "for i in range(n_qubits):\n",
    "    for j in range(i+1):\n",
    "        for p, coeff in H_op.to_list():\n",
    "            p_x = Pauli(p).x\n",
    "            p_z = Pauli(p).z\n",
    "            if all(p_x[k] == ((i==k)+(j==k))%2 for k in range(n_qubits)):\n",
    "                sgn = ((-1j)**sum(p_z[k] and p_x[k] for k in range(n_qubits)))*((-1)**p_z[i])\n",
    "            else:\n",
    "                sgn = 0\n",
    "            single_particle_H[i,j] += sgn*coeff\n",
    "for i in range(n_qubits):\n",
    "    for j in range(i+1,n_qubits):\n",
    "        single_particle_H[i,j] = np.conj(single_particle_H[j,i])\n",
    "\n",
    "# Set dt according to spectral norm\n",
    "dt = np.pi/np.linalg.norm(single_particle_H, ord=2)\n",
    "dt"
   ]
  },
  {
   "cell_type": "markdown",
   "metadata": {},
   "source": [
    "### Set parameters for the algorithm"
   ]
  },
  {
   "cell_type": "code",
   "execution_count": 4,
   "metadata": {},
   "outputs": [],
   "source": [
    "# Set parameters for quantum Krylov algorithm\n",
    "krylov_dim = 20 # size of krylov subspace\n",
    "num_trotter_steps = 4\n",
    "dt_circ = dt/num_trotter_steps"
   ]
  },
  {
   "cell_type": "markdown",
   "metadata": {},
   "source": [
    "### Decompose time-evolution operator with Suzuki-Trotter decomposition\n",
    "Instead of implementing the time-evolution operator exactly we can use the Suzuki-Trotter decomposition to implement an approximation of it. Repeating several times a certain order Trotter decomposition gives us further reduction of the error introduced from the approximation. In the following, we directly build the Trotter implementation in the most efficient way for the interaction graph of the Hamiltonian we are considering (nearest neighbor interactions only). In practice we insert Pauli rotations $R_{xx}$, $R_{yy}$, $R_{zz}$ with a parametrized angle $t$ which correspond to the approximate implementation of $e^{-i (XX + YY + ZZ) t}$. This gives a much shallower circuit than what is obtained using the generic `PauliEvolutionGate()` functionality. "
   ]
  },
  {
   "cell_type": "code",
   "execution_count": 5,
   "metadata": {},
   "outputs": [
    {
     "data": {
      "image/png": "[encoded data removed]",
      "text/plain": [
       "<Figure size 1407.03x225.75 with 1 Axes>"
      ]
     },
     "execution_count": 5,
     "metadata": {},
     "output_type": "execute_result"
    }
   ],
   "source": [
    "t = Parameter('t')\n",
    "\n",
    "# Create instruction for rotation about XX+YY-ZZ:\n",
    "Rxyz_circ = QuantumCircuit(2)\n",
    "Rxyz_circ.rxx(t,0,1)\n",
    "Rxyz_circ.ryy(t,0,1)\n",
    "Rxyz_circ.rzz(-t,0,1)\n",
    "Rxyz_instr = Rxyz_circ.to_instruction(label='RXX+YY-ZZ')\n",
    "\n",
    "interaction_list = [[[i, i+1] for i in range(0, n_qubits-1, 2)], [[i, i+1] for i in range(1, n_qubits-1, 2)]] # linear chain\n",
    "\n",
    "qr = QuantumRegister(n_qubits)\n",
    "trotter_step_circ = QuantumCircuit(qr)\n",
    "for i, color in enumerate(interaction_list):\n",
    "    for interaction in color:\n",
    "        trotter_step_circ.append(Rxyz_instr, interaction)\n",
    "reverse_trotter_step_circ = trotter_step_circ.reverse_ops()\n",
    "\n",
    "qc_evol = QuantumCircuit(qr)\n",
    "for step in range(num_trotter_steps):\n",
    "    if step % 2 == 0:\n",
    "        qc_evol = qc_evol.compose(trotter_step_circ)\n",
    "    else:\n",
    "        qc_evol = qc_evol.compose(reverse_trotter_step_circ)\n",
    "\n",
    "qc_evol.decompose().draw('mpl', fold=-1, scale = 0.5)\n",
    "\n"
   ]
  },
  {
   "cell_type": "markdown",
   "metadata": {},
   "source": [
    "### Use an optimized circuit for state preparation"
   ]
  },
  {
   "cell_type": "code",
   "execution_count": 6,
   "metadata": {},
   "outputs": [
    {
     "data": {
      "image/png": "[encoded data removed]",
      "text/plain": [
       "<Figure size 101.943x267.556 with 1 Axes>"
      ]
     },
     "execution_count": 6,
     "metadata": {},
     "output_type": "execute_result"
    }
   ],
   "source": [
    "controlled_state_prep = QuantumCircuit(n_qubits + 1)\n",
    "controlled_state_prep.cx(0,int(n_qubits/2)+1)\n",
    "controlled_state_prep.draw('mpl', fold=-1, scale=0.5)\n",
    "\n",
    "\n",
    "controlled_state_prep.draw('mpl', fold=-1, scale=0.5)"
   ]
  },
  {
   "cell_type": "markdown",
   "metadata": {},
   "source": [
    "### Template circuits for calculating matrix elements of $\\tilde{S}$ and $\\tilde{H}$ via Hadamard test\n",
    "The only difference between the circuits used in the Hadamard test will be the phase in the time-evolution operator and the observables measured. Therefore we can prepare a template circuit which represent the generic circuit for the Hadamard test, with placeholders for the gates that depend on the time-evolution operator."
   ]
  },
  {
   "cell_type": "code",
   "execution_count": 7,
   "metadata": {},
   "outputs": [],
   "source": [
    "# Parameters for the template circuits\n",
    "parameters = []\n",
    "for idx_ket in range(1, krylov_dim):\n",
    "    parameters.append(dt_circ*(idx_ket))"
   ]
  },
  {
   "cell_type": "code",
   "execution_count": 8,
   "metadata": {},
   "outputs": [
    {
     "data": {
      "image/png": "[encoded data removed]",
      "text/plain": [
       "<Figure size 3399.54x535.111 with 1 Axes>"
      ]
     },
     "execution_count": 8,
     "metadata": {},
     "output_type": "execute_result"
    }
   ],
   "source": [
    "# Create hadamard test circuit for real part\n",
    "qr = QuantumRegister(n_qubits+1)\n",
    "qc_real = QuantumCircuit(qr)\n",
    "qc_real.h(0)\n",
    "qc_real.compose(controlled_state_prep, list(range(n_qubits+1)), inplace=True)\n",
    "# qc_real.barrier()\n",
    "qc_real.compose(qc_evol, list(range(1, n_qubits+1)), inplace=True)\n",
    "# qc_real.barrier()\n",
    "qc_real.x(0)\n",
    "qc_real.compose(controlled_state_prep.inverse(), list(range(n_qubits+1)), inplace=True)\n",
    "qc_real.x(0)\n",
    "qc_real.h(0)\n",
    "\n",
    "S_real_circ = qc_real.decompose().copy()\n",
    "\n",
    "H_real_circ = qc_real.decompose().copy()\n",
    "\n",
    "# # Create hadamard test circuit for imaginary part\n",
    "qr = QuantumRegister(n_qubits+1)\n",
    "qc_imag = QuantumCircuit(qr)\n",
    "qc_imag.h(0)\n",
    "qc_imag.sdg(0)\n",
    "qc_imag.compose(controlled_state_prep, list(range(n_qubits+1)), inplace=True)\n",
    "# qc_imag.barrier()\n",
    "qc_imag.compose(qc_evol, list(range(1, n_qubits+1)), inplace=True)\n",
    "# qc_imag.barrier()\n",
    "qc_imag.x(0)\n",
    "qc_imag.compose(controlled_state_prep.inverse(), list(range(n_qubits+1)), inplace=True)\n",
    "qc_imag.x(0)\n",
    "qc_imag.h(0)\n",
    "\n",
    "\n",
    "S_imag_circ = qc_imag.decompose().copy()\n",
    "\n",
    "H_imag_circ = qc_imag.decompose().copy()\n",
    "\n",
    "S_real_circ.draw('mpl', fold=-1)"
   ]
  },
  {
   "cell_type": "code",
   "execution_count": null,
   "metadata": {},
   "outputs": [],
   "source": [
    "# circuit_trans_opt = transpile(S_real_circ.decompose().decompose(), Fake20QV1())\n",
    "\n",
    "# print('The optimized circuit has 2Q gates depth: ', circuit_trans_opt.depth(lambda x: x[0].num_qubits ==2))\n",
    "# print('Compared to the unoptimized circuit depth of', circuit_trans_unopt.depth(lambda x: x[0].num_qubits == 2))"
   ]
  },
  {
   "cell_type": "markdown",
   "metadata": {},
   "source": [
    "We have considerably reduced the depth of the Hadamard test with a combination of Trotter approximation and uncontrolled unitaries"
   ]
  },
  {
   "cell_type": "markdown",
   "metadata": {},
   "source": [
    "## Step 3: Execute using a quantum primitive"
   ]
  },
  {
   "cell_type": "markdown",
   "metadata": {},
   "source": [
    "Instantiate the backend and set runtime parameters"
   ]
  },
  {
   "cell_type": "code",
   "execution_count": 9,
   "metadata": {},
   "outputs": [],
   "source": [
    "from qiskit_ibm_runtime import QiskitRuntimeService, Session, Batch\n",
    "from qiskit_ibm_runtime.fake_provider import FakeTorino, FakeGuadalupeV2\n",
    "from qiskit_aer import AerSimulator\n",
    "\n",
    "\n",
    "SIM = True\n",
    "NOISE = False\n",
    "# service = QiskitRuntimeService(instance='ibm-q-internal/technical-enable/utokyol3enableme')#\n",
    "# service = QiskitRuntimeService(instance='quantum-demonstrations/main/krylov-gs')\n",
    "service = QiskitRuntimeService(instance='grants/qciss/main')\n",
    "\n",
    "\n",
    "\n",
    "if SIM:\n",
    "    # backend = service.least_busy(simulator=True)\n",
    "    \n",
    "    if NOISE:\n",
    "        backend = AerSimulator.from_backend(FakeGuadalupeV2(), seed_simulator=42)\n",
    "\n",
    "    else:\n",
    "        backend = AerSimulator()\n",
    "\n",
    "else:\n",
    "    backend_id = 'ibm_pinguino1'\n",
    "    # backend_id = 'ibm_torino'\n",
    "    backend = service.backend(backend_id)\n",
    "\n",
    "shots = 300000\n"
   ]
  },
  {
   "cell_type": "code",
   "execution_count": null,
   "metadata": {},
   "outputs": [],
   "source": [
    "from qiskit_ibm_provider import IBMProvider\n",
    "from qiskit_aer import AerSimulator\n",
    "from qiskit_ibm_runtime import QiskitRuntimeService, Session, Batch\n",
    "\n",
    "\n",
    "SIM = False\n",
    "NOISE = False\n",
    "\n",
    "# IBMQ.load_account()\n",
    "provider = IBMProvider(name=\"staging\")\n",
    "backend = provider.get_backend('ibm_montecarlo')\n",
    "shots = 300000\n"
   ]
  },
  {
   "cell_type": "code",
   "execution_count": null,
   "metadata": {},
   "outputs": [],
   "source": [
    "service = QiskitRuntimeService(name='staging')\n",
    "\n",
    "backend_id = 'ibm_montecarlo'\n",
    "backend = service.backend(backend_id)"
   ]
  },
  {
   "cell_type": "markdown",
   "metadata": {},
   "source": [
    "### Transpile + schedule with DD"
   ]
  },
  {
   "cell_type": "code",
   "execution_count": 10,
   "metadata": {},
   "outputs": [],
   "source": [
    "from qiskit.circuit.library import XGate, YGate, RZGate\n",
    "from qiskit.transpiler import InstructionProperties\n",
    "from qiskit.transpiler import PassManager\n",
    "from qiskit.transpiler.preset_passmanagers import generate_preset_pass_manager\n",
    "from qiskit.transpiler.passes.scheduling import (\n",
    "    ALAPScheduleAnalysis,\n",
    "    PadDynamicalDecoupling,\n",
    ")\n",
    "\n",
    "if not SIM:\n",
    "\n",
    "\n",
    "    target = backend.target\n",
    "    basis_gates = list(target.operation_names)\n",
    "\n",
    "\n",
    "    X = XGate()\n",
    "    Y = YGate()\n",
    "    \n",
    "    # dd_sequence = [X, X, X, X]\n",
    "\n",
    "    dd_sequence=[XGate(), RZGate(np.pi), XGate(), RZGate(-np.pi)]\n",
    "    spacing = [1 / 4, 1 / 2, 0, 0, 1 / 4]\n",
    "\n",
    "\n",
    "    \n",
    "    y_gate_properties = {}\n",
    "    for qubit in range(target.num_qubits):\n",
    "        y_gate_properties.update(\n",
    "            {\n",
    "                (qubit,): InstructionProperties(\n",
    "                    duration=target[\"x\"][(qubit,)].duration,\n",
    "                    error=target[\"x\"][(qubit,)].error,\n",
    "                )\n",
    "            }\n",
    "        )\n",
    "    if 'y' not in target.operation_names:\n",
    "        target.add_instruction(YGate(), y_gate_properties)\n",
    "\n",
    "    pm = generate_preset_pass_manager(optimization_level=3, backend=backend, basis_gates=basis_gates)\n",
    "\n",
    "\n",
    "    pm.scheduling = PassManager(\n",
    "        [\n",
    "            ALAPScheduleAnalysis(target=target),\n",
    "            PadDynamicalDecoupling(target=target, dd_sequence=dd_sequence, spacing=spacing),\n",
    "        ]\n",
    "    )\n",
    "\n",
    "    S_real_circ_trans = pm.run(S_real_circ)\n",
    "    S_imag_circ_trans = pm.run(S_imag_circ)\n",
    "\n",
    "    H_real_circ_trans = pm.run(H_real_circ)\n",
    "    H_imag_circ_trans = pm.run(H_imag_circ)\n",
    "\n",
    "elif SIM and NOISE:\n",
    "    target = backend.target\n",
    "    basis_gates = list(target.operation_names)\n",
    "    pm = generate_preset_pass_manager(optimization_level=3, backend=backend, basis_gates=basis_gates)\n",
    "\n",
    "    S_real_circ_trans = pm.run(S_real_circ)\n",
    "    S_imag_circ_trans = pm.run(S_imag_circ)\n",
    "\n",
    "    H_real_circ_trans = pm.run(H_real_circ)\n",
    "    H_imag_circ_trans = pm.run(H_imag_circ)\n"
   ]
  },
  {
   "cell_type": "code",
   "execution_count": null,
   "metadata": {},
   "outputs": [],
   "source": [
    "S_real_circ_trans.draw('mpl', fold=-1, idle_wires=False, scale=0.5)"
   ]
  },
  {
   "cell_type": "code",
   "execution_count": null,
   "metadata": {},
   "outputs": [],
   "source": [
    "S_real_circ_trans.depth(lambda x: x[0].num_qubits==2)"
   ]
  },
  {
   "cell_type": "code",
   "execution_count": null,
   "metadata": {},
   "outputs": [],
   "source": [
    "S_real_circ_trans.count_ops()['cz']"
   ]
  },
  {
   "cell_type": "code",
   "execution_count": null,
   "metadata": {},
   "outputs": [],
   "source": [
    "# S_real_circ.decompose().decompose().draw('mpl', fold=-1, idle_wires=False)"
   ]
  },
  {
   "cell_type": "code",
   "execution_count": null,
   "metadata": {},
   "outputs": [],
   "source": [
    "# S_real_circ.decompose().decompose().depth(lambda x: x[0].num_qubits==True)"
   ]
  },
  {
   "cell_type": "code",
   "execution_count": null,
   "metadata": {},
   "outputs": [],
   "source": [
    "# from qiskit.visualization import timeline_drawer\n",
    "# from qiskit.transpiler.passes.scheduling import ALAPSchedule\n",
    "# from qiskit.transpiler import PassManager, InstructionDurations\n",
    "\n",
    "# b_circ = S_real_circ_trans_dd.assign_parameters({t:1})\n",
    "# durations = InstructionDurations().from_backend(backend)\n",
    "# pm = PassManager([ALAPSchedule(durations=durations)])\n",
    "# sched_circ = pm.run(b_circ)\n",
    "\n",
    "# timeline_drawer(sched_circ, show_idle=False)\n",
    "# # timeline_drawer(b_circ)"
   ]
  },
  {
   "cell_type": "code",
   "execution_count": 11,
   "metadata": {},
   "outputs": [],
   "source": [
    "# Define observables to measure for S\n",
    "observable = 'I'*(n_qubits) + 'Z'\n",
    "\n",
    "if not SIM or (SIM and NOISE):\n",
    "\n",
    "    layout = S_real_circ_trans.layout\n",
    "\n",
    "    observable_op = SparsePauliOp(observable)\n",
    "    observable_op = observable_op.apply_layout(layout)\n",
    "    observable = observable_op.paulis.to_labels()\n",
    "\n",
    "\n",
    "# Define a set of observables to measure\n",
    "else:\n",
    "    observable = ['I'*(n_qubits) + 'Z']\n",
    "\n",
    "observables_S = [observable]\n",
    "\n",
    "# Define a sweep over parameter values\n",
    "params = np.vstack(parameters).T\n",
    "\n",
    "# Estimate the expectation value for all combinations of\n",
    "# observables and parameter values, where the pub result will have\n",
    "# shape (# observables, # parameter values).\n",
    "\n",
    "if not SIM or (SIM and NOISE):\n",
    "    pub_S_real = (S_real_circ_trans, observables_S, params)\n",
    "    pub_S_imag = (S_imag_circ_trans, observables_S, params)\n",
    "else:\n",
    "    pub_S_real = (S_real_circ, observables_S, params)\n",
    "    pub_S_imag = (S_imag_circ, observables_S, params)\n",
    "\n",
    "\n",
    "\n",
    "# Define observables to measure for H\n",
    "# Hamiltonian terms to measure\n",
    "observable_list = []\n",
    "for pauli, coeff in zip(H_op.paulis, H_op.coeffs):\n",
    "    # print(pauli)\n",
    "    observable = pauli[::-1].to_label() + 'Z'\n",
    "    observable_list.append([observable])\n",
    "\n",
    "\n",
    "if not SIM or (SIM and NOISE):\n",
    "\n",
    "    layout = H_real_circ_trans.layout\n",
    "\n",
    "    observable_trans_list = []\n",
    "    for observable in observable_list:\n",
    "        observable_op = SparsePauliOp(observable)\n",
    "        observable_op = observable_op.apply_layout(layout)\n",
    "        observable_trans_list.append(observable_op.paulis.to_labels())\n",
    "\n",
    "    observable_list = observable_trans_list\n",
    "\n",
    "\n",
    "observables_H = observable_list\n",
    "\n",
    "\n",
    "\n",
    "if not SIM or (SIM and NOISE):\n",
    "    pub_H_real = (H_real_circ_trans, observables_H, params)\n",
    "    pub_H_imag = (H_imag_circ_trans, observables_H, params)\n",
    "else:\n",
    "    pub_H_real = (H_real_circ, observables_H, params)\n",
    "    pub_H_imag = (H_imag_circ, observables_H, params)\n"
   ]
  },
  {
   "cell_type": "code",
   "execution_count": 12,
   "metadata": {},
   "outputs": [],
   "source": [
    "# pub_S_real[0].draw('mpl', scale=0.8, fold=-1)"
   ]
  },
  {
   "cell_type": "code",
   "execution_count": 13,
   "metadata": {},
   "outputs": [
    {
     "data": {
      "text/plain": [
       "6"
      ]
     },
     "execution_count": 13,
     "metadata": {},
     "output_type": "execute_result"
    }
   ],
   "source": [
    "len(pub_S_real[1][0][0])"
   ]
  },
  {
   "cell_type": "code",
   "execution_count": null,
   "metadata": {},
   "outputs": [],
   "source": []
  },
  {
   "cell_type": "markdown",
   "metadata": {},
   "source": [
    "## PEA code"
   ]
  },
  {
   "cell_type": "code",
   "execution_count": null,
   "metadata": {},
   "outputs": [],
   "source": [
    "# Experiment options\n",
    "max_pubs_per_batch_job = 100\n",
    "num_randomizations = 7\n",
    "num_randomizations_learning = 4\n",
    "shots_per_randomization = 6\n",
    "learning_pair_depths = [0, 1]\n",
    "noise_factors = [1, 1.3, 1.6]\n",
    "\n",
    "# Base option formatting\n",
    "options = {\n",
    "    \"resilience_level\": 2,\n",
    "    # Builtin resilience settings for ZNE\n",
    "    # \"resilience\": {\n",
    "    #     \"measure_mitigation\": True,\n",
    "    #     \"zne_mitigation\": True,\n",
    "    #     \"zne\": {\"noise_factors\": noise_factors},\n",
    "\n",
    "    #     # TREX noise learning configuration\n",
    "    #     \"measure_noise_learning\": {\n",
    "    #         \"num_randomizations\": num_randomizations_learning,\n",
    "    #         \"shots_per_randomization\": 3,\n",
    "    #     },\n",
    "        \n",
    "    #     # PEA noise model configuration\n",
    "    #     \"layer_noise_learning\": {\n",
    "    #         \"max_layers_to_learn\": 5,\n",
    "    #         \"layer_pair_depths\": learning_pair_depths,\n",
    "    #         \"shots_per_randomization\": shots_per_randomization,\n",
    "    #         \"num_randomizations\": num_randomizations_learning,\n",
    "    #     },\n",
    "    # },\n",
    "    \n",
    "    # # Randomization configuration\n",
    "    # \"twirling\": {\n",
    "    #     \"num_randomizations\": num_randomizations,\n",
    "    #     \"shots_per_randomization\": shots_per_randomization,\n",
    "    #     \"strategy\": \"active-circuit\",\n",
    "    # },\n",
    "\n",
    "    # # Experimental settings for PEA method\n",
    "    # \"experimental\": {\n",
    "    #     # Just in case, disable any further qiskit transpilation not related to twirling / DD\n",
    "    #     \"skip_transpilation\": False,\n",
    "\n",
    "    #     # Execution configuration\n",
    "    #     \"execution\": {\n",
    "    #         \"max_pubs_per_batch_job\": max_pubs_per_batch_job,\n",
    "    #         \"fast_parametric_update\": True,\n",
    "    #     },\n",
    "\n",
    "    #     # Error Mitigation configuration\n",
    "    #     \"resilience\": {\n",
    "    #         # ZNE Configuration\n",
    "    #         \"zne\": {\n",
    "    #             \"amplifier\": \"pea\",\n",
    "    #             \"return_all_extrapolated\": True,\n",
    "    #             \"return_unextrapolated\": True,\n",
    "    #             \"extrapolated_noise_factors\": noise_factors,\n",
    "    #         }\n",
    "    #     }\n",
    "    # }\n",
    "}"
   ]
  },
  {
   "cell_type": "code",
   "execution_count": null,
   "metadata": {},
   "outputs": [],
   "source": [
    "from qiskit_ibm_runtime import EstimatorV2, Session\n",
    "\n",
    "session = Session(backend=backend)\n",
    "estimator = EstimatorV2(session=session, options= options)\n",
    "job = estimator.run([pub_S_real], precision = 1/np.sqrt(16))\n",
    "session.close()"
   ]
  },
  {
   "cell_type": "code",
   "execution_count": null,
   "metadata": {},
   "outputs": [],
   "source": [
    "job.job_id"
   ]
  },
  {
   "cell_type": "code",
   "execution_count": null,
   "metadata": {},
   "outputs": [],
   "source": [
    "result = job.result()"
   ]
  },
  {
   "cell_type": "code",
   "execution_count": null,
   "metadata": {},
   "outputs": [],
   "source": [
    "result"
   ]
  },
  {
   "cell_type": "code",
   "execution_count": null,
   "metadata": {},
   "outputs": [],
   "source": [
    "with Session(backend=backend) as session:\n",
    "    estimator = EstimatorV2(backend=backend,  options={\"resilience_level\": 2})\n",
    "\n",
    "    # Sampling options\n",
    "    estimator.options.seed_estimator = 1\n",
    "    estimator.options.default_shots = 4\n",
    "    estimator.options.twirling.num_randomizations = 2\n",
    "    estimator.options.twirling.shots_per_randomization = 2\n",
    "    estimator.options.resilience.layer_noise_learning.layer_pair_depths = [0, 4]\n",
    "    estimator.options.resilience.layer_noise_learning.shots_per_randomization = 2\n",
    "    estimator.options.resilience.layer_noise_learning.num_randomizations = 2\n",
    "\n",
    "\n",
    "    # Additional options to enable and modify PEA based ZNE\n",
    "    # estimator.options.resilience.zne.amplifier = \"pea\"\n",
    "    estimator.options.resilience.zne.noise_factors = [1, 1.5, 2]\n",
    "\n",
    "    # # Experimental options\n",
    "    estimator.options.experimental.skip_transpilation = True\n",
    "    estimator.options.experimental.fast_parametric_update = True\n",
    "\n",
    "    \n",
    "\n",
    "\n",
    "    job_S_real = estimator.run([pub_S_real])"
   ]
  },
  {
   "cell_type": "code",
   "execution_count": null,
   "metadata": {},
   "outputs": [],
   "source": [
    "job_S_real.result()#.metadata#['circuit_metadata']['physical_qubits']"
   ]
  },
  {
   "cell_type": "code",
   "execution_count": null,
   "metadata": {},
   "outputs": [],
   "source": [
    "from qiskit_ibm_runtime import EstimatorV2    \n",
    "# from pec_runtime.primitives import EstimatorV2\n",
    "\n",
    "\n",
    "if SIM and not NOISE:\n",
    "    with Session(backend=backend) as session:\n",
    "        estimator = EstimatorV2(session=session)\n",
    "        job_S_real = estimator.run([pub_S_real], precision=1/np.sqrt(shots))\n",
    "        job_S_imag = estimator.run([pub_S_imag], precision=1/np.sqrt(shots))\n",
    "        job_H_real = estimator.run([pub_H_real], precision=1/np.sqrt(shots))\n",
    "        job_H_imag = estimator.run([pub_H_imag], precision=1/np.sqrt(shots))\n",
    "elif SIM and NOISE:\n",
    "    with Session(backend=backend) as session:\n",
    "        estimator = EstimatorV2(backend=backend,  options={\"resilience_level\": 2})\n",
    "\n",
    "        # Sampling options\n",
    "        estimator.options.seed_estimator = 1\n",
    "        estimator.options.default_shots = 4\n",
    "        estimator.options.twirling.num_randomizations = 2\n",
    "        estimator.options.twirling.shots_per_randomization = 2\n",
    "        estimator.options.resilience.layer_noise_learning.layer_pair_depths = [0, 4]\n",
    "        estimator.options.resilience.layer_noise_learning.shots_per_randomization = 2\n",
    "        estimator.options.resilience.layer_noise_learning.num_randomizations = 2\n",
    "        estimator.options.execution.fast_parametric_update = True\n",
    "\n",
    "\n",
    "        # Additional options to enable and modify PEA based ZNE\n",
    "        # estimator.options.resilience.zne.amplifier = \"pea\"\n",
    "        estimator.options.resilience.zne.noise_factors = [1, 1.5, 2]\n",
    "\n",
    "        # # Experimental options\n",
    "        estimator.options.experimental.skip_transpilation = True\n",
    "        estimator.options.experimental.fast_parametric_update = True\n",
    "        estimator.options.experimental.zne.amplifier = \"pea\"\n",
    "        estimator.options.experimental.zne.return_all_extrapolated = True\n",
    "        estimator.options.experimental.resilience.zne.return_unextrapolated = True\n",
    "        estimator.options.experimental.resilience.zne.extrapolated_noise_factors = [1, 1.5, 2]\n",
    "        \n",
    "\n",
    "\n",
    "        job_S_real = estimator.run([pub_S_real])\n",
    "        job_S_imag = estimator.run([pub_S_imag])\n",
    "        job_H_real = estimator.run([pub_H_real])\n",
    "        job_H_imag = estimator.run([pub_H_imag])\n",
    "\n",
    "else:\n",
    "    with Batch(backend=backend) as batch:\n",
    "\n",
    "        estimator = EstimatorV2(session=batch, backend=backend, options={\"resilience_level\": 2})\n",
    "        estimator.options.transpilation.seed_transpiler = 1\n",
    "\n",
    "        # Sampling options\n",
    "        estimator.options.seed_estimator = 1\n",
    "        estimator.options.default_shots = 4\n",
    "        estimator.options.twirling.num_randomizations = 2\n",
    "        estimator.options.twirling.shots_per_randomization = 2\n",
    "        estimator.options.resilience.layer_noise_learning.layer_pair_depths = [0, 4]\n",
    "        estimator.options.resilience.layer_noise_learning.shots_per_randomization = 2\n",
    "        estimator.options.resilience.layer_noise_learning.num_randomizations = 2\n",
    "        estimator.options.execution.fast_parametric_update = True\n",
    "\n",
    "\n",
    "\n",
    "        # Additional options to enable and modify PEA based ZNE\n",
    "        # estimator.options.resilience.zne.amplifier = \"pea\"\n",
    "        estimator.options.resilience.zne.noise_factors = [1, 1.5, 2]\n",
    "\n",
    "        # # Experimental options\n",
    "        # estimator.options.experimental.skip_transpilation = True\n",
    "        # estimator.options.experimental.execution.fast_parametric_update = True\n",
    "        # estimator.options.experimental.resilience.zne.amplifier = \"pea\"\n",
    "        # estimator.options.experimental.resilience.zne.return_all_extrapolated = True\n",
    "        # estimator.options.experimental.resilience.zne.return_unextrapolated = True\n",
    "        # estimator.options.experimental.resilience.zne.extrapolated_noise_factors = [1, 1.5, 2]\n",
    "        \n",
    "\n",
    "\n",
    "        job_S_real = estimator.run([pub_S_real])\n",
    "        job_S_imag = estimator.run([pub_S_imag])\n",
    "        job_H_real = estimator.run([pub_H_real])\n",
    "        job_H_imag = estimator.run([pub_H_imag])\n",
    "\n"
   ]
  },
  {
   "cell_type": "markdown",
   "metadata": {},
   "source": [
    "## ZNE code"
   ]
  },
  {
   "cell_type": "code",
   "execution_count": null,
   "metadata": {},
   "outputs": [],
   "source": [
    "shots = 100000"
   ]
  },
  {
   "cell_type": "code",
   "execution_count": null,
   "metadata": {},
   "outputs": [],
   "source": [
    "from qiskit_aer.primitives import EstimatorV2 as Estimator\n",
    "from qiskit_aer.noise import NoiseModel\n",
    "\n",
    "noise_model = NoiseModel().from_backend(FakeGuadalupeV2())\n",
    "\n",
    "if SIM and NOISE:\n",
    "        estimator = Estimator()\n",
    "        estimator.options.backend_options = {'noise_model': noise_model}\n",
    "        estimator.options.resilience_level = 2\n",
    "        \n",
    "        job_S_real = estimator.run([pub_S_real], precision=1/np.sqrt(shots))\n",
    "        job_S_imag = estimator.run([pub_S_imag], precision=1/np.sqrt(shots))\n",
    "        job_H_real = estimator.run([pub_H_real], precision=1/np.sqrt(shots))\n",
    "        job_H_imag = estimator.run([pub_H_imag], precision=1/np.sqrt(shots))\n",
    "\n",
    "# else:\n",
    "#     with Batch(backend=backend) as batch:\n",
    "\n",
    "#         estimator = Estimator(session=batch, options={\"resilience_level\": 1, \"experimental\": {\"execution\": {\"fast_parametric_update\" : True}}})\n",
    "\n",
    "#         job_S_real = estimator.run([pub_S_real], precision=1/np.sqrt(shots))\n",
    "#         job_S_imag = estimator.run([pub_S_imag], precision=1/np.sqrt(shots))\n",
    "#         job_H_real = estimator.run([pub_H_real], precision=1/np.sqrt(shots))\n",
    "#         job_H_imag = estimator.run([pub_H_imag], precision=1/np.sqrt(shots))"
   ]
  },
  {
   "cell_type": "code",
   "execution_count": null,
   "metadata": {},
   "outputs": [],
   "source": [
    "estimator.options"
   ]
  },
  {
   "cell_type": "code",
   "execution_count": null,
   "metadata": {},
   "outputs": [],
   "source": [
    "job_S_real.metadata\n"
   ]
  },
  {
   "cell_type": "markdown",
   "metadata": {},
   "source": [
    "## Without PEA"
   ]
  },
  {
   "cell_type": "markdown",
   "metadata": {},
   "source": [
    "Circuits for $t=0$ are classically calculable"
   ]
  },
  {
   "cell_type": "code",
   "execution_count": 14,
   "metadata": {},
   "outputs": [
    {
     "data": {
      "text/plain": [
       "0j"
      ]
     },
     "execution_count": 14,
     "metadata": {},
     "output_type": "execute_result"
    }
   ],
   "source": [
    "from qiskit.quantum_info import StabilizerState, Pauli\n",
    "\n",
    "\n",
    "\n",
    "H_real_circ_cliff = H_real_circ.assign_parameters({t:0})\n",
    "H_imag_circ_cliff = H_imag_circ.assign_parameters({t:0})\n",
    "S_real_circ_cliff = S_real_circ.assign_parameters({t:0})\n",
    "S_imag_circ_cliff = S_imag_circ.assign_parameters({t:0})\n",
    "\n",
    "observables_S_cliff = 'I'*(n_qubits) + 'Z'\n",
    "\n",
    "observables_H_cliff = []\n",
    "for pauli, coeff in zip(H_op.paulis, H_op.coeffs):\n",
    "    # print(pauli)\n",
    "    observable = pauli[::-1].to_label() + 'Z'\n",
    "    observables_H_cliff.append(observable)\n",
    "\n",
    "\n",
    "\n",
    "# Get expectation values from experiment\n",
    "S_expval_real = StabilizerState(S_real_circ_cliff).expectation_value(Pauli('I'*(n_qubits) + 'Z'))\n",
    "S_expval_imag = StabilizerState(S_imag_circ_cliff).expectation_value(Pauli('I'*(n_qubits) + 'Z'))\n",
    "\n",
    "# Get expectation values\n",
    "S_expval = S_expval_real + 1j*S_expval_imag\n",
    "\n",
    "H_expval = 0\n",
    "for obs_idx, (pauli, coeff) in enumerate(zip(H_op.paulis, H_op.coeffs)):\n",
    "    # Get expectation values from experiment\n",
    "    expval_real = StabilizerState(H_real_circ_cliff).expectation_value(Pauli(observables_H_cliff[obs_idx]))\n",
    "    expval_imag = StabilizerState(H_imag_circ_cliff).expectation_value(Pauli(observables_H_cliff[obs_idx]))\n",
    "    expval = expval_real + 1j*expval_imag\n",
    "\n",
    "\n",
    "    # Fill-in matrix elements\n",
    "    H_expval += coeff*expval\n",
    "\n",
    "\n",
    "H_expval"
   ]
  },
  {
   "cell_type": "markdown",
   "metadata": {},
   "source": [
    "Execute circuits for $\\tilde{S}$ and $\\tilde{H}$ with the Estimator"
   ]
  },
  {
   "cell_type": "code",
   "execution_count": 15,
   "metadata": {},
   "outputs": [],
   "source": [
    "if SIM:\n",
    "    with Session(backend=backend) as session:\n",
    "        estimator = Estimator(session=session)\n",
    "        job_S_real = estimator.run([pub_S_real], precision=1/np.sqrt(shots))\n",
    "        job_S_imag = estimator.run([pub_S_imag], precision=1/np.sqrt(shots))\n",
    "        job_H_real = estimator.run([pub_H_real], precision=1/np.sqrt(shots))\n",
    "        job_H_imag = estimator.run([pub_H_imag], precision=1/np.sqrt(shots))\n",
    "\n",
    "else:\n",
    "    with Batch(backend=backend) as batch:\n",
    "\n",
    "        estimator = Estimator(session=batch, options={\"resilience_level\": 1, \"experimental\": {\"execution\": {\"fast_parametric_update\" : False}}})\n",
    "\n",
    "        # estimator.options.resilience.zne_mitigation=True\n",
    "        # estimator.options.resilience.zne.extrapolator='linear'\n",
    "        # estimator.options.resilience.zne.noise_factors = [1,1.3,1.6]\n",
    "\n",
    "        job_S_real = estimator.run([pub_S_real], precision=1/np.sqrt(shots))\n",
    "        job_S_imag = estimator.run([pub_S_imag], precision=1/np.sqrt(shots))\n",
    "        job_H_real = estimator.run([pub_H_real], precision=1/np.sqrt(shots))\n",
    "        job_H_imag = estimator.run([pub_H_imag], precision=1/np.sqrt(shots))\n"
   ]
  },
  {
   "cell_type": "code",
   "execution_count": 16,
   "metadata": {},
   "outputs": [
    {
     "name": "stdout",
     "output_type": "stream",
     "text": [
      "260de0a3-4794-4f67-b341-f0c44f8c4446\n",
      "ac129fa6-3a34-45fd-bf8f-23d364aac72b\n",
      "f8187927-8593-460f-85da-6046075bd906\n",
      "772a0424-31ff-4a48-9374-db4f560acb63\n"
     ]
    }
   ],
   "source": [
    "job_S_real_id = job_S_real.job_id()\n",
    "job_S_imag_id = job_S_imag.job_id()\n",
    "job_H_real_id = job_H_real.job_id()\n",
    "job_H_imag_id = job_H_imag.job_id()\n",
    "print(job_S_real_id)\n",
    "print(job_S_imag_id)\n",
    "print(job_H_real_id)\n",
    "print(job_H_imag_id)\n"
   ]
  },
  {
   "cell_type": "markdown",
   "metadata": {},
   "source": [
    "## Step 4: Post-process and analyze results"
   ]
  },
  {
   "cell_type": "code",
   "execution_count": 18,
   "metadata": {},
   "outputs": [],
   "source": [
    "S_real_results = job_S_real.result()[0]\n",
    "S_imag_results = job_S_imag.result()[0]\n",
    "H_real_results = job_H_real.result()[0]\n",
    "H_imag_results = job_H_imag.result()[0]"
   ]
  },
  {
   "cell_type": "code",
   "execution_count": 19,
   "metadata": {},
   "outputs": [],
   "source": [
    "prefactors = []\n",
    "E0t_array = []\n",
    "for i, circ in enumerate(iter(qc_evol.assign_parameters([(i*dt)/num_trotter_steps]) for i in range(1, krylov_dim))):\n",
    "    phase = 1.0\n",
    "    E0t = 0\n",
    "    for instruction in circ.data:\n",
    "        if instruction.operation.name != 'swap' and instruction.operation.name != 'barrier':\n",
    "            # All the non-swap gates are XX+YY+ZZ rotations, which add a phase to the all-zeros state.\n",
    "            if instruction.operation.params:\n",
    "                E0t += float(instruction.operation.params[0])\n",
    "                # phase *= np.exp(1j*float(instruction.operation.params[0])/2)\n",
    "                phase *= np.exp(-1j*float(instruction.operation.params[0])/2) # NY added, we need to `subtract` the E0 * t so minus sign\n",
    "            # assert(float(instruction.operation.params[0]._symbol_expr) == i*dt/n_T_step)\n",
    "    prefactors.append(phase)"
   ]
  },
  {
   "cell_type": "markdown",
   "metadata": {},
   "source": [
    "Once we have the results of the circuit executions we can post-process the data to calculate the matrix elements of $\\tilde{S}$"
   ]
  },
  {
   "cell_type": "code",
   "execution_count": 20,
   "metadata": {},
   "outputs": [],
   "source": [
    "import itertools\n",
    "# Assemble S, the overlap matrix of dimension D:\n",
    "S_first_row = np.zeros(krylov_dim, dtype=complex)\n",
    "S_first_row[0] = 1+0j\n",
    "\n",
    "# Add in ancilla-only measurements:\n",
    "for i in range(krylov_dim-1):\n",
    "\n",
    "    # Get expectation values from experiment\n",
    "    expval_real = S_real_results.data.evs[0][i]\n",
    "    expval_imag = S_imag_results.data.evs[0][i]\n",
    "\n",
    "    # Get expectation values\n",
    "    expval = expval_real + 1j*expval_imag\n",
    "    # Get the coefficients and expectation values corresponding to actual terms in the Hamiltonian (as opposed to the ancilla-only measurements).\n",
    "    S_first_row[i+1] += prefactors[i]*expval\n",
    "\n",
    "S_first_row_list =  S_first_row.tolist() #for saving purposes     \n",
    "            \n",
    "            \n",
    "S_circ = np.zeros((krylov_dim, krylov_dim), dtype=complex)\n",
    "\n",
    "# Distribute entries from first row across matrix:\n",
    "for i,j in itertools.product(range(krylov_dim),repeat=2):\n",
    "    if i >= j:\n",
    "        S_circ[j,i] = S_first_row[i-j]\n",
    "    else:\n",
    "        S_circ[j,i] = np.conj(S_first_row[j-i])"
   ]
  },
  {
   "cell_type": "code",
   "execution_count": 21,
   "metadata": {},
   "outputs": [
    {
     "data": {
      "text/latex": [
       "$\\displaystyle \\left[\\begin{array}{cccccccccccccccccccc}1.0 & -0.477673333333334 - 0.00438000000000005 i & -0.25164 + 0.0503866666666666 i & 0.227286666666666 - 0.243466666666666 i & -0.0015399999999998 + 0.5005 i & 0.225446666666667 - 0.542486666666667 i & -0.248633333333333 + 0.3027 i & -0.480446666666667 - 0.0572200000000002 i & 1.0 - 0.00189333333333206 i & -0.475406666666667 + 0.0534933333333323 i & -0.247546666666667 - 0.30316 i & 0.227546666666665 + 0.546793333333334 i & 0.000873333333333945 - 0.500793333333334 i & 0.2278 + 0.2435 i & -0.24872 - 0.0492600000000001 i & -0.476759999999999 + 0.00471999999999859 i & 1.0 - 0.00365999999999902 i & -0.477760000000001 - 0.00103333333333287 i & -0.25362 + 0.0517399999999997 i & 0.227706666666667 - 0.243793333333333 i\\\\-0.477673333333334 + 0.00438000000000005 i & 1.0 & -0.477673333333334 - 0.00438000000000005 i & -0.25164 + 0.0503866666666666 i & 0.227286666666666 - 0.243466666666666 i & -0.0015399999999998 + 0.5005 i & 0.225446666666667 - 0.542486666666667 i & -0.248633333333333 + 0.3027 i & -0.480446666666667 - 0.0572200000000002 i & 1.0 - 0.00189333333333206 i & -0.475406666666667 + 0.0534933333333323 i & -0.247546666666667 - 0.30316 i & 0.227546666666665 + 0.546793333333334 i & 0.000873333333333945 - 0.500793333333334 i & 0.2278 + 0.2435 i & -0.24872 - 0.0492600000000001 i & -0.476759999999999 + 0.00471999999999859 i & 1.0 - 0.00365999999999902 i & -0.477760000000001 - 0.00103333333333287 i & -0.25362 + 0.0517399999999997 i\\\\-0.25164 - 0.0503866666666666 i & -0.477673333333334 + 0.00438000000000005 i & 1.0 & -0.477673333333334 - 0.00438000000000005 i & -0.25164 + 0.0503866666666666 i & 0.227286666666666 - 0.243466666666666 i & -0.0015399999999998 + 0.5005 i & 0.225446666666667 - 0.542486666666667 i & -0.248633333333333 + 0.3027 i & -0.480446666666667 - 0.0572200000000002 i & 1.0 - 0.00189333333333206 i & -0.475406666666667 + 0.0534933333333323 i & -0.247546666666667 - 0.30316 i & 0.227546666666665 + 0.546793333333334 i & 0.000873333333333945 - 0.500793333333334 i & 0.2278 + 0.2435 i & -0.24872 - 0.0492600000000001 i & -0.476759999999999 + 0.00471999999999859 i & 1.0 - 0.00365999999999902 i & -0.477760000000001 - 0.00103333333333287 i\\\\0.227286666666666 + 0.243466666666666 i & -0.25164 - 0.0503866666666666 i & -0.477673333333334 + 0.00438000000000005 i & 1.0 & -0.477673333333334 - 0.00438000000000005 i & -0.25164 + 0.0503866666666666 i & 0.227286666666666 - 0.243466666666666 i & -0.0015399999999998 + 0.5005 i & 0.225446666666667 - 0.542486666666667 i & -0.248633333333333 + 0.3027 i & -0.480446666666667 - 0.0572200000000002 i & 1.0 - 0.00189333333333206 i & -0.475406666666667 + 0.0534933333333323 i & -0.247546666666667 - 0.30316 i & 0.227546666666665 + 0.546793333333334 i & 0.000873333333333945 - 0.500793333333334 i & 0.2278 + 0.2435 i & -0.24872 - 0.0492600000000001 i & -0.476759999999999 + 0.00471999999999859 i & 1.0 - 0.00365999999999902 i\\\\-0.0015399999999998 - 0.5005 i & 0.227286666666666 + 0.243466666666666 i & -0.25164 - 0.0503866666666666 i & -0.477673333333334 + 0.00438000000000005 i & 1.0 & -0.477673333333334 - 0.00438000000000005 i & -0.25164 + 0.0503866666666666 i & 0.227286666666666 - 0.243466666666666 i & -0.0015399999999998 + 0.5005 i & 0.225446666666667 - 0.542486666666667 i & -0.248633333333333 + 0.3027 i & -0.480446666666667 - 0.0572200000000002 i & 1.0 - 0.00189333333333206 i & -0.475406666666667 + 0.0534933333333323 i & -0.247546666666667 - 0.30316 i & 0.227546666666665 + 0.546793333333334 i & 0.000873333333333945 - 0.500793333333334 i & 0.2278 + 0.2435 i & -0.24872 - 0.0492600000000001 i & -0.476759999999999 + 0.00471999999999859 i\\\\0.225446666666667 + 0.542486666666667 i & -0.0015399999999998 - 0.5005 i & 0.227286666666666 + 0.243466666666666 i & -0.25164 - 0.0503866666666666 i & -0.477673333333334 + 0.00438000000000005 i & 1.0 & -0.477673333333334 - 0.00438000000000005 i & -0.25164 + 0.0503866666666666 i & 0.227286666666666 - 0.243466666666666 i & -0.0015399999999998 + 0.5005 i & 0.225446666666667 - 0.542486666666667 i & -0.248633333333333 + 0.3027 i & -0.480446666666667 - 0.0572200000000002 i & 1.0 - 0.00189333333333206 i & -0.475406666666667 + 0.0534933333333323 i & -0.247546666666667 - 0.30316 i & 0.227546666666665 + 0.546793333333334 i & 0.000873333333333945 - 0.500793333333334 i & 0.2278 + 0.2435 i & -0.24872 - 0.0492600000000001 i\\\\-0.248633333333333 - 0.3027 i & 0.225446666666667 + 0.542486666666667 i & -0.0015399999999998 - 0.5005 i & 0.227286666666666 + 0.243466666666666 i & -0.25164 - 0.0503866666666666 i & -0.477673333333334 + 0.00438000000000005 i & 1.0 & -0.477673333333334 - 0.00438000000000005 i & -0.25164 + 0.0503866666666666 i & 0.227286666666666 - 0.243466666666666 i & -0.0015399999999998 + 0.5005 i & 0.225446666666667 - 0.542486666666667 i & -0.248633333333333 + 0.3027 i & -0.480446666666667 - 0.0572200000000002 i & 1.0 - 0.00189333333333206 i & -0.475406666666667 + 0.0534933333333323 i & -0.247546666666667 - 0.30316 i & 0.227546666666665 + 0.546793333333334 i & 0.000873333333333945 - 0.500793333333334 i & 0.2278 + 0.2435 i\\\\-0.480446666666667 + 0.0572200000000002 i & -0.248633333333333 - 0.3027 i & 0.225446666666667 + 0.542486666666667 i & -0.0015399999999998 - 0.5005 i & 0.227286666666666 + 0.243466666666666 i & -0.25164 - 0.0503866666666666 i & -0.477673333333334 + 0.00438000000000005 i & 1.0 & -0.477673333333334 - 0.00438000000000005 i & -0.25164 + 0.0503866666666666 i & 0.227286666666666 - 0.243466666666666 i & -0.0015399999999998 + 0.5005 i & 0.225446666666667 - 0.542486666666667 i & -0.248633333333333 + 0.3027 i & -0.480446666666667 - 0.0572200000000002 i & 1.0 - 0.00189333333333206 i & -0.475406666666667 + 0.0534933333333323 i & -0.247546666666667 - 0.30316 i & 0.227546666666665 + 0.546793333333334 i & 0.000873333333333945 - 0.500793333333334 i\\\\1.0 + 0.00189333333333206 i & -0.480446666666667 + 0.0572200000000002 i & -0.248633333333333 - 0.3027 i & 0.225446666666667 + 0.542486666666667 i & -0.0015399999999998 - 0.5005 i & 0.227286666666666 + 0.243466666666666 i & -0.25164 - 0.0503866666666666 i & -0.477673333333334 + 0.00438000000000005 i & 1.0 & -0.477673333333334 - 0.00438000000000005 i & -0.25164 + 0.0503866666666666 i & 0.227286666666666 - 0.243466666666666 i & -0.0015399999999998 + 0.5005 i & 0.225446666666667 - 0.542486666666667 i & -0.248633333333333 + 0.3027 i & -0.480446666666667 - 0.0572200000000002 i & 1.0 - 0.00189333333333206 i & -0.475406666666667 + 0.0534933333333323 i & -0.247546666666667 - 0.30316 i & 0.227546666666665 + 0.546793333333334 i\\\\-0.475406666666667 - 0.0534933333333323 i & 1.0 + 0.00189333333333206 i & -0.480446666666667 + 0.0572200000000002 i & -0.248633333333333 - 0.3027 i & 0.225446666666667 + 0.542486666666667 i & -0.0015399999999998 - 0.5005 i & 0.227286666666666 + 0.243466666666666 i & -0.25164 - 0.0503866666666666 i & -0.477673333333334 + 0.00438000000000005 i & 1.0 & -0.477673333333334 - 0.00438000000000005 i & -0.25164 + 0.0503866666666666 i & 0.227286666666666 - 0.243466666666666 i & -0.0015399999999998 + 0.5005 i & 0.225446666666667 - 0.542486666666667 i & -0.248633333333333 + 0.3027 i & -0.480446666666667 - 0.0572200000000002 i & 1.0 - 0.00189333333333206 i & -0.475406666666667 + 0.0534933333333323 i & -0.247546666666667 - 0.30316 i\\\\-0.247546666666667 + 0.30316 i & -0.475406666666667 - 0.0534933333333323 i & 1.0 + 0.00189333333333206 i & -0.480446666666667 + 0.0572200000000002 i & -0.248633333333333 - 0.3027 i & 0.225446666666667 + 0.542486666666667 i & -0.0015399999999998 - 0.5005 i & 0.227286666666666 + 0.243466666666666 i & -0.25164 - 0.0503866666666666 i & -0.477673333333334 + 0.00438000000000005 i & 1.0 & -0.477673333333334 - 0.00438000000000005 i & -0.25164 + 0.0503866666666666 i & 0.227286666666666 - 0.243466666666666 i & -0.0015399999999998 + 0.5005 i & 0.225446666666667 - 0.542486666666667 i & -0.248633333333333 + 0.3027 i & -0.480446666666667 - 0.0572200000000002 i & 1.0 - 0.00189333333333206 i & -0.475406666666667 + 0.0534933333333323 i\\\\0.227546666666665 - 0.546793333333334 i & -0.247546666666667 + 0.30316 i & -0.475406666666667 - 0.0534933333333323 i & 1.0 + 0.00189333333333206 i & -0.480446666666667 + 0.0572200000000002 i & -0.248633333333333 - 0.3027 i & 0.225446666666667 + 0.542486666666667 i & -0.0015399999999998 - 0.5005 i & 0.227286666666666 + 0.243466666666666 i & -0.25164 - 0.0503866666666666 i & -0.477673333333334 + 0.00438000000000005 i & 1.0 & -0.477673333333334 - 0.00438000000000005 i & -0.25164 + 0.0503866666666666 i & 0.227286666666666 - 0.243466666666666 i & -0.0015399999999998 + 0.5005 i & 0.225446666666667 - 0.542486666666667 i & -0.248633333333333 + 0.3027 i & -0.480446666666667 - 0.0572200000000002 i & 1.0 - 0.00189333333333206 i\\\\0.000873333333333945 + 0.500793333333334 i & 0.227546666666665 - 0.546793333333334 i & -0.247546666666667 + 0.30316 i & -0.475406666666667 - 0.0534933333333323 i & 1.0 + 0.00189333333333206 i & -0.480446666666667 + 0.0572200000000002 i & -0.248633333333333 - 0.3027 i & 0.225446666666667 + 0.542486666666667 i & -0.0015399999999998 - 0.5005 i & 0.227286666666666 + 0.243466666666666 i & -0.25164 - 0.0503866666666666 i & -0.477673333333334 + 0.00438000000000005 i & 1.0 & -0.477673333333334 - 0.00438000000000005 i & -0.25164 + 0.0503866666666666 i & 0.227286666666666 - 0.243466666666666 i & -0.0015399999999998 + 0.5005 i & 0.225446666666667 - 0.542486666666667 i & -0.248633333333333 + 0.3027 i & -0.480446666666667 - 0.0572200000000002 i\\\\0.2278 - 0.2435 i & 0.000873333333333945 + 0.500793333333334 i & 0.227546666666665 - 0.546793333333334 i & -0.247546666666667 + 0.30316 i & -0.475406666666667 - 0.0534933333333323 i & 1.0 + 0.00189333333333206 i & -0.480446666666667 + 0.0572200000000002 i & -0.248633333333333 - 0.3027 i & 0.225446666666667 + 0.542486666666667 i & -0.0015399999999998 - 0.5005 i & 0.227286666666666 + 0.243466666666666 i & -0.25164 - 0.0503866666666666 i & -0.477673333333334 + 0.00438000000000005 i & 1.0 & -0.477673333333334 - 0.00438000000000005 i & -0.25164 + 0.0503866666666666 i & 0.227286666666666 - 0.243466666666666 i & -0.0015399999999998 + 0.5005 i & 0.225446666666667 - 0.542486666666667 i & -0.248633333333333 + 0.3027 i\\\\-0.24872 + 0.0492600000000001 i & 0.2278 - 0.2435 i & 0.000873333333333945 + 0.500793333333334 i & 0.227546666666665 - 0.546793333333334 i & -0.247546666666667 + 0.30316 i & -0.475406666666667 - 0.0534933333333323 i & 1.0 + 0.00189333333333206 i & -0.480446666666667 + 0.0572200000000002 i & -0.248633333333333 - 0.3027 i & 0.225446666666667 + 0.542486666666667 i & -0.0015399999999998 - 0.5005 i & 0.227286666666666 + 0.243466666666666 i & -0.25164 - 0.0503866666666666 i & -0.477673333333334 + 0.00438000000000005 i & 1.0 & -0.477673333333334 - 0.00438000000000005 i & -0.25164 + 0.0503866666666666 i & 0.227286666666666 - 0.243466666666666 i & -0.0015399999999998 + 0.5005 i & 0.225446666666667 - 0.542486666666667 i\\\\-0.476759999999999 - 0.00471999999999859 i & -0.24872 + 0.0492600000000001 i & 0.2278 - 0.2435 i & 0.000873333333333945 + 0.500793333333334 i & 0.227546666666665 - 0.546793333333334 i & -0.247546666666667 + 0.30316 i & -0.475406666666667 - 0.0534933333333323 i & 1.0 + 0.00189333333333206 i & -0.480446666666667 + 0.0572200000000002 i & -0.248633333333333 - 0.3027 i & 0.225446666666667 + 0.542486666666667 i & -0.0015399999999998 - 0.5005 i & 0.227286666666666 + 0.243466666666666 i & -0.25164 - 0.0503866666666666 i & -0.477673333333334 + 0.00438000000000005 i & 1.0 & -0.477673333333334 - 0.00438000000000005 i & -0.25164 + 0.0503866666666666 i & 0.227286666666666 - 0.243466666666666 i & -0.0015399999999998 + 0.5005 i\\\\1.0 + 0.00365999999999902 i & -0.476759999999999 - 0.00471999999999859 i & -0.24872 + 0.0492600000000001 i & 0.2278 - 0.2435 i & 0.000873333333333945 + 0.500793333333334 i & 0.227546666666665 - 0.546793333333334 i & -0.247546666666667 + 0.30316 i & -0.475406666666667 - 0.0534933333333323 i & 1.0 + 0.00189333333333206 i & -0.480446666666667 + 0.0572200000000002 i & -0.248633333333333 - 0.3027 i & 0.225446666666667 + 0.542486666666667 i & -0.0015399999999998 - 0.5005 i & 0.227286666666666 + 0.243466666666666 i & -0.25164 - 0.0503866666666666 i & -0.477673333333334 + 0.00438000000000005 i & 1.0 & -0.477673333333334 - 0.00438000000000005 i & -0.25164 + 0.0503866666666666 i & 0.227286666666666 - 0.243466666666666 i\\\\-0.477760000000001 + 0.00103333333333287 i & 1.0 + 0.00365999999999902 i & -0.476759999999999 - 0.00471999999999859 i & -0.24872 + 0.0492600000000001 i & 0.2278 - 0.2435 i & 0.000873333333333945 + 0.500793333333334 i & 0.227546666666665 - 0.546793333333334 i & -0.247546666666667 + 0.30316 i & -0.475406666666667 - 0.0534933333333323 i & 1.0 + 0.00189333333333206 i & -0.480446666666667 + 0.0572200000000002 i & -0.248633333333333 - 0.3027 i & 0.225446666666667 + 0.542486666666667 i & -0.0015399999999998 - 0.5005 i & 0.227286666666666 + 0.243466666666666 i & -0.25164 - 0.0503866666666666 i & -0.477673333333334 + 0.00438000000000005 i & 1.0 & -0.477673333333334 - 0.00438000000000005 i & -0.25164 + 0.0503866666666666 i\\\\-0.25362 - 0.0517399999999997 i & -0.477760000000001 + 0.00103333333333287 i & 1.0 + 0.00365999999999902 i & -0.476759999999999 - 0.00471999999999859 i & -0.24872 + 0.0492600000000001 i & 0.2278 - 0.2435 i & 0.000873333333333945 + 0.500793333333334 i & 0.227546666666665 - 0.546793333333334 i & -0.247546666666667 + 0.30316 i & -0.475406666666667 - 0.0534933333333323 i & 1.0 + 0.00189333333333206 i & -0.480446666666667 + 0.0572200000000002 i & -0.248633333333333 - 0.3027 i & 0.225446666666667 + 0.542486666666667 i & -0.0015399999999998 - 0.5005 i & 0.227286666666666 + 0.243466666666666 i & -0.25164 - 0.0503866666666666 i & -0.477673333333334 + 0.00438000000000005 i & 1.0 & -0.477673333333334 - 0.00438000000000005 i\\\\0.227706666666667 + 0.243793333333333 i & -0.25362 - 0.0517399999999997 i & -0.477760000000001 + 0.00103333333333287 i & 1.0 + 0.00365999999999902 i & -0.476759999999999 - 0.00471999999999859 i & -0.24872 + 0.0492600000000001 i & 0.2278 - 0.2435 i & 0.000873333333333945 + 0.500793333333334 i & 0.227546666666665 - 0.546793333333334 i & -0.247546666666667 + 0.30316 i & -0.475406666666667 - 0.0534933333333323 i & 1.0 + 0.00189333333333206 i & -0.480446666666667 + 0.0572200000000002 i & -0.248633333333333 - 0.3027 i & 0.225446666666667 + 0.542486666666667 i & -0.0015399999999998 - 0.5005 i & 0.227286666666666 + 0.243466666666666 i & -0.25164 - 0.0503866666666666 i & -0.477673333333334 + 0.00438000000000005 i & 1.0\\end{array}\\right]$"
      ],
      "text/plain": [
       "Matrix([\n",
       "[                                       1.0, -0.477673333333334 - 0.00438000000000005*I,            -0.25164 + 0.0503866666666666*I,    0.227286666666666 - 0.243466666666666*I,             -0.0015399999999998 + 0.5005*I,    0.225446666666667 - 0.542486666666667*I,              -0.248633333333333 + 0.3027*I,  -0.480446666666667 - 0.0572200000000002*I,                1.0 - 0.00189333333333206*I,  -0.475406666666667 + 0.0534933333333323*I,             -0.247546666666667 - 0.30316*I,    0.227546666666665 + 0.546793333333334*I, 0.000873333333333945 - 0.500793333333334*I,                          0.2278 + 0.2435*I,            -0.24872 - 0.0492600000000001*I, -0.476759999999999 + 0.00471999999999859*I,                1.0 - 0.00365999999999902*I, -0.477760000000001 - 0.00103333333333287*I,            -0.25362 + 0.0517399999999997*I,    0.227706666666667 - 0.243793333333333*I],\n",
       "[-0.477673333333334 + 0.00438000000000005*I,                                        1.0, -0.477673333333334 - 0.00438000000000005*I,            -0.25164 + 0.0503866666666666*I,    0.227286666666666 - 0.243466666666666*I,             -0.0015399999999998 + 0.5005*I,    0.225446666666667 - 0.542486666666667*I,              -0.248633333333333 + 0.3027*I,  -0.480446666666667 - 0.0572200000000002*I,                1.0 - 0.00189333333333206*I,  -0.475406666666667 + 0.0534933333333323*I,             -0.247546666666667 - 0.30316*I,    0.227546666666665 + 0.546793333333334*I, 0.000873333333333945 - 0.500793333333334*I,                          0.2278 + 0.2435*I,            -0.24872 - 0.0492600000000001*I, -0.476759999999999 + 0.00471999999999859*I,                1.0 - 0.00365999999999902*I, -0.477760000000001 - 0.00103333333333287*I,            -0.25362 + 0.0517399999999997*I],\n",
       "[           -0.25164 - 0.0503866666666666*I, -0.477673333333334 + 0.00438000000000005*I,                                        1.0, -0.477673333333334 - 0.00438000000000005*I,            -0.25164 + 0.0503866666666666*I,    0.227286666666666 - 0.243466666666666*I,             -0.0015399999999998 + 0.5005*I,    0.225446666666667 - 0.542486666666667*I,              -0.248633333333333 + 0.3027*I,  -0.480446666666667 - 0.0572200000000002*I,                1.0 - 0.00189333333333206*I,  -0.475406666666667 + 0.0534933333333323*I,             -0.247546666666667 - 0.30316*I,    0.227546666666665 + 0.546793333333334*I, 0.000873333333333945 - 0.500793333333334*I,                          0.2278 + 0.2435*I,            -0.24872 - 0.0492600000000001*I, -0.476759999999999 + 0.00471999999999859*I,                1.0 - 0.00365999999999902*I, -0.477760000000001 - 0.00103333333333287*I],\n",
       "[   0.227286666666666 + 0.243466666666666*I,            -0.25164 - 0.0503866666666666*I, -0.477673333333334 + 0.00438000000000005*I,                                        1.0, -0.477673333333334 - 0.00438000000000005*I,            -0.25164 + 0.0503866666666666*I,    0.227286666666666 - 0.243466666666666*I,             -0.0015399999999998 + 0.5005*I,    0.225446666666667 - 0.542486666666667*I,              -0.248633333333333 + 0.3027*I,  -0.480446666666667 - 0.0572200000000002*I,                1.0 - 0.00189333333333206*I,  -0.475406666666667 + 0.0534933333333323*I,             -0.247546666666667 - 0.30316*I,    0.227546666666665 + 0.546793333333334*I, 0.000873333333333945 - 0.500793333333334*I,                          0.2278 + 0.2435*I,            -0.24872 - 0.0492600000000001*I, -0.476759999999999 + 0.00471999999999859*I,                1.0 - 0.00365999999999902*I],\n",
       "[            -0.0015399999999998 - 0.5005*I,    0.227286666666666 + 0.243466666666666*I,            -0.25164 - 0.0503866666666666*I, -0.477673333333334 + 0.00438000000000005*I,                                        1.0, -0.477673333333334 - 0.00438000000000005*I,            -0.25164 + 0.0503866666666666*I,    0.227286666666666 - 0.243466666666666*I,             -0.0015399999999998 + 0.5005*I,    0.225446666666667 - 0.542486666666667*I,              -0.248633333333333 + 0.3027*I,  -0.480446666666667 - 0.0572200000000002*I,                1.0 - 0.00189333333333206*I,  -0.475406666666667 + 0.0534933333333323*I,             -0.247546666666667 - 0.30316*I,    0.227546666666665 + 0.546793333333334*I, 0.000873333333333945 - 0.500793333333334*I,                          0.2278 + 0.2435*I,            -0.24872 - 0.0492600000000001*I, -0.476759999999999 + 0.00471999999999859*I],\n",
       "[   0.225446666666667 + 0.542486666666667*I,             -0.0015399999999998 - 0.5005*I,    0.227286666666666 + 0.243466666666666*I,            -0.25164 - 0.0503866666666666*I, -0.477673333333334 + 0.00438000000000005*I,                                        1.0, -0.477673333333334 - 0.00438000000000005*I,            -0.25164 + 0.0503866666666666*I,    0.227286666666666 - 0.243466666666666*I,             -0.0015399999999998 + 0.5005*I,    0.225446666666667 - 0.542486666666667*I,              -0.248633333333333 + 0.3027*I,  -0.480446666666667 - 0.0572200000000002*I,                1.0 - 0.00189333333333206*I,  -0.475406666666667 + 0.0534933333333323*I,             -0.247546666666667 - 0.30316*I,    0.227546666666665 + 0.546793333333334*I, 0.000873333333333945 - 0.500793333333334*I,                          0.2278 + 0.2435*I,            -0.24872 - 0.0492600000000001*I],\n",
       "[             -0.248633333333333 - 0.3027*I,    0.225446666666667 + 0.542486666666667*I,             -0.0015399999999998 - 0.5005*I,    0.227286666666666 + 0.243466666666666*I,            -0.25164 - 0.0503866666666666*I, -0.477673333333334 + 0.00438000000000005*I,                                        1.0, -0.477673333333334 - 0.00438000000000005*I,            -0.25164 + 0.0503866666666666*I,    0.227286666666666 - 0.243466666666666*I,             -0.0015399999999998 + 0.5005*I,    0.225446666666667 - 0.542486666666667*I,              -0.248633333333333 + 0.3027*I,  -0.480446666666667 - 0.0572200000000002*I,                1.0 - 0.00189333333333206*I,  -0.475406666666667 + 0.0534933333333323*I,             -0.247546666666667 - 0.30316*I,    0.227546666666665 + 0.546793333333334*I, 0.000873333333333945 - 0.500793333333334*I,                          0.2278 + 0.2435*I],\n",
       "[ -0.480446666666667 + 0.0572200000000002*I,              -0.248633333333333 - 0.3027*I,    0.225446666666667 + 0.542486666666667*I,             -0.0015399999999998 - 0.5005*I,    0.227286666666666 + 0.243466666666666*I,            -0.25164 - 0.0503866666666666*I, -0.477673333333334 + 0.00438000000000005*I,                                        1.0, -0.477673333333334 - 0.00438000000000005*I,            -0.25164 + 0.0503866666666666*I,    0.227286666666666 - 0.243466666666666*I,             -0.0015399999999998 + 0.5005*I,    0.225446666666667 - 0.542486666666667*I,              -0.248633333333333 + 0.3027*I,  -0.480446666666667 - 0.0572200000000002*I,                1.0 - 0.00189333333333206*I,  -0.475406666666667 + 0.0534933333333323*I,             -0.247546666666667 - 0.30316*I,    0.227546666666665 + 0.546793333333334*I, 0.000873333333333945 - 0.500793333333334*I],\n",
       "[               1.0 + 0.00189333333333206*I,  -0.480446666666667 + 0.0572200000000002*I,              -0.248633333333333 - 0.3027*I,    0.225446666666667 + 0.542486666666667*I,             -0.0015399999999998 - 0.5005*I,    0.227286666666666 + 0.243466666666666*I,            -0.25164 - 0.0503866666666666*I, -0.477673333333334 + 0.00438000000000005*I,                                        1.0, -0.477673333333334 - 0.00438000000000005*I,            -0.25164 + 0.0503866666666666*I,    0.227286666666666 - 0.243466666666666*I,             -0.0015399999999998 + 0.5005*I,    0.225446666666667 - 0.542486666666667*I,              -0.248633333333333 + 0.3027*I,  -0.480446666666667 - 0.0572200000000002*I,                1.0 - 0.00189333333333206*I,  -0.475406666666667 + 0.0534933333333323*I,             -0.247546666666667 - 0.30316*I,    0.227546666666665 + 0.546793333333334*I],\n",
       "[ -0.475406666666667 - 0.0534933333333323*I,                1.0 + 0.00189333333333206*I,  -0.480446666666667 + 0.0572200000000002*I,              -0.248633333333333 - 0.3027*I,    0.225446666666667 + 0.542486666666667*I,             -0.0015399999999998 - 0.5005*I,    0.227286666666666 + 0.243466666666666*I,            -0.25164 - 0.0503866666666666*I, -0.477673333333334 + 0.00438000000000005*I,                                        1.0, -0.477673333333334 - 0.00438000000000005*I,            -0.25164 + 0.0503866666666666*I,    0.227286666666666 - 0.243466666666666*I,             -0.0015399999999998 + 0.5005*I,    0.225446666666667 - 0.542486666666667*I,              -0.248633333333333 + 0.3027*I,  -0.480446666666667 - 0.0572200000000002*I,                1.0 - 0.00189333333333206*I,  -0.475406666666667 + 0.0534933333333323*I,             -0.247546666666667 - 0.30316*I],\n",
       "[            -0.247546666666667 + 0.30316*I,  -0.475406666666667 - 0.0534933333333323*I,                1.0 + 0.00189333333333206*I,  -0.480446666666667 + 0.0572200000000002*I,              -0.248633333333333 - 0.3027*I,    0.225446666666667 + 0.542486666666667*I,             -0.0015399999999998 - 0.5005*I,    0.227286666666666 + 0.243466666666666*I,            -0.25164 - 0.0503866666666666*I, -0.477673333333334 + 0.00438000000000005*I,                                        1.0, -0.477673333333334 - 0.00438000000000005*I,            -0.25164 + 0.0503866666666666*I,    0.227286666666666 - 0.243466666666666*I,             -0.0015399999999998 + 0.5005*I,    0.225446666666667 - 0.542486666666667*I,              -0.248633333333333 + 0.3027*I,  -0.480446666666667 - 0.0572200000000002*I,                1.0 - 0.00189333333333206*I,  -0.475406666666667 + 0.0534933333333323*I],\n",
       "[   0.227546666666665 - 0.546793333333334*I,             -0.247546666666667 + 0.30316*I,  -0.475406666666667 - 0.0534933333333323*I,                1.0 + 0.00189333333333206*I,  -0.480446666666667 + 0.0572200000000002*I,              -0.248633333333333 - 0.3027*I,    0.225446666666667 + 0.542486666666667*I,             -0.0015399999999998 - 0.5005*I,    0.227286666666666 + 0.243466666666666*I,            -0.25164 - 0.0503866666666666*I, -0.477673333333334 + 0.00438000000000005*I,                                        1.0, -0.477673333333334 - 0.00438000000000005*I,            -0.25164 + 0.0503866666666666*I,    0.227286666666666 - 0.243466666666666*I,             -0.0015399999999998 + 0.5005*I,    0.225446666666667 - 0.542486666666667*I,              -0.248633333333333 + 0.3027*I,  -0.480446666666667 - 0.0572200000000002*I,                1.0 - 0.00189333333333206*I],\n",
       "[0.000873333333333945 + 0.500793333333334*I,    0.227546666666665 - 0.546793333333334*I,             -0.247546666666667 + 0.30316*I,  -0.475406666666667 - 0.0534933333333323*I,                1.0 + 0.00189333333333206*I,  -0.480446666666667 + 0.0572200000000002*I,              -0.248633333333333 - 0.3027*I,    0.225446666666667 + 0.542486666666667*I,             -0.0015399999999998 - 0.5005*I,    0.227286666666666 + 0.243466666666666*I,            -0.25164 - 0.0503866666666666*I, -0.477673333333334 + 0.00438000000000005*I,                                        1.0, -0.477673333333334 - 0.00438000000000005*I,            -0.25164 + 0.0503866666666666*I,    0.227286666666666 - 0.243466666666666*I,             -0.0015399999999998 + 0.5005*I,    0.225446666666667 - 0.542486666666667*I,              -0.248633333333333 + 0.3027*I,  -0.480446666666667 - 0.0572200000000002*I],\n",
       "[                         0.2278 - 0.2435*I, 0.000873333333333945 + 0.500793333333334*I,    0.227546666666665 - 0.546793333333334*I,             -0.247546666666667 + 0.30316*I,  -0.475406666666667 - 0.0534933333333323*I,                1.0 + 0.00189333333333206*I,  -0.480446666666667 + 0.0572200000000002*I,              -0.248633333333333 - 0.3027*I,    0.225446666666667 + 0.542486666666667*I,             -0.0015399999999998 - 0.5005*I,    0.227286666666666 + 0.243466666666666*I,            -0.25164 - 0.0503866666666666*I, -0.477673333333334 + 0.00438000000000005*I,                                        1.0, -0.477673333333334 - 0.00438000000000005*I,            -0.25164 + 0.0503866666666666*I,    0.227286666666666 - 0.243466666666666*I,             -0.0015399999999998 + 0.5005*I,    0.225446666666667 - 0.542486666666667*I,              -0.248633333333333 + 0.3027*I],\n",
       "[           -0.24872 + 0.0492600000000001*I,                          0.2278 - 0.2435*I, 0.000873333333333945 + 0.500793333333334*I,    0.227546666666665 - 0.546793333333334*I,             -0.247546666666667 + 0.30316*I,  -0.475406666666667 - 0.0534933333333323*I,                1.0 + 0.00189333333333206*I,  -0.480446666666667 + 0.0572200000000002*I,              -0.248633333333333 - 0.3027*I,    0.225446666666667 + 0.542486666666667*I,             -0.0015399999999998 - 0.5005*I,    0.227286666666666 + 0.243466666666666*I,            -0.25164 - 0.0503866666666666*I, -0.477673333333334 + 0.00438000000000005*I,                                        1.0, -0.477673333333334 - 0.00438000000000005*I,            -0.25164 + 0.0503866666666666*I,    0.227286666666666 - 0.243466666666666*I,             -0.0015399999999998 + 0.5005*I,    0.225446666666667 - 0.542486666666667*I],\n",
       "[-0.476759999999999 - 0.00471999999999859*I,            -0.24872 + 0.0492600000000001*I,                          0.2278 - 0.2435*I, 0.000873333333333945 + 0.500793333333334*I,    0.227546666666665 - 0.546793333333334*I,             -0.247546666666667 + 0.30316*I,  -0.475406666666667 - 0.0534933333333323*I,                1.0 + 0.00189333333333206*I,  -0.480446666666667 + 0.0572200000000002*I,              -0.248633333333333 - 0.3027*I,    0.225446666666667 + 0.542486666666667*I,             -0.0015399999999998 - 0.5005*I,    0.227286666666666 + 0.243466666666666*I,            -0.25164 - 0.0503866666666666*I, -0.477673333333334 + 0.00438000000000005*I,                                        1.0, -0.477673333333334 - 0.00438000000000005*I,            -0.25164 + 0.0503866666666666*I,    0.227286666666666 - 0.243466666666666*I,             -0.0015399999999998 + 0.5005*I],\n",
       "[               1.0 + 0.00365999999999902*I, -0.476759999999999 - 0.00471999999999859*I,            -0.24872 + 0.0492600000000001*I,                          0.2278 - 0.2435*I, 0.000873333333333945 + 0.500793333333334*I,    0.227546666666665 - 0.546793333333334*I,             -0.247546666666667 + 0.30316*I,  -0.475406666666667 - 0.0534933333333323*I,                1.0 + 0.00189333333333206*I,  -0.480446666666667 + 0.0572200000000002*I,              -0.248633333333333 - 0.3027*I,    0.225446666666667 + 0.542486666666667*I,             -0.0015399999999998 - 0.5005*I,    0.227286666666666 + 0.243466666666666*I,            -0.25164 - 0.0503866666666666*I, -0.477673333333334 + 0.00438000000000005*I,                                        1.0, -0.477673333333334 - 0.00438000000000005*I,            -0.25164 + 0.0503866666666666*I,    0.227286666666666 - 0.243466666666666*I],\n",
       "[-0.477760000000001 + 0.00103333333333287*I,                1.0 + 0.00365999999999902*I, -0.476759999999999 - 0.00471999999999859*I,            -0.24872 + 0.0492600000000001*I,                          0.2278 - 0.2435*I, 0.000873333333333945 + 0.500793333333334*I,    0.227546666666665 - 0.546793333333334*I,             -0.247546666666667 + 0.30316*I,  -0.475406666666667 - 0.0534933333333323*I,                1.0 + 0.00189333333333206*I,  -0.480446666666667 + 0.0572200000000002*I,              -0.248633333333333 - 0.3027*I,    0.225446666666667 + 0.542486666666667*I,             -0.0015399999999998 - 0.5005*I,    0.227286666666666 + 0.243466666666666*I,            -0.25164 - 0.0503866666666666*I, -0.477673333333334 + 0.00438000000000005*I,                                        1.0, -0.477673333333334 - 0.00438000000000005*I,            -0.25164 + 0.0503866666666666*I],\n",
       "[           -0.25362 - 0.0517399999999997*I, -0.477760000000001 + 0.00103333333333287*I,                1.0 + 0.00365999999999902*I, -0.476759999999999 - 0.00471999999999859*I,            -0.24872 + 0.0492600000000001*I,                          0.2278 - 0.2435*I, 0.000873333333333945 + 0.500793333333334*I,    0.227546666666665 - 0.546793333333334*I,             -0.247546666666667 + 0.30316*I,  -0.475406666666667 - 0.0534933333333323*I,                1.0 + 0.00189333333333206*I,  -0.480446666666667 + 0.0572200000000002*I,              -0.248633333333333 - 0.3027*I,    0.225446666666667 + 0.542486666666667*I,             -0.0015399999999998 - 0.5005*I,    0.227286666666666 + 0.243466666666666*I,            -0.25164 - 0.0503866666666666*I, -0.477673333333334 + 0.00438000000000005*I,                                        1.0, -0.477673333333334 - 0.00438000000000005*I],\n",
       "[   0.227706666666667 + 0.243793333333333*I,            -0.25362 - 0.0517399999999997*I, -0.477760000000001 + 0.00103333333333287*I,                1.0 + 0.00365999999999902*I, -0.476759999999999 - 0.00471999999999859*I,            -0.24872 + 0.0492600000000001*I,                          0.2278 - 0.2435*I, 0.000873333333333945 + 0.500793333333334*I,    0.227546666666665 - 0.546793333333334*I,             -0.247546666666667 + 0.30316*I,  -0.475406666666667 - 0.0534933333333323*I,                1.0 + 0.00189333333333206*I,  -0.480446666666667 + 0.0572200000000002*I,              -0.248633333333333 - 0.3027*I,    0.225446666666667 + 0.542486666666667*I,             -0.0015399999999998 - 0.5005*I,    0.227286666666666 + 0.243466666666666*I,            -0.25164 - 0.0503866666666666*I, -0.477673333333334 + 0.00438000000000005*I,                                        1.0]])"
      ]
     },
     "execution_count": 21,
     "metadata": {},
     "output_type": "execute_result"
    }
   ],
   "source": [
    "from sympy import Matrix\n",
    "Matrix(S_circ)"
   ]
  },
  {
   "cell_type": "markdown",
   "metadata": {},
   "source": [
    "And the matrix elements of $\\tilde{H}$"
   ]
  },
  {
   "cell_type": "code",
   "execution_count": 22,
   "metadata": {},
   "outputs": [],
   "source": [
    "import itertools\n",
    "# Assemble S, the overlap matrix of dimension D:\n",
    "H_first_row = np.zeros(krylov_dim, dtype=complex)\n",
    "H_first_row[0] = H_expval\n",
    "\n",
    "for obs_idx, (pauli, coeff) in enumerate(zip(H_op.paulis, H_op.coeffs)):\n",
    "    # Add in ancilla-only measurements:\n",
    "    for i in range(krylov_dim-1):\n",
    "\n",
    "        # Get expectation values from experiment\n",
    "        expval_real = H_real_results.data.evs[obs_idx][i]\n",
    "        expval_imag = H_imag_results.data.evs[obs_idx][i]\n",
    "\n",
    "        # Get expectation values\n",
    "        expval = expval_real + 1j*expval_imag\n",
    "        # Get the coefficients and expectation values corresponding to actual terms in the Hamiltonian (as opposed to the ancilla-only measurements).\n",
    "        H_first_row[i+1] += prefactors[i]*coeff*expval\n",
    "        \n",
    "H_first_row_list = H_first_row.tolist()           \n",
    "            \n",
    "H_eff_circ = np.zeros((krylov_dim, krylov_dim), dtype=complex)\n",
    "\n",
    "# Distribute entries from first row across matrix:\n",
    "for i,j in itertools.product(range(krylov_dim),repeat=2):\n",
    "    if i >= j:\n",
    "        H_eff_circ[j,i] = H_first_row[i-j]\n",
    "    else:\n",
    "        H_eff_circ[j,i] = np.conj(H_first_row[j-i])\n",
    "\n",
    "\n",
    "\n"
   ]
  },
  {
   "cell_type": "code",
   "execution_count": 23,
   "metadata": {},
   "outputs": [
    {
     "data": {
      "text/latex": [
       "$\\displaystyle \\left[\\begin{array}{cccccccccccccccccccc}0 & 0.0500999999999998 + 2.25077333333333 i & -0.504933333333333 - 1.20433333333333 i & 1.45963333333333 - 0.622086666666666 i & -1.99913333333333 - 0.000453333333332531 i & 1.45531333333333 + 1.16198666666667 i & -0.502806666666666 - 0.206233333333333 i & 0.0497066666666672 - 0.948806666666667 i & 0.00812666666666667 - 0.00183999999999999 i & 0.0382333333333312 + 0.956893333333334 i & -0.509086666666667 + 0.201786666666666 i & 1.45353333333334 - 1.16558666666666 i & -2.00026666666667 - 0.00270000000000244 i & 1.4576 + 0.628373333333333 i & -0.497886666666667 + 1.2063 i & 0.0471600000000066 - 2.26101333333333 i & 0.00259333333333334 - 0.00216 i & 0.0361266666666688 + 2.26101333333334 i & -0.499266666666665 - 1.21808666666667 i & 1.45291333333334 - 0.625526666666663 i\\\\0.0500999999999998 - 2.25077333333333 i & 0 & 0.0500999999999998 + 2.25077333333333 i & -0.504933333333333 - 1.20433333333333 i & 1.45963333333333 - 0.622086666666666 i & -1.99913333333333 - 0.000453333333332531 i & 1.45531333333333 + 1.16198666666667 i & -0.502806666666666 - 0.206233333333333 i & 0.0497066666666672 - 0.948806666666667 i & 0.00812666666666667 - 0.00183999999999999 i & 0.0382333333333312 + 0.956893333333334 i & -0.509086666666667 + 0.201786666666666 i & 1.45353333333334 - 1.16558666666666 i & -2.00026666666667 - 0.00270000000000244 i & 1.4576 + 0.628373333333333 i & -0.497886666666667 + 1.2063 i & 0.0471600000000066 - 2.26101333333333 i & 0.00259333333333334 - 0.00216 i & 0.0361266666666688 + 2.26101333333334 i & -0.499266666666665 - 1.21808666666667 i\\\\-0.504933333333333 + 1.20433333333333 i & 0.0500999999999998 - 2.25077333333333 i & 0 & 0.0500999999999998 + 2.25077333333333 i & -0.504933333333333 - 1.20433333333333 i & 1.45963333333333 - 0.622086666666666 i & -1.99913333333333 - 0.000453333333332531 i & 1.45531333333333 + 1.16198666666667 i & -0.502806666666666 - 0.206233333333333 i & 0.0497066666666672 - 0.948806666666667 i & 0.00812666666666667 - 0.00183999999999999 i & 0.0382333333333312 + 0.956893333333334 i & -0.509086666666667 + 0.201786666666666 i & 1.45353333333334 - 1.16558666666666 i & -2.00026666666667 - 0.00270000000000244 i & 1.4576 + 0.628373333333333 i & -0.497886666666667 + 1.2063 i & 0.0471600000000066 - 2.26101333333333 i & 0.00259333333333334 - 0.00216 i & 0.0361266666666688 + 2.26101333333334 i\\\\1.45963333333333 + 0.622086666666666 i & -0.504933333333333 + 1.20433333333333 i & 0.0500999999999998 - 2.25077333333333 i & 0 & 0.0500999999999998 + 2.25077333333333 i & -0.504933333333333 - 1.20433333333333 i & 1.45963333333333 - 0.622086666666666 i & -1.99913333333333 - 0.000453333333332531 i & 1.45531333333333 + 1.16198666666667 i & -0.502806666666666 - 0.206233333333333 i & 0.0497066666666672 - 0.948806666666667 i & 0.00812666666666667 - 0.00183999999999999 i & 0.0382333333333312 + 0.956893333333334 i & -0.509086666666667 + 0.201786666666666 i & 1.45353333333334 - 1.16558666666666 i & -2.00026666666667 - 0.00270000000000244 i & 1.4576 + 0.628373333333333 i & -0.497886666666667 + 1.2063 i & 0.0471600000000066 - 2.26101333333333 i & 0.00259333333333334 - 0.00216 i\\\\-1.99913333333333 + 0.000453333333332531 i & 1.45963333333333 + 0.622086666666666 i & -0.504933333333333 + 1.20433333333333 i & 0.0500999999999998 - 2.25077333333333 i & 0 & 0.0500999999999998 + 2.25077333333333 i & -0.504933333333333 - 1.20433333333333 i & 1.45963333333333 - 0.622086666666666 i & -1.99913333333333 - 0.000453333333332531 i & 1.45531333333333 + 1.16198666666667 i & -0.502806666666666 - 0.206233333333333 i & 0.0497066666666672 - 0.948806666666667 i & 0.00812666666666667 - 0.00183999999999999 i & 0.0382333333333312 + 0.956893333333334 i & -0.509086666666667 + 0.201786666666666 i & 1.45353333333334 - 1.16558666666666 i & -2.00026666666667 - 0.00270000000000244 i & 1.4576 + 0.628373333333333 i & -0.497886666666667 + 1.2063 i & 0.0471600000000066 - 2.26101333333333 i\\\\1.45531333333333 - 1.16198666666667 i & -1.99913333333333 + 0.000453333333332531 i & 1.45963333333333 + 0.622086666666666 i & -0.504933333333333 + 1.20433333333333 i & 0.0500999999999998 - 2.25077333333333 i & 0 & 0.0500999999999998 + 2.25077333333333 i & -0.504933333333333 - 1.20433333333333 i & 1.45963333333333 - 0.622086666666666 i & -1.99913333333333 - 0.000453333333332531 i & 1.45531333333333 + 1.16198666666667 i & -0.502806666666666 - 0.206233333333333 i & 0.0497066666666672 - 0.948806666666667 i & 0.00812666666666667 - 0.00183999999999999 i & 0.0382333333333312 + 0.956893333333334 i & -0.509086666666667 + 0.201786666666666 i & 1.45353333333334 - 1.16558666666666 i & -2.00026666666667 - 0.00270000000000244 i & 1.4576 + 0.628373333333333 i & -0.497886666666667 + 1.2063 i\\\\-0.502806666666666 + 0.206233333333333 i & 1.45531333333333 - 1.16198666666667 i & -1.99913333333333 + 0.000453333333332531 i & 1.45963333333333 + 0.622086666666666 i & -0.504933333333333 + 1.20433333333333 i & 0.0500999999999998 - 2.25077333333333 i & 0 & 0.0500999999999998 + 2.25077333333333 i & -0.504933333333333 - 1.20433333333333 i & 1.45963333333333 - 0.622086666666666 i & -1.99913333333333 - 0.000453333333332531 i & 1.45531333333333 + 1.16198666666667 i & -0.502806666666666 - 0.206233333333333 i & 0.0497066666666672 - 0.948806666666667 i & 0.00812666666666667 - 0.00183999999999999 i & 0.0382333333333312 + 0.956893333333334 i & -0.509086666666667 + 0.201786666666666 i & 1.45353333333334 - 1.16558666666666 i & -2.00026666666667 - 0.00270000000000244 i & 1.4576 + 0.628373333333333 i\\\\0.0497066666666672 + 0.948806666666667 i & -0.502806666666666 + 0.206233333333333 i & 1.45531333333333 - 1.16198666666667 i & -1.99913333333333 + 0.000453333333332531 i & 1.45963333333333 + 0.622086666666666 i & -0.504933333333333 + 1.20433333333333 i & 0.0500999999999998 - 2.25077333333333 i & 0 & 0.0500999999999998 + 2.25077333333333 i & -0.504933333333333 - 1.20433333333333 i & 1.45963333333333 - 0.622086666666666 i & -1.99913333333333 - 0.000453333333332531 i & 1.45531333333333 + 1.16198666666667 i & -0.502806666666666 - 0.206233333333333 i & 0.0497066666666672 - 0.948806666666667 i & 0.00812666666666667 - 0.00183999999999999 i & 0.0382333333333312 + 0.956893333333334 i & -0.509086666666667 + 0.201786666666666 i & 1.45353333333334 - 1.16558666666666 i & -2.00026666666667 - 0.00270000000000244 i\\\\0.00812666666666667 + 0.00183999999999999 i & 0.0497066666666672 + 0.948806666666667 i & -0.502806666666666 + 0.206233333333333 i & 1.45531333333333 - 1.16198666666667 i & -1.99913333333333 + 0.000453333333332531 i & 1.45963333333333 + 0.622086666666666 i & -0.504933333333333 + 1.20433333333333 i & 0.0500999999999998 - 2.25077333333333 i & 0 & 0.0500999999999998 + 2.25077333333333 i & -0.504933333333333 - 1.20433333333333 i & 1.45963333333333 - 0.622086666666666 i & -1.99913333333333 - 0.000453333333332531 i & 1.45531333333333 + 1.16198666666667 i & -0.502806666666666 - 0.206233333333333 i & 0.0497066666666672 - 0.948806666666667 i & 0.00812666666666667 - 0.00183999999999999 i & 0.0382333333333312 + 0.956893333333334 i & -0.509086666666667 + 0.201786666666666 i & 1.45353333333334 - 1.16558666666666 i\\\\0.0382333333333312 - 0.956893333333334 i & 0.00812666666666667 + 0.00183999999999999 i & 0.0497066666666672 + 0.948806666666667 i & -0.502806666666666 + 0.206233333333333 i & 1.45531333333333 - 1.16198666666667 i & -1.99913333333333 + 0.000453333333332531 i & 1.45963333333333 + 0.622086666666666 i & -0.504933333333333 + 1.20433333333333 i & 0.0500999999999998 - 2.25077333333333 i & 0 & 0.0500999999999998 + 2.25077333333333 i & -0.504933333333333 - 1.20433333333333 i & 1.45963333333333 - 0.622086666666666 i & -1.99913333333333 - 0.000453333333332531 i & 1.45531333333333 + 1.16198666666667 i & -0.502806666666666 - 0.206233333333333 i & 0.0497066666666672 - 0.948806666666667 i & 0.00812666666666667 - 0.00183999999999999 i & 0.0382333333333312 + 0.956893333333334 i & -0.509086666666667 + 0.201786666666666 i\\\\-0.509086666666667 - 0.201786666666666 i & 0.0382333333333312 - 0.956893333333334 i & 0.00812666666666667 + 0.00183999999999999 i & 0.0497066666666672 + 0.948806666666667 i & -0.502806666666666 + 0.206233333333333 i & 1.45531333333333 - 1.16198666666667 i & -1.99913333333333 + 0.000453333333332531 i & 1.45963333333333 + 0.622086666666666 i & -0.504933333333333 + 1.20433333333333 i & 0.0500999999999998 - 2.25077333333333 i & 0 & 0.0500999999999998 + 2.25077333333333 i & -0.504933333333333 - 1.20433333333333 i & 1.45963333333333 - 0.622086666666666 i & -1.99913333333333 - 0.000453333333332531 i & 1.45531333333333 + 1.16198666666667 i & -0.502806666666666 - 0.206233333333333 i & 0.0497066666666672 - 0.948806666666667 i & 0.00812666666666667 - 0.00183999999999999 i & 0.0382333333333312 + 0.956893333333334 i\\\\1.45353333333334 + 1.16558666666666 i & -0.509086666666667 - 0.201786666666666 i & 0.0382333333333312 - 0.956893333333334 i & 0.00812666666666667 + 0.00183999999999999 i & 0.0497066666666672 + 0.948806666666667 i & -0.502806666666666 + 0.206233333333333 i & 1.45531333333333 - 1.16198666666667 i & -1.99913333333333 + 0.000453333333332531 i & 1.45963333333333 + 0.622086666666666 i & -0.504933333333333 + 1.20433333333333 i & 0.0500999999999998 - 2.25077333333333 i & 0 & 0.0500999999999998 + 2.25077333333333 i & -0.504933333333333 - 1.20433333333333 i & 1.45963333333333 - 0.622086666666666 i & -1.99913333333333 - 0.000453333333332531 i & 1.45531333333333 + 1.16198666666667 i & -0.502806666666666 - 0.206233333333333 i & 0.0497066666666672 - 0.948806666666667 i & 0.00812666666666667 - 0.00183999999999999 i\\\\-2.00026666666667 + 0.00270000000000244 i & 1.45353333333334 + 1.16558666666666 i & -0.509086666666667 - 0.201786666666666 i & 0.0382333333333312 - 0.956893333333334 i & 0.00812666666666667 + 0.00183999999999999 i & 0.0497066666666672 + 0.948806666666667 i & -0.502806666666666 + 0.206233333333333 i & 1.45531333333333 - 1.16198666666667 i & -1.99913333333333 + 0.000453333333332531 i & 1.45963333333333 + 0.622086666666666 i & -0.504933333333333 + 1.20433333333333 i & 0.0500999999999998 - 2.25077333333333 i & 0 & 0.0500999999999998 + 2.25077333333333 i & -0.504933333333333 - 1.20433333333333 i & 1.45963333333333 - 0.622086666666666 i & -1.99913333333333 - 0.000453333333332531 i & 1.45531333333333 + 1.16198666666667 i & -0.502806666666666 - 0.206233333333333 i & 0.0497066666666672 - 0.948806666666667 i\\\\1.4576 - 0.628373333333333 i & -2.00026666666667 + 0.00270000000000244 i & 1.45353333333334 + 1.16558666666666 i & -0.509086666666667 - 0.201786666666666 i & 0.0382333333333312 - 0.956893333333334 i & 0.00812666666666667 + 0.00183999999999999 i & 0.0497066666666672 + 0.948806666666667 i & -0.502806666666666 + 0.206233333333333 i & 1.45531333333333 - 1.16198666666667 i & -1.99913333333333 + 0.000453333333332531 i & 1.45963333333333 + 0.622086666666666 i & -0.504933333333333 + 1.20433333333333 i & 0.0500999999999998 - 2.25077333333333 i & 0 & 0.0500999999999998 + 2.25077333333333 i & -0.504933333333333 - 1.20433333333333 i & 1.45963333333333 - 0.622086666666666 i & -1.99913333333333 - 0.000453333333332531 i & 1.45531333333333 + 1.16198666666667 i & -0.502806666666666 - 0.206233333333333 i\\\\-0.497886666666667 - 1.2063 i & 1.4576 - 0.628373333333333 i & -2.00026666666667 + 0.00270000000000244 i & 1.45353333333334 + 1.16558666666666 i & -0.509086666666667 - 0.201786666666666 i & 0.0382333333333312 - 0.956893333333334 i & 0.00812666666666667 + 0.00183999999999999 i & 0.0497066666666672 + 0.948806666666667 i & -0.502806666666666 + 0.206233333333333 i & 1.45531333333333 - 1.16198666666667 i & -1.99913333333333 + 0.000453333333332531 i & 1.45963333333333 + 0.622086666666666 i & -0.504933333333333 + 1.20433333333333 i & 0.0500999999999998 - 2.25077333333333 i & 0 & 0.0500999999999998 + 2.25077333333333 i & -0.504933333333333 - 1.20433333333333 i & 1.45963333333333 - 0.622086666666666 i & -1.99913333333333 - 0.000453333333332531 i & 1.45531333333333 + 1.16198666666667 i\\\\0.0471600000000066 + 2.26101333333333 i & -0.497886666666667 - 1.2063 i & 1.4576 - 0.628373333333333 i & -2.00026666666667 + 0.00270000000000244 i & 1.45353333333334 + 1.16558666666666 i & -0.509086666666667 - 0.201786666666666 i & 0.0382333333333312 - 0.956893333333334 i & 0.00812666666666667 + 0.00183999999999999 i & 0.0497066666666672 + 0.948806666666667 i & -0.502806666666666 + 0.206233333333333 i & 1.45531333333333 - 1.16198666666667 i & -1.99913333333333 + 0.000453333333332531 i & 1.45963333333333 + 0.622086666666666 i & -0.504933333333333 + 1.20433333333333 i & 0.0500999999999998 - 2.25077333333333 i & 0 & 0.0500999999999998 + 2.25077333333333 i & -0.504933333333333 - 1.20433333333333 i & 1.45963333333333 - 0.622086666666666 i & -1.99913333333333 - 0.000453333333332531 i\\\\0.00259333333333334 + 0.00216 i & 0.0471600000000066 + 2.26101333333333 i & -0.497886666666667 - 1.2063 i & 1.4576 - 0.628373333333333 i & -2.00026666666667 + 0.00270000000000244 i & 1.45353333333334 + 1.16558666666666 i & -0.509086666666667 - 0.201786666666666 i & 0.0382333333333312 - 0.956893333333334 i & 0.00812666666666667 + 0.00183999999999999 i & 0.0497066666666672 + 0.948806666666667 i & -0.502806666666666 + 0.206233333333333 i & 1.45531333333333 - 1.16198666666667 i & -1.99913333333333 + 0.000453333333332531 i & 1.45963333333333 + 0.622086666666666 i & -0.504933333333333 + 1.20433333333333 i & 0.0500999999999998 - 2.25077333333333 i & 0 & 0.0500999999999998 + 2.25077333333333 i & -0.504933333333333 - 1.20433333333333 i & 1.45963333333333 - 0.622086666666666 i\\\\0.0361266666666688 - 2.26101333333334 i & 0.00259333333333334 + 0.00216 i & 0.0471600000000066 + 2.26101333333333 i & -0.497886666666667 - 1.2063 i & 1.4576 - 0.628373333333333 i & -2.00026666666667 + 0.00270000000000244 i & 1.45353333333334 + 1.16558666666666 i & -0.509086666666667 - 0.201786666666666 i & 0.0382333333333312 - 0.956893333333334 i & 0.00812666666666667 + 0.00183999999999999 i & 0.0497066666666672 + 0.948806666666667 i & -0.502806666666666 + 0.206233333333333 i & 1.45531333333333 - 1.16198666666667 i & -1.99913333333333 + 0.000453333333332531 i & 1.45963333333333 + 0.622086666666666 i & -0.504933333333333 + 1.20433333333333 i & 0.0500999999999998 - 2.25077333333333 i & 0 & 0.0500999999999998 + 2.25077333333333 i & -0.504933333333333 - 1.20433333333333 i\\\\-0.499266666666665 + 1.21808666666667 i & 0.0361266666666688 - 2.26101333333334 i & 0.00259333333333334 + 0.00216 i & 0.0471600000000066 + 2.26101333333333 i & -0.497886666666667 - 1.2063 i & 1.4576 - 0.628373333333333 i & -2.00026666666667 + 0.00270000000000244 i & 1.45353333333334 + 1.16558666666666 i & -0.509086666666667 - 0.201786666666666 i & 0.0382333333333312 - 0.956893333333334 i & 0.00812666666666667 + 0.00183999999999999 i & 0.0497066666666672 + 0.948806666666667 i & -0.502806666666666 + 0.206233333333333 i & 1.45531333333333 - 1.16198666666667 i & -1.99913333333333 + 0.000453333333332531 i & 1.45963333333333 + 0.622086666666666 i & -0.504933333333333 + 1.20433333333333 i & 0.0500999999999998 - 2.25077333333333 i & 0 & 0.0500999999999998 + 2.25077333333333 i\\\\1.45291333333334 + 0.625526666666663 i & -0.499266666666665 + 1.21808666666667 i & 0.0361266666666688 - 2.26101333333334 i & 0.00259333333333334 + 0.00216 i & 0.0471600000000066 + 2.26101333333333 i & -0.497886666666667 - 1.2063 i & 1.4576 - 0.628373333333333 i & -2.00026666666667 + 0.00270000000000244 i & 1.45353333333334 + 1.16558666666666 i & -0.509086666666667 - 0.201786666666666 i & 0.0382333333333312 - 0.956893333333334 i & 0.00812666666666667 + 0.00183999999999999 i & 0.0497066666666672 + 0.948806666666667 i & -0.502806666666666 + 0.206233333333333 i & 1.45531333333333 - 1.16198666666667 i & -1.99913333333333 + 0.000453333333332531 i & 1.45963333333333 + 0.622086666666666 i & -0.504933333333333 + 1.20433333333333 i & 0.0500999999999998 - 2.25077333333333 i & 0\\end{array}\\right]$"
      ],
      "text/plain": [
       "Matrix([\n",
       "[                                          0,     0.0500999999999998 + 2.25077333333333*I,     -0.504933333333333 - 1.20433333333333*I,      1.45963333333333 - 0.622086666666666*I,  -1.99913333333333 - 0.000453333333332531*I,       1.45531333333333 + 1.16198666666667*I,    -0.502806666666666 - 0.206233333333333*I,    0.0497066666666672 - 0.948806666666667*I, 0.00812666666666667 - 0.00183999999999999*I,    0.0382333333333312 + 0.956893333333334*I,    -0.509086666666667 + 0.201786666666666*I,       1.45353333333334 - 1.16558666666666*I,   -2.00026666666667 - 0.00270000000000244*I,                1.4576 + 0.628373333333333*I,               -0.497886666666667 + 1.2063*I,     0.0471600000000066 - 2.26101333333333*I,             0.00259333333333334 - 0.00216*I,     0.0361266666666688 + 2.26101333333334*I,     -0.499266666666665 - 1.21808666666667*I,      1.45291333333334 - 0.625526666666663*I],\n",
       "[    0.0500999999999998 - 2.25077333333333*I,                                           0,     0.0500999999999998 + 2.25077333333333*I,     -0.504933333333333 - 1.20433333333333*I,      1.45963333333333 - 0.622086666666666*I,  -1.99913333333333 - 0.000453333333332531*I,       1.45531333333333 + 1.16198666666667*I,    -0.502806666666666 - 0.206233333333333*I,    0.0497066666666672 - 0.948806666666667*I, 0.00812666666666667 - 0.00183999999999999*I,    0.0382333333333312 + 0.956893333333334*I,    -0.509086666666667 + 0.201786666666666*I,       1.45353333333334 - 1.16558666666666*I,   -2.00026666666667 - 0.00270000000000244*I,                1.4576 + 0.628373333333333*I,               -0.497886666666667 + 1.2063*I,     0.0471600000000066 - 2.26101333333333*I,             0.00259333333333334 - 0.00216*I,     0.0361266666666688 + 2.26101333333334*I,     -0.499266666666665 - 1.21808666666667*I],\n",
       "[    -0.504933333333333 + 1.20433333333333*I,     0.0500999999999998 - 2.25077333333333*I,                                           0,     0.0500999999999998 + 2.25077333333333*I,     -0.504933333333333 - 1.20433333333333*I,      1.45963333333333 - 0.622086666666666*I,  -1.99913333333333 - 0.000453333333332531*I,       1.45531333333333 + 1.16198666666667*I,    -0.502806666666666 - 0.206233333333333*I,    0.0497066666666672 - 0.948806666666667*I, 0.00812666666666667 - 0.00183999999999999*I,    0.0382333333333312 + 0.956893333333334*I,    -0.509086666666667 + 0.201786666666666*I,       1.45353333333334 - 1.16558666666666*I,   -2.00026666666667 - 0.00270000000000244*I,                1.4576 + 0.628373333333333*I,               -0.497886666666667 + 1.2063*I,     0.0471600000000066 - 2.26101333333333*I,             0.00259333333333334 - 0.00216*I,     0.0361266666666688 + 2.26101333333334*I],\n",
       "[     1.45963333333333 + 0.622086666666666*I,     -0.504933333333333 + 1.20433333333333*I,     0.0500999999999998 - 2.25077333333333*I,                                           0,     0.0500999999999998 + 2.25077333333333*I,     -0.504933333333333 - 1.20433333333333*I,      1.45963333333333 - 0.622086666666666*I,  -1.99913333333333 - 0.000453333333332531*I,       1.45531333333333 + 1.16198666666667*I,    -0.502806666666666 - 0.206233333333333*I,    0.0497066666666672 - 0.948806666666667*I, 0.00812666666666667 - 0.00183999999999999*I,    0.0382333333333312 + 0.956893333333334*I,    -0.509086666666667 + 0.201786666666666*I,       1.45353333333334 - 1.16558666666666*I,   -2.00026666666667 - 0.00270000000000244*I,                1.4576 + 0.628373333333333*I,               -0.497886666666667 + 1.2063*I,     0.0471600000000066 - 2.26101333333333*I,             0.00259333333333334 - 0.00216*I],\n",
       "[ -1.99913333333333 + 0.000453333333332531*I,      1.45963333333333 + 0.622086666666666*I,     -0.504933333333333 + 1.20433333333333*I,     0.0500999999999998 - 2.25077333333333*I,                                           0,     0.0500999999999998 + 2.25077333333333*I,     -0.504933333333333 - 1.20433333333333*I,      1.45963333333333 - 0.622086666666666*I,  -1.99913333333333 - 0.000453333333332531*I,       1.45531333333333 + 1.16198666666667*I,    -0.502806666666666 - 0.206233333333333*I,    0.0497066666666672 - 0.948806666666667*I, 0.00812666666666667 - 0.00183999999999999*I,    0.0382333333333312 + 0.956893333333334*I,    -0.509086666666667 + 0.201786666666666*I,       1.45353333333334 - 1.16558666666666*I,   -2.00026666666667 - 0.00270000000000244*I,                1.4576 + 0.628373333333333*I,               -0.497886666666667 + 1.2063*I,     0.0471600000000066 - 2.26101333333333*I],\n",
       "[      1.45531333333333 - 1.16198666666667*I,  -1.99913333333333 + 0.000453333333332531*I,      1.45963333333333 + 0.622086666666666*I,     -0.504933333333333 + 1.20433333333333*I,     0.0500999999999998 - 2.25077333333333*I,                                           0,     0.0500999999999998 + 2.25077333333333*I,     -0.504933333333333 - 1.20433333333333*I,      1.45963333333333 - 0.622086666666666*I,  -1.99913333333333 - 0.000453333333332531*I,       1.45531333333333 + 1.16198666666667*I,    -0.502806666666666 - 0.206233333333333*I,    0.0497066666666672 - 0.948806666666667*I, 0.00812666666666667 - 0.00183999999999999*I,    0.0382333333333312 + 0.956893333333334*I,    -0.509086666666667 + 0.201786666666666*I,       1.45353333333334 - 1.16558666666666*I,   -2.00026666666667 - 0.00270000000000244*I,                1.4576 + 0.628373333333333*I,               -0.497886666666667 + 1.2063*I],\n",
       "[   -0.502806666666666 + 0.206233333333333*I,       1.45531333333333 - 1.16198666666667*I,  -1.99913333333333 + 0.000453333333332531*I,      1.45963333333333 + 0.622086666666666*I,     -0.504933333333333 + 1.20433333333333*I,     0.0500999999999998 - 2.25077333333333*I,                                           0,     0.0500999999999998 + 2.25077333333333*I,     -0.504933333333333 - 1.20433333333333*I,      1.45963333333333 - 0.622086666666666*I,  -1.99913333333333 - 0.000453333333332531*I,       1.45531333333333 + 1.16198666666667*I,    -0.502806666666666 - 0.206233333333333*I,    0.0497066666666672 - 0.948806666666667*I, 0.00812666666666667 - 0.00183999999999999*I,    0.0382333333333312 + 0.956893333333334*I,    -0.509086666666667 + 0.201786666666666*I,       1.45353333333334 - 1.16558666666666*I,   -2.00026666666667 - 0.00270000000000244*I,                1.4576 + 0.628373333333333*I],\n",
       "[   0.0497066666666672 + 0.948806666666667*I,    -0.502806666666666 + 0.206233333333333*I,       1.45531333333333 - 1.16198666666667*I,  -1.99913333333333 + 0.000453333333332531*I,      1.45963333333333 + 0.622086666666666*I,     -0.504933333333333 + 1.20433333333333*I,     0.0500999999999998 - 2.25077333333333*I,                                           0,     0.0500999999999998 + 2.25077333333333*I,     -0.504933333333333 - 1.20433333333333*I,      1.45963333333333 - 0.622086666666666*I,  -1.99913333333333 - 0.000453333333332531*I,       1.45531333333333 + 1.16198666666667*I,    -0.502806666666666 - 0.206233333333333*I,    0.0497066666666672 - 0.948806666666667*I, 0.00812666666666667 - 0.00183999999999999*I,    0.0382333333333312 + 0.956893333333334*I,    -0.509086666666667 + 0.201786666666666*I,       1.45353333333334 - 1.16558666666666*I,   -2.00026666666667 - 0.00270000000000244*I],\n",
       "[0.00812666666666667 + 0.00183999999999999*I,    0.0497066666666672 + 0.948806666666667*I,    -0.502806666666666 + 0.206233333333333*I,       1.45531333333333 - 1.16198666666667*I,  -1.99913333333333 + 0.000453333333332531*I,      1.45963333333333 + 0.622086666666666*I,     -0.504933333333333 + 1.20433333333333*I,     0.0500999999999998 - 2.25077333333333*I,                                           0,     0.0500999999999998 + 2.25077333333333*I,     -0.504933333333333 - 1.20433333333333*I,      1.45963333333333 - 0.622086666666666*I,  -1.99913333333333 - 0.000453333333332531*I,       1.45531333333333 + 1.16198666666667*I,    -0.502806666666666 - 0.206233333333333*I,    0.0497066666666672 - 0.948806666666667*I, 0.00812666666666667 - 0.00183999999999999*I,    0.0382333333333312 + 0.956893333333334*I,    -0.509086666666667 + 0.201786666666666*I,       1.45353333333334 - 1.16558666666666*I],\n",
       "[   0.0382333333333312 - 0.956893333333334*I, 0.00812666666666667 + 0.00183999999999999*I,    0.0497066666666672 + 0.948806666666667*I,    -0.502806666666666 + 0.206233333333333*I,       1.45531333333333 - 1.16198666666667*I,  -1.99913333333333 + 0.000453333333332531*I,      1.45963333333333 + 0.622086666666666*I,     -0.504933333333333 + 1.20433333333333*I,     0.0500999999999998 - 2.25077333333333*I,                                           0,     0.0500999999999998 + 2.25077333333333*I,     -0.504933333333333 - 1.20433333333333*I,      1.45963333333333 - 0.622086666666666*I,  -1.99913333333333 - 0.000453333333332531*I,       1.45531333333333 + 1.16198666666667*I,    -0.502806666666666 - 0.206233333333333*I,    0.0497066666666672 - 0.948806666666667*I, 0.00812666666666667 - 0.00183999999999999*I,    0.0382333333333312 + 0.956893333333334*I,    -0.509086666666667 + 0.201786666666666*I],\n",
       "[   -0.509086666666667 - 0.201786666666666*I,    0.0382333333333312 - 0.956893333333334*I, 0.00812666666666667 + 0.00183999999999999*I,    0.0497066666666672 + 0.948806666666667*I,    -0.502806666666666 + 0.206233333333333*I,       1.45531333333333 - 1.16198666666667*I,  -1.99913333333333 + 0.000453333333332531*I,      1.45963333333333 + 0.622086666666666*I,     -0.504933333333333 + 1.20433333333333*I,     0.0500999999999998 - 2.25077333333333*I,                                           0,     0.0500999999999998 + 2.25077333333333*I,     -0.504933333333333 - 1.20433333333333*I,      1.45963333333333 - 0.622086666666666*I,  -1.99913333333333 - 0.000453333333332531*I,       1.45531333333333 + 1.16198666666667*I,    -0.502806666666666 - 0.206233333333333*I,    0.0497066666666672 - 0.948806666666667*I, 0.00812666666666667 - 0.00183999999999999*I,    0.0382333333333312 + 0.956893333333334*I],\n",
       "[      1.45353333333334 + 1.16558666666666*I,    -0.509086666666667 - 0.201786666666666*I,    0.0382333333333312 - 0.956893333333334*I, 0.00812666666666667 + 0.00183999999999999*I,    0.0497066666666672 + 0.948806666666667*I,    -0.502806666666666 + 0.206233333333333*I,       1.45531333333333 - 1.16198666666667*I,  -1.99913333333333 + 0.000453333333332531*I,      1.45963333333333 + 0.622086666666666*I,     -0.504933333333333 + 1.20433333333333*I,     0.0500999999999998 - 2.25077333333333*I,                                           0,     0.0500999999999998 + 2.25077333333333*I,     -0.504933333333333 - 1.20433333333333*I,      1.45963333333333 - 0.622086666666666*I,  -1.99913333333333 - 0.000453333333332531*I,       1.45531333333333 + 1.16198666666667*I,    -0.502806666666666 - 0.206233333333333*I,    0.0497066666666672 - 0.948806666666667*I, 0.00812666666666667 - 0.00183999999999999*I],\n",
       "[  -2.00026666666667 + 0.00270000000000244*I,       1.45353333333334 + 1.16558666666666*I,    -0.509086666666667 - 0.201786666666666*I,    0.0382333333333312 - 0.956893333333334*I, 0.00812666666666667 + 0.00183999999999999*I,    0.0497066666666672 + 0.948806666666667*I,    -0.502806666666666 + 0.206233333333333*I,       1.45531333333333 - 1.16198666666667*I,  -1.99913333333333 + 0.000453333333332531*I,      1.45963333333333 + 0.622086666666666*I,     -0.504933333333333 + 1.20433333333333*I,     0.0500999999999998 - 2.25077333333333*I,                                           0,     0.0500999999999998 + 2.25077333333333*I,     -0.504933333333333 - 1.20433333333333*I,      1.45963333333333 - 0.622086666666666*I,  -1.99913333333333 - 0.000453333333332531*I,       1.45531333333333 + 1.16198666666667*I,    -0.502806666666666 - 0.206233333333333*I,    0.0497066666666672 - 0.948806666666667*I],\n",
       "[               1.4576 - 0.628373333333333*I,   -2.00026666666667 + 0.00270000000000244*I,       1.45353333333334 + 1.16558666666666*I,    -0.509086666666667 - 0.201786666666666*I,    0.0382333333333312 - 0.956893333333334*I, 0.00812666666666667 + 0.00183999999999999*I,    0.0497066666666672 + 0.948806666666667*I,    -0.502806666666666 + 0.206233333333333*I,       1.45531333333333 - 1.16198666666667*I,  -1.99913333333333 + 0.000453333333332531*I,      1.45963333333333 + 0.622086666666666*I,     -0.504933333333333 + 1.20433333333333*I,     0.0500999999999998 - 2.25077333333333*I,                                           0,     0.0500999999999998 + 2.25077333333333*I,     -0.504933333333333 - 1.20433333333333*I,      1.45963333333333 - 0.622086666666666*I,  -1.99913333333333 - 0.000453333333332531*I,       1.45531333333333 + 1.16198666666667*I,    -0.502806666666666 - 0.206233333333333*I],\n",
       "[              -0.497886666666667 - 1.2063*I,                1.4576 - 0.628373333333333*I,   -2.00026666666667 + 0.00270000000000244*I,       1.45353333333334 + 1.16558666666666*I,    -0.509086666666667 - 0.201786666666666*I,    0.0382333333333312 - 0.956893333333334*I, 0.00812666666666667 + 0.00183999999999999*I,    0.0497066666666672 + 0.948806666666667*I,    -0.502806666666666 + 0.206233333333333*I,       1.45531333333333 - 1.16198666666667*I,  -1.99913333333333 + 0.000453333333332531*I,      1.45963333333333 + 0.622086666666666*I,     -0.504933333333333 + 1.20433333333333*I,     0.0500999999999998 - 2.25077333333333*I,                                           0,     0.0500999999999998 + 2.25077333333333*I,     -0.504933333333333 - 1.20433333333333*I,      1.45963333333333 - 0.622086666666666*I,  -1.99913333333333 - 0.000453333333332531*I,       1.45531333333333 + 1.16198666666667*I],\n",
       "[    0.0471600000000066 + 2.26101333333333*I,               -0.497886666666667 - 1.2063*I,                1.4576 - 0.628373333333333*I,   -2.00026666666667 + 0.00270000000000244*I,       1.45353333333334 + 1.16558666666666*I,    -0.509086666666667 - 0.201786666666666*I,    0.0382333333333312 - 0.956893333333334*I, 0.00812666666666667 + 0.00183999999999999*I,    0.0497066666666672 + 0.948806666666667*I,    -0.502806666666666 + 0.206233333333333*I,       1.45531333333333 - 1.16198666666667*I,  -1.99913333333333 + 0.000453333333332531*I,      1.45963333333333 + 0.622086666666666*I,     -0.504933333333333 + 1.20433333333333*I,     0.0500999999999998 - 2.25077333333333*I,                                           0,     0.0500999999999998 + 2.25077333333333*I,     -0.504933333333333 - 1.20433333333333*I,      1.45963333333333 - 0.622086666666666*I,  -1.99913333333333 - 0.000453333333332531*I],\n",
       "[            0.00259333333333334 + 0.00216*I,     0.0471600000000066 + 2.26101333333333*I,               -0.497886666666667 - 1.2063*I,                1.4576 - 0.628373333333333*I,   -2.00026666666667 + 0.00270000000000244*I,       1.45353333333334 + 1.16558666666666*I,    -0.509086666666667 - 0.201786666666666*I,    0.0382333333333312 - 0.956893333333334*I, 0.00812666666666667 + 0.00183999999999999*I,    0.0497066666666672 + 0.948806666666667*I,    -0.502806666666666 + 0.206233333333333*I,       1.45531333333333 - 1.16198666666667*I,  -1.99913333333333 + 0.000453333333332531*I,      1.45963333333333 + 0.622086666666666*I,     -0.504933333333333 + 1.20433333333333*I,     0.0500999999999998 - 2.25077333333333*I,                                           0,     0.0500999999999998 + 2.25077333333333*I,     -0.504933333333333 - 1.20433333333333*I,      1.45963333333333 - 0.622086666666666*I],\n",
       "[    0.0361266666666688 - 2.26101333333334*I,             0.00259333333333334 + 0.00216*I,     0.0471600000000066 + 2.26101333333333*I,               -0.497886666666667 - 1.2063*I,                1.4576 - 0.628373333333333*I,   -2.00026666666667 + 0.00270000000000244*I,       1.45353333333334 + 1.16558666666666*I,    -0.509086666666667 - 0.201786666666666*I,    0.0382333333333312 - 0.956893333333334*I, 0.00812666666666667 + 0.00183999999999999*I,    0.0497066666666672 + 0.948806666666667*I,    -0.502806666666666 + 0.206233333333333*I,       1.45531333333333 - 1.16198666666667*I,  -1.99913333333333 + 0.000453333333332531*I,      1.45963333333333 + 0.622086666666666*I,     -0.504933333333333 + 1.20433333333333*I,     0.0500999999999998 - 2.25077333333333*I,                                           0,     0.0500999999999998 + 2.25077333333333*I,     -0.504933333333333 - 1.20433333333333*I],\n",
       "[    -0.499266666666665 + 1.21808666666667*I,     0.0361266666666688 - 2.26101333333334*I,             0.00259333333333334 + 0.00216*I,     0.0471600000000066 + 2.26101333333333*I,               -0.497886666666667 - 1.2063*I,                1.4576 - 0.628373333333333*I,   -2.00026666666667 + 0.00270000000000244*I,       1.45353333333334 + 1.16558666666666*I,    -0.509086666666667 - 0.201786666666666*I,    0.0382333333333312 - 0.956893333333334*I, 0.00812666666666667 + 0.00183999999999999*I,    0.0497066666666672 + 0.948806666666667*I,    -0.502806666666666 + 0.206233333333333*I,       1.45531333333333 - 1.16198666666667*I,  -1.99913333333333 + 0.000453333333332531*I,      1.45963333333333 + 0.622086666666666*I,     -0.504933333333333 + 1.20433333333333*I,     0.0500999999999998 - 2.25077333333333*I,                                           0,     0.0500999999999998 + 2.25077333333333*I],\n",
       "[     1.45291333333334 + 0.625526666666663*I,     -0.499266666666665 + 1.21808666666667*I,     0.0361266666666688 - 2.26101333333334*I,             0.00259333333333334 + 0.00216*I,     0.0471600000000066 + 2.26101333333333*I,               -0.497886666666667 - 1.2063*I,                1.4576 - 0.628373333333333*I,   -2.00026666666667 + 0.00270000000000244*I,       1.45353333333334 + 1.16558666666666*I,    -0.509086666666667 - 0.201786666666666*I,    0.0382333333333312 - 0.956893333333334*I, 0.00812666666666667 + 0.00183999999999999*I,    0.0497066666666672 + 0.948806666666667*I,    -0.502806666666666 + 0.206233333333333*I,       1.45531333333333 - 1.16198666666667*I,  -1.99913333333333 + 0.000453333333332531*I,      1.45963333333333 + 0.622086666666666*I,     -0.504933333333333 + 1.20433333333333*I,     0.0500999999999998 - 2.25077333333333*I,                                           0]])"
      ]
     },
     "execution_count": 23,
     "metadata": {},
     "output_type": "execute_result"
    }
   ],
   "source": [
    "from sympy import Matrix\n",
    "Matrix(H_eff_circ)"
   ]
  },
  {
   "cell_type": "markdown",
   "metadata": {},
   "source": [
    "Finally, we can solve the generalized eigenvalue problem for $\\tilde{H}$:\n",
    "\n",
    "$$\\tilde{H} \\vec{c} = c \\tilde{S} \\vec{c}$$\n",
    "\n",
    "and get an estimate of the ground state energy $c_{min}$"
   ]
  },
  {
   "cell_type": "code",
   "execution_count": 31,
   "metadata": {},
   "outputs": [
    {
     "name": "stdout",
     "output_type": "stream",
     "text": [
      "The estimated ground state energy is:  0.0\n",
      "The estimated ground state energy is:  -2.5192150457581066\n",
      "The estimated ground state energy is:  -2.1306785912615154\n",
      "The estimated ground state energy is:  -3.4144206113331084\n",
      "The estimated ground state energy is:  -4.30575812503112\n",
      "The estimated ground state energy is:  -4.23357363980573\n",
      "The estimated ground state energy is:  -4.448065722052275\n",
      "The estimated ground state energy is:  -4.550084296374525\n",
      "The estimated ground state energy is:  -5.785164025190577\n",
      "The estimated ground state energy is:  -4.811689590223933\n",
      "The estimated ground state energy is:  -4.022134943095522\n",
      "The estimated ground state energy is:  -3.8285308684794743\n",
      "The estimated ground state energy is:  -4.17146973821021\n",
      "The estimated ground state energy is:  -4.753900596932567\n",
      "The estimated ground state energy is:  -6.0316996580945155\n",
      "The estimated ground state energy is:  -6.001579935845579\n",
      "The estimated ground state energy is:  -6.009103825807484\n",
      "The estimated ground state energy is:  -6.020223260363006\n",
      "The estimated ground state energy is:  -6.028778769351003\n",
      "The estimated ground state energy is:  -6.032195149803267\n"
     ]
    }
   ],
   "source": [
    "gnd_en_circ_est_list = []\n",
    "for d in range(1, krylov_dim+1):\n",
    "    # Solve generalized eigenvalue problem\n",
    "    gnd_en_circ_est = solve_regularized_gen_eig(H_eff_circ[:d, :d], S_circ[:d, :d], threshold=5e-1)\n",
    "    gnd_en_circ_est_list.append(gnd_en_circ_est)\n",
    "    print('The estimated ground state energy is: ', gnd_en_circ_est)"
   ]
  },
  {
   "cell_type": "code",
   "execution_count": 32,
   "metadata": {},
   "outputs": [],
   "source": [
    "# gnd_en_circ_est_list_1 = []\n",
    "# for d in range(1, krylov_dim+1):\n",
    "#     # Solve generalized eigenvalue problem\n",
    "#     gnd_en_circ_est = solve_regularized_gen_eig(H_eff_circ_1[:d, :d], S_circ_1[:d, :d], threshold=1e-1)\n",
    "#     gnd_en_circ_est_list_1.append(gnd_en_circ_est)\n",
    "#     print('The estimated ground state energy is: ', gnd_en_circ_est)"
   ]
  },
  {
   "cell_type": "code",
   "execution_count": 33,
   "metadata": {},
   "outputs": [],
   "source": [
    "# gnd_en_circ_est_list_0 = []\n",
    "# for d in range(1, krylov_dim+1):\n",
    "#     # Solve generalized eigenvalue problem\n",
    "#     gnd_en_circ_est = solve_regularized_gen_eig(H_eff_circ_0[:d, :d], S_circ_0[:d, :d], threshold=1e-1)\n",
    "#     gnd_en_circ_est_list_0.append(gnd_en_circ_est)\n",
    "#     print('The estimated ground state energy is: ', gnd_en_circ_est)"
   ]
  },
  {
   "cell_type": "code",
   "execution_count": 34,
   "metadata": {},
   "outputs": [],
   "source": [
    "# gnd_en_circ_est_list_2 = []\n",
    "# for d in range(1, krylov_dim+1):\n",
    "#     # Solve generalized eigenvalue problem\n",
    "#     gnd_en_circ_est = solve_regularized_gen_eig(H_eff_circ_2[:d, :d], S_circ_2[:d, :d], threshold=1e-2)\n",
    "#     gnd_en_circ_est_list_2.append(gnd_en_circ_est)\n",
    "#     print('The estimated ground state energy is: ', gnd_en_circ_est)"
   ]
  },
  {
   "cell_type": "code",
   "execution_count": 35,
   "metadata": {},
   "outputs": [
    {
     "name": "stdout",
     "output_type": "stream",
     "text": [
      "n_sys_qubits 5\n",
      "n_exc 1 , subspace dimension 6\n",
      "gs_en -4.000000000000001\n"
     ]
    }
   ],
   "source": [
    "from qiskit.quantum_info import Pauli\n",
    "import time\n",
    "import itertools as it\n",
    "\n",
    "H_x = []\n",
    "for p, coeff in H_op.to_list():\n",
    "    H_x.append(set([i for i,v in enumerate(Pauli(p).x) if v]))\n",
    "\n",
    "H_z = []\n",
    "for p, coeff in H_op.to_list():\n",
    "    H_z.append(set([i for i,v in enumerate(Pauli(p).z) if v]))\n",
    "\n",
    "H_c = H_op.coeffs\n",
    "\n",
    "print('n_sys_qubits', n_qubits)\n",
    "\n",
    "# n_exc particle Hamiltonian:\n",
    "\n",
    "n_exc = 1\n",
    "sub_dimn = int(sp.special.comb(n_qubits+1,n_exc))\n",
    "print('n_exc', n_exc, ', subspace dimension', sub_dimn)\n",
    "\n",
    "few_particle_H = np.zeros((sub_dimn,sub_dimn), dtype=complex)\n",
    "\n",
    "sparse_vecs = [set(vec) for vec in it.combinations(range(n_qubits+1),r=n_exc)] # list all of the possible sets of n_exc indices of 1s in n_exc-particle states\n",
    "\n",
    "start_time = time.time()\n",
    "m = 0\n",
    "for i, i_set in enumerate(sparse_vecs):\n",
    "    for j, j_set in enumerate(sparse_vecs):\n",
    "        m += 1\n",
    "        # if m % int((sub_dimn**2)/100) == 0:\n",
    "        #     print(np.round(m/int((sub_dimn**2)/100),2), '% complete, time =', time.time()-start_time)\n",
    "        #     start_time = time.time()\n",
    "\n",
    "        if len(i_set.symmetric_difference(j_set)) <= 2:\n",
    "\n",
    "            for p_x, p_z, coeff in zip(H_x, H_z, H_c):\n",
    "\n",
    "                if i_set.symmetric_difference(j_set) == p_x:\n",
    "                    sgn = ((-1j)**len(p_x.intersection(p_z)))*((-1)**len(i_set.intersection(p_z)))\n",
    "                else:\n",
    "                    sgn = 0\n",
    "\n",
    "                few_particle_H[i,j] += sgn*coeff\n",
    "\n",
    "gs_en = min(np.linalg.eigvalsh(few_particle_H))\n",
    "print('gs_en', gs_en)\n",
    "\n",
    "\n"
   ]
  },
  {
   "cell_type": "code",
   "execution_count": 36,
   "metadata": {},
   "outputs": [
    {
     "name": "stdout",
     "output_type": "stream",
     "text": [
      "gs_en -4.000000000000006\n"
     ]
    }
   ],
   "source": [
    "gs_en = min(sp.sparse.linalg.eigsh(H_op.to_matrix(), which = \"SA\", k = 10)[0])\n",
    "print('gs_en', gs_en)\n"
   ]
  },
  {
   "cell_type": "code",
   "execution_count": 37,
   "metadata": {},
   "outputs": [
    {
     "data": {
      "image/png": "[encoded data removed]",
      "text/plain": [
       "<Figure size 640x480 with 1 Axes>"
      ]
     },
     "metadata": {},
     "output_type": "display_data"
    }
   ],
   "source": [
    "# plt.plot(range(1, krylov_dim+1), gnd_en_circ_est_list_0, color = 'blue', linestyle='-.' , label = 'estimate - res 0 ')\n",
    "# plt.plot(range(1, krylov_dim+1), gnd_en_circ_est_list_1, color = 'yellow', linestyle='-.' , label = 'estimate - res 1 ')\n",
    "# plt.plot(range(1, krylov_dim+1), gnd_en_circ_est_list_2, color = 'green', linestyle='-.' , label = 'estimate - res 2')\n",
    "plt.plot(range(1, krylov_dim+1), gnd_en_circ_est_list, color = 'orange', linestyle='-.' , label = 'estimate - res 2 heron')\n",
    "plt.plot(range(1, krylov_dim+1), [gs_en]*krylov_dim, color = 'red', linestyle='-' , label = 'exact')\n",
    "plt.xticks(range(1, krylov_dim+1), range(1, krylov_dim+1))\n",
    "plt.legend()\n",
    "plt.xlabel('Krylov space dimension')\n",
    "plt.ylabel('Energy')\n",
    "plt.title('Estimating Ground state energy with Quantum Krylov')\n",
    "plt.show()"
   ]
  },
  {
   "cell_type": "markdown",
   "metadata": {},
   "source": [
    "### Check Paulis"
   ]
  },
  {
   "cell_type": "markdown",
   "metadata": {},
   "source": [
    "#### Theory calculation (phase issue with real expvals)"
   ]
  },
  {
   "cell_type": "code",
   "execution_count": null,
   "metadata": {},
   "outputs": [],
   "source": [
    "# THIS FUNCTION CALCULATES THE PAULI MATRICES FOR EACH DIMENSION IN d_list, USING NOBU'S k-PARTICLE CODE\n",
    "# Note that passing in vectors_kp is optional but if you already have it from the Krylov matrix calculation, it can save time.\n",
    "from utils_k_particle import compute_pauli_matrices\n",
    "from utils_k_particle import get_indexes_for_m_particles, k_particle_excitation, simulate_unitary_kparticle_from_interaction_list\n",
    "\n",
    "fixed_control = 0\n",
    "excitations = [int(n_qubits/2)+1]\n",
    "H = H_op     \n",
    "\n",
    "k = len(excitations)\n",
    "indices = get_indexes_for_m_particles(n_qubits, k)\n",
    "\n",
    "initial_state_kp = k_particle_excitation(n_qubits, excitations, indices)\n",
    "vectors_kp = [simulate_unitary_kparticle_from_interaction_list(interaction_list, initial_state_kp, n_qubits, k, num_trotter_steps, param = (i*dt)/num_trotter_steps, as_sparse = True) for i in range(krylov_dim)]\n",
    "\n",
    "all_exp_vals, vectors_kp = compute_pauli_matrices(n_qubits, fixed_control, excitations, H, interaction_list, num_trotter_steps, dt, list(range(krylov_dim)), vectors_kp)\n",
    "\n",
    "\n",
    "\n",
    "H_first_row_exact = np.zeros(krylov_dim, dtype=complex)\n",
    "prefactors_exact = [1+0j] + prefactors\n",
    "for i, expvals_dict in enumerate(all_exp_vals):\n",
    "\n",
    "\n",
    "    res_dict_sim = {}\n",
    "    for obs_idx, (pauli, coeff) in enumerate(zip(H_op.paulis, H_op.coeffs)):\n",
    "        # Get expectation values from experiment\n",
    "        obs = observables_H_cliff[obs_idx]\n",
    "        new_obs = obs[:-1]\n",
    "        expval_real = expvals_dict[new_obs + 'X']\n",
    "        expval_imag = expvals_dict[new_obs + 'Y']\n",
    "\n",
    "\n",
    "        expval = expval_real + 1j*expval_imag\n",
    "\n",
    "        H_first_row_exact[i] += prefactors_exact[i]*coeff*expval\n",
    "\n",
    "\n",
    "\n",
    "H_first_row_exact_list = H_first_row_exact.tolist()           \n",
    "            \n",
    "H_eff_circ_exact = np.zeros((krylov_dim, krylov_dim), dtype=complex)\n",
    "\n",
    "# Distribute entries from first row across matrix:\n",
    "for i,j in itertools.product(range(krylov_dim),repeat=2):\n",
    "    if i >= j:\n",
    "        H_eff_circ_exact[j,i] = H_first_row_exact[i-j]\n",
    "    else:\n",
    "        H_eff_circ_exact[j,i] = np.conj(H_first_row_exact[j-i])"
   ]
  },
  {
   "cell_type": "code",
   "execution_count": null,
   "metadata": {},
   "outputs": [],
   "source": [
    "Matrix(H_eff_circ_exact)"
   ]
  },
  {
   "cell_type": "markdown",
   "metadata": {},
   "source": [
    "#### Numerical calculation (few qubits only!)"
   ]
  },
  {
   "cell_type": "code",
   "execution_count": null,
   "metadata": {},
   "outputs": [],
   "source": [
    "from qiskit.quantum_info import Statevector, Pauli\n",
    "\n",
    "H_first_row_sim = np.zeros(krylov_dim, dtype=complex)\n",
    "H_first_row_sim[0] = H_expval\n",
    "\n",
    "S_first_row_sim = np.zeros(krylov_dim, dtype=complex)\n",
    "S_first_row_sim[0] = 1+0j\n",
    "\n",
    "all_exp_vals_sim = []\n",
    "for i, param in enumerate(parameters):\n",
    "\n",
    "    H_real_circ_cliff = H_real_circ.assign_parameters({t:param})\n",
    "    H_imag_circ_cliff = H_imag_circ.assign_parameters({t:param})\n",
    "    S_real_circ_cliff = S_real_circ.assign_parameters({t:param})\n",
    "    S_imag_circ_cliff = S_imag_circ.assign_parameters({t:param})\n",
    "\n",
    "    observables_S_cliff = 'I'*(n_qubits) + 'Z'\n",
    "\n",
    "    observables_H_cliff = []\n",
    "    for pauli, coeff in zip(H_op.paulis, H_op.coeffs):\n",
    "        # print(pauli)\n",
    "        observable = pauli[::-1].to_label() + 'Z'\n",
    "        observables_H_cliff.append(observable)\n",
    "\n",
    "\n",
    "\n",
    "    # Get expectation values from experiment\n",
    "    S_expval_real = Statevector(S_real_circ_cliff).expectation_value(Pauli('I'*(n_qubits) + 'Z'))\n",
    "    S_expval_imag = Statevector(S_imag_circ_cliff).expectation_value(Pauli('I'*(n_qubits) + 'Z'))\n",
    "\n",
    "    # Get expectation values\n",
    "    S_expval = S_expval_real + 1j*S_expval_imag\n",
    "\n",
    "    S_first_row_sim[i+1] += prefactors[i]*S_expval\n",
    "\n",
    "\n",
    "    res_dict_sim = {}\n",
    "    for obs_idx, (pauli, coeff) in enumerate(zip(H_op.paulis, H_op.coeffs)):\n",
    "        # Get expectation values from experiment\n",
    "        expval_real = Statevector(H_real_circ_cliff).expectation_value(Pauli(observables_H_cliff[obs_idx]))\n",
    "        expval_imag = Statevector(H_imag_circ_cliff).expectation_value(Pauli(observables_H_cliff[obs_idx]))\n",
    "        obs = observables_H_cliff[obs_idx]\n",
    "        new_obs = obs[:-1]\n",
    "        res_dict_sim[new_obs + 'X'] = expval_real\n",
    "        res_dict_sim[new_obs + 'Y'] = expval_imag\n",
    "\n",
    "\n",
    "        expval = expval_real + 1j*expval_imag\n",
    "\n",
    "\n",
    "        H_first_row_sim[i+1] += prefactors[i]*coeff*expval\n",
    "\n",
    "    all_exp_vals_sim.append(res_dict_sim)\n",
    "\n",
    "\n",
    "H_first_row_sim_list = H_first_row_sim.tolist()           \n",
    "            \n",
    "H_eff_circ_sim = np.zeros((krylov_dim, krylov_dim), dtype=complex)\n",
    "\n",
    "# Distribute entries from first row across matrix:\n",
    "for i,j in itertools.product(range(krylov_dim),repeat=2):\n",
    "    if i >= j:\n",
    "        H_eff_circ_sim[j,i] = H_first_row_sim[i-j]\n",
    "    else:\n",
    "        H_eff_circ_sim[j,i] = np.conj(H_first_row_sim[j-i])\n",
    "\n",
    "            \n",
    "            \n",
    "S_circ_sim = np.zeros((krylov_dim, krylov_dim), dtype=complex)\n",
    "\n",
    "# Distribute entries from first row across matrix:\n",
    "for i,j in itertools.product(range(krylov_dim),repeat=2):\n",
    "    if i >= j:\n",
    "        S_circ_sim[j,i] = S_first_row_sim[i-j]\n",
    "    else:\n",
    "        S_circ_sim[j,i] = np.conj(S_first_row_sim[j-i])\n"
   ]
  },
  {
   "cell_type": "code",
   "execution_count": null,
   "metadata": {},
   "outputs": [],
   "source": [
    "gnd_en_circ_sim_est_list = []\n",
    "for d in range(1, krylov_dim+1):\n",
    "    # Solve generalized eigenvalue problem\n",
    "    gnd_en_circ_est = solve_regularized_gen_eig(H_eff_circ_sim[:d, :d], S_circ_sim[:d, :d], threshold=4e-2)\n",
    "    gnd_en_circ_sim_est_list.append(gnd_en_circ_est)\n",
    "    print('The estimated ground state energy is: ', gnd_en_circ_est)"
   ]
  },
  {
   "cell_type": "code",
   "execution_count": null,
   "metadata": {},
   "outputs": [],
   "source": [
    "plt.plot(range(1, krylov_dim+1), gnd_en_circ_est_list, color = 'orange', linestyle='-.' , label = 'estimate - res 1 heron')\n",
    "plt.plot(range(1, krylov_dim+1), gnd_en_circ_sim_est_list, color = 'blue', linestyle='-.' , label = 'estimate - sim')\n",
    "plt.plot(range(1, krylov_dim+1), [gs_en]*krylov_dim, color = 'red', linestyle='-' , label = 'exact')\n",
    "plt.xticks(range(1, krylov_dim+1), range(1, krylov_dim+1))\n",
    "plt.legend()\n",
    "plt.xlabel('Krylov space dimension')\n",
    "plt.ylabel('Energy')\n",
    "plt.title('Estimating Ground state energy with Quantum Krylov')\n",
    "plt.show()"
   ]
  },
  {
   "cell_type": "markdown",
   "metadata": {},
   "source": [
    "#### Experimental values"
   ]
  },
  {
   "cell_type": "code",
   "execution_count": null,
   "metadata": {},
   "outputs": [],
   "source": [
    "all_exp_vals_exp = []\n",
    "for idx in range(krylov_dim-1):\n",
    "    res_dict = {}\n",
    "    for obs_idx, (pauli, coeff) in enumerate(zip(H_op.paulis, H_op.coeffs)):\n",
    "        # Get expectation values from experiment\n",
    "        expval_real = H_real_results.data.evs[obs_idx][idx]\n",
    "        expval_imag = H_imag_results.data.evs[obs_idx][idx]\n",
    "        obs = observables_H_cliff[obs_idx]\n",
    "        new_obs = obs[:-1]\n",
    "        res_dict[new_obs + 'X'] = expval_real\n",
    "        res_dict[new_obs + 'Y'] = expval_imag\n",
    "    all_exp_vals_exp.append(res_dict)\n",
    "\n"
   ]
  },
  {
   "cell_type": "markdown",
   "metadata": {},
   "source": [
    "#### Compare"
   ]
  },
  {
   "cell_type": "code",
   "execution_count": null,
   "metadata": {},
   "outputs": [],
   "source": [
    "idx  = 6\n",
    "for pauli, val in all_exp_vals_exp[idx].items():\n",
    "    \n",
    "    # if pauli[-1] == 'X' and abs(np.round(phase_factor.real, 2)) > 0:\n",
    "    #     all_exp_vals[idx+1][pauli] = phase_factor.real*all_exp_vals[idx+1][pauli]\n",
    "    # if pauli[-1] == 'Y' and abs(np.round(phase_factor.imag, 2)) > 0:\n",
    "    #     all_exp_vals[idx+1][pauli] = phase_factor.imag*all_exp_vals[idx+1][pauli]\n",
    "\n",
    "\n",
    "    print(pauli, np.round(val, 3), np.round(all_exp_vals_sim[idx][pauli],3), np.round(all_exp_vals[idx+1][pauli], 3))"
   ]
  },
  {
   "cell_type": "code",
   "execution_count": null,
   "metadata": {},
   "outputs": [],
   "source": [
    "idx  = 0\n",
    "for pauli, val in all_exp_vals_exp[idx].items():\n",
    "    if abs(val) > 0.1:\n",
    "        damp_sim = abs(val/all_exp_vals_sim[idx][pauli])\n",
    "        damp_ex = abs(val/all_exp_vals[idx+1][pauli])\n",
    "        print(pauli, np.round(damp_sim, 3), np.round(damp_ex,3))"
   ]
  },
  {
   "cell_type": "markdown",
   "metadata": {},
   "source": [
    "### Save data"
   ]
  },
  {
   "cell_type": "code",
   "execution_count": null,
   "metadata": {},
   "outputs": [],
   "source": [
    "import os\n",
    "import pickle\n",
    "import time\n",
    "\n",
    "time_string = time.strftime(\"%m%d%Y_%H%M%S\")\n",
    "data_dir_path = f'data/{backend_id}_{n_qubits}q_{time_string}/'\n",
    "# Save experiment parameters\n",
    "var_dict = {k: globals()[k] for k in [ 'n_qubits',\n",
    "                                        'J',\n",
    "                                        'H_tot',\n",
    "                                        'dt',\n",
    "                                        'krylov_dim',\n",
    "                                        'num_trotter_steps',\n",
    "                                        'dt_circ',\n",
    "                                        'parameters',\n",
    "                                        'backend_id',\n",
    "                                        'shots',\n",
    "                                        'observables_S',\n",
    "                                        'observables_H',\n",
    "                                        'pub_S_real',\n",
    "                                        'pub_S_imag',\n",
    "                                        'pub_H_real',\n",
    "                                        'pub_H_imag',\n",
    "                                        'job_S_real_id',\n",
    "                                        'job_S_imag_id',\n",
    "                                        'job_H_real_id',\n",
    "                                        'job_H_imag_id',\n",
    "                                        'S_expval',\n",
    "                                        'H_expval',\n",
    "                                        'prefactors',\n",
    "                                        'S_first_row_list',\n",
    "                                        'H_first_row_list',\n",
    "                                        'n_exc',\n",
    "                                        'gs_en',]}\n",
    "\n",
    "\n",
    "\n",
    "# Save to Box folder (avoid Github large file storage issues)\n",
    "os.makedirs(os.path.dirname(data_dir_path), exist_ok=True)\n",
    "fname = data_dir_path + \"experiment_parameters.pickle\"\n",
    "with open(fname, \"wb\") as f:\n",
    "    pickle.dump(var_dict, f)\n",
    "\n",
    "\n",
    "np.save(data_dir_path + 'S_real_results_evs', S_real_results.data.evs)\n",
    "np.save(data_dir_path + 'S_imag_results_evs', S_imag_results.data.evs)\n",
    "np.save(data_dir_path + 'H_real_results_evs', H_real_results.data.evs)\n",
    "np.save(data_dir_path + 'H_imag_results_evs', H_imag_results.data.evs)\n",
    "\n",
    "np.save(data_dir_path + 'S_real_results_metadata', S_real_results.metadata)\n",
    "np.save(data_dir_path + 'S_imag_results_metadata', S_imag_results.metadata)\n",
    "np.save(data_dir_path + 'H_real_results_metadata', H_real_results.metadata)\n",
    "np.save(data_dir_path + 'H_imag_results_metadata', H_imag_results.metadata)"
   ]
  },
  {
   "cell_type": "code",
   "execution_count": null,
   "metadata": {},
   "outputs": [],
   "source": []
  }
 ],
 "metadata": {
  "kernelspec": {
   "display_name": "Python 3",
   "language": "python",
   "name": "python3"
  },
  "language_info": {
   "codemirror_mode": {
    "name": "ipython",
    "version": 3
   },
   "file_extension": ".py",
   "mimetype": "text/x-python",
   "name": "python",
   "nbconvert_exporter": "python",
   "pygments_lexer": "ipython3",
   "version": "3.12.1"
  }
 },
 "nbformat": 4,
 "nbformat_minor": 2
}
