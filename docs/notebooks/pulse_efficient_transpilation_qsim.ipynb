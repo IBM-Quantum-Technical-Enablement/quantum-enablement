{
 "cells": [
  {
   "cell_type": "markdown",
   "metadata": {},
   "source": [
    "# How to transpile circuits in a pulse-efficient way?"
   ]
  },
  {
   "cell_type": "markdown",
   "metadata": {},
   "source": [
    "In this notebook, we show readers how to transpile circuits in a pulse-efficient way by transpiling the two-qubit gates into the [`RZXGate`](https://qiskit.org/documentation/stubs/qiskit.circuit.library.RZXGate.html). The 'RZXGate' is a continuous gate set native to the hardware. We show examples where this method results in shorter circuit depth and duration. Since qubits have a limited coherence time, a shorter total circuit duration is desirable. The pulse-efficient transpilation has been shown to give more accurate results in the quantum approximate optimization algorithm applied to MAXCUT (see reference [here](https://journals.aps.org/prresearch/abstract/10.1103/PhysRevResearch.3.043088)). We demonstrate how to implement this technique to transpile a relevant circuit in simulating quantum dynamics. And the Runtime result from the hardware suggests that the `RZXGate` type of transpilation produces more accurate results."
   ]
  },
  {
   "cell_type": "code",
   "execution_count": 66,
   "metadata": {},
   "outputs": [],
   "source": [
    "# for circuit construction\n",
    "from qiskit.circuit import QuantumCircuit, QuantumRegister, Parameter\n",
    "from qiskit.circuit.library import PauliEvolutionGate\n",
    "from qiskit.quantum_info import SparsePauliOp\n",
    "\n",
    "# for transpilation\n",
    "from qiskit.providers import Backend\n",
    "from qiskit.compiler import transpile, schedule as build_schedule\n",
    "from qiskit.transpiler import PassManager, CouplingMap\n",
    "from qiskit.transpiler.passes import (Optimize1qGatesDecomposition,\n",
    "                                      RZXCalibrationBuilder,  \n",
    "                                      FullAncillaAllocation,                 \n",
    "                                      )\n",
    "\n",
    "# for running circuits on backend\n",
    "from qiskit_ibm_runtime import QiskitRuntimeService\n",
    "\n",
    "# other basic modules\n",
    "import numpy as np\n",
    "import random\n",
    "from typing import Dict, List\n",
    "import matplotlib.pyplot as plt"
   ]
  },
  {
   "cell_type": "markdown",
   "metadata": {},
   "source": [
    "To show pulse-efficient transpilation, we will pick a backend that supports OpenPulse extension. Note that the current implementation only supports backend that has `ECRGate` as the two-qubit basis gate."
   ]
  },
  {
   "cell_type": "code",
   "execution_count": 67,
   "metadata": {},
   "outputs": [],
   "source": [
    "service = QiskitRuntimeService(channel=\"ibm_quantum\")"
   ]
  },
  {
   "cell_type": "code",
   "execution_count": 68,
   "metadata": {},
   "outputs": [],
   "source": [
    "ecr_backend = service.least_busy(simulator=False, operational=True, open_pulse=True, filters=lambda x: ('ecr' in x.basis_gates))"
   ]
  },
  {
   "cell_type": "code",
   "execution_count": 69,
   "metadata": {},
   "outputs": [
    {
     "data": {
      "text/plain": [
       "<IBMBackend('ibm_nazca')>"
      ]
     },
     "execution_count": 69,
     "metadata": {},
     "output_type": "execute_result"
    }
   ],
   "source": [
    "ecr_backend"
   ]
  },
  {
   "cell_type": "markdown",
   "metadata": {},
   "source": [
    "When running a generic quantum circuit on the hardware, the circuits need to be transpired into a basic set of gates so that it is compatible with a target backend. This process is handled by the [`qiskit.transpiler`](https://qiskit.org/documentation/apidoc/transpiler.html), and in the how-to guide, we will introduce two ways of defining the basis gate set."
   ]
  },
  {
   "cell_type": "code",
   "execution_count": 70,
   "metadata": {},
   "outputs": [],
   "source": [
    "# standard way: basis gate set that includes CNOT gate\n",
    "BASIS_GATES = ['ecr', 'x', 'sx', 'rz']\n",
    "\n",
    "# pulse efficient way: basis gate set that includes the pulse RZX gate\n",
    "BASIS_GATES = ['rzx', 'x', 'sx', 'rz']"
   ]
  },
  {
   "cell_type": "markdown",
   "metadata": {},
   "source": [
    "A standard way to transpile is to transpile into a basis gate set that includes a CNOT gate, which is pre-calibrated on the hardware. In practice, CNOT gates have relatively long gate times and are one of the main sources of errors. In this guide, we show a method to transpile into a `RZXGate` pulse gate. It is a continuous two-qubit entangling gate with the angle $\\theta$ as a gate parameter and has adjustable gate time accordingly. In some use cases, we show that the transpiled circuits are pulse-efficient, meaning they have fewer two-qubit gates and a shorter circuit duration. This is beneficial since the qubits have a finite coherence time. \n",
    "\n",
    "The recipe to transpile into `RZXGate` has two main steps:\n",
    "\n",
    "* First, we decompose the input circuit in terms of single-qubit gates and the `RZXGate`;\n",
    "* Strech the pulse schedule according to the desired rotation angle and attach the new schedule to the 'RZXGate's."
   ]
  },
  {
   "cell_type": "markdown",
   "metadata": {},
   "source": [
    "# Qiskit Patterns Step 1: build trotterized evolution     \n",
    "Let's start by looking at a simple example circuit on two qubits. The circuit example we use here simulates the dynamics generated by the Hamiltonian $H = - J \\sum_{i,j}Z_i\\otimes Z_j + h\\sum_{i}X_i$. To approximate the dynamics, we implement its trotterized evolution using [`PauliEvolutionGate`](https://qiskit.org/documentation/stubs/qiskit.circuit.library.PauliEvolutionGate.html) pametrized by $J$, $h$ and the trotterized time step $t$."
   ]
  },
  {
   "cell_type": "code",
   "execution_count": 71,
   "metadata": {},
   "outputs": [
    {
     "data": {
      "image/png": "[encoded data removed]",
      "text/plain": [
       "<Figure size 621.739x200.667 with 1 Axes>"
      ]
     },
     "execution_count": 71,
     "metadata": {},
     "output_type": "execute_result"
    }
   ],
   "source": [
    "def build_trotter_evolution(num_qubits: int, rep = 1):\n",
    "    Jt = Parameter('Jt')\n",
    "    ht = Parameter('ht')\n",
    "    qr = QuantumRegister(num_qubits, 'q')\n",
    "    qc = QuantumCircuit(qr)\n",
    "    even_indices = [i for i in range(0, num_qubits-1, 2)]\n",
    "    odd_indices = [i for i in range(1, num_qubits-1, 2)]\n",
    "    for _ in range(rep):\n",
    "        for i in odd_indices + even_indices:\n",
    "            ZZ_term = 'I' * (num_qubits - i - 2) + 'ZZ' + 'I' * i\n",
    "            UU = PauliEvolutionGate(SparsePauliOp([ZZ_term]), time=Jt)\n",
    "            qc.append(UU, qr)\n",
    "        for i in range(num_qubits):\n",
    "            X_term = 'I' * (num_qubits - i - 1) + 'X' + 'I' * i \n",
    "            UU = PauliEvolutionGate(SparsePauliOp([X_term]), time=ht)\n",
    "            qc.append(UU, qr)\n",
    "    return qc\n",
    "\n",
    "qc = build_trotter_evolution(num_qubits=2)\n",
    "qc.draw('mpl', fold=-1)"
   ]
  },
  {
   "cell_type": "markdown",
   "metadata": {},
   "source": [
    "# Qiskit Patterns Step 2: Transpile"
   ]
  },
  {
   "cell_type": "markdown",
   "metadata": {},
   "source": [
    "Let's compare the following two transpilation methods:\n",
    "1. transpile to the standard gate set with the CNOT gate\n",
    "2. transpile into a basis gate set with `RZXGate`\n",
    "We will compare the two-qubit circuit depth of the transpiled circuits. We only count the two-qubit gates here since they are considered more 'costly' as they have longer gate time than single-qubit gates and have a higher error rate."
   ]
  },
  {
   "cell_type": "code",
   "execution_count": 72,
   "metadata": {},
   "outputs": [
    {
     "name": "stdout",
     "output_type": "stream",
     "text": [
      "two-qubit circuit depth = 2\n"
     ]
    },
    {
     "data": {
      "image/png": "[encoded data removed]",
      "text/plain": [
       "<Figure size 1541.46x200.667 with 1 Axes>"
      ]
     },
     "execution_count": 72,
     "metadata": {},
     "output_type": "execute_result"
    }
   ],
   "source": [
    "# transpile into CNOT gates\n",
    "ecr_circ = transpile(qc, basis_gates=['ecr', 'x', 'sx', 'rz'])\n",
    "print(f'two-qubit circuit depth = {ecr_circ.depth(lambda x: x[0].num_qubits == 2)}')\n",
    "ecr_circ.draw('mpl')"
   ]
  },
  {
   "cell_type": "code",
   "execution_count": 73,
   "metadata": {},
   "outputs": [
    {
     "name": "stdout",
     "output_type": "stream",
     "text": [
      "two-qubit circuit depth = 1\n"
     ]
    },
    {
     "data": {
      "image/png": "[encoded data removed]",
      "text/plain": [
       "<Figure size 1039.79x200.667 with 1 Axes>"
      ]
     },
     "execution_count": 73,
     "metadata": {},
     "output_type": "execute_result"
    }
   ],
   "source": [
    "# transpile into RZX gates\n",
    "rzx_circ = transpile(qc, basis_gates=['rzx', 'x', 'sx', 'rz'])\n",
    "print(f'two-qubit circuit depth = {rzx_circ.depth(lambda x: x[0].num_qubits == 2)}')\n",
    "rzx_circ.draw('mpl', fold=-1)"
   ]
  },
  {
   "cell_type": "markdown",
   "metadata": {},
   "source": [
    "The RZX transpilation results in only one `RZXGate`s, which effectively shortens the two-qubit circuit depth by half compared with the CNOT transpilation! In fact, this is a general result: any 2-qubit unitary can be represented in the `RZXGate` decomposition with at most three `RZXGate` via the so-called KAK decomposition. \n",
    "\n",
    "Notice that in the `RZXGate` transpiled circuit, the `RZXGate`s are parameterized by the angle `Jt.` To properly implement the gate, we need to instruct the hardware on the proper pulse schedule. This is done by creating a customized [pulse gate](https://qiskit.org/documentation/tutorials/circuits_advanced/05_pulse_gates.html) by attaching a stretched pulse schedule to the `RZXGate` based on the desired entangling angle. \n",
    "\n",
    "To show how to do this, we first pick a backend to transpile the circuit to and assign values to the circuit paramters."
   ]
  },
  {
   "cell_type": "code",
   "execution_count": 74,
   "metadata": {},
   "outputs": [],
   "source": [
    "J = 1\n",
    "h = 0\n",
    "t = random.uniform(0,np.pi)\n",
    "params = rzx_circ.parameters\n",
    "circ_params = {params[0]: J * t, \n",
    "               params[1]: h * t}\n",
    "# bind the paramter to the circuit\n",
    "rzx_circ.assign_parameters(circ_params, inplace=True)"
   ]
  },
  {
   "cell_type": "markdown",
   "metadata": {},
   "source": [
    "The transpiler pass [`RZXCalibrationBuilder`](https://qiskit.org/documentation/stubs/qiskit.transpiler.passes.RZXCalibrationBuilder.html) can be used to attach the pulse schedule to the `RZXGate` by stretching the pre-calibrated pulse schedule for the CNOT gate. This calibration information is stored in a [`InstructionScheduleMap`] object and is available for each `Backend`. "
   ]
  },
  {
   "cell_type": "code",
   "execution_count": 75,
   "metadata": {},
   "outputs": [
    {
     "data": {
      "image/png": "[encoded data removed]",
      "text/plain": [
       "<Figure size 956.183x200.667 with 1 Axes>"
      ]
     },
     "execution_count": 75,
     "metadata": {},
     "output_type": "execute_result"
    }
   ],
   "source": [
    "inst_sched_map = ecr_backend.defaults().instruction_schedule_map\n",
    "channel_map = ecr_backend.configuration().qubit_channel_mapping\n",
    "pass_manager = PassManager([RZXCalibrationBuilder(inst_sched_map, channel_map)])\n",
    "rzx_circ = pass_manager.run(rzx_circ)\n",
    "rzx_circ.draw('mpl', fold=-1)"
   ]
  },
  {
   "cell_type": "markdown",
   "metadata": {},
   "source": [
    "Not all 2-qubit unitary will result in shorter circuit duration. It depends on the circuit parameters. To see this explicitly, let's perform transpilation for different parameters and get the circuit duration by [building pulse schedules](https://qiskit.org/documentation/tutorials/circuits_advanced/06_building_pulse_schedules.html) of the transpiled circuit."
   ]
  },
  {
   "cell_type": "markdown",
   "metadata": {},
   "source": [
    "### estimate circuit duration"
   ]
  },
  {
   "cell_type": "code",
   "execution_count": 11,
   "metadata": {},
   "outputs": [],
   "source": [
    "# transpile to CNOT and get circuit duration\n",
    "def cal_ecr_circ_duration(circuit: QuantumCircuit, backend: Backend, params: Dict) -> int:\n",
    "    # transpile circuit into cx basis gate, get duration\n",
    "    ecr_circ = transpile(circuit, backend=backend, basis_gates=['ecr', 'x', 'sx', 'rz'])\n",
    "    # assign parameters\n",
    "    parameters = ecr_circ.parameters\n",
    "    params_dict = {parameters[0]: params['Jt'],\n",
    "                parameters[1]: params['ht']}\n",
    "    ecr_circ.assign_parameters(params_dict, inplace=True)\n",
    "    # schedule\n",
    "    circuits_transpiled = build_schedule(ecr_circ, backend)\n",
    "    return circuits_transpiled.duration\n",
    "\n",
    "# transpile to rzx and get circuit duration\n",
    "def cal_rzx_circ_duration(circuit: QuantumCircuit, backend: Backend, params: Dict):\n",
    "    # transpile\n",
    "    rzx_circ = transpile(circuit, backend=backend, basis_gates=['rzx', 'x', 'sx', 'rz'])\n",
    "    # assign parameters\n",
    "    parameters = rzx_circ.parameters\n",
    "    params_dict = {parameters[0]: params['Jt'],\n",
    "                   parameters[1]: params['ht']}\n",
    "    rzx_circ.assign_parameters(params_dict, inplace=True)\n",
    "    # attach schedule\n",
    "    inst_sched_map = backend.instruction_schedule_map\n",
    "    channel_map = backend.configuration().qubit_channel_mapping\n",
    "    pass_manager = PassManager([RZXCalibrationBuilder(inst_sched_map, channel_map)])\n",
    "    rzx_circ = pass_manager.run(rzx_circ)\n",
    "    # schedule\n",
    "    rzx_schedule = build_schedule(rzx_circ, backend)\n",
    "    return rzx_schedule.duration"
   ]
  },
  {
   "cell_type": "markdown",
   "metadata": {},
   "source": [
    "Below, we sweep the entangling angle from $0$ to $\\pi$ and compare which transpilation gives shorter circuit duration, the standard CNOT transpilation or the `RZXGate` transpilation. "
   ]
  },
  {
   "cell_type": "code",
   "execution_count": 12,
   "metadata": {},
   "outputs": [],
   "source": [
    "angles = np.linspace(0, np.pi, 100)\n",
    "ecr_durations = [cal_ecr_circ_duration(qc, ecr_backend, {'Jt': J*t, 'ht': h*t}) for t in angles]\n",
    "rzx_durations = [cal_rzx_circ_duration(qc, ecr_backend, {'Jt': J*t, 'ht': h*t}) for t in angles]"
   ]
  },
  {
   "cell_type": "code",
   "execution_count": 13,
   "metadata": {},
   "outputs": [
    {
     "data": {
      "text/plain": [
       "<matplotlib.legend.Legend at 0x3353ccc90>"
      ]
     },
     "execution_count": 13,
     "metadata": {},
     "output_type": "execute_result"
    },
    {
     "data": {
      "image/png": "[encoded data removed]",
      "text/plain": [
       "<Figure size 640x480 with 1 Axes>"
      ]
     },
     "metadata": {},
     "output_type": "display_data"
    }
   ],
   "source": [
    "plt.plot(angles, ecr_durations,label='cx')\n",
    "plt.plot(angles, rzx_durations, label='rzx')\n",
    "plt.xlabel(r'entangleing angle $t$')\n",
    "plt.ylabel('circuit duration in dt')\n",
    "plt.legend()"
   ]
  },
  {
   "cell_type": "markdown",
   "metadata": {},
   "source": [
    "From the plot above, it is clear that the `RZXGate` transpilation results in shorter circuit duration for small entangling angles\n",
    "\n",
    "### A larger example\n",
    "Let's extend our example to a 1D spin chain of $N=21$ qubits. We follow the same steps to transpile into a basis gate set that includes either a `cx` or a `rzx` gate. This is what the trotterized evolution circuit looks like."
   ]
  },
  {
   "cell_type": "code",
   "execution_count": 223,
   "metadata": {},
   "outputs": [],
   "source": [
    "num_qubits = 21\n",
    "evol = build_trotter_evolution(num_qubits=num_qubits, rep=10)"
   ]
  },
  {
   "cell_type": "markdown",
   "metadata": {},
   "source": [
    "Initialize the qubit state in the `0101...01` antiferromagnetic state, then compose the evolution circuit `evol` after the state initialization. At least, we assign circuit parameters $Jt=0.1$ and $ht=0$. "
   ]
  },
  {
   "cell_type": "code",
   "execution_count": 224,
   "metadata": {},
   "outputs": [],
   "source": [
    "qr = QuantumRegister(num_qubits, 'q')\n",
    "qc = QuantumCircuit(qr) \n",
    "# state initialization\n",
    "for i in range(0, num_qubits, 2):\n",
    "    qc.x(i)\n",
    "\n",
    "# evolve\n",
    "qc.compose(evol, inplace=True)\n",
    "\n",
    "# assign parameters\n",
    "parameters = qc.parameters\n",
    "qc.assign_parameters({parameters[0]: 0.1, parameters[1]: 0}, inplace=True)"
   ]
  },
  {
   "cell_type": "markdown",
   "metadata": {},
   "source": [
    "Now, we are ready to perform transpilation. As an example, we will transpile to run on the backend `ibm_auckland`. We define two functions: one to transpile into a basis gate set includes the `ecr` gate, and the other includes the `rzx` gate."
   ]
  },
  {
   "cell_type": "code",
   "execution_count": 225,
   "metadata": {},
   "outputs": [],
   "source": [
    "def transpile_to_ecr(circuit: QuantumCircuit, \n",
    "                    layout: List,\n",
    "                     backend: Backend):\n",
    "    BASIS_GATES = ['ecr', 'x', 'sx', 'rz']\n",
    "    # transpile\n",
    "    ecr_circ = transpile(circuit, basis_gates=BASIS_GATES, backend=backend, initial_layout=layout, layout_method='trivial', optimization_level=1)\n",
    "    print(f'ECR transpile: two-qubit circuit depth = {ecr_circ.depth(lambda x: x[0].num_qubits == 2)}')\n",
    "    return ecr_circ\n",
    "\n",
    "def transpile_to_rzx(circuit: QuantumCircuit, \n",
    "                     layout: List,\n",
    "                     backend: Backend):\n",
    "    BASIS_GATES = ['rzx', 'x', 'sx', 'rz']\n",
    "    # transpile\n",
    "    rzx_circ = transpile(qc, basis_gates= BASIS_GATES, backend=backend, initial_layout=layout, layout_method='trivial',  optimization_level=1)\n",
    "    # optimize 1q\n",
    "    pm = PassManager([Optimize1qGatesDecomposition([\"rzx\", \"x\", \"sx\", \"rz\" ])])\n",
    "    rzx_circ = pm.run(rzx_circ)\n",
    "    # attach schedule\n",
    "    inst_sched_map = backend.defaults().instruction_schedule_map\n",
    "    channel_map = backend.configuration().qubit_channel_mapping\n",
    "\n",
    "    pass_manager = PassManager([\n",
    "                                RZXCalibrationBuilder(inst_sched_map, channel_map)],\n",
    "                                FullAncillaAllocation(CouplingMap(backend.configuration().coupling_map)))\n",
    "    rzx_circ = pass_manager.run(rzx_circ)\n",
    "    print(f'RZX transpile: two-qubit circuit depth = {rzx_circ.depth(lambda x: x[0].num_qubits == 2)}')\n",
    "    return rzx_circ"
   ]
  },
  {
   "cell_type": "code",
   "execution_count": 226,
   "metadata": {},
   "outputs": [
    {
     "name": "stdout",
     "output_type": "stream",
     "text": [
      "ECR transpile: two-qubit circuit depth = 40\n",
      "ECR circuit duration: 30.06 us\n",
      "RZX transpile: two-qubit circuit depth = 20\n",
      "RZX circuit duration: 6.220000000000001 us\n"
     ]
    }
   ],
   "source": [
    "# map to physical qubits that form 1D chain\n",
    "layout = [0, 1, 2, 3, 4, 5, 6, 7, 8, 9, 10, 11, 12, 17, 30, 31, 32, 36, 51, 50, 49]\n",
    "\n",
    "# transpile into ECR gates\n",
    "ecr_circ = transpile_to_ecr(qc, layout=layout, backend=ecr_backend)\n",
    "print(f'ECR circuit duration: {build_schedule(ecr_circ, ecr_backend).duration*ecr_backend.dt*10**6} us')\n",
    "# transpile into RZX gates\n",
    "rzx_circ = transpile_to_rzx(qc, layout=layout, backend=ecr_backend)\n",
    "print(f'RZX circuit duration: {build_schedule(rzx_circ, ecr_backend).duration*ecr_backend.dt*10**6} us')\n"
   ]
  },
  {
   "cell_type": "markdown",
   "metadata": {},
   "source": [
    "After transpilation, we notice:\n",
    "* virtual qubits are mapped to physical qubits, and the transpiled circuits `ecr_circ` and `rzx_circ` are defined over all 27 physical qubits.\n",
    "* gates are parsed in the basis gates. When we use the `rzx` based transpilation, all `RZXGate`s should have calibrations attached.\n",
    "Layout information of the transpiled circuit is stored, and we can visualize it by calling `plot_circuit_layout.` Below, we see our original circuit `qc` on a 1D spin chain is mapped to the backend, and the physical qubits used are marked in black."
   ]
  },
  {
   "cell_type": "code",
   "execution_count": null,
   "metadata": {},
   "outputs": [],
   "source": [
    "sim_result"
   ]
  },
  {
   "cell_type": "markdown",
   "metadata": {},
   "source": [
    "# Qiskit Patterns Step 3: execute"
   ]
  },
  {
   "cell_type": "markdown",
   "metadata": {},
   "source": [
    "Finally, we run the `RZX`-based transpiled circuit on the hardware using the Runtime. To compare, we also run the `CX`-based transpiled circuit. Since we already transpiled our circuits in a customized way, we set `skip_transpilation = True`. "
   ]
  },
  {
   "cell_type": "code",
   "execution_count": 236,
   "metadata": {},
   "outputs": [],
   "source": [
    "from qiskit_ibm_runtime import Options\n",
    "from qiskit_ibm_runtime import Session, EstimatorV1 as Estimator\n",
    "obs = SparsePauliOp('ZZ' + 'I' * (num_qubits - 2))\n",
    "# Transpile the observable\n",
    "ecr_obs= obs.apply_layout(ecr_circ.layout)\n",
    "shots = 10000\n",
    "\n",
    "options = Options()\n",
    "options.execution.shots = shots\n",
    "options.transpilation.skip_transpilation = True\n",
    "options.resilience_level= 1\n",
    "estimator = Estimator(session=Session(service, backend=ecr_backend), options=options)\n",
    "rzx_job_zz = estimator.run(rzx_circ, ecr_obs)\n",
    "ecr_job_zz = estimator.run(ecr_circ, ecr_obs)"
   ]
  },
  {
   "cell_type": "markdown",
   "metadata": {},
   "source": [
    "# Qiskit Patterns Step 4: compare results"
   ]
  },
  {
   "cell_type": "markdown",
   "metadata": {},
   "source": [
    "Note that under the condition $ht=0$, the Hamiltonian evolution preserves the initial $Z_iZ_{i+1}$ correlation, hence we know the exact value of ZZ correlatoin is -1. From the comparison below, the RZX-based pulse-efficient transpilation gives result closer to the exact value due to shorter circuit duration."
   ]
  },
  {
   "cell_type": "code",
   "execution_count": 254,
   "metadata": {},
   "outputs": [
    {
     "name": "stdout",
     "output_type": "stream",
     "text": [
      "exact_value = -1\n",
      "rzx_value = -0.5224599266631744+/-0.00936996979126887\n",
      "ecr_value = -0.13240683311432325+/-0.010683042636226832\n"
     ]
    }
   ],
   "source": [
    "### Compare exact, standard ECR-based transpilation, vs RZX-based transpilation\n",
    "print(f'exact_value = -1')\n",
    "print(f'rzx_value = {rzx_job_zz.result().values[0]}' + '+/-' + f'{np.sqrt(rzx_job_zz.result().metadata[0][\"variance\"])/np.sqrt(shots)}')\n",
    "print(f'ecr_value = {ecr_job_zz.result().values[0]}' + '+/-' + f'{np.sqrt(ecr_job_zz.result().metadata[0][\"variance\"])/np.sqrt(shots)}')"
   ]
  },
  {
   "cell_type": "markdown",
   "metadata": {},
   "source": [
    "In this notebook, we started from a simple two-qubit example, and we see that the `RZXGate` transpilation shortens the circuit duration when the trotter step $t$ (which corresponds to the entangling angle in the `RZXGate`) is small. In the larger 21-qubit example, we have shown how to transpile and run the circuit with the `Estimator.` We have seen that the `RZXGate` transpilation produces results closer to the exact value."
   ]
  },
  {
   "cell_type": "markdown",
   "metadata": {},
   "source": [
    "To conclude, we have shown you how to transpile into `RZXGate`s. You may wonder if this method is useful for your circuit. Try it out on your own circuit using the `transpile_to_rzx()` function. To compare with the standard CNOT-based transpilation, use the `transpile_to_cx()` function. You can use the circuit duration calculator `cal_cx_circ_duration` and `cal_rzx_circ_duration` to see if  `RZXGate` transpilation gives shorter circuits!"
   ]
  },
  {
   "cell_type": "code",
   "execution_count": 96,
   "metadata": {},
   "outputs": [
    {
     "name": "stdout",
     "output_type": "stream",
     "text": [
      "numpy version 1.26.4\n",
      "qiskit runtime version 0.22.0\n",
      "qiskit version 1.0.0\n"
     ]
    }
   ],
   "source": [
    "import numpy\n",
    "print(f\"numpy version {numpy.__version__}\")\n",
    "\n",
    "import qiskit_ibm_runtime\n",
    "print(f\"qiskit runtime version {qiskit_ibm_runtime.version.get_version_info()}\")\n",
    "\n",
    "import qiskit\n",
    "print(f\"qiskit version {qiskit.version.get_version_info()}\")"
   ]
  }
 ],
 "metadata": {
  "kernelspec": {
   "display_name": "runtime",
   "language": "python",
   "name": "python3"
  },
  "language_info": {
   "codemirror_mode": {
    "name": "ipython",
    "version": 3
   },
   "file_extension": ".py",
   "mimetype": "text/x-python",
   "name": "python",
   "nbconvert_exporter": "python",
   "pygments_lexer": "ipython3",
   "version": "3.11.6"
  },
  "orig_nbformat": 4
 },
 "nbformat": 4,
 "nbformat_minor": 2
}
