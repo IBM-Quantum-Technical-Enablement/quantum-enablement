{
 "cells": [
  {
   "cell_type": "markdown",
   "metadata": {},
   "source": [
    "# Calculating ground states on large scale systems: Quantum Krylov Subspaces"
   ]
  },
  {
   "cell_type": "markdown",
   "metadata": {},
   "source": [
    "### Imports and definitions\n",
    "\n"
   ]
  },
  {
   "cell_type": "code",
   "execution_count": 1,
   "metadata": {},
   "outputs": [],
   "source": [
    "import numpy as np\n",
    "import scipy as sp\n",
    "import matplotlib.pylab as plt\n",
    "from typing import Union, List\n",
    "import warnings\n",
    "warnings.filterwarnings('ignore')\n",
    "\n",
    "from qiskit.quantum_info import SparsePauliOp, Pauli\n",
    "from qiskit.circuit import Parameter\n",
    "from qiskit import QuantumCircuit, QuantumRegister, transpile\n",
    "from qiskit.circuit.library import PauliEvolutionGate\n",
    "from qiskit.synthesis import SuzukiTrotter\n",
    "from qiskit.providers.fake_provider import Fake20QV1\n",
    "from qiskit_ibm_runtime import QiskitRuntimeService, EstimatorV2 as Estimator\n",
    "\n",
    "import itertools as it\n",
    "\n",
    "def solve_regularized_gen_eig(h: np.ndarray, s:np.ndarray, threshold: float, k: int =1, return_dimn: bool = False) -> Union[float, List[float]]:\n",
    "    \"\"\"\n",
    "    Method for solving the generalized eigenvalue problem with regularization\n",
    "\n",
    "    Args:\n",
    "        h (numpy.ndarray):\n",
    "            The effective representation of the matrix in the Krylov subspace\n",
    "        s (numpy.ndarray):\n",
    "            The matrix of overlaps between vectors of the Krylov subspace\n",
    "        threshold (float):\n",
    "            Cut-off value for the eigenvalue of s\n",
    "        k (int):\n",
    "            Number of eigenvalues to return\n",
    "        return_dimn (bool):\n",
    "            Whether to return the size of the regularized subspace\n",
    "\n",
    "    Returns:\n",
    "        lowest k-eigenvalue(s) that are the solution of the regularized generalized eigenvalue problem\n",
    "\n",
    "    \n",
    "    \"\"\"\n",
    "    s_vals, s_vecs = sp.linalg.eigh(s)\n",
    "    s_vecs = s_vecs.T\n",
    "    good_vecs = np.array([vec for val, vec in zip(s_vals, s_vecs) if val > threshold])\n",
    "    h_reg = good_vecs.conj() @ h @ good_vecs.T\n",
    "    s_reg = good_vecs.conj() @ s @ good_vecs.T\n",
    "    if k==1:\n",
    "        if return_dimn:\n",
    "            return sp.linalg.eigh(h_reg, s_reg)[0][0], len(good_vecs)\n",
    "        else:\n",
    "            return sp.linalg.eigh(h_reg, s_reg)[0][0]\n",
    "    else:\n",
    "        if return_dimn:\n",
    "            return sp.linalg.eigh(h_reg, s_reg)[0][:k], len(good_vecs)\n",
    "        else:\n",
    "            return sp.linalg.eigh(h_reg, s_reg)[0][:k]\n",
    "        \n",
    "\n",
    "\n",
    "def single_particle_gs(H_op, n_qubits):\n",
    "    H_x = []\n",
    "    for p, coeff in H_op.to_list():\n",
    "        H_x.append(set([i for i,v in enumerate(Pauli(p).x) if v]))\n",
    "\n",
    "    H_z = []\n",
    "    for p, coeff in H_op.to_list():\n",
    "        H_z.append(set([i for i,v in enumerate(Pauli(p).z) if v]))\n",
    "\n",
    "    H_c = H_op.coeffs\n",
    "\n",
    "    print('n_sys_qubits', n_qubits)\n",
    "\n",
    "    # n_exc particle Hamiltonian:\n",
    "\n",
    "    n_exc = 1\n",
    "    sub_dimn = int(sp.special.comb(n_qubits+1,n_exc))\n",
    "    print('n_exc', n_exc, ', subspace dimension', sub_dimn)\n",
    "\n",
    "    few_particle_H = np.zeros((sub_dimn,sub_dimn), dtype=complex)\n",
    "\n",
    "    sparse_vecs = [set(vec) for vec in it.combinations(range(n_qubits+1),r=n_exc)] # list all of the possible sets of n_exc indices of 1s in n_exc-particle states\n",
    "\n",
    "    m = 0\n",
    "    for i, i_set in enumerate(sparse_vecs):\n",
    "        for j, j_set in enumerate(sparse_vecs):\n",
    "            m += 1\n",
    "            # if m % int((sub_dimn**2)/100) == 0:\n",
    "            #     print(np.round(m/int((sub_dimn**2)/100),2), '% complete, time =', time.time()-start_time)\n",
    "            #     start_time = time.time()\n",
    "\n",
    "            if len(i_set.symmetric_difference(j_set)) <= 2:\n",
    "\n",
    "                for p_x, p_z, coeff in zip(H_x, H_z, H_c):\n",
    "\n",
    "                    if i_set.symmetric_difference(j_set) == p_x:\n",
    "                        sgn = ((-1j)**len(p_x.intersection(p_z)))*((-1)**len(i_set.intersection(p_z)))\n",
    "                    else:\n",
    "                        sgn = 0\n",
    "\n",
    "                    few_particle_H[i,j] += sgn*coeff\n",
    "\n",
    "    gs_en = min(np.linalg.eigvalsh(few_particle_H))\n",
    "    print('single particle ground state energy: ', gs_en)\n",
    "    return gs_en\n",
    "\n",
    "\n"
   ]
  },
  {
   "cell_type": "markdown",
   "metadata": {},
   "source": [
    "### Define Hamiltonian\n",
    "\n",
    "Let's consider the Heisenberg Hamiltonian for $N$ qubits on a linear chain: $H= J \\sum_{i,j}^N X_i X_j + Y_i Y_j - Z_i Z_j$"
   ]
  },
  {
   "cell_type": "code",
   "execution_count": 2,
   "metadata": {},
   "outputs": [
    {
     "name": "stdout",
     "output_type": "stream",
     "text": [
      "[('ZZIIIII', -1), ('IZZIIII', -1), ('IIZZIII', -1), ('IIIZZII', -1), ('IIIIZZI', -1), ('IIIIIZZ', -1), ('XXIIIII', 1), ('IXXIIII', 1), ('IIXXIII', 1), ('IIIXXII', 1), ('IIIIXXI', 1), ('IIIIIXX', 1), ('YYIIIII', 1), ('IYYIIII', 1), ('IIYYIII', 1), ('IIIYYII', 1), ('IIIIYYI', 1), ('IIIIIYY', 1)]\n"
     ]
    }
   ],
   "source": [
    "# Define problem Hamiltonian.\n",
    "n_qubits = 7\n",
    "J = 1 # coupling strength for ZZ interaction\n",
    "\n",
    "# Define the Hamiltonian: \n",
    "H_int = [['I']*n_qubits for _ in range(3*(n_qubits-1))]\n",
    "for i in range(n_qubits-1):\n",
    "    H_int[i][i] = 'Z'\n",
    "    H_int[i][i+1] = 'Z'\n",
    "for i in range(n_qubits-1):\n",
    "    H_int[n_qubits-1+i][i] = 'X'\n",
    "    H_int[n_qubits-1+i][i+1] = 'X'\n",
    "for i in range(n_qubits-1):\n",
    "    H_int[2*(n_qubits-1)+i][i] = 'Y'\n",
    "    H_int[2*(n_qubits-1)+i][i+1] = 'Y'\n",
    "H_int = [''.join(term) for term in H_int]\n",
    "H_tot = [(term, -J) if term.count('Z') == 2 else (term, 1) for term in H_int]\n",
    "\n",
    "# Get operator\n",
    "H_op = SparsePauliOp.from_list(H_tot)\n",
    "print(H_tot)"
   ]
  },
  {
   "cell_type": "markdown",
   "metadata": {},
   "source": [
    "Heuristically choose `dt` (based on upper bounds)"
   ]
  },
  {
   "cell_type": "code",
   "execution_count": 3,
   "metadata": {},
   "outputs": [
    {
     "data": {
      "text/plain": [
       "0.5235987755982989"
      ]
     },
     "execution_count": 3,
     "metadata": {},
     "output_type": "execute_result"
    }
   ],
   "source": [
    "from qiskit.quantum_info import Pauli\n",
    "# Get Hamiltonian restricted to single-particle states\n",
    "single_particle_H = np.zeros((n_qubits,n_qubits))\n",
    "for i in range(n_qubits):\n",
    "    for j in range(i+1):\n",
    "        for p, coeff in H_op.to_list():\n",
    "            p_x = Pauli(p).x\n",
    "            p_z = Pauli(p).z\n",
    "            if all(p_x[k] == ((i==k)+(j==k))%2 for k in range(n_qubits)):\n",
    "                sgn = ((-1j)**sum(p_z[k] and p_x[k] for k in range(n_qubits)))*((-1)**p_z[i])\n",
    "            else:\n",
    "                sgn = 0\n",
    "            single_particle_H[i,j] += sgn*coeff\n",
    "for i in range(n_qubits):\n",
    "    for j in range(i+1,n_qubits):\n",
    "        single_particle_H[i,j] = np.conj(single_particle_H[j,i])\n",
    "\n",
    "# Set dt according to spectral norm\n",
    "dt = np.pi/np.linalg.norm(single_particle_H, ord=2)\n",
    "dt"
   ]
  },
  {
   "cell_type": "markdown",
   "metadata": {},
   "source": [
    "### Set parameters for the algorithm"
   ]
  },
  {
   "cell_type": "code",
   "execution_count": 4,
   "metadata": {},
   "outputs": [],
   "source": [
    "# Set parameters for quantum Krylov algorithm\n",
    "krylov_dim = 20 # size of krylov subspace\n",
    "num_trotter_steps = 6\n",
    "dt_circ = dt/num_trotter_steps"
   ]
  },
  {
   "cell_type": "markdown",
   "metadata": {},
   "source": [
    "### Decompose time-evolution operator with Suzuki-Trotter decomposition\n",
    "Instead of implementing the time-evolution operator exactly we can use the Suzuki-Trotter decomposition to implement an approximation of it. Repeating several times a certain order Trotter decomposition gives us further reduction of the error introduced from the approximation. In the following, we directly build the Trotter implementation in the most efficient way for the interaction graph of the Hamiltonian we are considering (nearest neighbor interactions only). In practice we insert Pauli rotations $R_{xx}$, $R_{yy}$, $R_{zz}$ with a parametrized angle $t$ which correspond to the approximate implementation of $e^{-i (XX + YY + ZZ) t}$. This gives a much shallower circuit than what is obtained using the generic `PauliEvolutionGate()` functionality. "
   ]
  },
  {
   "cell_type": "code",
   "execution_count": 5,
   "metadata": {},
   "outputs": [
    {
     "data": {
      "image/png": "[encoded data removed]",
      "text/plain": [
       "<Figure size 2075.92x309.361 with 1 Axes>"
      ]
     },
     "execution_count": 5,
     "metadata": {},
     "output_type": "execute_result"
    }
   ],
   "source": [
    "t = Parameter('t')\n",
    "\n",
    "# Create instruction for rotation about XX+YY-ZZ:\n",
    "Rxyz_circ = QuantumCircuit(2)\n",
    "Rxyz_circ.rxx(t,0,1)\n",
    "Rxyz_circ.ryy(t,0,1)\n",
    "Rxyz_circ.rzz(-t,0,1)\n",
    "Rxyz_instr = Rxyz_circ.to_instruction(label='RXX+YY-ZZ')\n",
    "\n",
    "interaction_list = [[[i, i+1] for i in range(0, n_qubits-1, 2)], [[i, i+1] for i in range(1, n_qubits-1, 2)]] # linear chain\n",
    "\n",
    "qr = QuantumRegister(n_qubits)\n",
    "trotter_step_circ = QuantumCircuit(qr)\n",
    "for i, color in enumerate(interaction_list):\n",
    "    for interaction in color:\n",
    "        trotter_step_circ.append(Rxyz_instr, interaction)\n",
    "reverse_trotter_step_circ = trotter_step_circ.reverse_ops()\n",
    "\n",
    "qc_evol = QuantumCircuit(qr)\n",
    "for step in range(num_trotter_steps):\n",
    "    if step % 2 == 0:\n",
    "        qc_evol = qc_evol.compose(trotter_step_circ)\n",
    "    else:\n",
    "        qc_evol = qc_evol.compose(reverse_trotter_step_circ)\n",
    "\n",
    "qc_evol.decompose().draw('mpl', fold=-1, scale = 0.5)\n",
    "\n"
   ]
  },
  {
   "cell_type": "markdown",
   "metadata": {},
   "source": [
    "### Use an optimized circuit for state preparation"
   ]
  },
  {
   "cell_type": "code",
   "execution_count": 6,
   "metadata": {},
   "outputs": [
    {
     "data": {
      "image/png": "[encoded data removed]",
      "text/plain": [
       "<Figure size 101.943x351.167 with 1 Axes>"
      ]
     },
     "execution_count": 6,
     "metadata": {},
     "output_type": "execute_result"
    }
   ],
   "source": [
    "controlled_state_prep = QuantumCircuit(n_qubits + 1)\n",
    "controlled_state_prep.cx(0,int(n_qubits/2)+1)\n",
    "controlled_state_prep.draw('mpl', fold=-1, scale=0.5)\n",
    "\n",
    "\n",
    "controlled_state_prep.draw('mpl', fold=-1, scale=0.5)"
   ]
  },
  {
   "cell_type": "markdown",
   "metadata": {},
   "source": [
    "### Template circuits for calculating matrix elements of $\\tilde{S}$ and $\\tilde{H}$ via Hadamard test\n",
    "The only difference between the circuits used in the Hadamard test will be the phase in the time-evolution operator and the observables measured. Therefore we can prepare a template circuit which represent the generic circuit for the Hadamard test, with placeholders for the gates that depend on the time-evolution operator."
   ]
  },
  {
   "cell_type": "code",
   "execution_count": 7,
   "metadata": {},
   "outputs": [],
   "source": [
    "# Parameters for the template circuits\n",
    "parameters = []\n",
    "for idx_ket in range(1, krylov_dim):\n",
    "    parameters.append(dt_circ*(idx_ket))"
   ]
  },
  {
   "cell_type": "code",
   "execution_count": 8,
   "metadata": {},
   "outputs": [
    {
     "data": {
      "image/png": "[encoded data removed]",
      "text/plain": [
       "<Figure size 4904.54x702.333 with 1 Axes>"
      ]
     },
     "execution_count": 8,
     "metadata": {},
     "output_type": "execute_result"
    }
   ],
   "source": [
    "# Create hadamard test circuit for real part\n",
    "qr = QuantumRegister(n_qubits+1)\n",
    "qc_real = QuantumCircuit(qr)\n",
    "qc_real.h(0)\n",
    "qc_real.compose(controlled_state_prep, list(range(n_qubits+1)), inplace=True)\n",
    "# qc_real.barrier()\n",
    "qc_real.compose(qc_evol, list(range(1, n_qubits+1)), inplace=True)\n",
    "# qc_real.barrier()\n",
    "qc_real.x(0)\n",
    "qc_real.compose(controlled_state_prep.inverse(), list(range(n_qubits+1)), inplace=True)\n",
    "qc_real.x(0)\n",
    "qc_real.h(0)\n",
    "\n",
    "S_real_circ = qc_real.decompose().copy()\n",
    "\n",
    "H_real_circ = qc_real.decompose().copy()\n",
    "\n",
    "# # Create hadamard test circuit for imaginary part\n",
    "qr = QuantumRegister(n_qubits+1)\n",
    "qc_imag = QuantumCircuit(qr)\n",
    "qc_imag.h(0)\n",
    "qc_imag.sdg(0)\n",
    "qc_imag.compose(controlled_state_prep, list(range(n_qubits+1)), inplace=True)\n",
    "# qc_imag.barrier()\n",
    "qc_imag.compose(qc_evol, list(range(1, n_qubits+1)), inplace=True)\n",
    "# qc_imag.barrier()\n",
    "qc_imag.x(0)\n",
    "qc_imag.compose(controlled_state_prep.inverse(), list(range(n_qubits+1)), inplace=True)\n",
    "qc_imag.x(0)\n",
    "qc_imag.h(0)\n",
    "\n",
    "\n",
    "S_imag_circ = qc_imag.decompose().copy()\n",
    "\n",
    "H_imag_circ = qc_imag.decompose().copy()\n",
    "\n",
    "S_real_circ.draw('mpl', fold=-1)"
   ]
  },
  {
   "cell_type": "markdown",
   "metadata": {},
   "source": [
    "## Step 3: Execute using a quantum primitive"
   ]
  },
  {
   "cell_type": "markdown",
   "metadata": {},
   "source": [
    "Instantiate the backend and set runtime parameters"
   ]
  },
  {
   "cell_type": "code",
   "execution_count": 9,
   "metadata": {},
   "outputs": [
    {
     "ename": "QiskitBackendNotFoundError",
     "evalue": "\"Backend ibm_pinguino1 is not in ibm-q-internal/performance/reservations. Please try a different instance. ibm_pinguino1 is in the following instances you have access to: ['ibm-q-internal/dev-sys-software/internal-test']\"",
     "output_type": "error",
     "traceback": [
      "\u001b[0;31m---------------------------------------------------------------------------\u001b[0m",
      "\u001b[0;31mQiskitBackendNotFoundError\u001b[0m                Traceback (most recent call last)",
      "Cell \u001b[0;32mIn[9], line 26\u001b[0m\n\u001b[1;32m     24\u001b[0m     backend_id \u001b[38;5;241m=\u001b[39m \u001b[38;5;124m'\u001b[39m\u001b[38;5;124mibm_pinguino1\u001b[39m\u001b[38;5;124m'\u001b[39m\n\u001b[1;32m     25\u001b[0m     \u001b[38;5;66;03m# backend_id = 'ibm_torino'\u001b[39;00m\n\u001b[0;32m---> 26\u001b[0m     backend \u001b[38;5;241m=\u001b[39m \u001b[43mservice\u001b[49m\u001b[38;5;241;43m.\u001b[39;49m\u001b[43mbackend\u001b[49m\u001b[43m(\u001b[49m\u001b[43mbackend_id\u001b[49m\u001b[43m)\u001b[49m\n\u001b[1;32m     28\u001b[0m shots \u001b[38;5;241m=\u001b[39m \u001b[38;5;241m30000\u001b[39m\n",
      "File \u001b[0;32m~/opt/miniconda3/envs/krylov-1.0/lib/python3.12/site-packages/qiskit_ibm_runtime/qiskit_runtime_service.py:778\u001b[0m, in \u001b[0;36mQiskitRuntimeService.backend\u001b[0;34m(self, name, instance)\u001b[0m\n\u001b[1;32m    762\u001b[0m \u001b[38;5;250m\u001b[39m\u001b[38;5;124;03m\"\"\"Return a single backend matching the specified filtering.\u001b[39;00m\n\u001b[1;32m    763\u001b[0m \n\u001b[1;32m    764\u001b[0m \u001b[38;5;124;03mArgs:\u001b[39;00m\n\u001b[0;32m   (...)\u001b[0m\n\u001b[1;32m    775\u001b[0m \u001b[38;5;124;03m    QiskitBackendNotFoundError: if no backend could be found.\u001b[39;00m\n\u001b[1;32m    776\u001b[0m \u001b[38;5;124;03m\"\"\"\u001b[39;00m\n\u001b[1;32m    777\u001b[0m \u001b[38;5;66;03m# pylint: disable=arguments-differ, line-too-long\u001b[39;00m\n\u001b[0;32m--> 778\u001b[0m backends \u001b[38;5;241m=\u001b[39m \u001b[38;5;28;43mself\u001b[39;49m\u001b[38;5;241;43m.\u001b[39;49m\u001b[43mbackends\u001b[49m\u001b[43m(\u001b[49m\u001b[43mname\u001b[49m\u001b[43m,\u001b[49m\u001b[43m \u001b[49m\u001b[43minstance\u001b[49m\u001b[38;5;241;43m=\u001b[39;49m\u001b[43minstance\u001b[49m\u001b[43m)\u001b[49m\n\u001b[1;32m    779\u001b[0m \u001b[38;5;28;01mif\u001b[39;00m \u001b[38;5;129;01mnot\u001b[39;00m backends:\n\u001b[1;32m    780\u001b[0m     cloud_msg_url \u001b[38;5;241m=\u001b[39m \u001b[38;5;124m\"\u001b[39m\u001b[38;5;124m\"\u001b[39m\n",
      "File \u001b[0;32m~/opt/miniconda3/envs/krylov-1.0/lib/python3.12/site-packages/qiskit_ibm_runtime/qiskit_runtime_service.py:541\u001b[0m, in \u001b[0;36mQiskitRuntimeService.backends\u001b[0;34m(self, name, min_num_qubits, instance, dynamic_circuits, filters, **kwargs)\u001b[0m\n\u001b[1;32m    539\u001b[0m \u001b[38;5;28;01mif\u001b[39;00m \u001b[38;5;129;01mnot\u001b[39;00m \u001b[38;5;28mself\u001b[39m\u001b[38;5;241m.\u001b[39m_backends[name] \u001b[38;5;129;01mor\u001b[39;00m instance_filter \u001b[38;5;241m!=\u001b[39m \u001b[38;5;28mself\u001b[39m\u001b[38;5;241m.\u001b[39m_backends[name]\u001b[38;5;241m.\u001b[39m_instance:\n\u001b[1;32m    540\u001b[0m     \u001b[38;5;28mself\u001b[39m\u001b[38;5;241m.\u001b[39m_set_backend_config(name)\n\u001b[0;32m--> 541\u001b[0m     \u001b[38;5;28mself\u001b[39m\u001b[38;5;241m.\u001b[39m_backends[name] \u001b[38;5;241m=\u001b[39m \u001b[38;5;28;43mself\u001b[39;49m\u001b[38;5;241;43m.\u001b[39;49m\u001b[43m_create_backend_obj\u001b[49m\u001b[43m(\u001b[49m\n\u001b[1;32m    542\u001b[0m \u001b[43m        \u001b[49m\u001b[38;5;28;43mself\u001b[39;49m\u001b[38;5;241;43m.\u001b[39;49m\u001b[43m_backend_configs\u001b[49m\u001b[43m[\u001b[49m\u001b[43mname\u001b[49m\u001b[43m]\u001b[49m\u001b[43m,\u001b[49m\n\u001b[1;32m    543\u001b[0m \u001b[43m        \u001b[49m\u001b[43minstance_filter\u001b[49m\u001b[43m,\u001b[49m\n\u001b[1;32m    544\u001b[0m \u001b[43m    \u001b[49m\u001b[43m)\u001b[49m\n\u001b[1;32m    545\u001b[0m \u001b[38;5;28;01mif\u001b[39;00m \u001b[38;5;28mself\u001b[39m\u001b[38;5;241m.\u001b[39m_backends[name]:\n\u001b[1;32m    546\u001b[0m     backends\u001b[38;5;241m.\u001b[39mappend(\u001b[38;5;28mself\u001b[39m\u001b[38;5;241m.\u001b[39m_backends[name])\n",
      "File \u001b[0;32m~/opt/miniconda3/envs/krylov-1.0/lib/python3.12/site-packages/qiskit_ibm_runtime/qiskit_runtime_service.py:633\u001b[0m, in \u001b[0;36mQiskitRuntimeService._create_backend_obj\u001b[0;34m(self, config, instance)\u001b[0m\n\u001b[1;32m    629\u001b[0m             \u001b[38;5;28;01mif\u001b[39;00m config\u001b[38;5;241m.\u001b[39mbackend_name \u001b[38;5;129;01min\u001b[39;00m hgp\u001b[38;5;241m.\u001b[39mbackends:\n\u001b[1;32m    630\u001b[0m                 hgps_with_backend\u001b[38;5;241m.\u001b[39mappend(\n\u001b[1;32m    631\u001b[0m                     to_instance_format(hgp\u001b[38;5;241m.\u001b[39m_hub, hgp\u001b[38;5;241m.\u001b[39m_group, hgp\u001b[38;5;241m.\u001b[39m_project)\n\u001b[1;32m    632\u001b[0m                 )\n\u001b[0;32m--> 633\u001b[0m         \u001b[38;5;28;01mraise\u001b[39;00m QiskitBackendNotFoundError(\n\u001b[1;32m    634\u001b[0m             \u001b[38;5;124mf\u001b[39m\u001b[38;5;124m\"\u001b[39m\u001b[38;5;124mBackend \u001b[39m\u001b[38;5;132;01m{\u001b[39;00mconfig\u001b[38;5;241m.\u001b[39mbackend_name\u001b[38;5;132;01m}\u001b[39;00m\u001b[38;5;124m is not in \u001b[39m\u001b[38;5;124m\"\u001b[39m\n\u001b[1;32m    635\u001b[0m             \u001b[38;5;124mf\u001b[39m\u001b[38;5;124m\"\u001b[39m\u001b[38;5;132;01m{\u001b[39;00minstance\u001b[38;5;132;01m}\u001b[39;00m\u001b[38;5;124m. Please try a different instance. \u001b[39m\u001b[38;5;124m\"\u001b[39m\n\u001b[1;32m    636\u001b[0m             \u001b[38;5;124mf\u001b[39m\u001b[38;5;124m\"\u001b[39m\u001b[38;5;132;01m{\u001b[39;00mconfig\u001b[38;5;241m.\u001b[39mbackend_name\u001b[38;5;132;01m}\u001b[39;00m\u001b[38;5;124m is in the following instances you have access to: \u001b[39m\u001b[38;5;124m\"\u001b[39m\n\u001b[1;32m    637\u001b[0m             \u001b[38;5;124mf\u001b[39m\u001b[38;5;124m\"\u001b[39m\u001b[38;5;132;01m{\u001b[39;00mhgps_with_backend\u001b[38;5;132;01m}\u001b[39;00m\u001b[38;5;124m\"\u001b[39m\n\u001b[1;32m    638\u001b[0m         )\n\u001b[1;32m    640\u001b[0m     \u001b[38;5;28;01mreturn\u001b[39;00m ibm_backend\u001b[38;5;241m.\u001b[39mIBMBackend(\n\u001b[1;32m    641\u001b[0m         instance\u001b[38;5;241m=\u001b[39minstance,\n\u001b[1;32m    642\u001b[0m         configuration\u001b[38;5;241m=\u001b[39mconfig,\n\u001b[1;32m    643\u001b[0m         service\u001b[38;5;241m=\u001b[39m\u001b[38;5;28mself\u001b[39m,\n\u001b[1;32m    644\u001b[0m         api_client\u001b[38;5;241m=\u001b[39m\u001b[38;5;28mself\u001b[39m\u001b[38;5;241m.\u001b[39m_api_client,\n\u001b[1;32m    645\u001b[0m     )\n\u001b[1;32m    646\u001b[0m \u001b[38;5;28;01mreturn\u001b[39;00m \u001b[38;5;28;01mNone\u001b[39;00m\n",
      "\u001b[0;31mQiskitBackendNotFoundError\u001b[0m: \"Backend ibm_pinguino1 is not in ibm-q-internal/performance/reservations. Please try a different instance. ibm_pinguino1 is in the following instances you have access to: ['ibm-q-internal/dev-sys-software/internal-test']\""
     ]
    }
   ],
   "source": [
    "from qiskit_ibm_runtime import QiskitRuntimeService, Session, Batch\n",
    "from qiskit_ibm_runtime.fake_provider import FakeTorino, FakeGuadalupeV2\n",
    "from qiskit_aer import AerSimulator\n",
    "\n",
    "\n",
    "SIM = False\n",
    "NOISE = False\n",
    "# service = QiskitRuntimeService(instance='ibm-q-internal/technical-enable/utokyol3enableme')#\n",
    "# service = QiskitRuntimeService(instance='quantum-demonstrations/main/krylov-gs')\n",
    "service = QiskitRuntimeService(instance='ibm-q-internal/performance/reservations')\n",
    "\n",
    "\n",
    "\n",
    "if SIM:\n",
    "    # backend = service.least_busy(simulator=True)\n",
    "    \n",
    "    if NOISE:\n",
    "        backend = AerSimulator.from_backend(FakeGuadalupeV2(), seed_simulator=42)\n",
    "\n",
    "    else:\n",
    "        backend = AerSimulator()\n",
    "\n",
    "else:\n",
    "    backend_id = 'ibm_pinguino1'\n",
    "    # backend_id = 'ibm_torino'\n",
    "    backend = service.backend(backend_id)\n",
    "\n",
    "shots = 30000\n"
   ]
  },
  {
   "cell_type": "code",
   "execution_count": null,
   "metadata": {},
   "outputs": [],
   "source": [
    "# from qiskit_ibm_runtime import QiskitRuntimeService, Session, Batch\n",
    "# from qiskit_ibm_runtime.fake_provider import FakeTorino, FakeGuadalupeV2\n",
    "# from qiskit_aer import AerSimulator\n",
    "\n",
    "\n",
    "# SIM = True\n",
    "# NOISE = False\n",
    "\n",
    "\n",
    "# backend = AerSimulator()\n",
    "\n",
    "# shots = 300000\n",
    "\n"
   ]
  },
  {
   "cell_type": "code",
   "execution_count": null,
   "metadata": {},
   "outputs": [],
   "source": [
    "# from qiskit_ibm_provider import IBMProvider\n",
    "# from qiskit_aer import AerSimulator\n",
    "# from qiskit_ibm_runtime import QiskitRuntimeService, Session, Batch\n",
    "\n",
    "\n",
    "# SIM = False\n",
    "# NOISE = False\n",
    "\n",
    "# # IBMQ.load_account()\n",
    "# provider = IBMProvider(name=\"staging\")\n",
    "# backend = provider.get_backend('ibm_montecarlo')\n",
    "# shots = 300000\n"
   ]
  },
  {
   "cell_type": "markdown",
   "metadata": {},
   "source": [
    "### Transpile + schedule with DD"
   ]
  },
  {
   "cell_type": "code",
   "execution_count": null,
   "metadata": {},
   "outputs": [],
   "source": [
    "from qiskit.circuit.library import XGate, YGate, RZGate\n",
    "from qiskit.transpiler import InstructionProperties\n",
    "from qiskit.transpiler import PassManager\n",
    "from qiskit.transpiler.preset_passmanagers import generate_preset_pass_manager\n",
    "from qiskit.transpiler.passes.scheduling import (\n",
    "    ALAPScheduleAnalysis,\n",
    "    PadDynamicalDecoupling,\n",
    ")\n",
    "\n",
    "if not SIM:\n",
    "\n",
    "\n",
    "    target = backend.target\n",
    "    basis_gates = list(target.operation_names)\n",
    "\n",
    "\n",
    "    X = XGate()\n",
    "    Y = YGate()\n",
    "    \n",
    "    # dd_sequence = [X, X, X, X]\n",
    "\n",
    "    dd_sequence=[XGate(), RZGate(np.pi), XGate(), RZGate(-np.pi)]\n",
    "    spacing = [1 / 4, 1 / 2, 0, 0, 1 / 4]\n",
    "\n",
    "\n",
    "    \n",
    "    y_gate_properties = {}\n",
    "    for qubit in range(target.num_qubits):\n",
    "        y_gate_properties.update(\n",
    "            {\n",
    "                (qubit,): InstructionProperties(\n",
    "                    duration=target[\"x\"][(qubit,)].duration,\n",
    "                    error=target[\"x\"][(qubit,)].error,\n",
    "                )\n",
    "            }\n",
    "        )\n",
    "    if 'y' not in target.operation_names:\n",
    "        target.add_instruction(YGate(), y_gate_properties)\n",
    "\n",
    "    pm = generate_preset_pass_manager(optimization_level=3, backend=backend, basis_gates=basis_gates)\n",
    "\n",
    "\n",
    "    pm.scheduling = PassManager(\n",
    "        [\n",
    "            ALAPScheduleAnalysis(target=target),\n",
    "            PadDynamicalDecoupling(target=target, dd_sequence=dd_sequence, spacing=spacing),\n",
    "        ]\n",
    "    )\n",
    "\n",
    "    S_real_circ_trans = pm.run(S_real_circ)\n",
    "    S_imag_circ_trans = pm.run(S_imag_circ)\n",
    "\n",
    "    H_real_circ_trans = pm.run(H_real_circ)\n",
    "    H_imag_circ_trans = pm.run(H_imag_circ)\n",
    "\n",
    "elif SIM and NOISE:\n",
    "    target = backend.target\n",
    "    basis_gates = list(target.operation_names)\n",
    "    pm = generate_preset_pass_manager(optimization_level=3, backend=backend, basis_gates=basis_gates)\n",
    "\n",
    "    S_real_circ_trans = pm.run(S_real_circ)\n",
    "    S_imag_circ_trans = pm.run(S_imag_circ)\n",
    "\n",
    "    H_real_circ_trans = pm.run(H_real_circ)\n",
    "    H_imag_circ_trans = pm.run(H_imag_circ)\n"
   ]
  },
  {
   "cell_type": "code",
   "execution_count": null,
   "metadata": {},
   "outputs": [],
   "source": [
    "# S_real_circ_trans.draw('mpl', fold=-1, idle_wires=False, scale=0.5)\n",
    "# S_real_circ_trans.depth(lambda x: x[0].num_qubits==2)\n",
    "# S_real_circ_trans.count_ops()['cz']"
   ]
  },
  {
   "cell_type": "code",
   "execution_count": null,
   "metadata": {},
   "outputs": [],
   "source": [
    "# from qiskit.visualization import timeline_drawer\n",
    "# from qiskit.transpiler.passes.scheduling import ALAPSchedule\n",
    "# from qiskit.transpiler import PassManager, InstructionDurations\n",
    "\n",
    "# b_circ = S_real_circ_trans_dd.assign_parameters({t:1})\n",
    "# durations = InstructionDurations().from_backend(backend)\n",
    "# pm = PassManager([ALAPSchedule(durations=durations)])\n",
    "# sched_circ = pm.run(b_circ)\n",
    "\n",
    "# timeline_drawer(sched_circ, show_idle=False)\n",
    "# # timeline_drawer(b_circ)"
   ]
  },
  {
   "cell_type": "code",
   "execution_count": null,
   "metadata": {},
   "outputs": [],
   "source": [
    "# Define observables to measure for S\n",
    "observable = 'I'*(n_qubits) + 'Z'\n",
    "\n",
    "if not SIM or (SIM and NOISE):\n",
    "\n",
    "    layout = S_real_circ_trans.layout\n",
    "\n",
    "    observable_op = SparsePauliOp(observable)\n",
    "    observable_op = observable_op.apply_layout(layout)\n",
    "    observable = observable_op.paulis.to_labels()\n",
    "\n",
    "\n",
    "# Define a set of observables to measure\n",
    "else:\n",
    "    observable = ['I'*(n_qubits) + 'Z']\n",
    "\n",
    "observables_S = [observable]\n",
    "\n",
    "# Define a sweep over parameter values\n",
    "params = np.vstack(parameters).T\n",
    "\n",
    "# Estimate the expectation value for all combinations of\n",
    "# observables and parameter values, where the pub result will have\n",
    "# shape (# observables, # parameter values).\n",
    "\n",
    "if not SIM or (SIM and NOISE):\n",
    "    pub_S_real = (S_real_circ_trans, observables_S, params)\n",
    "    pub_S_imag = (S_imag_circ_trans, observables_S, params)\n",
    "else:\n",
    "    pub_S_real = (S_real_circ, observables_S, params)\n",
    "    pub_S_imag = (S_imag_circ, observables_S, params)\n",
    "\n",
    "\n",
    "\n",
    "# Define observables to measure for H\n",
    "# Hamiltonian terms to measure\n",
    "observable_list = []\n",
    "for pauli, coeff in zip(H_op.paulis, H_op.coeffs):\n",
    "    # print(pauli)\n",
    "    observable = pauli[::-1].to_label() + 'Z'\n",
    "    observable_list.append([observable])\n",
    "\n",
    "\n",
    "if not SIM or (SIM and NOISE):\n",
    "\n",
    "    layout = H_real_circ_trans.layout\n",
    "\n",
    "    observable_trans_list = []\n",
    "    for observable in observable_list:\n",
    "        observable_op = SparsePauliOp(observable)\n",
    "        observable_op = observable_op.apply_layout(layout)\n",
    "        observable_trans_list.append(observable_op.paulis.to_labels())\n",
    "\n",
    "    observable_list = observable_trans_list\n",
    "\n",
    "\n",
    "observables_H = observable_list\n",
    "\n",
    "\n",
    "\n",
    "if not SIM or (SIM and NOISE):\n",
    "    pub_H_real = (H_real_circ_trans, observables_H, params)\n",
    "    pub_H_imag = (H_imag_circ_trans, observables_H, params)\n",
    "else:\n",
    "    pub_H_real = (H_real_circ, observables_H, params)\n",
    "    pub_H_imag = (H_imag_circ, observables_H, params)\n"
   ]
  },
  {
   "cell_type": "markdown",
   "metadata": {},
   "source": [
    "## Run circuits"
   ]
  },
  {
   "cell_type": "markdown",
   "metadata": {},
   "source": [
    "Circuits for $t=0$ are classically calculable"
   ]
  },
  {
   "cell_type": "code",
   "execution_count": null,
   "metadata": {},
   "outputs": [
    {
     "data": {
      "text/plain": [
       "(-2+0j)"
      ]
     },
     "execution_count": 33,
     "metadata": {},
     "output_type": "execute_result"
    }
   ],
   "source": [
    "from qiskit.quantum_info import StabilizerState, Pauli\n",
    "\n",
    "\n",
    "\n",
    "H_real_circ_cliff = H_real_circ.assign_parameters({t:0})\n",
    "H_imag_circ_cliff = H_imag_circ.assign_parameters({t:0})\n",
    "S_real_circ_cliff = S_real_circ.assign_parameters({t:0})\n",
    "S_imag_circ_cliff = S_imag_circ.assign_parameters({t:0})\n",
    "\n",
    "observables_S_cliff = 'I'*(n_qubits) + 'Z'\n",
    "\n",
    "observables_H_cliff = []\n",
    "for pauli, coeff in zip(H_op.paulis, H_op.coeffs):\n",
    "    # print(pauli)\n",
    "    observable = pauli[::-1].to_label() + 'Z'\n",
    "    observables_H_cliff.append(observable)\n",
    "\n",
    "\n",
    "\n",
    "# Get expectation values from experiment\n",
    "S_expval_real = StabilizerState(S_real_circ_cliff).expectation_value(Pauli('I'*(n_qubits) + 'Z'))\n",
    "S_expval_imag = StabilizerState(S_imag_circ_cliff).expectation_value(Pauli('I'*(n_qubits) + 'Z'))\n",
    "\n",
    "# Get expectation values\n",
    "S_expval = S_expval_real + 1j*S_expval_imag\n",
    "\n",
    "H_expval = 0\n",
    "for obs_idx, (pauli, coeff) in enumerate(zip(H_op.paulis, H_op.coeffs)):\n",
    "    # Get expectation values from experiment\n",
    "    expval_real = StabilizerState(H_real_circ_cliff).expectation_value(Pauli(observables_H_cliff[obs_idx]))\n",
    "    expval_imag = StabilizerState(H_imag_circ_cliff).expectation_value(Pauli(observables_H_cliff[obs_idx]))\n",
    "    expval = expval_real + 1j*expval_imag\n",
    "\n",
    "\n",
    "    # Fill-in matrix elements\n",
    "    H_expval += coeff*expval\n",
    "\n",
    "\n",
    "H_expval"
   ]
  },
  {
   "cell_type": "markdown",
   "metadata": {},
   "source": [
    "Execute circuits for $\\tilde{S}$ and $\\tilde{H}$ with the Estimator"
   ]
  },
  {
   "cell_type": "code",
   "execution_count": null,
   "metadata": {},
   "outputs": [],
   "source": [
    "from pec_runtime.primitives import EstimatorV2 as Estimator\n",
    "shots  =1000\n",
    "# Estimator\n",
    "estimator = Estimator(backend, resilience_level=2)\n",
    "\n",
    "estimator.options.default_shots = 5 * 128\n",
    "estimator.options.twirling.shots_per_randomization = 128\n",
    "\n",
    "# Additional options to enable and modify PEA based ZNE\n",
    "estimator.options.resilience.zne.amplifier = \"pea\"\n",
    "estimator.options.resilience.zne.noise_factors = [1, 1.5, 2]\n",
    "\n",
    "\n",
    "\n",
    "job_S_real = estimator.run([pub_S_real])\n",
    "job_S_imag = estimator.run([pub_S_imag])\n",
    "job_H_real = estimator.run([pub_H_real])\n",
    "job_H_imag = estimator.run([pub_H_imag])"
   ]
  },
  {
   "cell_type": "code",
   "execution_count": 36,
   "metadata": {},
   "outputs": [],
   "source": [
    "# if SIM:\n",
    "#     with Session(backend=backend) as session:\n",
    "#         estimator = Estimator(session=session)\n",
    "#         job_S_real = estimator.run([pub_S_real], precision=1/np.sqrt(shots))\n",
    "#         job_S_imag = estimator.run([pub_S_imag], precision=1/np.sqrt(shots))\n",
    "#         job_H_real = estimator.run([pub_H_real], precision=1/np.sqrt(shots))\n",
    "#         job_H_imag = estimator.run([pub_H_imag], precision=1/np.sqrt(shots))\n",
    "\n",
    "# else:\n",
    "#     with Batch(backend=backend) as batch:\n",
    "\n",
    "#         estimator = Estimator(session=batch, options={\"resilience_level\": 1, \"experimental\": {\"execution\": {\"fast_parametric_update\" : True}}})\n",
    "\n",
    "#         # estimator.options.resilience.zne_mitigation=True\n",
    "#         # estimator.options.resilience.zne.extrapolator='linear'\n",
    "#         # estimator.options.resilience.zne.noise_factors = [1,1.3,1.6]\n",
    "\n",
    "#         job_S_real = estimator.run([pub_S_real], precision=1/np.sqrt(shots))\n",
    "#         job_S_imag = estimator.run([pub_S_imag], precision=1/np.sqrt(shots))\n",
    "#         job_H_real = estimator.run([pub_H_real], precision=1/np.sqrt(shots))\n",
    "#         job_H_imag = estimator.run([pub_H_imag], precision=1/np.sqrt(shots))\n"
   ]
  },
  {
   "cell_type": "code",
   "execution_count": 81,
   "metadata": {},
   "outputs": [
    {
     "name": "stdout",
     "output_type": "stream",
     "text": [
      "4718c792-174e-4646-80b9-bd79897decfd\n",
      "c44dc8ba-dded-46ae-8262-8db52371bfa8\n",
      "6a8193be-e973-464b-8641-b15339981251\n",
      "16c42c97-a056-4519-90c0-60828ceab6fc\n"
     ]
    }
   ],
   "source": [
    "job_S_real_id = job_S_real.job_id()\n",
    "job_S_imag_id = job_S_imag.job_id()\n",
    "job_H_real_id = job_H_real.job_id()\n",
    "job_H_imag_id = job_H_imag.job_id()\n",
    "print(job_S_real_id)\n",
    "print(job_S_imag_id)\n",
    "print(job_H_real_id)\n",
    "print(job_H_imag_id)\n"
   ]
  },
  {
   "cell_type": "markdown",
   "metadata": {},
   "source": [
    "## Step 4: Post-process and analyze results"
   ]
  },
  {
   "cell_type": "code",
   "execution_count": 82,
   "metadata": {},
   "outputs": [],
   "source": [
    "S_real_results = job_S_real.result()[0]\n",
    "S_imag_results = job_S_imag.result()[0]\n",
    "H_real_results = job_H_real.result()[0]\n",
    "H_imag_results = job_H_imag.result()[0]"
   ]
  },
  {
   "cell_type": "code",
   "execution_count": null,
   "metadata": {},
   "outputs": [],
   "source": [
    "prefactors = []\n",
    "E0t_array = []\n",
    "for i, circ in enumerate(iter(qc_evol.assign_parameters([(i*dt)/num_trotter_steps]) for i in range(1, krylov_dim))):\n",
    "    phase = 1.0\n",
    "    E0t = 0\n",
    "    for instruction in circ.data:\n",
    "        if instruction.operation.name != 'swap' and instruction.operation.name != 'barrier':\n",
    "            # All the non-swap gates are XX+YY+ZZ rotations, which add a phase to the all-zeros state.\n",
    "            if instruction.operation.params:\n",
    "                E0t += float(instruction.operation.params[0])\n",
    "                # phase *= np.exp(1j*float(instruction.operation.params[0])/2)\n",
    "                phase *= np.exp(-1j*float(instruction.operation.params[0])/2) # NY added, we need to `subtract` the E0 * t so minus sign\n",
    "            # assert(float(instruction.operation.params[0]._symbol_expr) == i*dt/n_T_step)\n",
    "    prefactors.append(phase)"
   ]
  },
  {
   "cell_type": "markdown",
   "metadata": {},
   "source": [
    "Once we have the results of the circuit executions we can post-process the data to calculate the matrix elements of $\\tilde{S}$"
   ]
  },
  {
   "cell_type": "code",
   "execution_count": null,
   "metadata": {},
   "outputs": [],
   "source": [
    "import itertools\n",
    "# Assemble S, the overlap matrix of dimension D:\n",
    "S_first_row = np.zeros(krylov_dim, dtype=complex)\n",
    "S_first_row[0] = 1+0j\n",
    "\n",
    "# Add in ancilla-only measurements:\n",
    "for i in range(krylov_dim-1):\n",
    "\n",
    "    # Get expectation values from experiment\n",
    "    expval_real = S_real_results.data.evs[0][i]\n",
    "    expval_imag = S_imag_results.data.evs[0][i]\n",
    "\n",
    "    # Get expectation values\n",
    "    expval = expval_real + 1j*expval_imag\n",
    "    # Get the coefficients and expectation values corresponding to actual terms in the Hamiltonian (as opposed to the ancilla-only measurements).\n",
    "    S_first_row[i+1] += prefactors[i]*expval\n",
    "\n",
    "S_first_row_list =  S_first_row.tolist() #for saving purposes     \n",
    "            \n",
    "            \n",
    "S_circ = np.zeros((krylov_dim, krylov_dim), dtype=complex)\n",
    "\n",
    "# Distribute entries from first row across matrix:\n",
    "for i,j in itertools.product(range(krylov_dim),repeat=2):\n",
    "    if i >= j:\n",
    "        S_circ[j,i] = S_first_row[i-j]\n",
    "    else:\n",
    "        S_circ[j,i] = np.conj(S_first_row[j-i])"
   ]
  },
  {
   "cell_type": "code",
   "execution_count": null,
   "metadata": {},
   "outputs": [
    {
     "data": {
      "text/latex": [
       "$\\displaystyle \\left[\\begin{array}{cccccccccccccccccccc}1.0 & -0.336000000000001 - 0.24 i & -0.024 + 0.0740000000000001 i & -0.0159999999999999 + 0.136 i & 0.112 - 0.078 i & -0.124 + 0.0240000000000002 i & -0.03 + 0.0440000000000001 i & 0.092 - 0.0460000000000002 i & -0.128 + 0.0220000000000002 i & 0.208 - 0.0460000000000005 i & -0.164000000000001 - 0.13 i & -0.00599999999999982 + 0.244 i & 0.14 - 0.094 i & -0.0639999999999995 + 0.0960000000000001 i & -0.0560000000000003 - 0.12 i & 0.0220000000000001 + 0.054 i & -0.0119999999999999 + 0.07 i & 0.174 - 0.0979999999999999 i & -0.386 - 0.0619999999999989 i & 0.244 + 0.156 i\\\\-0.336000000000001 + 0.24 i & 1.0 & -0.336000000000001 - 0.24 i & -0.024 + 0.0740000000000001 i & -0.0159999999999999 + 0.136 i & 0.112 - 0.078 i & -0.124 + 0.0240000000000002 i & -0.03 + 0.0440000000000001 i & 0.092 - 0.0460000000000002 i & -0.128 + 0.0220000000000002 i & 0.208 - 0.0460000000000005 i & -0.164000000000001 - 0.13 i & -0.00599999999999982 + 0.244 i & 0.14 - 0.094 i & -0.0639999999999995 + 0.0960000000000001 i & -0.0560000000000003 - 0.12 i & 0.0220000000000001 + 0.054 i & -0.0119999999999999 + 0.07 i & 0.174 - 0.0979999999999999 i & -0.386 - 0.0619999999999989 i\\\\-0.024 - 0.0740000000000001 i & -0.336000000000001 + 0.24 i & 1.0 & -0.336000000000001 - 0.24 i & -0.024 + 0.0740000000000001 i & -0.0159999999999999 + 0.136 i & 0.112 - 0.078 i & -0.124 + 0.0240000000000002 i & -0.03 + 0.0440000000000001 i & 0.092 - 0.0460000000000002 i & -0.128 + 0.0220000000000002 i & 0.208 - 0.0460000000000005 i & -0.164000000000001 - 0.13 i & -0.00599999999999982 + 0.244 i & 0.14 - 0.094 i & -0.0639999999999995 + 0.0960000000000001 i & -0.0560000000000003 - 0.12 i & 0.0220000000000001 + 0.054 i & -0.0119999999999999 + 0.07 i & 0.174 - 0.0979999999999999 i\\\\-0.0159999999999999 - 0.136 i & -0.024 - 0.0740000000000001 i & -0.336000000000001 + 0.24 i & 1.0 & -0.336000000000001 - 0.24 i & -0.024 + 0.0740000000000001 i & -0.0159999999999999 + 0.136 i & 0.112 - 0.078 i & -0.124 + 0.0240000000000002 i & -0.03 + 0.0440000000000001 i & 0.092 - 0.0460000000000002 i & -0.128 + 0.0220000000000002 i & 0.208 - 0.0460000000000005 i & -0.164000000000001 - 0.13 i & -0.00599999999999982 + 0.244 i & 0.14 - 0.094 i & -0.0639999999999995 + 0.0960000000000001 i & -0.0560000000000003 - 0.12 i & 0.0220000000000001 + 0.054 i & -0.0119999999999999 + 0.07 i\\\\0.112 + 0.078 i & -0.0159999999999999 - 0.136 i & -0.024 - 0.0740000000000001 i & -0.336000000000001 + 0.24 i & 1.0 & -0.336000000000001 - 0.24 i & -0.024 + 0.0740000000000001 i & -0.0159999999999999 + 0.136 i & 0.112 - 0.078 i & -0.124 + 0.0240000000000002 i & -0.03 + 0.0440000000000001 i & 0.092 - 0.0460000000000002 i & -0.128 + 0.0220000000000002 i & 0.208 - 0.0460000000000005 i & -0.164000000000001 - 0.13 i & -0.00599999999999982 + 0.244 i & 0.14 - 0.094 i & -0.0639999999999995 + 0.0960000000000001 i & -0.0560000000000003 - 0.12 i & 0.0220000000000001 + 0.054 i\\\\-0.124 - 0.0240000000000002 i & 0.112 + 0.078 i & -0.0159999999999999 - 0.136 i & -0.024 - 0.0740000000000001 i & -0.336000000000001 + 0.24 i & 1.0 & -0.336000000000001 - 0.24 i & -0.024 + 0.0740000000000001 i & -0.0159999999999999 + 0.136 i & 0.112 - 0.078 i & -0.124 + 0.0240000000000002 i & -0.03 + 0.0440000000000001 i & 0.092 - 0.0460000000000002 i & -0.128 + 0.0220000000000002 i & 0.208 - 0.0460000000000005 i & -0.164000000000001 - 0.13 i & -0.00599999999999982 + 0.244 i & 0.14 - 0.094 i & -0.0639999999999995 + 0.0960000000000001 i & -0.0560000000000003 - 0.12 i\\\\-0.03 - 0.0440000000000001 i & -0.124 - 0.0240000000000002 i & 0.112 + 0.078 i & -0.0159999999999999 - 0.136 i & -0.024 - 0.0740000000000001 i & -0.336000000000001 + 0.24 i & 1.0 & -0.336000000000001 - 0.24 i & -0.024 + 0.0740000000000001 i & -0.0159999999999999 + 0.136 i & 0.112 - 0.078 i & -0.124 + 0.0240000000000002 i & -0.03 + 0.0440000000000001 i & 0.092 - 0.0460000000000002 i & -0.128 + 0.0220000000000002 i & 0.208 - 0.0460000000000005 i & -0.164000000000001 - 0.13 i & -0.00599999999999982 + 0.244 i & 0.14 - 0.094 i & -0.0639999999999995 + 0.0960000000000001 i\\\\0.092 + 0.0460000000000002 i & -0.03 - 0.0440000000000001 i & -0.124 - 0.0240000000000002 i & 0.112 + 0.078 i & -0.0159999999999999 - 0.136 i & -0.024 - 0.0740000000000001 i & -0.336000000000001 + 0.24 i & 1.0 & -0.336000000000001 - 0.24 i & -0.024 + 0.0740000000000001 i & -0.0159999999999999 + 0.136 i & 0.112 - 0.078 i & -0.124 + 0.0240000000000002 i & -0.03 + 0.0440000000000001 i & 0.092 - 0.0460000000000002 i & -0.128 + 0.0220000000000002 i & 0.208 - 0.0460000000000005 i & -0.164000000000001 - 0.13 i & -0.00599999999999982 + 0.244 i & 0.14 - 0.094 i\\\\-0.128 - 0.0220000000000002 i & 0.092 + 0.0460000000000002 i & -0.03 - 0.0440000000000001 i & -0.124 - 0.0240000000000002 i & 0.112 + 0.078 i & -0.0159999999999999 - 0.136 i & -0.024 - 0.0740000000000001 i & -0.336000000000001 + 0.24 i & 1.0 & -0.336000000000001 - 0.24 i & -0.024 + 0.0740000000000001 i & -0.0159999999999999 + 0.136 i & 0.112 - 0.078 i & -0.124 + 0.0240000000000002 i & -0.03 + 0.0440000000000001 i & 0.092 - 0.0460000000000002 i & -0.128 + 0.0220000000000002 i & 0.208 - 0.0460000000000005 i & -0.164000000000001 - 0.13 i & -0.00599999999999982 + 0.244 i\\\\0.208 + 0.0460000000000005 i & -0.128 - 0.0220000000000002 i & 0.092 + 0.0460000000000002 i & -0.03 - 0.0440000000000001 i & -0.124 - 0.0240000000000002 i & 0.112 + 0.078 i & -0.0159999999999999 - 0.136 i & -0.024 - 0.0740000000000001 i & -0.336000000000001 + 0.24 i & 1.0 & -0.336000000000001 - 0.24 i & -0.024 + 0.0740000000000001 i & -0.0159999999999999 + 0.136 i & 0.112 - 0.078 i & -0.124 + 0.0240000000000002 i & -0.03 + 0.0440000000000001 i & 0.092 - 0.0460000000000002 i & -0.128 + 0.0220000000000002 i & 0.208 - 0.0460000000000005 i & -0.164000000000001 - 0.13 i\\\\-0.164000000000001 + 0.13 i & 0.208 + 0.0460000000000005 i & -0.128 - 0.0220000000000002 i & 0.092 + 0.0460000000000002 i & -0.03 - 0.0440000000000001 i & -0.124 - 0.0240000000000002 i & 0.112 + 0.078 i & -0.0159999999999999 - 0.136 i & -0.024 - 0.0740000000000001 i & -0.336000000000001 + 0.24 i & 1.0 & -0.336000000000001 - 0.24 i & -0.024 + 0.0740000000000001 i & -0.0159999999999999 + 0.136 i & 0.112 - 0.078 i & -0.124 + 0.0240000000000002 i & -0.03 + 0.0440000000000001 i & 0.092 - 0.0460000000000002 i & -0.128 + 0.0220000000000002 i & 0.208 - 0.0460000000000005 i\\\\-0.00599999999999982 - 0.244 i & -0.164000000000001 + 0.13 i & 0.208 + 0.0460000000000005 i & -0.128 - 0.0220000000000002 i & 0.092 + 0.0460000000000002 i & -0.03 - 0.0440000000000001 i & -0.124 - 0.0240000000000002 i & 0.112 + 0.078 i & -0.0159999999999999 - 0.136 i & -0.024 - 0.0740000000000001 i & -0.336000000000001 + 0.24 i & 1.0 & -0.336000000000001 - 0.24 i & -0.024 + 0.0740000000000001 i & -0.0159999999999999 + 0.136 i & 0.112 - 0.078 i & -0.124 + 0.0240000000000002 i & -0.03 + 0.0440000000000001 i & 0.092 - 0.0460000000000002 i & -0.128 + 0.0220000000000002 i\\\\0.14 + 0.094 i & -0.00599999999999982 - 0.244 i & -0.164000000000001 + 0.13 i & 0.208 + 0.0460000000000005 i & -0.128 - 0.0220000000000002 i & 0.092 + 0.0460000000000002 i & -0.03 - 0.0440000000000001 i & -0.124 - 0.0240000000000002 i & 0.112 + 0.078 i & -0.0159999999999999 - 0.136 i & -0.024 - 0.0740000000000001 i & -0.336000000000001 + 0.24 i & 1.0 & -0.336000000000001 - 0.24 i & -0.024 + 0.0740000000000001 i & -0.0159999999999999 + 0.136 i & 0.112 - 0.078 i & -0.124 + 0.0240000000000002 i & -0.03 + 0.0440000000000001 i & 0.092 - 0.0460000000000002 i\\\\-0.0639999999999995 - 0.0960000000000001 i & 0.14 + 0.094 i & -0.00599999999999982 - 0.244 i & -0.164000000000001 + 0.13 i & 0.208 + 0.0460000000000005 i & -0.128 - 0.0220000000000002 i & 0.092 + 0.0460000000000002 i & -0.03 - 0.0440000000000001 i & -0.124 - 0.0240000000000002 i & 0.112 + 0.078 i & -0.0159999999999999 - 0.136 i & -0.024 - 0.0740000000000001 i & -0.336000000000001 + 0.24 i & 1.0 & -0.336000000000001 - 0.24 i & -0.024 + 0.0740000000000001 i & -0.0159999999999999 + 0.136 i & 0.112 - 0.078 i & -0.124 + 0.0240000000000002 i & -0.03 + 0.0440000000000001 i\\\\-0.0560000000000003 + 0.12 i & -0.0639999999999995 - 0.0960000000000001 i & 0.14 + 0.094 i & -0.00599999999999982 - 0.244 i & -0.164000000000001 + 0.13 i & 0.208 + 0.0460000000000005 i & -0.128 - 0.0220000000000002 i & 0.092 + 0.0460000000000002 i & -0.03 - 0.0440000000000001 i & -0.124 - 0.0240000000000002 i & 0.112 + 0.078 i & -0.0159999999999999 - 0.136 i & -0.024 - 0.0740000000000001 i & -0.336000000000001 + 0.24 i & 1.0 & -0.336000000000001 - 0.24 i & -0.024 + 0.0740000000000001 i & -0.0159999999999999 + 0.136 i & 0.112 - 0.078 i & -0.124 + 0.0240000000000002 i\\\\0.0220000000000001 - 0.054 i & -0.0560000000000003 + 0.12 i & -0.0639999999999995 - 0.0960000000000001 i & 0.14 + 0.094 i & -0.00599999999999982 - 0.244 i & -0.164000000000001 + 0.13 i & 0.208 + 0.0460000000000005 i & -0.128 - 0.0220000000000002 i & 0.092 + 0.0460000000000002 i & -0.03 - 0.0440000000000001 i & -0.124 - 0.0240000000000002 i & 0.112 + 0.078 i & -0.0159999999999999 - 0.136 i & -0.024 - 0.0740000000000001 i & -0.336000000000001 + 0.24 i & 1.0 & -0.336000000000001 - 0.24 i & -0.024 + 0.0740000000000001 i & -0.0159999999999999 + 0.136 i & 0.112 - 0.078 i\\\\-0.0119999999999999 - 0.07 i & 0.0220000000000001 - 0.054 i & -0.0560000000000003 + 0.12 i & -0.0639999999999995 - 0.0960000000000001 i & 0.14 + 0.094 i & -0.00599999999999982 - 0.244 i & -0.164000000000001 + 0.13 i & 0.208 + 0.0460000000000005 i & -0.128 - 0.0220000000000002 i & 0.092 + 0.0460000000000002 i & -0.03 - 0.0440000000000001 i & -0.124 - 0.0240000000000002 i & 0.112 + 0.078 i & -0.0159999999999999 - 0.136 i & -0.024 - 0.0740000000000001 i & -0.336000000000001 + 0.24 i & 1.0 & -0.336000000000001 - 0.24 i & -0.024 + 0.0740000000000001 i & -0.0159999999999999 + 0.136 i\\\\0.174 + 0.0979999999999999 i & -0.0119999999999999 - 0.07 i & 0.0220000000000001 - 0.054 i & -0.0560000000000003 + 0.12 i & -0.0639999999999995 - 0.0960000000000001 i & 0.14 + 0.094 i & -0.00599999999999982 - 0.244 i & -0.164000000000001 + 0.13 i & 0.208 + 0.0460000000000005 i & -0.128 - 0.0220000000000002 i & 0.092 + 0.0460000000000002 i & -0.03 - 0.0440000000000001 i & -0.124 - 0.0240000000000002 i & 0.112 + 0.078 i & -0.0159999999999999 - 0.136 i & -0.024 - 0.0740000000000001 i & -0.336000000000001 + 0.24 i & 1.0 & -0.336000000000001 - 0.24 i & -0.024 + 0.0740000000000001 i\\\\-0.386 + 0.0619999999999989 i & 0.174 + 0.0979999999999999 i & -0.0119999999999999 - 0.07 i & 0.0220000000000001 - 0.054 i & -0.0560000000000003 + 0.12 i & -0.0639999999999995 - 0.0960000000000001 i & 0.14 + 0.094 i & -0.00599999999999982 - 0.244 i & -0.164000000000001 + 0.13 i & 0.208 + 0.0460000000000005 i & -0.128 - 0.0220000000000002 i & 0.092 + 0.0460000000000002 i & -0.03 - 0.0440000000000001 i & -0.124 - 0.0240000000000002 i & 0.112 + 0.078 i & -0.0159999999999999 - 0.136 i & -0.024 - 0.0740000000000001 i & -0.336000000000001 + 0.24 i & 1.0 & -0.336000000000001 - 0.24 i\\\\0.244 - 0.156 i & -0.386 + 0.0619999999999989 i & 0.174 + 0.0979999999999999 i & -0.0119999999999999 - 0.07 i & 0.0220000000000001 - 0.054 i & -0.0560000000000003 + 0.12 i & -0.0639999999999995 - 0.0960000000000001 i & 0.14 + 0.094 i & -0.00599999999999982 - 0.244 i & -0.164000000000001 + 0.13 i & 0.208 + 0.0460000000000005 i & -0.128 - 0.0220000000000002 i & 0.092 + 0.0460000000000002 i & -0.03 - 0.0440000000000001 i & -0.124 - 0.0240000000000002 i & 0.112 + 0.078 i & -0.0159999999999999 - 0.136 i & -0.024 - 0.0740000000000001 i & -0.336000000000001 + 0.24 i & 1.0\\end{array}\\right]$"
      ],
      "text/plain": [
       "Matrix([\n",
       "[                                       1.0,                -0.336000000000001 - 0.24*I,              -0.024 + 0.0740000000000001*I,              -0.0159999999999999 + 0.136*I,                            0.112 - 0.078*I,              -0.124 + 0.0240000000000002*I,               -0.03 + 0.0440000000000001*I,   0.092 - 0.0460000000000002*I,  -0.128 + 0.0220000000000002*I,  0.208 - 0.0460000000000005*I,   -0.164000000000001 - 0.13*I, -0.00599999999999982 + 0.244*I,                 0.14 - 0.094*I, -0.0639999999999995 + 0.0960000000000001*I,               -0.0560000000000003 - 0.12*I,               0.0220000000000001 + 0.054*I,               -0.0119999999999999 + 0.07*I,               0.174 - 0.0979999999999999*I,              -0.386 - 0.0619999999999989*I,                            0.244 + 0.156*I],\n",
       "[               -0.336000000000001 + 0.24*I,                                        1.0,                -0.336000000000001 - 0.24*I,              -0.024 + 0.0740000000000001*I,              -0.0159999999999999 + 0.136*I,                            0.112 - 0.078*I,              -0.124 + 0.0240000000000002*I,   -0.03 + 0.0440000000000001*I,   0.092 - 0.0460000000000002*I, -0.128 + 0.0220000000000002*I,  0.208 - 0.0460000000000005*I,    -0.164000000000001 - 0.13*I, -0.00599999999999982 + 0.244*I,                             0.14 - 0.094*I, -0.0639999999999995 + 0.0960000000000001*I,               -0.0560000000000003 - 0.12*I,               0.0220000000000001 + 0.054*I,               -0.0119999999999999 + 0.07*I,               0.174 - 0.0979999999999999*I,              -0.386 - 0.0619999999999989*I],\n",
       "[             -0.024 - 0.0740000000000001*I,                -0.336000000000001 + 0.24*I,                                        1.0,                -0.336000000000001 - 0.24*I,              -0.024 + 0.0740000000000001*I,              -0.0159999999999999 + 0.136*I,                            0.112 - 0.078*I,  -0.124 + 0.0240000000000002*I,   -0.03 + 0.0440000000000001*I,  0.092 - 0.0460000000000002*I, -0.128 + 0.0220000000000002*I,   0.208 - 0.0460000000000005*I,    -0.164000000000001 - 0.13*I,             -0.00599999999999982 + 0.244*I,                             0.14 - 0.094*I, -0.0639999999999995 + 0.0960000000000001*I,               -0.0560000000000003 - 0.12*I,               0.0220000000000001 + 0.054*I,               -0.0119999999999999 + 0.07*I,               0.174 - 0.0979999999999999*I],\n",
       "[             -0.0159999999999999 - 0.136*I,              -0.024 - 0.0740000000000001*I,                -0.336000000000001 + 0.24*I,                                        1.0,                -0.336000000000001 - 0.24*I,              -0.024 + 0.0740000000000001*I,              -0.0159999999999999 + 0.136*I,                0.112 - 0.078*I,  -0.124 + 0.0240000000000002*I,  -0.03 + 0.0440000000000001*I,  0.092 - 0.0460000000000002*I,  -0.128 + 0.0220000000000002*I,   0.208 - 0.0460000000000005*I,                -0.164000000000001 - 0.13*I,             -0.00599999999999982 + 0.244*I,                             0.14 - 0.094*I, -0.0639999999999995 + 0.0960000000000001*I,               -0.0560000000000003 - 0.12*I,               0.0220000000000001 + 0.054*I,               -0.0119999999999999 + 0.07*I],\n",
       "[                           0.112 + 0.078*I,              -0.0159999999999999 - 0.136*I,              -0.024 - 0.0740000000000001*I,                -0.336000000000001 + 0.24*I,                                        1.0,                -0.336000000000001 - 0.24*I,              -0.024 + 0.0740000000000001*I,  -0.0159999999999999 + 0.136*I,                0.112 - 0.078*I, -0.124 + 0.0240000000000002*I,  -0.03 + 0.0440000000000001*I,   0.092 - 0.0460000000000002*I,  -0.128 + 0.0220000000000002*I,               0.208 - 0.0460000000000005*I,                -0.164000000000001 - 0.13*I,             -0.00599999999999982 + 0.244*I,                             0.14 - 0.094*I, -0.0639999999999995 + 0.0960000000000001*I,               -0.0560000000000003 - 0.12*I,               0.0220000000000001 + 0.054*I],\n",
       "[             -0.124 - 0.0240000000000002*I,                            0.112 + 0.078*I,              -0.0159999999999999 - 0.136*I,              -0.024 - 0.0740000000000001*I,                -0.336000000000001 + 0.24*I,                                        1.0,                -0.336000000000001 - 0.24*I,  -0.024 + 0.0740000000000001*I,  -0.0159999999999999 + 0.136*I,               0.112 - 0.078*I, -0.124 + 0.0240000000000002*I,   -0.03 + 0.0440000000000001*I,   0.092 - 0.0460000000000002*I,              -0.128 + 0.0220000000000002*I,               0.208 - 0.0460000000000005*I,                -0.164000000000001 - 0.13*I,             -0.00599999999999982 + 0.244*I,                             0.14 - 0.094*I, -0.0639999999999995 + 0.0960000000000001*I,               -0.0560000000000003 - 0.12*I],\n",
       "[              -0.03 - 0.0440000000000001*I,              -0.124 - 0.0240000000000002*I,                            0.112 + 0.078*I,              -0.0159999999999999 - 0.136*I,              -0.024 - 0.0740000000000001*I,                -0.336000000000001 + 0.24*I,                                        1.0,    -0.336000000000001 - 0.24*I,  -0.024 + 0.0740000000000001*I, -0.0159999999999999 + 0.136*I,               0.112 - 0.078*I,  -0.124 + 0.0240000000000002*I,   -0.03 + 0.0440000000000001*I,               0.092 - 0.0460000000000002*I,              -0.128 + 0.0220000000000002*I,               0.208 - 0.0460000000000005*I,                -0.164000000000001 - 0.13*I,             -0.00599999999999982 + 0.244*I,                             0.14 - 0.094*I, -0.0639999999999995 + 0.0960000000000001*I],\n",
       "[              0.092 + 0.0460000000000002*I,               -0.03 - 0.0440000000000001*I,              -0.124 - 0.0240000000000002*I,                            0.112 + 0.078*I,              -0.0159999999999999 - 0.136*I,              -0.024 - 0.0740000000000001*I,                -0.336000000000001 + 0.24*I,                            1.0,    -0.336000000000001 - 0.24*I, -0.024 + 0.0740000000000001*I, -0.0159999999999999 + 0.136*I,                0.112 - 0.078*I,  -0.124 + 0.0240000000000002*I,               -0.03 + 0.0440000000000001*I,               0.092 - 0.0460000000000002*I,              -0.128 + 0.0220000000000002*I,               0.208 - 0.0460000000000005*I,                -0.164000000000001 - 0.13*I,             -0.00599999999999982 + 0.244*I,                             0.14 - 0.094*I],\n",
       "[             -0.128 - 0.0220000000000002*I,               0.092 + 0.0460000000000002*I,               -0.03 - 0.0440000000000001*I,              -0.124 - 0.0240000000000002*I,                            0.112 + 0.078*I,              -0.0159999999999999 - 0.136*I,              -0.024 - 0.0740000000000001*I,    -0.336000000000001 + 0.24*I,                            1.0,   -0.336000000000001 - 0.24*I, -0.024 + 0.0740000000000001*I,  -0.0159999999999999 + 0.136*I,                0.112 - 0.078*I,              -0.124 + 0.0240000000000002*I,               -0.03 + 0.0440000000000001*I,               0.092 - 0.0460000000000002*I,              -0.128 + 0.0220000000000002*I,               0.208 - 0.0460000000000005*I,                -0.164000000000001 - 0.13*I,             -0.00599999999999982 + 0.244*I],\n",
       "[              0.208 + 0.0460000000000005*I,              -0.128 - 0.0220000000000002*I,               0.092 + 0.0460000000000002*I,               -0.03 - 0.0440000000000001*I,              -0.124 - 0.0240000000000002*I,                            0.112 + 0.078*I,              -0.0159999999999999 - 0.136*I,  -0.024 - 0.0740000000000001*I,    -0.336000000000001 + 0.24*I,                           1.0,   -0.336000000000001 - 0.24*I,  -0.024 + 0.0740000000000001*I,  -0.0159999999999999 + 0.136*I,                            0.112 - 0.078*I,              -0.124 + 0.0240000000000002*I,               -0.03 + 0.0440000000000001*I,               0.092 - 0.0460000000000002*I,              -0.128 + 0.0220000000000002*I,               0.208 - 0.0460000000000005*I,                -0.164000000000001 - 0.13*I],\n",
       "[               -0.164000000000001 + 0.13*I,               0.208 + 0.0460000000000005*I,              -0.128 - 0.0220000000000002*I,               0.092 + 0.0460000000000002*I,               -0.03 - 0.0440000000000001*I,              -0.124 - 0.0240000000000002*I,                            0.112 + 0.078*I,  -0.0159999999999999 - 0.136*I,  -0.024 - 0.0740000000000001*I,   -0.336000000000001 + 0.24*I,                           1.0,    -0.336000000000001 - 0.24*I,  -0.024 + 0.0740000000000001*I,              -0.0159999999999999 + 0.136*I,                            0.112 - 0.078*I,              -0.124 + 0.0240000000000002*I,               -0.03 + 0.0440000000000001*I,               0.092 - 0.0460000000000002*I,              -0.128 + 0.0220000000000002*I,               0.208 - 0.0460000000000005*I],\n",
       "[            -0.00599999999999982 - 0.244*I,                -0.164000000000001 + 0.13*I,               0.208 + 0.0460000000000005*I,              -0.128 - 0.0220000000000002*I,               0.092 + 0.0460000000000002*I,               -0.03 - 0.0440000000000001*I,              -0.124 - 0.0240000000000002*I,                0.112 + 0.078*I,  -0.0159999999999999 - 0.136*I, -0.024 - 0.0740000000000001*I,   -0.336000000000001 + 0.24*I,                            1.0,    -0.336000000000001 - 0.24*I,              -0.024 + 0.0740000000000001*I,              -0.0159999999999999 + 0.136*I,                            0.112 - 0.078*I,              -0.124 + 0.0240000000000002*I,               -0.03 + 0.0440000000000001*I,               0.092 - 0.0460000000000002*I,              -0.128 + 0.0220000000000002*I],\n",
       "[                            0.14 + 0.094*I,             -0.00599999999999982 - 0.244*I,                -0.164000000000001 + 0.13*I,               0.208 + 0.0460000000000005*I,              -0.128 - 0.0220000000000002*I,               0.092 + 0.0460000000000002*I,               -0.03 - 0.0440000000000001*I,  -0.124 - 0.0240000000000002*I,                0.112 + 0.078*I, -0.0159999999999999 - 0.136*I, -0.024 - 0.0740000000000001*I,    -0.336000000000001 + 0.24*I,                            1.0,                -0.336000000000001 - 0.24*I,              -0.024 + 0.0740000000000001*I,              -0.0159999999999999 + 0.136*I,                            0.112 - 0.078*I,              -0.124 + 0.0240000000000002*I,               -0.03 + 0.0440000000000001*I,               0.092 - 0.0460000000000002*I],\n",
       "[-0.0639999999999995 - 0.0960000000000001*I,                             0.14 + 0.094*I,             -0.00599999999999982 - 0.244*I,                -0.164000000000001 + 0.13*I,               0.208 + 0.0460000000000005*I,              -0.128 - 0.0220000000000002*I,               0.092 + 0.0460000000000002*I,   -0.03 - 0.0440000000000001*I,  -0.124 - 0.0240000000000002*I,               0.112 + 0.078*I, -0.0159999999999999 - 0.136*I,  -0.024 - 0.0740000000000001*I,    -0.336000000000001 + 0.24*I,                                        1.0,                -0.336000000000001 - 0.24*I,              -0.024 + 0.0740000000000001*I,              -0.0159999999999999 + 0.136*I,                            0.112 - 0.078*I,              -0.124 + 0.0240000000000002*I,               -0.03 + 0.0440000000000001*I],\n",
       "[              -0.0560000000000003 + 0.12*I, -0.0639999999999995 - 0.0960000000000001*I,                             0.14 + 0.094*I,             -0.00599999999999982 - 0.244*I,                -0.164000000000001 + 0.13*I,               0.208 + 0.0460000000000005*I,              -0.128 - 0.0220000000000002*I,   0.092 + 0.0460000000000002*I,   -0.03 - 0.0440000000000001*I, -0.124 - 0.0240000000000002*I,               0.112 + 0.078*I,  -0.0159999999999999 - 0.136*I,  -0.024 - 0.0740000000000001*I,                -0.336000000000001 + 0.24*I,                                        1.0,                -0.336000000000001 - 0.24*I,              -0.024 + 0.0740000000000001*I,              -0.0159999999999999 + 0.136*I,                            0.112 - 0.078*I,              -0.124 + 0.0240000000000002*I],\n",
       "[              0.0220000000000001 - 0.054*I,               -0.0560000000000003 + 0.12*I, -0.0639999999999995 - 0.0960000000000001*I,                             0.14 + 0.094*I,             -0.00599999999999982 - 0.244*I,                -0.164000000000001 + 0.13*I,               0.208 + 0.0460000000000005*I,  -0.128 - 0.0220000000000002*I,   0.092 + 0.0460000000000002*I,  -0.03 - 0.0440000000000001*I, -0.124 - 0.0240000000000002*I,                0.112 + 0.078*I,  -0.0159999999999999 - 0.136*I,              -0.024 - 0.0740000000000001*I,                -0.336000000000001 + 0.24*I,                                        1.0,                -0.336000000000001 - 0.24*I,              -0.024 + 0.0740000000000001*I,              -0.0159999999999999 + 0.136*I,                            0.112 - 0.078*I],\n",
       "[              -0.0119999999999999 - 0.07*I,               0.0220000000000001 - 0.054*I,               -0.0560000000000003 + 0.12*I, -0.0639999999999995 - 0.0960000000000001*I,                             0.14 + 0.094*I,             -0.00599999999999982 - 0.244*I,                -0.164000000000001 + 0.13*I,   0.208 + 0.0460000000000005*I,  -0.128 - 0.0220000000000002*I,  0.092 + 0.0460000000000002*I,  -0.03 - 0.0440000000000001*I,  -0.124 - 0.0240000000000002*I,                0.112 + 0.078*I,              -0.0159999999999999 - 0.136*I,              -0.024 - 0.0740000000000001*I,                -0.336000000000001 + 0.24*I,                                        1.0,                -0.336000000000001 - 0.24*I,              -0.024 + 0.0740000000000001*I,              -0.0159999999999999 + 0.136*I],\n",
       "[              0.174 + 0.0979999999999999*I,               -0.0119999999999999 - 0.07*I,               0.0220000000000001 - 0.054*I,               -0.0560000000000003 + 0.12*I, -0.0639999999999995 - 0.0960000000000001*I,                             0.14 + 0.094*I,             -0.00599999999999982 - 0.244*I,    -0.164000000000001 + 0.13*I,   0.208 + 0.0460000000000005*I, -0.128 - 0.0220000000000002*I,  0.092 + 0.0460000000000002*I,   -0.03 - 0.0440000000000001*I,  -0.124 - 0.0240000000000002*I,                            0.112 + 0.078*I,              -0.0159999999999999 - 0.136*I,              -0.024 - 0.0740000000000001*I,                -0.336000000000001 + 0.24*I,                                        1.0,                -0.336000000000001 - 0.24*I,              -0.024 + 0.0740000000000001*I],\n",
       "[             -0.386 + 0.0619999999999989*I,               0.174 + 0.0979999999999999*I,               -0.0119999999999999 - 0.07*I,               0.0220000000000001 - 0.054*I,               -0.0560000000000003 + 0.12*I, -0.0639999999999995 - 0.0960000000000001*I,                             0.14 + 0.094*I, -0.00599999999999982 - 0.244*I,    -0.164000000000001 + 0.13*I,  0.208 + 0.0460000000000005*I, -0.128 - 0.0220000000000002*I,   0.092 + 0.0460000000000002*I,   -0.03 - 0.0440000000000001*I,              -0.124 - 0.0240000000000002*I,                            0.112 + 0.078*I,              -0.0159999999999999 - 0.136*I,              -0.024 - 0.0740000000000001*I,                -0.336000000000001 + 0.24*I,                                        1.0,                -0.336000000000001 - 0.24*I],\n",
       "[                           0.244 - 0.156*I,              -0.386 + 0.0619999999999989*I,               0.174 + 0.0979999999999999*I,               -0.0119999999999999 - 0.07*I,               0.0220000000000001 - 0.054*I,               -0.0560000000000003 + 0.12*I, -0.0639999999999995 - 0.0960000000000001*I,                 0.14 + 0.094*I, -0.00599999999999982 - 0.244*I,   -0.164000000000001 + 0.13*I,  0.208 + 0.0460000000000005*I,  -0.128 - 0.0220000000000002*I,   0.092 + 0.0460000000000002*I,               -0.03 - 0.0440000000000001*I,              -0.124 - 0.0240000000000002*I,                            0.112 + 0.078*I,              -0.0159999999999999 - 0.136*I,              -0.024 - 0.0740000000000001*I,                -0.336000000000001 + 0.24*I,                                        1.0]])"
      ]
     },
     "execution_count": 73,
     "metadata": {},
     "output_type": "execute_result"
    }
   ],
   "source": [
    "from sympy import Matrix\n",
    "Matrix(S_circ)"
   ]
  },
  {
   "cell_type": "markdown",
   "metadata": {},
   "source": [
    "And the matrix elements of $\\tilde{H}$"
   ]
  },
  {
   "cell_type": "code",
   "execution_count": null,
   "metadata": {},
   "outputs": [],
   "source": [
    "import itertools\n",
    "# Assemble S, the overlap matrix of dimension D:\n",
    "H_first_row = np.zeros(krylov_dim, dtype=complex)\n",
    "H_first_row[0] = H_expval\n",
    "\n",
    "for obs_idx, (pauli, coeff) in enumerate(zip(H_op.paulis, H_op.coeffs)):\n",
    "    # Add in ancilla-only measurements:\n",
    "    for i in range(krylov_dim-1):\n",
    "\n",
    "        # Get expectation values from experiment\n",
    "        expval_real = H_real_results.data.evs[obs_idx][i]\n",
    "        expval_imag = H_imag_results.data.evs[obs_idx][i]\n",
    "\n",
    "        # Get expectation values\n",
    "        expval = expval_real + 1j*expval_imag\n",
    "        # Get the coefficients and expectation values corresponding to actual terms in the Hamiltonian (as opposed to the ancilla-only measurements).\n",
    "        H_first_row[i+1] += prefactors[i]*coeff*expval\n",
    "        \n",
    "H_first_row_list = H_first_row.tolist()           \n",
    "            \n",
    "H_eff_circ = np.zeros((krylov_dim, krylov_dim), dtype=complex)\n",
    "\n",
    "# Distribute entries from first row across matrix:\n",
    "for i,j in itertools.product(range(krylov_dim),repeat=2):\n",
    "    if i >= j:\n",
    "        H_eff_circ[j,i] = H_first_row[i-j]\n",
    "    else:\n",
    "        H_eff_circ[j,i] = np.conj(H_first_row[j-i])\n",
    "\n",
    "\n",
    "\n"
   ]
  },
  {
   "cell_type": "code",
   "execution_count": null,
   "metadata": {},
   "outputs": [
    {
     "data": {
      "text/latex": [
       "$\\displaystyle \\left[\\begin{array}{cccccccccccccccccccc}-2.0 & -0.0239999999999998 + 0.738000000000001 i & 0.842 - 0.288 i & -0.783999999999999 + 0.0640000000000004 i & -0.164 - 0.0159999999999998 i & 0.452 + 0.137999999999999 i & -0.0640000000000002 - 0.116 i & -0.00599999999999958 + 0.234 i & -0.35 - 0.315999999999999 i & 0.0280000000000017 + 0.658 i & 0.916 - 0.252000000000004 i & -0.530000000000001 - 0.306 i & 0.527999999999999 + 0.271999999999999 i & -0.295999999999999 + 0.0220000000000012 i & 0.242 + 0.0299999999999997 i & 0.19 - 0.268 i & -0.0900000000000001 - 0.0599999999999999 i & -0.0560000000000007 + 0.474 i & 0.528 - 0.150000000000001 i & 0.264 - 0.488000000000001 i\\\\-0.0239999999999998 - 0.738000000000001 i & -2.0 & -0.0239999999999998 + 0.738000000000001 i & 0.842 - 0.288 i & -0.783999999999999 + 0.0640000000000004 i & -0.164 - 0.0159999999999998 i & 0.452 + 0.137999999999999 i & -0.0640000000000002 - 0.116 i & -0.00599999999999958 + 0.234 i & -0.35 - 0.315999999999999 i & 0.0280000000000017 + 0.658 i & 0.916 - 0.252000000000004 i & -0.530000000000001 - 0.306 i & 0.527999999999999 + 0.271999999999999 i & -0.295999999999999 + 0.0220000000000012 i & 0.242 + 0.0299999999999997 i & 0.19 - 0.268 i & -0.0900000000000001 - 0.0599999999999999 i & -0.0560000000000007 + 0.474 i & 0.528 - 0.150000000000001 i\\\\0.842 + 0.288 i & -0.0239999999999998 - 0.738000000000001 i & -2.0 & -0.0239999999999998 + 0.738000000000001 i & 0.842 - 0.288 i & -0.783999999999999 + 0.0640000000000004 i & -0.164 - 0.0159999999999998 i & 0.452 + 0.137999999999999 i & -0.0640000000000002 - 0.116 i & -0.00599999999999958 + 0.234 i & -0.35 - 0.315999999999999 i & 0.0280000000000017 + 0.658 i & 0.916 - 0.252000000000004 i & -0.530000000000001 - 0.306 i & 0.527999999999999 + 0.271999999999999 i & -0.295999999999999 + 0.0220000000000012 i & 0.242 + 0.0299999999999997 i & 0.19 - 0.268 i & -0.0900000000000001 - 0.0599999999999999 i & -0.0560000000000007 + 0.474 i\\\\-0.783999999999999 - 0.0640000000000004 i & 0.842 + 0.288 i & -0.0239999999999998 - 0.738000000000001 i & -2.0 & -0.0239999999999998 + 0.738000000000001 i & 0.842 - 0.288 i & -0.783999999999999 + 0.0640000000000004 i & -0.164 - 0.0159999999999998 i & 0.452 + 0.137999999999999 i & -0.0640000000000002 - 0.116 i & -0.00599999999999958 + 0.234 i & -0.35 - 0.315999999999999 i & 0.0280000000000017 + 0.658 i & 0.916 - 0.252000000000004 i & -0.530000000000001 - 0.306 i & 0.527999999999999 + 0.271999999999999 i & -0.295999999999999 + 0.0220000000000012 i & 0.242 + 0.0299999999999997 i & 0.19 - 0.268 i & -0.0900000000000001 - 0.0599999999999999 i\\\\-0.164 + 0.0159999999999998 i & -0.783999999999999 - 0.0640000000000004 i & 0.842 + 0.288 i & -0.0239999999999998 - 0.738000000000001 i & -2.0 & -0.0239999999999998 + 0.738000000000001 i & 0.842 - 0.288 i & -0.783999999999999 + 0.0640000000000004 i & -0.164 - 0.0159999999999998 i & 0.452 + 0.137999999999999 i & -0.0640000000000002 - 0.116 i & -0.00599999999999958 + 0.234 i & -0.35 - 0.315999999999999 i & 0.0280000000000017 + 0.658 i & 0.916 - 0.252000000000004 i & -0.530000000000001 - 0.306 i & 0.527999999999999 + 0.271999999999999 i & -0.295999999999999 + 0.0220000000000012 i & 0.242 + 0.0299999999999997 i & 0.19 - 0.268 i\\\\0.452 - 0.137999999999999 i & -0.164 + 0.0159999999999998 i & -0.783999999999999 - 0.0640000000000004 i & 0.842 + 0.288 i & -0.0239999999999998 - 0.738000000000001 i & -2.0 & -0.0239999999999998 + 0.738000000000001 i & 0.842 - 0.288 i & -0.783999999999999 + 0.0640000000000004 i & -0.164 - 0.0159999999999998 i & 0.452 + 0.137999999999999 i & -0.0640000000000002 - 0.116 i & -0.00599999999999958 + 0.234 i & -0.35 - 0.315999999999999 i & 0.0280000000000017 + 0.658 i & 0.916 - 0.252000000000004 i & -0.530000000000001 - 0.306 i & 0.527999999999999 + 0.271999999999999 i & -0.295999999999999 + 0.0220000000000012 i & 0.242 + 0.0299999999999997 i\\\\-0.0640000000000002 + 0.116 i & 0.452 - 0.137999999999999 i & -0.164 + 0.0159999999999998 i & -0.783999999999999 - 0.0640000000000004 i & 0.842 + 0.288 i & -0.0239999999999998 - 0.738000000000001 i & -2.0 & -0.0239999999999998 + 0.738000000000001 i & 0.842 - 0.288 i & -0.783999999999999 + 0.0640000000000004 i & -0.164 - 0.0159999999999998 i & 0.452 + 0.137999999999999 i & -0.0640000000000002 - 0.116 i & -0.00599999999999958 + 0.234 i & -0.35 - 0.315999999999999 i & 0.0280000000000017 + 0.658 i & 0.916 - 0.252000000000004 i & -0.530000000000001 - 0.306 i & 0.527999999999999 + 0.271999999999999 i & -0.295999999999999 + 0.0220000000000012 i\\\\-0.00599999999999958 - 0.234 i & -0.0640000000000002 + 0.116 i & 0.452 - 0.137999999999999 i & -0.164 + 0.0159999999999998 i & -0.783999999999999 - 0.0640000000000004 i & 0.842 + 0.288 i & -0.0239999999999998 - 0.738000000000001 i & -2.0 & -0.0239999999999998 + 0.738000000000001 i & 0.842 - 0.288 i & -0.783999999999999 + 0.0640000000000004 i & -0.164 - 0.0159999999999998 i & 0.452 + 0.137999999999999 i & -0.0640000000000002 - 0.116 i & -0.00599999999999958 + 0.234 i & -0.35 - 0.315999999999999 i & 0.0280000000000017 + 0.658 i & 0.916 - 0.252000000000004 i & -0.530000000000001 - 0.306 i & 0.527999999999999 + 0.271999999999999 i\\\\-0.35 + 0.315999999999999 i & -0.00599999999999958 - 0.234 i & -0.0640000000000002 + 0.116 i & 0.452 - 0.137999999999999 i & -0.164 + 0.0159999999999998 i & -0.783999999999999 - 0.0640000000000004 i & 0.842 + 0.288 i & -0.0239999999999998 - 0.738000000000001 i & -2.0 & -0.0239999999999998 + 0.738000000000001 i & 0.842 - 0.288 i & -0.783999999999999 + 0.0640000000000004 i & -0.164 - 0.0159999999999998 i & 0.452 + 0.137999999999999 i & -0.0640000000000002 - 0.116 i & -0.00599999999999958 + 0.234 i & -0.35 - 0.315999999999999 i & 0.0280000000000017 + 0.658 i & 0.916 - 0.252000000000004 i & -0.530000000000001 - 0.306 i\\\\0.0280000000000017 - 0.658 i & -0.35 + 0.315999999999999 i & -0.00599999999999958 - 0.234 i & -0.0640000000000002 + 0.116 i & 0.452 - 0.137999999999999 i & -0.164 + 0.0159999999999998 i & -0.783999999999999 - 0.0640000000000004 i & 0.842 + 0.288 i & -0.0239999999999998 - 0.738000000000001 i & -2.0 & -0.0239999999999998 + 0.738000000000001 i & 0.842 - 0.288 i & -0.783999999999999 + 0.0640000000000004 i & -0.164 - 0.0159999999999998 i & 0.452 + 0.137999999999999 i & -0.0640000000000002 - 0.116 i & -0.00599999999999958 + 0.234 i & -0.35 - 0.315999999999999 i & 0.0280000000000017 + 0.658 i & 0.916 - 0.252000000000004 i\\\\0.916 + 0.252000000000004 i & 0.0280000000000017 - 0.658 i & -0.35 + 0.315999999999999 i & -0.00599999999999958 - 0.234 i & -0.0640000000000002 + 0.116 i & 0.452 - 0.137999999999999 i & -0.164 + 0.0159999999999998 i & -0.783999999999999 - 0.0640000000000004 i & 0.842 + 0.288 i & -0.0239999999999998 - 0.738000000000001 i & -2.0 & -0.0239999999999998 + 0.738000000000001 i & 0.842 - 0.288 i & -0.783999999999999 + 0.0640000000000004 i & -0.164 - 0.0159999999999998 i & 0.452 + 0.137999999999999 i & -0.0640000000000002 - 0.116 i & -0.00599999999999958 + 0.234 i & -0.35 - 0.315999999999999 i & 0.0280000000000017 + 0.658 i\\\\-0.530000000000001 + 0.306 i & 0.916 + 0.252000000000004 i & 0.0280000000000017 - 0.658 i & -0.35 + 0.315999999999999 i & -0.00599999999999958 - 0.234 i & -0.0640000000000002 + 0.116 i & 0.452 - 0.137999999999999 i & -0.164 + 0.0159999999999998 i & -0.783999999999999 - 0.0640000000000004 i & 0.842 + 0.288 i & -0.0239999999999998 - 0.738000000000001 i & -2.0 & -0.0239999999999998 + 0.738000000000001 i & 0.842 - 0.288 i & -0.783999999999999 + 0.0640000000000004 i & -0.164 - 0.0159999999999998 i & 0.452 + 0.137999999999999 i & -0.0640000000000002 - 0.116 i & -0.00599999999999958 + 0.234 i & -0.35 - 0.315999999999999 i\\\\0.527999999999999 - 0.271999999999999 i & -0.530000000000001 + 0.306 i & 0.916 + 0.252000000000004 i & 0.0280000000000017 - 0.658 i & -0.35 + 0.315999999999999 i & -0.00599999999999958 - 0.234 i & -0.0640000000000002 + 0.116 i & 0.452 - 0.137999999999999 i & -0.164 + 0.0159999999999998 i & -0.783999999999999 - 0.0640000000000004 i & 0.842 + 0.288 i & -0.0239999999999998 - 0.738000000000001 i & -2.0 & -0.0239999999999998 + 0.738000000000001 i & 0.842 - 0.288 i & -0.783999999999999 + 0.0640000000000004 i & -0.164 - 0.0159999999999998 i & 0.452 + 0.137999999999999 i & -0.0640000000000002 - 0.116 i & -0.00599999999999958 + 0.234 i\\\\-0.295999999999999 - 0.0220000000000012 i & 0.527999999999999 - 0.271999999999999 i & -0.530000000000001 + 0.306 i & 0.916 + 0.252000000000004 i & 0.0280000000000017 - 0.658 i & -0.35 + 0.315999999999999 i & -0.00599999999999958 - 0.234 i & -0.0640000000000002 + 0.116 i & 0.452 - 0.137999999999999 i & -0.164 + 0.0159999999999998 i & -0.783999999999999 - 0.0640000000000004 i & 0.842 + 0.288 i & -0.0239999999999998 - 0.738000000000001 i & -2.0 & -0.0239999999999998 + 0.738000000000001 i & 0.842 - 0.288 i & -0.783999999999999 + 0.0640000000000004 i & -0.164 - 0.0159999999999998 i & 0.452 + 0.137999999999999 i & -0.0640000000000002 - 0.116 i\\\\0.242 - 0.0299999999999997 i & -0.295999999999999 - 0.0220000000000012 i & 0.527999999999999 - 0.271999999999999 i & -0.530000000000001 + 0.306 i & 0.916 + 0.252000000000004 i & 0.0280000000000017 - 0.658 i & -0.35 + 0.315999999999999 i & -0.00599999999999958 - 0.234 i & -0.0640000000000002 + 0.116 i & 0.452 - 0.137999999999999 i & -0.164 + 0.0159999999999998 i & -0.783999999999999 - 0.0640000000000004 i & 0.842 + 0.288 i & -0.0239999999999998 - 0.738000000000001 i & -2.0 & -0.0239999999999998 + 0.738000000000001 i & 0.842 - 0.288 i & -0.783999999999999 + 0.0640000000000004 i & -0.164 - 0.0159999999999998 i & 0.452 + 0.137999999999999 i\\\\0.19 + 0.268 i & 0.242 - 0.0299999999999997 i & -0.295999999999999 - 0.0220000000000012 i & 0.527999999999999 - 0.271999999999999 i & -0.530000000000001 + 0.306 i & 0.916 + 0.252000000000004 i & 0.0280000000000017 - 0.658 i & -0.35 + 0.315999999999999 i & -0.00599999999999958 - 0.234 i & -0.0640000000000002 + 0.116 i & 0.452 - 0.137999999999999 i & -0.164 + 0.0159999999999998 i & -0.783999999999999 - 0.0640000000000004 i & 0.842 + 0.288 i & -0.0239999999999998 - 0.738000000000001 i & -2.0 & -0.0239999999999998 + 0.738000000000001 i & 0.842 - 0.288 i & -0.783999999999999 + 0.0640000000000004 i & -0.164 - 0.0159999999999998 i\\\\-0.0900000000000001 + 0.0599999999999999 i & 0.19 + 0.268 i & 0.242 - 0.0299999999999997 i & -0.295999999999999 - 0.0220000000000012 i & 0.527999999999999 - 0.271999999999999 i & -0.530000000000001 + 0.306 i & 0.916 + 0.252000000000004 i & 0.0280000000000017 - 0.658 i & -0.35 + 0.315999999999999 i & -0.00599999999999958 - 0.234 i & -0.0640000000000002 + 0.116 i & 0.452 - 0.137999999999999 i & -0.164 + 0.0159999999999998 i & -0.783999999999999 - 0.0640000000000004 i & 0.842 + 0.288 i & -0.0239999999999998 - 0.738000000000001 i & -2.0 & -0.0239999999999998 + 0.738000000000001 i & 0.842 - 0.288 i & -0.783999999999999 + 0.0640000000000004 i\\\\-0.0560000000000007 - 0.474 i & -0.0900000000000001 + 0.0599999999999999 i & 0.19 + 0.268 i & 0.242 - 0.0299999999999997 i & -0.295999999999999 - 0.0220000000000012 i & 0.527999999999999 - 0.271999999999999 i & -0.530000000000001 + 0.306 i & 0.916 + 0.252000000000004 i & 0.0280000000000017 - 0.658 i & -0.35 + 0.315999999999999 i & -0.00599999999999958 - 0.234 i & -0.0640000000000002 + 0.116 i & 0.452 - 0.137999999999999 i & -0.164 + 0.0159999999999998 i & -0.783999999999999 - 0.0640000000000004 i & 0.842 + 0.288 i & -0.0239999999999998 - 0.738000000000001 i & -2.0 & -0.0239999999999998 + 0.738000000000001 i & 0.842 - 0.288 i\\\\0.528 + 0.150000000000001 i & -0.0560000000000007 - 0.474 i & -0.0900000000000001 + 0.0599999999999999 i & 0.19 + 0.268 i & 0.242 - 0.0299999999999997 i & -0.295999999999999 - 0.0220000000000012 i & 0.527999999999999 - 0.271999999999999 i & -0.530000000000001 + 0.306 i & 0.916 + 0.252000000000004 i & 0.0280000000000017 - 0.658 i & -0.35 + 0.315999999999999 i & -0.00599999999999958 - 0.234 i & -0.0640000000000002 + 0.116 i & 0.452 - 0.137999999999999 i & -0.164 + 0.0159999999999998 i & -0.783999999999999 - 0.0640000000000004 i & 0.842 + 0.288 i & -0.0239999999999998 - 0.738000000000001 i & -2.0 & -0.0239999999999998 + 0.738000000000001 i\\\\0.264 + 0.488000000000001 i & 0.528 + 0.150000000000001 i & -0.0560000000000007 - 0.474 i & -0.0900000000000001 + 0.0599999999999999 i & 0.19 + 0.268 i & 0.242 - 0.0299999999999997 i & -0.295999999999999 - 0.0220000000000012 i & 0.527999999999999 - 0.271999999999999 i & -0.530000000000001 + 0.306 i & 0.916 + 0.252000000000004 i & 0.0280000000000017 - 0.658 i & -0.35 + 0.315999999999999 i & -0.00599999999999958 - 0.234 i & -0.0640000000000002 + 0.116 i & 0.452 - 0.137999999999999 i & -0.164 + 0.0159999999999998 i & -0.783999999999999 - 0.0640000000000004 i & 0.842 + 0.288 i & -0.0239999999999998 - 0.738000000000001 i & -2.0\\end{array}\\right]$"
      ],
      "text/plain": [
       "Matrix([\n",
       "[                                      -2.0,  -0.0239999999999998 + 0.738000000000001*I,                            0.842 - 0.288*I,  -0.783999999999999 + 0.0640000000000004*I,             -0.164 - 0.0159999999999998*I,               0.452 + 0.137999999999999*I,             -0.0640000000000002 - 0.116*I,            -0.00599999999999958 + 0.234*I,               -0.35 - 0.315999999999999*I,              0.0280000000000017 + 0.658*I,               0.916 - 0.252000000000004*I,              -0.530000000000001 - 0.306*I,   0.527999999999999 + 0.271999999999999*I, -0.295999999999999 + 0.0220000000000012*I,              0.242 + 0.0299999999999997*I,                            0.19 - 0.268*I, -0.0900000000000001 - 0.0599999999999999*I,              -0.0560000000000007 + 0.474*I,                0.528 - 0.150000000000001*I,                0.264 - 0.488000000000001*I],\n",
       "[ -0.0239999999999998 - 0.738000000000001*I,                                       -2.0,  -0.0239999999999998 + 0.738000000000001*I,                            0.842 - 0.288*I, -0.783999999999999 + 0.0640000000000004*I,             -0.164 - 0.0159999999999998*I,               0.452 + 0.137999999999999*I,             -0.0640000000000002 - 0.116*I,            -0.00599999999999958 + 0.234*I,               -0.35 - 0.315999999999999*I,              0.0280000000000017 + 0.658*I,               0.916 - 0.252000000000004*I,              -0.530000000000001 - 0.306*I,   0.527999999999999 + 0.271999999999999*I, -0.295999999999999 + 0.0220000000000012*I,              0.242 + 0.0299999999999997*I,                             0.19 - 0.268*I, -0.0900000000000001 - 0.0599999999999999*I,              -0.0560000000000007 + 0.474*I,                0.528 - 0.150000000000001*I],\n",
       "[                           0.842 + 0.288*I,  -0.0239999999999998 - 0.738000000000001*I,                                       -2.0,  -0.0239999999999998 + 0.738000000000001*I,                           0.842 - 0.288*I, -0.783999999999999 + 0.0640000000000004*I,             -0.164 - 0.0159999999999998*I,               0.452 + 0.137999999999999*I,             -0.0640000000000002 - 0.116*I,            -0.00599999999999958 + 0.234*I,               -0.35 - 0.315999999999999*I,              0.0280000000000017 + 0.658*I,               0.916 - 0.252000000000004*I,              -0.530000000000001 - 0.306*I,   0.527999999999999 + 0.271999999999999*I, -0.295999999999999 + 0.0220000000000012*I,               0.242 + 0.0299999999999997*I,                             0.19 - 0.268*I, -0.0900000000000001 - 0.0599999999999999*I,              -0.0560000000000007 + 0.474*I],\n",
       "[ -0.783999999999999 - 0.0640000000000004*I,                            0.842 + 0.288*I,  -0.0239999999999998 - 0.738000000000001*I,                                       -2.0, -0.0239999999999998 + 0.738000000000001*I,                           0.842 - 0.288*I, -0.783999999999999 + 0.0640000000000004*I,             -0.164 - 0.0159999999999998*I,               0.452 + 0.137999999999999*I,             -0.0640000000000002 - 0.116*I,            -0.00599999999999958 + 0.234*I,               -0.35 - 0.315999999999999*I,              0.0280000000000017 + 0.658*I,               0.916 - 0.252000000000004*I,              -0.530000000000001 - 0.306*I,   0.527999999999999 + 0.271999999999999*I,  -0.295999999999999 + 0.0220000000000012*I,               0.242 + 0.0299999999999997*I,                             0.19 - 0.268*I, -0.0900000000000001 - 0.0599999999999999*I],\n",
       "[             -0.164 + 0.0159999999999998*I,  -0.783999999999999 - 0.0640000000000004*I,                            0.842 + 0.288*I,  -0.0239999999999998 - 0.738000000000001*I,                                      -2.0, -0.0239999999999998 + 0.738000000000001*I,                           0.842 - 0.288*I, -0.783999999999999 + 0.0640000000000004*I,             -0.164 - 0.0159999999999998*I,               0.452 + 0.137999999999999*I,             -0.0640000000000002 - 0.116*I,            -0.00599999999999958 + 0.234*I,               -0.35 - 0.315999999999999*I,              0.0280000000000017 + 0.658*I,               0.916 - 0.252000000000004*I,              -0.530000000000001 - 0.306*I,    0.527999999999999 + 0.271999999999999*I,  -0.295999999999999 + 0.0220000000000012*I,               0.242 + 0.0299999999999997*I,                             0.19 - 0.268*I],\n",
       "[               0.452 - 0.137999999999999*I,              -0.164 + 0.0159999999999998*I,  -0.783999999999999 - 0.0640000000000004*I,                            0.842 + 0.288*I, -0.0239999999999998 - 0.738000000000001*I,                                      -2.0, -0.0239999999999998 + 0.738000000000001*I,                           0.842 - 0.288*I, -0.783999999999999 + 0.0640000000000004*I,             -0.164 - 0.0159999999999998*I,               0.452 + 0.137999999999999*I,             -0.0640000000000002 - 0.116*I,            -0.00599999999999958 + 0.234*I,               -0.35 - 0.315999999999999*I,              0.0280000000000017 + 0.658*I,               0.916 - 0.252000000000004*I,               -0.530000000000001 - 0.306*I,    0.527999999999999 + 0.271999999999999*I,  -0.295999999999999 + 0.0220000000000012*I,               0.242 + 0.0299999999999997*I],\n",
       "[             -0.0640000000000002 + 0.116*I,                0.452 - 0.137999999999999*I,              -0.164 + 0.0159999999999998*I,  -0.783999999999999 - 0.0640000000000004*I,                           0.842 + 0.288*I, -0.0239999999999998 - 0.738000000000001*I,                                      -2.0, -0.0239999999999998 + 0.738000000000001*I,                           0.842 - 0.288*I, -0.783999999999999 + 0.0640000000000004*I,             -0.164 - 0.0159999999999998*I,               0.452 + 0.137999999999999*I,             -0.0640000000000002 - 0.116*I,            -0.00599999999999958 + 0.234*I,               -0.35 - 0.315999999999999*I,              0.0280000000000017 + 0.658*I,                0.916 - 0.252000000000004*I,               -0.530000000000001 - 0.306*I,    0.527999999999999 + 0.271999999999999*I,  -0.295999999999999 + 0.0220000000000012*I],\n",
       "[            -0.00599999999999958 - 0.234*I,              -0.0640000000000002 + 0.116*I,                0.452 - 0.137999999999999*I,              -0.164 + 0.0159999999999998*I, -0.783999999999999 - 0.0640000000000004*I,                           0.842 + 0.288*I, -0.0239999999999998 - 0.738000000000001*I,                                      -2.0, -0.0239999999999998 + 0.738000000000001*I,                           0.842 - 0.288*I, -0.783999999999999 + 0.0640000000000004*I,             -0.164 - 0.0159999999999998*I,               0.452 + 0.137999999999999*I,             -0.0640000000000002 - 0.116*I,            -0.00599999999999958 + 0.234*I,               -0.35 - 0.315999999999999*I,               0.0280000000000017 + 0.658*I,                0.916 - 0.252000000000004*I,               -0.530000000000001 - 0.306*I,    0.527999999999999 + 0.271999999999999*I],\n",
       "[               -0.35 + 0.315999999999999*I,             -0.00599999999999958 - 0.234*I,              -0.0640000000000002 + 0.116*I,                0.452 - 0.137999999999999*I,             -0.164 + 0.0159999999999998*I, -0.783999999999999 - 0.0640000000000004*I,                           0.842 + 0.288*I, -0.0239999999999998 - 0.738000000000001*I,                                      -2.0, -0.0239999999999998 + 0.738000000000001*I,                           0.842 - 0.288*I, -0.783999999999999 + 0.0640000000000004*I,             -0.164 - 0.0159999999999998*I,               0.452 + 0.137999999999999*I,             -0.0640000000000002 - 0.116*I,            -0.00599999999999958 + 0.234*I,                -0.35 - 0.315999999999999*I,               0.0280000000000017 + 0.658*I,                0.916 - 0.252000000000004*I,               -0.530000000000001 - 0.306*I],\n",
       "[              0.0280000000000017 - 0.658*I,                -0.35 + 0.315999999999999*I,             -0.00599999999999958 - 0.234*I,              -0.0640000000000002 + 0.116*I,               0.452 - 0.137999999999999*I,             -0.164 + 0.0159999999999998*I, -0.783999999999999 - 0.0640000000000004*I,                           0.842 + 0.288*I, -0.0239999999999998 - 0.738000000000001*I,                                      -2.0, -0.0239999999999998 + 0.738000000000001*I,                           0.842 - 0.288*I, -0.783999999999999 + 0.0640000000000004*I,             -0.164 - 0.0159999999999998*I,               0.452 + 0.137999999999999*I,             -0.0640000000000002 - 0.116*I,             -0.00599999999999958 + 0.234*I,                -0.35 - 0.315999999999999*I,               0.0280000000000017 + 0.658*I,                0.916 - 0.252000000000004*I],\n",
       "[               0.916 + 0.252000000000004*I,               0.0280000000000017 - 0.658*I,                -0.35 + 0.315999999999999*I,             -0.00599999999999958 - 0.234*I,             -0.0640000000000002 + 0.116*I,               0.452 - 0.137999999999999*I,             -0.164 + 0.0159999999999998*I, -0.783999999999999 - 0.0640000000000004*I,                           0.842 + 0.288*I, -0.0239999999999998 - 0.738000000000001*I,                                      -2.0, -0.0239999999999998 + 0.738000000000001*I,                           0.842 - 0.288*I, -0.783999999999999 + 0.0640000000000004*I,             -0.164 - 0.0159999999999998*I,               0.452 + 0.137999999999999*I,              -0.0640000000000002 - 0.116*I,             -0.00599999999999958 + 0.234*I,                -0.35 - 0.315999999999999*I,               0.0280000000000017 + 0.658*I],\n",
       "[              -0.530000000000001 + 0.306*I,                0.916 + 0.252000000000004*I,               0.0280000000000017 - 0.658*I,                -0.35 + 0.315999999999999*I,            -0.00599999999999958 - 0.234*I,             -0.0640000000000002 + 0.116*I,               0.452 - 0.137999999999999*I,             -0.164 + 0.0159999999999998*I, -0.783999999999999 - 0.0640000000000004*I,                           0.842 + 0.288*I, -0.0239999999999998 - 0.738000000000001*I,                                      -2.0, -0.0239999999999998 + 0.738000000000001*I,                           0.842 - 0.288*I, -0.783999999999999 + 0.0640000000000004*I,             -0.164 - 0.0159999999999998*I,                0.452 + 0.137999999999999*I,              -0.0640000000000002 - 0.116*I,             -0.00599999999999958 + 0.234*I,                -0.35 - 0.315999999999999*I],\n",
       "[   0.527999999999999 - 0.271999999999999*I,               -0.530000000000001 + 0.306*I,                0.916 + 0.252000000000004*I,               0.0280000000000017 - 0.658*I,               -0.35 + 0.315999999999999*I,            -0.00599999999999958 - 0.234*I,             -0.0640000000000002 + 0.116*I,               0.452 - 0.137999999999999*I,             -0.164 + 0.0159999999999998*I, -0.783999999999999 - 0.0640000000000004*I,                           0.842 + 0.288*I, -0.0239999999999998 - 0.738000000000001*I,                                      -2.0, -0.0239999999999998 + 0.738000000000001*I,                           0.842 - 0.288*I, -0.783999999999999 + 0.0640000000000004*I,              -0.164 - 0.0159999999999998*I,                0.452 + 0.137999999999999*I,              -0.0640000000000002 - 0.116*I,             -0.00599999999999958 + 0.234*I],\n",
       "[ -0.295999999999999 - 0.0220000000000012*I,    0.527999999999999 - 0.271999999999999*I,               -0.530000000000001 + 0.306*I,                0.916 + 0.252000000000004*I,              0.0280000000000017 - 0.658*I,               -0.35 + 0.315999999999999*I,            -0.00599999999999958 - 0.234*I,             -0.0640000000000002 + 0.116*I,               0.452 - 0.137999999999999*I,             -0.164 + 0.0159999999999998*I, -0.783999999999999 - 0.0640000000000004*I,                           0.842 + 0.288*I, -0.0239999999999998 - 0.738000000000001*I,                                      -2.0, -0.0239999999999998 + 0.738000000000001*I,                           0.842 - 0.288*I,  -0.783999999999999 + 0.0640000000000004*I,              -0.164 - 0.0159999999999998*I,                0.452 + 0.137999999999999*I,              -0.0640000000000002 - 0.116*I],\n",
       "[              0.242 - 0.0299999999999997*I,  -0.295999999999999 - 0.0220000000000012*I,    0.527999999999999 - 0.271999999999999*I,               -0.530000000000001 + 0.306*I,               0.916 + 0.252000000000004*I,              0.0280000000000017 - 0.658*I,               -0.35 + 0.315999999999999*I,            -0.00599999999999958 - 0.234*I,             -0.0640000000000002 + 0.116*I,               0.452 - 0.137999999999999*I,             -0.164 + 0.0159999999999998*I, -0.783999999999999 - 0.0640000000000004*I,                           0.842 + 0.288*I, -0.0239999999999998 - 0.738000000000001*I,                                      -2.0, -0.0239999999999998 + 0.738000000000001*I,                            0.842 - 0.288*I,  -0.783999999999999 + 0.0640000000000004*I,              -0.164 - 0.0159999999999998*I,                0.452 + 0.137999999999999*I],\n",
       "[                            0.19 + 0.268*I,               0.242 - 0.0299999999999997*I,  -0.295999999999999 - 0.0220000000000012*I,    0.527999999999999 - 0.271999999999999*I,              -0.530000000000001 + 0.306*I,               0.916 + 0.252000000000004*I,              0.0280000000000017 - 0.658*I,               -0.35 + 0.315999999999999*I,            -0.00599999999999958 - 0.234*I,             -0.0640000000000002 + 0.116*I,               0.452 - 0.137999999999999*I,             -0.164 + 0.0159999999999998*I, -0.783999999999999 - 0.0640000000000004*I,                           0.842 + 0.288*I, -0.0239999999999998 - 0.738000000000001*I,                                      -2.0,  -0.0239999999999998 + 0.738000000000001*I,                            0.842 - 0.288*I,  -0.783999999999999 + 0.0640000000000004*I,              -0.164 - 0.0159999999999998*I],\n",
       "[-0.0900000000000001 + 0.0599999999999999*I,                             0.19 + 0.268*I,               0.242 - 0.0299999999999997*I,  -0.295999999999999 - 0.0220000000000012*I,   0.527999999999999 - 0.271999999999999*I,              -0.530000000000001 + 0.306*I,               0.916 + 0.252000000000004*I,              0.0280000000000017 - 0.658*I,               -0.35 + 0.315999999999999*I,            -0.00599999999999958 - 0.234*I,             -0.0640000000000002 + 0.116*I,               0.452 - 0.137999999999999*I,             -0.164 + 0.0159999999999998*I, -0.783999999999999 - 0.0640000000000004*I,                           0.842 + 0.288*I, -0.0239999999999998 - 0.738000000000001*I,                                       -2.0,  -0.0239999999999998 + 0.738000000000001*I,                            0.842 - 0.288*I,  -0.783999999999999 + 0.0640000000000004*I],\n",
       "[             -0.0560000000000007 - 0.474*I, -0.0900000000000001 + 0.0599999999999999*I,                             0.19 + 0.268*I,               0.242 - 0.0299999999999997*I, -0.295999999999999 - 0.0220000000000012*I,   0.527999999999999 - 0.271999999999999*I,              -0.530000000000001 + 0.306*I,               0.916 + 0.252000000000004*I,              0.0280000000000017 - 0.658*I,               -0.35 + 0.315999999999999*I,            -0.00599999999999958 - 0.234*I,             -0.0640000000000002 + 0.116*I,               0.452 - 0.137999999999999*I,             -0.164 + 0.0159999999999998*I, -0.783999999999999 - 0.0640000000000004*I,                           0.842 + 0.288*I,  -0.0239999999999998 - 0.738000000000001*I,                                       -2.0,  -0.0239999999999998 + 0.738000000000001*I,                            0.842 - 0.288*I],\n",
       "[               0.528 + 0.150000000000001*I,              -0.0560000000000007 - 0.474*I, -0.0900000000000001 + 0.0599999999999999*I,                             0.19 + 0.268*I,              0.242 - 0.0299999999999997*I, -0.295999999999999 - 0.0220000000000012*I,   0.527999999999999 - 0.271999999999999*I,              -0.530000000000001 + 0.306*I,               0.916 + 0.252000000000004*I,              0.0280000000000017 - 0.658*I,               -0.35 + 0.315999999999999*I,            -0.00599999999999958 - 0.234*I,             -0.0640000000000002 + 0.116*I,               0.452 - 0.137999999999999*I,             -0.164 + 0.0159999999999998*I, -0.783999999999999 - 0.0640000000000004*I,                            0.842 + 0.288*I,  -0.0239999999999998 - 0.738000000000001*I,                                       -2.0,  -0.0239999999999998 + 0.738000000000001*I],\n",
       "[               0.264 + 0.488000000000001*I,                0.528 + 0.150000000000001*I,              -0.0560000000000007 - 0.474*I, -0.0900000000000001 + 0.0599999999999999*I,                            0.19 + 0.268*I,              0.242 - 0.0299999999999997*I, -0.295999999999999 - 0.0220000000000012*I,   0.527999999999999 - 0.271999999999999*I,              -0.530000000000001 + 0.306*I,               0.916 + 0.252000000000004*I,              0.0280000000000017 - 0.658*I,               -0.35 + 0.315999999999999*I,            -0.00599999999999958 - 0.234*I,             -0.0640000000000002 + 0.116*I,               0.452 - 0.137999999999999*I,             -0.164 + 0.0159999999999998*I,  -0.783999999999999 - 0.0640000000000004*I,                            0.842 + 0.288*I,  -0.0239999999999998 - 0.738000000000001*I,                                       -2.0]])"
      ]
     },
     "execution_count": 75,
     "metadata": {},
     "output_type": "execute_result"
    }
   ],
   "source": [
    "from sympy import Matrix\n",
    "Matrix(H_eff_circ)"
   ]
  },
  {
   "cell_type": "markdown",
   "metadata": {},
   "source": [
    "Finally, we can solve the generalized eigenvalue problem for $\\tilde{H}$:\n",
    "\n",
    "$$\\tilde{H} \\vec{c} = c \\tilde{S} \\vec{c}$$\n",
    "\n",
    "and get an estimate of the ground state energy $c_{min}$"
   ]
  },
  {
   "cell_type": "code",
   "execution_count": null,
   "metadata": {},
   "outputs": [
    {
     "name": "stdout",
     "output_type": "stream",
     "text": [
      "The estimated ground state energy is:  -2.0\n",
      "The estimated ground state energy is:  -3.0482224410473364\n",
      "The estimated ground state energy is:  -2.824317131188948\n",
      "The estimated ground state energy is:  -3.2419627454658237\n",
      "The estimated ground state energy is:  -2.83149646834284\n",
      "The estimated ground state energy is:  -3.4999713139407875\n",
      "The estimated ground state energy is:  -4.061904376021069\n",
      "The estimated ground state energy is:  -4.208224703337992\n",
      "The estimated ground state energy is:  -4.471592525958372\n",
      "The estimated ground state energy is:  -4.750562250046018\n",
      "The estimated ground state energy is:  -4.748172801870016\n",
      "The estimated ground state energy is:  -5.145288536378218\n",
      "The estimated ground state energy is:  -4.975737067363112\n",
      "The estimated ground state energy is:  -5.469024125103057\n",
      "The estimated ground state energy is:  -5.530658680108473\n",
      "The estimated ground state energy is:  -5.777764638288202\n",
      "The estimated ground state energy is:  -5.798488545931855\n",
      "The estimated ground state energy is:  -5.334073348079469\n",
      "The estimated ground state energy is:  -5.4385269562233045\n",
      "The estimated ground state energy is:  -5.494963675990391\n"
     ]
    }
   ],
   "source": [
    "gnd_en_circ_est_list = []\n",
    "for d in range(1, krylov_dim+1):\n",
    "    # Solve generalized eigenvalue problem\n",
    "    gnd_en_circ_est = solve_regularized_gen_eig(H_eff_circ[:d, :d], S_circ[:d, :d], threshold=5e-1)\n",
    "    gnd_en_circ_est_list.append(gnd_en_circ_est)\n",
    "    print('The estimated ground state energy is: ', gnd_en_circ_est)"
   ]
  },
  {
   "cell_type": "code",
   "execution_count": null,
   "metadata": {},
   "outputs": [
    {
     "name": "stdout",
     "output_type": "stream",
     "text": [
      "gs_en -6.0000000000000036\n"
     ]
    }
   ],
   "source": [
    "gs_en = min(sp.sparse.linalg.eigsh(H_op.to_matrix(), which = \"SA\", k = 10)[0])\n",
    "print('gs_en', gs_en)\n"
   ]
  },
  {
   "cell_type": "code",
   "execution_count": null,
   "metadata": {},
   "outputs": [
    {
     "name": "stdout",
     "output_type": "stream",
     "text": [
      "n_sys_qubits 7\n",
      "n_exc 1 , subspace dimension 8\n",
      "single particle ground state energy:  -6.000000000000001\n"
     ]
    }
   ],
   "source": [
    "gs_en = single_particle_gs(H_op, n_qubits)"
   ]
  },
  {
   "cell_type": "code",
   "execution_count": null,
   "metadata": {},
   "outputs": [
    {
     "data": {
      "image/png": "[encoded data removed]",
      "text/plain": [
       "<Figure size 640x480 with 1 Axes>"
      ]
     },
     "metadata": {},
     "output_type": "display_data"
    }
   ],
   "source": [
    "# plt.plot(range(1, krylov_dim+1), gnd_en_circ_est_list_0, color = 'blue', linestyle='-.' , label = 'estimate - res 0 ')\n",
    "# plt.plot(range(1, krylov_dim+1), gnd_en_circ_est_list_1, color = 'yellow', linestyle='-.' , label = 'estimate - res 1 ')\n",
    "# plt.plot(range(1, krylov_dim+1), gnd_en_circ_est_list_2, color = 'green', linestyle='-.' , label = 'estimate - res 2')\n",
    "plt.plot(range(1, krylov_dim+1), gnd_en_circ_est_list, color = 'orange', linestyle='-.' , label = 'estimate - res 2 heron')\n",
    "plt.plot(range(1, krylov_dim+1), [gs_en]*krylov_dim, color = 'red', linestyle='-' , label = 'exact')\n",
    "plt.xticks(range(1, krylov_dim+1), range(1, krylov_dim+1))\n",
    "plt.legend()\n",
    "plt.xlabel('Krylov space dimension')\n",
    "plt.ylabel('Energy')\n",
    "plt.title('Estimating Ground state energy with Quantum Krylov')\n",
    "plt.show()"
   ]
  },
  {
   "cell_type": "markdown",
   "metadata": {},
   "source": [
    "#### Numerics"
   ]
  },
  {
   "cell_type": "code",
   "execution_count": null,
   "metadata": {},
   "outputs": [],
   "source": [
    "import itertools    \n",
    "\n",
    "U = sp.linalg.expm(-1j*H_op.to_matrix()*dt) # time-evolution operator\n",
    "\n",
    "## Start from a random state |psi_0> as the reference state for the unitary krylov subspace\n",
    "init = np.random.uniform(0, 1, size = 2**n_qubits)*(1+0j)\n",
    "norm_init = np.linalg.norm(init)\n",
    "init = init/np.sqrt(norm_init)\n",
    "\n",
    "\n",
    "# Get different powers of U\n",
    "u_krylov_ops = [np.eye(2**n_qubits, dtype=complex)]\n",
    "op = u_krylov_ops[0]\n",
    "for i in range(1, krylov_dim):\n",
    "    op = op @ U\n",
    "    u_krylov_ops.append(op)\n",
    "\n",
    "# Get vectors of the Krylov subspace\n",
    "u_krylov_vecs = [op @ init for op in u_krylov_ops]\n",
    "\n",
    "# Calculate the overlap matrix <psi_i|psi_j> where |psi_i> = U^i |psi_0>\n",
    "S_first_row = []\n",
    "for i in range(krylov_dim):\n",
    "    s = u_krylov_vecs[0].T.conj() @ u_krylov_vecs[i]\n",
    "    S_first_row.append(s)\n",
    "print(S_first_row)\n",
    "\n",
    "# Calculate the expectation values of H in the subspace <psi_i|H|psi_j>\n",
    "H_first_row = []\n",
    "for i in range(krylov_dim):\n",
    "    h = u_krylov_vecs[0].T.conj()@ H_op.to_matrix() @ u_krylov_vecs[i]\n",
    "    H_first_row.append(h)\n",
    "print(H_first_row)\n",
    "\n",
    "\n",
    "S = np.zeros((krylov_dim, krylov_dim), dtype=complex)\n",
    "# Distribute entries from first row across matrix:\n",
    "for i,j in itertools.product(range(krylov_dim),repeat=2):\n",
    "    if i >= j:\n",
    "        S[j,i] = S_first_row[i-j]\n",
    "    else:\n",
    "        S[j,i] = np.conj(S_first_row[j-i])\n",
    "\n",
    "\n",
    "H_eff = np.zeros((krylov_dim, krylov_dim), dtype=complex)\n",
    "# Distribute entries from first row across matrix:\n",
    "for i,j in itertools.product(range(krylov_dim),repeat=2):\n",
    "    if i >= j:\n",
    "        H_eff[j,i] = H_first_row[i-j]\n",
    "    else:\n",
    "        H_eff[j,i] = np.conj(H_first_row[j-i])"
   ]
  },
  {
   "cell_type": "code",
   "execution_count": null,
   "metadata": {},
   "outputs": [],
   "source": [
    "# Estimate ground state with increasing number of vector in the subspace (up to the number define at the beginning)\n",
    "gnd_en_num_est_list = []\n",
    "for d in range(1, krylov_dim+1):\n",
    "    # Solve generalized eigenvalue problem\n",
    "    gnd_en_circ_est = solve_regularized_gen_eig(H_eff[:d, :d], S[:d, :d], threshold=1e-10)\n",
    "    gnd_en_num_est_list.append(gnd_en_circ_est)\n",
    "    print('The estimated ground state energy is: ', gnd_en_circ_est)"
   ]
  },
  {
   "cell_type": "markdown",
   "metadata": {},
   "source": [
    "### Check Paulis"
   ]
  },
  {
   "cell_type": "markdown",
   "metadata": {},
   "source": [
    "#### Theory calculation (phase issue with real expvals)"
   ]
  },
  {
   "cell_type": "code",
   "execution_count": null,
   "metadata": {},
   "outputs": [],
   "source": [
    "# THIS FUNCTION CALCULATES THE PAULI MATRICES FOR EACH DIMENSION IN d_list, USING NOBU'S k-PARTICLE CODE\n",
    "# Note that passing in vectors_kp is optional but if you already have it from the Krylov matrix calculation, it can save time.\n",
    "from utils_k_particle import compute_pauli_matrices\n",
    "from utils_k_particle import get_indexes_for_m_particles, k_particle_excitation, simulate_unitary_kparticle_from_interaction_list\n",
    "\n",
    "fixed_control = 0\n",
    "excitations = [int(n_qubits/2)+1]\n",
    "H = H_op     \n",
    "\n",
    "k = len(excitations)\n",
    "indices = get_indexes_for_m_particles(n_qubits, k)\n",
    "\n",
    "initial_state_kp = k_particle_excitation(n_qubits, excitations, indices)\n",
    "vectors_kp = [simulate_unitary_kparticle_from_interaction_list(interaction_list, initial_state_kp, n_qubits, k, num_trotter_steps, param = (i*dt)/num_trotter_steps, as_sparse = True) for i in range(krylov_dim)]\n",
    "\n",
    "all_exp_vals, vectors_kp = compute_pauli_matrices(n_qubits, fixed_control, excitations, H, interaction_list, num_trotter_steps, dt, list(range(krylov_dim)), vectors_kp)\n",
    "\n",
    "\n",
    "\n",
    "H_first_row_exact = np.zeros(krylov_dim, dtype=complex)\n",
    "prefactors_exact = [1+0j] + prefactors\n",
    "for i, expvals_dict in enumerate(all_exp_vals):\n",
    "\n",
    "\n",
    "    res_dict_sim = {}\n",
    "    for obs_idx, (pauli, coeff) in enumerate(zip(H_op.paulis, H_op.coeffs)):\n",
    "        # Get expectation values from experiment\n",
    "        obs = observables_H_cliff[obs_idx]\n",
    "        new_obs = obs[:-1]\n",
    "        expval_real = expvals_dict[new_obs + 'X']\n",
    "        expval_imag = expvals_dict[new_obs + 'Y']\n",
    "\n",
    "\n",
    "        expval = expval_real + 1j*expval_imag\n",
    "\n",
    "        H_first_row_exact[i] += prefactors_exact[i]*coeff*expval\n",
    "\n",
    "\n",
    "\n",
    "H_first_row_exact_list = H_first_row_exact.tolist()           \n",
    "            \n",
    "H_eff_circ_exact = np.zeros((krylov_dim, krylov_dim), dtype=complex)\n",
    "\n",
    "# Distribute entries from first row across matrix:\n",
    "for i,j in itertools.product(range(krylov_dim),repeat=2):\n",
    "    if i >= j:\n",
    "        H_eff_circ_exact[j,i] = H_first_row_exact[i-j]\n",
    "    else:\n",
    "        H_eff_circ_exact[j,i] = np.conj(H_first_row_exact[j-i])"
   ]
  },
  {
   "cell_type": "code",
   "execution_count": null,
   "metadata": {},
   "outputs": [],
   "source": [
    "Matrix(H_eff_circ_exact)"
   ]
  },
  {
   "cell_type": "markdown",
   "metadata": {},
   "source": [
    "#### Numerical calculation (few qubits only!)"
   ]
  },
  {
   "cell_type": "code",
   "execution_count": null,
   "metadata": {},
   "outputs": [],
   "source": [
    "from qiskit.quantum_info import Statevector, Pauli\n",
    "\n",
    "H_first_row_sim = np.zeros(krylov_dim, dtype=complex)\n",
    "H_first_row_sim[0] = H_expval\n",
    "\n",
    "S_first_row_sim = np.zeros(krylov_dim, dtype=complex)\n",
    "S_first_row_sim[0] = 1+0j\n",
    "\n",
    "all_exp_vals_sim = []\n",
    "for i, param in enumerate(parameters):\n",
    "\n",
    "    H_real_circ_cliff = H_real_circ.assign_parameters({t:param})\n",
    "    H_imag_circ_cliff = H_imag_circ.assign_parameters({t:param})\n",
    "    S_real_circ_cliff = S_real_circ.assign_parameters({t:param})\n",
    "    S_imag_circ_cliff = S_imag_circ.assign_parameters({t:param})\n",
    "\n",
    "    observables_S_cliff = 'I'*(n_qubits) + 'Z'\n",
    "\n",
    "    observables_H_cliff = []\n",
    "    for pauli, coeff in zip(H_op.paulis, H_op.coeffs):\n",
    "        # print(pauli)\n",
    "        observable = pauli[::-1].to_label() + 'Z'\n",
    "        observables_H_cliff.append(observable)\n",
    "\n",
    "\n",
    "\n",
    "    # Get expectation values from experiment\n",
    "    S_expval_real = Statevector(S_real_circ_cliff).expectation_value(Pauli('I'*(n_qubits) + 'Z'))\n",
    "    S_expval_imag = Statevector(S_imag_circ_cliff).expectation_value(Pauli('I'*(n_qubits) + 'Z'))\n",
    "\n",
    "    # Get expectation values\n",
    "    S_expval = S_expval_real + 1j*S_expval_imag\n",
    "\n",
    "    S_first_row_sim[i+1] += prefactors[i]*S_expval\n",
    "\n",
    "\n",
    "    res_dict_sim = {}\n",
    "    for obs_idx, (pauli, coeff) in enumerate(zip(H_op.paulis, H_op.coeffs)):\n",
    "        # Get expectation values from experiment\n",
    "        expval_real = Statevector(H_real_circ_cliff).expectation_value(Pauli(observables_H_cliff[obs_idx]))\n",
    "        expval_imag = Statevector(H_imag_circ_cliff).expectation_value(Pauli(observables_H_cliff[obs_idx]))\n",
    "        obs = observables_H_cliff[obs_idx]\n",
    "        new_obs = obs[:-1]\n",
    "        res_dict_sim[new_obs + 'X'] = expval_real\n",
    "        res_dict_sim[new_obs + 'Y'] = expval_imag\n",
    "\n",
    "\n",
    "        expval = expval_real + 1j*expval_imag\n",
    "\n",
    "\n",
    "        H_first_row_sim[i+1] += prefactors[i]*coeff*expval\n",
    "\n",
    "    all_exp_vals_sim.append(res_dict_sim)\n",
    "\n",
    "\n",
    "H_first_row_sim_list = H_first_row_sim.tolist()           \n",
    "            \n",
    "H_eff_circ_sim = np.zeros((krylov_dim, krylov_dim), dtype=complex)\n",
    "\n",
    "# Distribute entries from first row across matrix:\n",
    "for i,j in itertools.product(range(krylov_dim),repeat=2):\n",
    "    if i >= j:\n",
    "        H_eff_circ_sim[j,i] = H_first_row_sim[i-j]\n",
    "    else:\n",
    "        H_eff_circ_sim[j,i] = np.conj(H_first_row_sim[j-i])\n",
    "\n",
    "            \n",
    "            \n",
    "S_circ_sim = np.zeros((krylov_dim, krylov_dim), dtype=complex)\n",
    "\n",
    "# Distribute entries from first row across matrix:\n",
    "for i,j in itertools.product(range(krylov_dim),repeat=2):\n",
    "    if i >= j:\n",
    "        S_circ_sim[j,i] = S_first_row_sim[i-j]\n",
    "    else:\n",
    "        S_circ_sim[j,i] = np.conj(S_first_row_sim[j-i])\n"
   ]
  },
  {
   "cell_type": "code",
   "execution_count": null,
   "metadata": {},
   "outputs": [],
   "source": [
    "gnd_en_circ_sim_est_list = []\n",
    "for d in range(1, krylov_dim+1):\n",
    "    # Solve generalized eigenvalue problem\n",
    "    gnd_en_circ_est = solve_regularized_gen_eig(H_eff_circ_sim[:d, :d], S_circ_sim[:d, :d], threshold=4e-2)\n",
    "    gnd_en_circ_sim_est_list.append(gnd_en_circ_est)\n",
    "    print('The estimated ground state energy is: ', gnd_en_circ_est)"
   ]
  },
  {
   "cell_type": "code",
   "execution_count": null,
   "metadata": {},
   "outputs": [],
   "source": [
    "plt.plot(range(1, krylov_dim+1), gnd_en_circ_est_list, color = 'orange', linestyle='-.' , label = 'estimate - res 1 heron')\n",
    "plt.plot(range(1, krylov_dim+1), gnd_en_circ_sim_est_list, color = 'blue', linestyle='-.' , label = 'estimate - sim')\n",
    "plt.plot(range(1, krylov_dim+1), [gs_en]*krylov_dim, color = 'red', linestyle='-' , label = 'exact')\n",
    "plt.xticks(range(1, krylov_dim+1), range(1, krylov_dim+1))\n",
    "plt.legend()\n",
    "plt.xlabel('Krylov space dimension')\n",
    "plt.ylabel('Energy')\n",
    "plt.title('Estimating Ground state energy with Quantum Krylov')\n",
    "plt.show()"
   ]
  },
  {
   "cell_type": "markdown",
   "metadata": {},
   "source": [
    "#### Experimental values"
   ]
  },
  {
   "cell_type": "code",
   "execution_count": null,
   "metadata": {},
   "outputs": [],
   "source": [
    "all_exp_vals_exp = []\n",
    "for idx in range(krylov_dim-1):\n",
    "    res_dict = {}\n",
    "    for obs_idx, (pauli, coeff) in enumerate(zip(H_op.paulis, H_op.coeffs)):\n",
    "        # Get expectation values from experiment\n",
    "        expval_real = H_real_results.data.evs[obs_idx][idx]\n",
    "        expval_imag = H_imag_results.data.evs[obs_idx][idx]\n",
    "        obs = observables_H_cliff[obs_idx]\n",
    "        new_obs = obs[:-1]\n",
    "        res_dict[new_obs + 'X'] = expval_real\n",
    "        res_dict[new_obs + 'Y'] = expval_imag\n",
    "    all_exp_vals_exp.append(res_dict)\n",
    "\n"
   ]
  },
  {
   "cell_type": "markdown",
   "metadata": {},
   "source": [
    "#### Compare"
   ]
  },
  {
   "cell_type": "code",
   "execution_count": null,
   "metadata": {},
   "outputs": [],
   "source": [
    "idx  = 6\n",
    "for pauli, val in all_exp_vals_exp[idx].items():\n",
    "    \n",
    "    # if pauli[-1] == 'X' and abs(np.round(phase_factor.real, 2)) > 0:\n",
    "    #     all_exp_vals[idx+1][pauli] = phase_factor.real*all_exp_vals[idx+1][pauli]\n",
    "    # if pauli[-1] == 'Y' and abs(np.round(phase_factor.imag, 2)) > 0:\n",
    "    #     all_exp_vals[idx+1][pauli] = phase_factor.imag*all_exp_vals[idx+1][pauli]\n",
    "\n",
    "\n",
    "    print(pauli, np.round(val, 3), np.round(all_exp_vals_sim[idx][pauli],3), np.round(all_exp_vals[idx+1][pauli], 3))"
   ]
  },
  {
   "cell_type": "code",
   "execution_count": null,
   "metadata": {},
   "outputs": [],
   "source": [
    "idx  = 0\n",
    "for pauli, val in all_exp_vals_exp[idx].items():\n",
    "    if abs(val) > 0.1:\n",
    "        damp_sim = abs(val/all_exp_vals_sim[idx][pauli])\n",
    "        damp_ex = abs(val/all_exp_vals[idx+1][pauli])\n",
    "        print(pauli, np.round(damp_sim, 3), np.round(damp_ex,3))"
   ]
  },
  {
   "cell_type": "markdown",
   "metadata": {},
   "source": [
    "### Save data"
   ]
  },
  {
   "cell_type": "code",
   "execution_count": null,
   "metadata": {},
   "outputs": [],
   "source": [
    "import os\n",
    "import pickle\n",
    "import time\n",
    "\n",
    "time_string = time.strftime(\"%m%d%Y_%H%M%S\")\n",
    "data_dir_path = f'data/{backend_id}_{n_qubits}q_{time_string}/'\n",
    "# Save experiment parameters\n",
    "var_dict = {k: globals()[k] for k in [ 'n_qubits',\n",
    "                                        'J',\n",
    "                                        'H_tot',\n",
    "                                        'dt',\n",
    "                                        'krylov_dim',\n",
    "                                        'num_trotter_steps',\n",
    "                                        'dt_circ',\n",
    "                                        'parameters',\n",
    "                                        'backend_id',\n",
    "                                        'shots',\n",
    "                                        'observables_S',\n",
    "                                        'observables_H',\n",
    "                                        'pub_S_real',\n",
    "                                        'pub_S_imag',\n",
    "                                        'pub_H_real',\n",
    "                                        'pub_H_imag',\n",
    "                                        'job_S_real_id',\n",
    "                                        'job_S_imag_id',\n",
    "                                        'job_H_real_id',\n",
    "                                        'job_H_imag_id',\n",
    "                                        'S_expval',\n",
    "                                        'H_expval',\n",
    "                                        'prefactors',\n",
    "                                        'S_first_row_list',\n",
    "                                        'H_first_row_list',\n",
    "                                        'n_exc',\n",
    "                                        'gs_en',]}\n",
    "\n",
    "\n",
    "\n",
    "# Save to Box folder (avoid Github large file storage issues)\n",
    "os.makedirs(os.path.dirname(data_dir_path), exist_ok=True)\n",
    "fname = data_dir_path + \"experiment_parameters.pickle\"\n",
    "with open(fname, \"wb\") as f:\n",
    "    pickle.dump(var_dict, f)\n",
    "\n",
    "\n",
    "np.save(data_dir_path + 'S_real_results_evs', S_real_results.data.evs)\n",
    "np.save(data_dir_path + 'S_imag_results_evs', S_imag_results.data.evs)\n",
    "np.save(data_dir_path + 'H_real_results_evs', H_real_results.data.evs)\n",
    "np.save(data_dir_path + 'H_imag_results_evs', H_imag_results.data.evs)\n",
    "\n",
    "np.save(data_dir_path + 'S_real_results_metadata', S_real_results.metadata)\n",
    "np.save(data_dir_path + 'S_imag_results_metadata', S_imag_results.metadata)\n",
    "np.save(data_dir_path + 'H_real_results_metadata', H_real_results.metadata)\n",
    "np.save(data_dir_path + 'H_imag_results_metadata', H_imag_results.metadata)"
   ]
  },
  {
   "cell_type": "code",
   "execution_count": null,
   "metadata": {},
   "outputs": [],
   "source": []
  }
 ],
 "metadata": {
  "kernelspec": {
   "display_name": "Python 3",
   "language": "python",
   "name": "python3"
  },
  "language_info": {
   "codemirror_mode": {
    "name": "ipython",
    "version": 3
   },
   "file_extension": ".py",
   "mimetype": "text/x-python",
   "name": "python",
   "nbconvert_exporter": "python",
   "pygments_lexer": "ipython3",
   "version": "3.12.1"
  }
 },
 "nbformat": 4,
 "nbformat_minor": 2
}
