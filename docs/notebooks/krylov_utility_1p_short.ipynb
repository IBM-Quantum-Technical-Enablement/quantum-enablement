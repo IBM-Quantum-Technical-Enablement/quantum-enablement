{
 "cells": [
  {
   "cell_type": "markdown",
   "metadata": {},
   "source": [
    "# Calculating ground states on large scale systems: Quantum Krylov Subspaces"
   ]
  },
  {
   "cell_type": "markdown",
   "metadata": {},
   "source": [
    "### Imports and definitions\n",
    "\n"
   ]
  },
  {
   "cell_type": "code",
   "execution_count": 1,
   "metadata": {},
   "outputs": [],
   "source": [
    "import numpy as np\n",
    "import scipy as sp\n",
    "import matplotlib.pylab as plt\n",
    "from typing import Union, List\n",
    "import warnings\n",
    "warnings.filterwarnings('ignore')\n",
    "\n",
    "from qiskit.quantum_info import SparsePauliOp, Pauli\n",
    "from qiskit.circuit import Parameter\n",
    "from qiskit import QuantumCircuit, QuantumRegister, transpile\n",
    "from qiskit.circuit.library import PauliEvolutionGate\n",
    "from qiskit.synthesis import SuzukiTrotter\n",
    "from qiskit.providers.fake_provider import Fake20QV1\n",
    "from qiskit_ibm_runtime import QiskitRuntimeService, EstimatorV2 as Estimator\n",
    "\n",
    "import itertools as it\n",
    "\n",
    "def solve_regularized_gen_eig(h: np.ndarray, s:np.ndarray, threshold: float, k: int =1, return_dimn: bool = False) -> Union[float, List[float]]:\n",
    "    \"\"\"\n",
    "    Method for solving the generalized eigenvalue problem with regularization\n",
    "\n",
    "    Args:\n",
    "        h (numpy.ndarray):\n",
    "            The effective representation of the matrix in the Krylov subspace\n",
    "        s (numpy.ndarray):\n",
    "            The matrix of overlaps between vectors of the Krylov subspace\n",
    "        threshold (float):\n",
    "            Cut-off value for the eigenvalue of s\n",
    "        k (int):\n",
    "            Number of eigenvalues to return\n",
    "        return_dimn (bool):\n",
    "            Whether to return the size of the regularized subspace\n",
    "\n",
    "    Returns:\n",
    "        lowest k-eigenvalue(s) that are the solution of the regularized generalized eigenvalue problem\n",
    "\n",
    "    \n",
    "    \"\"\"\n",
    "    s_vals, s_vecs = sp.linalg.eigh(s)\n",
    "    s_vecs = s_vecs.T\n",
    "    good_vecs = np.array([vec for val, vec in zip(s_vals, s_vecs) if val > threshold])\n",
    "    h_reg = good_vecs.conj() @ h @ good_vecs.T\n",
    "    s_reg = good_vecs.conj() @ s @ good_vecs.T\n",
    "    if k==1:\n",
    "        if return_dimn:\n",
    "            return sp.linalg.eigh(h_reg, s_reg)[0][0], len(good_vecs)\n",
    "        else:\n",
    "            return sp.linalg.eigh(h_reg, s_reg)[0][0]\n",
    "    else:\n",
    "        if return_dimn:\n",
    "            return sp.linalg.eigh(h_reg, s_reg)[0][:k], len(good_vecs)\n",
    "        else:\n",
    "            return sp.linalg.eigh(h_reg, s_reg)[0][:k]\n",
    "        \n",
    "\n",
    "\n",
    "def single_particle_gs(H_op, n_qubits):\n",
    "    H_x = []\n",
    "    for p, coeff in H_op.to_list():\n",
    "        H_x.append(set([i for i,v in enumerate(Pauli(p).x) if v]))\n",
    "\n",
    "    H_z = []\n",
    "    for p, coeff in H_op.to_list():\n",
    "        H_z.append(set([i for i,v in enumerate(Pauli(p).z) if v]))\n",
    "\n",
    "    H_c = H_op.coeffs\n",
    "\n",
    "    print('n_sys_qubits', n_qubits)\n",
    "\n",
    "    # n_exc particle Hamiltonian:\n",
    "\n",
    "    n_exc = 1\n",
    "    sub_dimn = int(sp.special.comb(n_qubits+1,n_exc))\n",
    "    print('n_exc', n_exc, ', subspace dimension', sub_dimn)\n",
    "\n",
    "    few_particle_H = np.zeros((sub_dimn,sub_dimn), dtype=complex)\n",
    "\n",
    "    sparse_vecs = [set(vec) for vec in it.combinations(range(n_qubits+1),r=n_exc)] # list all of the possible sets of n_exc indices of 1s in n_exc-particle states\n",
    "\n",
    "    m = 0\n",
    "    for i, i_set in enumerate(sparse_vecs):\n",
    "        for j, j_set in enumerate(sparse_vecs):\n",
    "            m += 1\n",
    "            # if m % int((sub_dimn**2)/100) == 0:\n",
    "            #     print(np.round(m/int((sub_dimn**2)/100),2), '% complete, time =', time.time()-start_time)\n",
    "            #     start_time = time.time()\n",
    "\n",
    "            if len(i_set.symmetric_difference(j_set)) <= 2:\n",
    "\n",
    "                for p_x, p_z, coeff in zip(H_x, H_z, H_c):\n",
    "\n",
    "                    if i_set.symmetric_difference(j_set) == p_x:\n",
    "                        sgn = ((-1j)**len(p_x.intersection(p_z)))*((-1)**len(i_set.intersection(p_z)))\n",
    "                    else:\n",
    "                        sgn = 0\n",
    "\n",
    "                    few_particle_H[i,j] += sgn*coeff\n",
    "\n",
    "    gs_en = min(np.linalg.eigvalsh(few_particle_H))\n",
    "    print('single particle ground state energy: ', gs_en)\n",
    "    return gs_en\n",
    "\n",
    "\n"
   ]
  },
  {
   "cell_type": "markdown",
   "metadata": {},
   "source": [
    "### Define Hamiltonian\n",
    "\n",
    "Let's consider the Heisenberg Hamiltonian for $N$ qubits on a linear chain: $H= J \\sum_{i,j}^N X_i X_j + Y_i Y_j - Z_i Z_j$"
   ]
  },
  {
   "cell_type": "code",
   "execution_count": 2,
   "metadata": {},
   "outputs": [
    {
     "name": "stdout",
     "output_type": "stream",
     "text": [
      "[('ZZIIII', -1), ('IZZIII', -1), ('IIZZII', -1), ('IIIZZI', -1), ('IIIIZZ', -1), ('XXIIII', 1), ('IXXIII', 1), ('IIXXII', 1), ('IIIXXI', 1), ('IIIIXX', 1), ('YYIIII', 1), ('IYYIII', 1), ('IIYYII', 1), ('IIIYYI', 1), ('IIIIYY', 1)]\n"
     ]
    }
   ],
   "source": [
    "# Define problem Hamiltonian.\n",
    "n_qubits = 6\n",
    "J = 1 # coupling strength for ZZ interaction\n",
    "\n",
    "# Define the Hamiltonian: \n",
    "H_int = [['I']*n_qubits for _ in range(3*(n_qubits-1))]\n",
    "for i in range(n_qubits-1):\n",
    "    H_int[i][i] = 'Z'\n",
    "    H_int[i][i+1] = 'Z'\n",
    "for i in range(n_qubits-1):\n",
    "    H_int[n_qubits-1+i][i] = 'X'\n",
    "    H_int[n_qubits-1+i][i+1] = 'X'\n",
    "for i in range(n_qubits-1):\n",
    "    H_int[2*(n_qubits-1)+i][i] = 'Y'\n",
    "    H_int[2*(n_qubits-1)+i][i+1] = 'Y'\n",
    "H_int = [''.join(term) for term in H_int]\n",
    "H_tot = [(term, -J) if term.count('Z') == 2 else (term, 1) for term in H_int]\n",
    "\n",
    "# Get operator\n",
    "H_op = SparsePauliOp.from_list(H_tot)\n",
    "print(H_tot)"
   ]
  },
  {
   "cell_type": "markdown",
   "metadata": {},
   "source": [
    "Heuristically choose `dt` (based on upper bounds)"
   ]
  },
  {
   "cell_type": "code",
   "execution_count": 3,
   "metadata": {},
   "outputs": [
    {
     "data": {
      "text/plain": [
       "0.6283185307179587"
      ]
     },
     "execution_count": 3,
     "metadata": {},
     "output_type": "execute_result"
    }
   ],
   "source": [
    "from qiskit.quantum_info import Pauli\n",
    "# Get Hamiltonian restricted to single-particle states\n",
    "single_particle_H = np.zeros((n_qubits,n_qubits))\n",
    "for i in range(n_qubits):\n",
    "    for j in range(i+1):\n",
    "        for p, coeff in H_op.to_list():\n",
    "            p_x = Pauli(p).x\n",
    "            p_z = Pauli(p).z\n",
    "            if all(p_x[k] == ((i==k)+(j==k))%2 for k in range(n_qubits)):\n",
    "                sgn = ((-1j)**sum(p_z[k] and p_x[k] for k in range(n_qubits)))*((-1)**p_z[i])\n",
    "            else:\n",
    "                sgn = 0\n",
    "            single_particle_H[i,j] += sgn*coeff\n",
    "for i in range(n_qubits):\n",
    "    for j in range(i+1,n_qubits):\n",
    "        single_particle_H[i,j] = np.conj(single_particle_H[j,i])\n",
    "\n",
    "# Set dt according to spectral norm\n",
    "dt = np.pi/np.linalg.norm(single_particle_H, ord=2)\n",
    "dt"
   ]
  },
  {
   "cell_type": "markdown",
   "metadata": {},
   "source": [
    "### Set parameters for the algorithm"
   ]
  },
  {
   "cell_type": "code",
   "execution_count": 4,
   "metadata": {},
   "outputs": [],
   "source": [
    "# Set parameters for quantum Krylov algorithm\n",
    "krylov_dim = 20 # size of krylov subspace\n",
    "num_trotter_steps = 8\n",
    "dt_circ = dt/num_trotter_steps"
   ]
  },
  {
   "cell_type": "markdown",
   "metadata": {},
   "source": [
    "### Decompose time-evolution operator with Suzuki-Trotter decomposition\n",
    "Instead of implementing the time-evolution operator exactly we can use the Suzuki-Trotter decomposition to implement an approximation of it. Repeating several times a certain order Trotter decomposition gives us further reduction of the error introduced from the approximation. In the following, we directly build the Trotter implementation in the most efficient way for the interaction graph of the Hamiltonian we are considering (nearest neighbor interactions only). In practice we insert Pauli rotations $R_{xx}$, $R_{yy}$, $R_{zz}$ with a parametrized angle $t$ which correspond to the approximate implementation of $e^{-i (XX + YY + ZZ) t}$. This gives a much shallower circuit than what is obtained using the generic `PauliEvolutionGate()` functionality. "
   ]
  },
  {
   "cell_type": "code",
   "execution_count": 46,
   "metadata": {},
   "outputs": [
    {
     "data": {
      "image/png": "[encoded data removed]",
      "text/plain": [
       "<Figure size 2744.91x267.556 with 1 Axes>"
      ]
     },
     "execution_count": 46,
     "metadata": {},
     "output_type": "execute_result"
    }
   ],
   "source": [
    "t = Parameter('t')\n",
    "\n",
    "# Create instruction for rotation about XX+YY-ZZ:\n",
    "Rxyz_circ = QuantumCircuit(2)\n",
    "Rxyz_circ.rxx(t,0,1)\n",
    "Rxyz_circ.ryy(t,0,1)\n",
    "Rxyz_circ.rzz(-t,0,1)\n",
    "Rxyz_instr = Rxyz_circ.to_instruction(label='RXX+YY-ZZ')\n",
    "\n",
    "interaction_list = [[[i, i+1] for i in range(0, n_qubits-1, 2)], [[i, i+1] for i in range(1, n_qubits-1, 2)]] # linear chain\n",
    "\n",
    "qr = QuantumRegister(n_qubits)\n",
    "trotter_step_circ = QuantumCircuit(qr)\n",
    "for i, color in enumerate(interaction_list):\n",
    "    for interaction in color:\n",
    "        trotter_step_circ.append(Rxyz_instr, interaction)\n",
    "reverse_trotter_step_circ = trotter_step_circ.reverse_ops()\n",
    "\n",
    "qc_evol = QuantumCircuit(qr)\n",
    "for step in range(num_trotter_steps):\n",
    "    if step % 2 == 0:\n",
    "        qc_evol = qc_evol.compose(trotter_step_circ)\n",
    "    else:\n",
    "        # qc_evol = qc_evol.compose(reverse_trotter_step_circ)\n",
    "        qc_evol = qc_evol.compose(trotter_step_circ)\n",
    "\n",
    "qc_evol.decompose().draw('mpl', fold=-1, scale = 0.5)\n",
    "\n"
   ]
  },
  {
   "cell_type": "markdown",
   "metadata": {},
   "source": [
    "### Use an optimized circuit for state preparation"
   ]
  },
  {
   "cell_type": "code",
   "execution_count": 47,
   "metadata": {},
   "outputs": [
    {
     "data": {
      "image/png": "[encoded data removed]",
      "text/plain": [
       "<Figure size 101.943x309.361 with 1 Axes>"
      ]
     },
     "execution_count": 47,
     "metadata": {},
     "output_type": "execute_result"
    }
   ],
   "source": [
    "controlled_state_prep = QuantumCircuit(n_qubits + 1)\n",
    "controlled_state_prep.cx(0,int(n_qubits/2)+1)\n",
    "controlled_state_prep.draw('mpl', fold=-1, scale=0.5)\n",
    "\n",
    "\n",
    "controlled_state_prep.draw('mpl', fold=-1, scale=0.5)"
   ]
  },
  {
   "cell_type": "markdown",
   "metadata": {},
   "source": [
    "### Template circuits for calculating matrix elements of $\\tilde{S}$ and $\\tilde{H}$ via Hadamard test\n",
    "The only difference between the circuits used in the Hadamard test will be the phase in the time-evolution operator and the observables measured. Therefore we can prepare a template circuit which represent the generic circuit for the Hadamard test, with placeholders for the gates that depend on the time-evolution operator."
   ]
  },
  {
   "cell_type": "code",
   "execution_count": 48,
   "metadata": {},
   "outputs": [],
   "source": [
    "# Parameters for the template circuits\n",
    "parameters = []\n",
    "for idx_ket in range(1, krylov_dim):\n",
    "    parameters.append(dt_circ*(idx_ket))"
   ]
  },
  {
   "cell_type": "code",
   "execution_count": 49,
   "metadata": {},
   "outputs": [
    {
     "data": {
      "image/png": "[encoded data removed]",
      "text/plain": [
       "<Figure size 6075.1x618.722 with 1 Axes>"
      ]
     },
     "execution_count": 49,
     "metadata": {},
     "output_type": "execute_result"
    }
   ],
   "source": [
    "# Create hadamard test circuit\n",
    "qr = QuantumRegister(n_qubits+1)\n",
    "qc = QuantumCircuit(qr)\n",
    "qc.h(0)\n",
    "qc.compose(controlled_state_prep, list(range(n_qubits+1)), inplace=True)\n",
    "# qc_real.barrier()\n",
    "qc.compose(qc_evol, list(range(1, n_qubits+1)), inplace=True)\n",
    "# qc_real.barrier()\n",
    "qc.x(0)\n",
    "qc.compose(controlled_state_prep.inverse(), list(range(n_qubits+1)), inplace=True)\n",
    "qc.x(0)\n",
    "\n",
    "qc.decompose().draw('mpl', fold=-1)"
   ]
  },
  {
   "cell_type": "markdown",
   "metadata": {},
   "source": [
    "## TODO: we don't need real and imaginary part circuits\n",
    "Just have 2 sets of observables for measuring X (real) and Y (imaginary). This saves runtime in the case of PEA where the noise model is learnt each time. In this case we can submit all circuits for either S and H together (instead of splitting real and imaginary)"
   ]
  },
  {
   "cell_type": "markdown",
   "metadata": {},
   "source": [
    "## Step 3: Execute using a quantum primitive"
   ]
  },
  {
   "cell_type": "markdown",
   "metadata": {},
   "source": [
    "Instantiate the backend and set runtime parameters"
   ]
  },
  {
   "cell_type": "code",
   "execution_count": 72,
   "metadata": {},
   "outputs": [],
   "source": [
    "from qiskit_ibm_runtime import QiskitRuntimeService, Session, Batch\n",
    "from qiskit_ibm_runtime.fake_provider import FakeTorino, FakeGuadalupeV2\n",
    "from qiskit_aer import AerSimulator\n",
    "\n",
    "\n",
    "SIM = True\n",
    "NOISE = False\n",
    "# service = QiskitRuntimeService(instance='ibm-q-internal/technical-enable/utokyol3enableme')#\n",
    "service = QiskitRuntimeService(instance='quantum-demonstrations/main/krylov-gs')\n",
    "# service = QiskitRuntimeService(instance='ibm-q-internal/performance/reservations')\n",
    "# service = QiskitRuntimeService(name=\"staging\", instance='ibm-q-internal/internal-test/fast-flux')\n",
    "# service = QiskitRuntimeService(instance='ibm-q-internal/performance/reservations')\n",
    "\n",
    "# # IBMQ.load_account()\n",
    "# provider = IBMProvider(name=\"staging\")\n",
    "# backend = provider.get_backend('ibm_montecarlo')\n",
    "# cmap_gen = GateDirection(backend=backend).coupling_map\n",
    "# coupling_map = list(cmap_gen.get_edges())\n",
    "# coupling_map = [tuple(pair) for pair in coupling_map]\n",
    "\n",
    "\n",
    "if SIM:\n",
    "    # backend = service.least_busy(simulator=True)\n",
    "    \n",
    "    if NOISE:\n",
    "        backend = AerSimulator.from_backend(FakeGuadalupeV2(), seed_simulator=42)\n",
    "\n",
    "    else:\n",
    "        backend = AerSimulator()\n",
    "\n",
    "else:\n",
    "    # backend_id = 'ibm_pinguino1'\n",
    "    # backend_id = 'ibm_torino'\n",
    "    # backend_id = 'ibm_montecarlo'\n",
    "    backend_id = 'ibm_kyiv'\n",
    "    backend = service.backend(backend_id)\n",
    "\n",
    "shots = 500000\n"
   ]
  },
  {
   "cell_type": "markdown",
   "metadata": {},
   "source": [
    "### Transpile + schedule with DD"
   ]
  },
  {
   "cell_type": "code",
   "execution_count": 10,
   "metadata": {},
   "outputs": [],
   "source": [
    "from qiskit.circuit.library import XGate, YGate, RZGate\n",
    "from qiskit.transpiler import InstructionProperties\n",
    "from qiskit.transpiler import PassManager\n",
    "from qiskit.transpiler.preset_passmanagers import generate_preset_pass_manager\n",
    "from qiskit.transpiler.passes.scheduling import (\n",
    "    ALAPScheduleAnalysis,\n",
    "    PadDynamicalDecoupling,\n",
    ")\n",
    "\n",
    "if not SIM:\n",
    "\n",
    "\n",
    "    target = backend.target\n",
    "    basis_gates = list(target.operation_names)\n",
    "\n",
    "\n",
    "    X = XGate()\n",
    "    Y = YGate()\n",
    "    \n",
    "    # dd_sequence = [X, X, X, X]\n",
    "\n",
    "    dd_sequence=[XGate(), RZGate(np.pi), XGate(), RZGate(-np.pi)]\n",
    "    spacing = [1 / 4, 1 / 2, 0, 0, 1 / 4]\n",
    "\n",
    "\n",
    "    \n",
    "    y_gate_properties = {}\n",
    "    for qubit in range(target.num_qubits):\n",
    "        y_gate_properties.update(\n",
    "            {\n",
    "                (qubit,): InstructionProperties(\n",
    "                    duration=target[\"x\"][(qubit,)].duration,\n",
    "                    error=target[\"x\"][(qubit,)].error,\n",
    "                )\n",
    "            }\n",
    "        )\n",
    "    if 'y' not in target.operation_names:\n",
    "        target.add_instruction(YGate(), y_gate_properties)\n",
    "\n",
    "    pm = generate_preset_pass_manager(optimization_level=3, backend=backend, basis_gates=basis_gates)\n",
    "\n",
    "\n",
    "    pm.scheduling = PassManager(\n",
    "        [\n",
    "            ALAPScheduleAnalysis(target=target),\n",
    "            PadDynamicalDecoupling(target=target, dd_sequence=dd_sequence, spacing=spacing),\n",
    "        ]\n",
    "    )\n",
    "\n",
    "    qc_trans = pm.run(qc)\n",
    "\n",
    "elif SIM and NOISE:\n",
    "    target = backend.target\n",
    "    basis_gates = list(target.operation_names)\n",
    "    pm = generate_preset_pass_manager(optimization_level=3, backend=backend, basis_gates=basis_gates)\n",
    "\n",
    "    qc_trans = pm.run(qc)"
   ]
  },
  {
   "cell_type": "code",
   "execution_count": 16,
   "metadata": {},
   "outputs": [],
   "source": [
    "# qc_trans.draw('mpl', fold=-1, idle_wires=False, scale=0.5)\n"
   ]
  },
  {
   "cell_type": "code",
   "execution_count": 17,
   "metadata": {},
   "outputs": [],
   "source": [
    "# qc_trans.depth(lambda x: x[0].num_qubits==2)\n"
   ]
  },
  {
   "cell_type": "code",
   "execution_count": 18,
   "metadata": {},
   "outputs": [],
   "source": [
    "# qc_trans.count_ops()"
   ]
  },
  {
   "cell_type": "code",
   "execution_count": null,
   "metadata": {},
   "outputs": [],
   "source": [
    "# from qiskit.visualization import timeline_drawer\n",
    "# from qiskit.transpiler.passes.scheduling import ALAPSchedule\n",
    "# from qiskit.transpiler import PassManager, InstructionDurations\n",
    "\n",
    "# b_circ = S_real_circ_trans_dd.assign_parameters({t:1})\n",
    "# durations = InstructionDurations().from_backend(backend)\n",
    "# pm = PassManager([ALAPSchedule(durations=durations)])\n",
    "# sched_circ = pm.run(b_circ)\n",
    "\n",
    "# timeline_drawer(sched_circ, show_idle=False)\n",
    "# # timeline_drawer(b_circ)"
   ]
  },
  {
   "cell_type": "markdown",
   "metadata": {},
   "source": [
    "### Create PUBs for execution with Estimator"
   ]
  },
  {
   "cell_type": "code",
   "execution_count": 50,
   "metadata": {},
   "outputs": [],
   "source": [
    "# Define observables to measure for S\n",
    "observable_S_real = 'I'*(n_qubits) + 'X'\n",
    "observable_S_imag = 'I'*(n_qubits) + 'Y'\n",
    "\n",
    "if not SIM or (SIM and NOISE):\n",
    "\n",
    "    layout = qc_trans.layout # get layout of transpiled circuit\n",
    "\n",
    "    observable_op_real = SparsePauliOp(observable_S_real) # define a sparse pauli operator for the observable\n",
    "    observable_op_imag = SparsePauliOp(observable_S_imag)\n",
    "    observable_op_real = observable_op_real.apply_layout(layout) # apply physical layout to the observable\n",
    "    observable_op_imag = observable_op_imag.apply_layout(layout)\n",
    "    observable_S_real = observable_op_real.paulis.to_labels() # get the label of the physical observable\n",
    "    observable_S_imag = observable_op_imag.paulis.to_labels() \n",
    "\n",
    "\n",
    "# Define a set of observables to measure\n",
    "# else:\n",
    "    # observable = [observable_S_real, observable_S_imag]\n",
    "\n",
    "observables_S = [[observable_S_real], [observable_S_imag]]\n",
    "\n",
    "# Define a sweep over parameter values\n",
    "params = np.vstack(parameters).T\n",
    "\n",
    "\n",
    "# Define observables to measure for H\n",
    "# Hamiltonian terms to measure\n",
    "observable_list = []\n",
    "for pauli, coeff in zip(H_op.paulis, H_op.coeffs):\n",
    "    # print(pauli)\n",
    "    observable_H_real = pauli[::-1].to_label() + 'X'\n",
    "    observable_H_imag = pauli[::-1].to_label() + 'Y'\n",
    "    observable_list.append([observable_H_real])\n",
    "    observable_list.append([observable_H_imag])\n",
    "\n",
    "\n",
    "if not SIM or (SIM and NOISE):\n",
    "\n",
    "    layout = qc_trans.layout\n",
    "\n",
    "    observable_trans_list = []\n",
    "    for observable in observable_list:\n",
    "        observable_op = SparsePauliOp(observable)\n",
    "        observable_op = observable_op.apply_layout(layout)\n",
    "        observable_trans_list.append([observable_op.paulis.to_labels()])\n",
    "\n",
    "    observable_list = observable_trans_list\n",
    "\n",
    "\n",
    "observables_H = observable_list\n",
    "\n",
    "\n",
    "\n",
    "# Estimate the expectation value for all combinations of\n",
    "# observables and parameter values, where the pub result will have\n",
    "# shape (# observables, # parameter values).\n",
    "if not SIM or (SIM and NOISE):\n",
    "    pub = (qc_trans, observables_S + observables_H, params)\n",
    "\n",
    "else:\n",
    "    pub = (qc.decompose(), observables_S + observables_H, params)\n",
    "\n"
   ]
  },
  {
   "cell_type": "code",
   "execution_count": 51,
   "metadata": {},
   "outputs": [
    {
     "data": {
      "text/plain": [
       "[0.07853981633974484,\n",
       " 0.15707963267948968,\n",
       " 0.23561944901923454,\n",
       " 0.31415926535897937,\n",
       " 0.3926990816987242,\n",
       " 0.4712388980384691,\n",
       " 0.5497787143782139,\n",
       " 0.6283185307179587,\n",
       " 0.7068583470577036,\n",
       " 0.7853981633974484,\n",
       " 0.8639379797371932,\n",
       " 0.9424777960769382,\n",
       " 1.021017612416683,\n",
       " 1.0995574287564278,\n",
       " 1.1780972450961726,\n",
       " 1.2566370614359175,\n",
       " 1.3351768777756623,\n",
       " 1.4137166941154071,\n",
       " 1.492256510455152]"
      ]
     },
     "execution_count": 51,
     "metadata": {},
     "output_type": "execute_result"
    }
   ],
   "source": [
    "parameters"
   ]
  },
  {
   "cell_type": "code",
   "execution_count": 52,
   "metadata": {},
   "outputs": [
    {
     "data": {
      "text/plain": [
       "[['IIIIIIX'], ['IIIIIIY']]"
      ]
     },
     "execution_count": 52,
     "metadata": {},
     "output_type": "execute_result"
    }
   ],
   "source": [
    "observables_S"
   ]
  },
  {
   "cell_type": "code",
   "execution_count": 53,
   "metadata": {},
   "outputs": [
    {
     "data": {
      "text/plain": [
       "[['IIIIZZX'],\n",
       " ['IIIIZZY'],\n",
       " ['IIIZZIX'],\n",
       " ['IIIZZIY'],\n",
       " ['IIZZIIX'],\n",
       " ['IIZZIIY'],\n",
       " ['IZZIIIX'],\n",
       " ['IZZIIIY'],\n",
       " ['ZZIIIIX'],\n",
       " ['ZZIIIIY'],\n",
       " ['IIIIXXX'],\n",
       " ['IIIIXXY'],\n",
       " ['IIIXXIX'],\n",
       " ['IIIXXIY'],\n",
       " ['IIXXIIX'],\n",
       " ['IIXXIIY'],\n",
       " ['IXXIIIX'],\n",
       " ['IXXIIIY'],\n",
       " ['XXIIIIX'],\n",
       " ['XXIIIIY'],\n",
       " ['IIIIYYX'],\n",
       " ['IIIIYYY'],\n",
       " ['IIIYYIX'],\n",
       " ['IIIYYIY'],\n",
       " ['IIYYIIX'],\n",
       " ['IIYYIIY'],\n",
       " ['IYYIIIX'],\n",
       " ['IYYIIIY'],\n",
       " ['YYIIIIX'],\n",
       " ['YYIIIIY']]"
      ]
     },
     "execution_count": 53,
     "metadata": {},
     "output_type": "execute_result"
    }
   ],
   "source": [
    "observables_H"
   ]
  },
  {
   "cell_type": "markdown",
   "metadata": {},
   "source": [
    "## Run circuits"
   ]
  },
  {
   "cell_type": "markdown",
   "metadata": {},
   "source": [
    "Circuits for $t=0$ are classically calculable"
   ]
  },
  {
   "cell_type": "code",
   "execution_count": 54,
   "metadata": {},
   "outputs": [
    {
     "data": {
      "text/plain": [
       "(-1+0j)"
      ]
     },
     "execution_count": 54,
     "metadata": {},
     "output_type": "execute_result"
    }
   ],
   "source": [
    "from qiskit.quantum_info import StabilizerState, Pauli\n",
    "\n",
    "\n",
    "\n",
    "qc_cliff = qc.assign_parameters({t:0})\n",
    "\n",
    "# observables_H_real_cliff = []\n",
    "# observables_H_imag_cliff = []\n",
    "# for pauli, coeff in zip(H_op.paulis, H_op.coeffs):\n",
    "#     # print(pauli)\n",
    "#     observable_real = pauli[::-1].to_label() + 'X'\n",
    "#     observable_imag = pauli[::-1].to_label() + 'Y'\n",
    "#     observables_H_real_cliff.append(observable_real)\n",
    "#     observables_H_imag_cliff.append(observable_imag)\n",
    "\n",
    "\n",
    "\n",
    "# Get expectation values from experiment\n",
    "S_expval_real = StabilizerState(qc_cliff).expectation_value(Pauli('I'*(n_qubits) + 'X'))\n",
    "S_expval_imag = StabilizerState(qc_cliff).expectation_value(Pauli('I'*(n_qubits) + 'Y'))\n",
    "\n",
    "# Get expectation values\n",
    "S_expval = S_expval_real + 1j*S_expval_imag\n",
    "\n",
    "H_expval = 0\n",
    "for obs_idx, (pauli, coeff) in enumerate(zip(H_op.paulis, H_op.coeffs)):\n",
    "    # Get expectation values from experiment\n",
    "    expval_real = StabilizerState(qc_cliff).expectation_value(Pauli(pauli[::-1].to_label() + 'X'))\n",
    "    expval_imag = StabilizerState(qc_cliff).expectation_value(Pauli(pauli[::-1].to_label() + 'Y'))\n",
    "    expval = expval_real + 1j*expval_imag\n",
    "\n",
    "\n",
    "    # Fill-in matrix elements\n",
    "    H_expval += coeff*expval\n",
    "\n",
    "\n",
    "H_expval"
   ]
  },
  {
   "cell_type": "markdown",
   "metadata": {},
   "source": [
    "Execute circuits for $\\tilde{S}$ and $\\tilde{H}$ with the Estimator"
   ]
  },
  {
   "cell_type": "code",
   "execution_count": 73,
   "metadata": {},
   "outputs": [],
   "source": [
    "# from pec_runtime.primitives import EstimatorV2 as Estimator\n",
    "from qiskit_ibm_runtime import EstimatorV2 as Estimator\n",
    "if SIM:\n",
    "    with Session(backend=backend) as session:\n",
    "        estimator = Estimator(session=session)\n",
    "        job = estimator.run([pub], precision=1/np.sqrt(shots))\n",
    "else:\n",
    "\n",
    "    # Experiment options\n",
    "    num_randomizations = 200\n",
    "    num_randomizations_learning = 20\n",
    "    max_batch_circuits = 20\n",
    "    shots_per_randomization = 100\n",
    "    learning_pair_depths = [0, 4, 24]\n",
    "    noise_factors = [1, 1.3, 1.6]\n",
    "\n",
    "    # Base option formatting\n",
    "    options = {\n",
    "        # Builtin resilience settings for ZNE\n",
    "        \"resilience\": {\n",
    "            \"measure_mitigation\": True,\n",
    "            \"zne_mitigation\": True,\n",
    "            \"zne\": {\"noise_factors\": noise_factors},\n",
    "\n",
    "            # TREX noise learning configuration\n",
    "            \"measure_noise_learning\": {\n",
    "                \"num_randomizations\": num_randomizations_learning,\n",
    "                \"shots_per_randomization\": shots_per_randomization,\n",
    "            },\n",
    "            \n",
    "            # PEA noise model configuration\n",
    "            \"layer_noise_learning\": {\n",
    "                \"max_layers_to_learn\": 10,\n",
    "                \"layer_pair_depths\": learning_pair_depths,\n",
    "                \"shots_per_randomization\": shots_per_randomization,\n",
    "                \"num_randomizations\": num_randomizations_learning,\n",
    "            },\n",
    "        },\n",
    "        \n",
    "        # Randomization configuration\n",
    "        \"twirling\": {\n",
    "            \"num_randomizations\": num_randomizations,\n",
    "            \"shots_per_randomization\": shots_per_randomization,\n",
    "            \"strategy\": \"all\",\n",
    "        },\n",
    "\n",
    "        # Experimental settings for PEA method\n",
    "        \"experimental\": {\n",
    "            # # Just in case, disable any further qiskit transpilation not related to twirling / DD\n",
    "            # \"skip_transpilation\": True,\n",
    "\n",
    "            # Execution configuration\n",
    "            \"execution\": {\n",
    "                \"max_pubs_per_batch_job\": max_batch_circuits,\n",
    "                \"fast_parametric_update\": True,\n",
    "            },\n",
    "\n",
    "            # Error Mitigation configuration\n",
    "            \"resilience\": {\n",
    "                # ZNE Configuration\n",
    "                \"zne\": {\n",
    "                    \"amplifier\": \"pea\",\n",
    "                    \"return_all_extrapolated\": True,\n",
    "                    \"return_unextrapolated\": True,\n",
    "                    \"extrapolated_noise_factors\": [0, 0.25, 0.5, 0.75] + noise_factors,\n",
    "                }\n",
    "            }\n",
    "        }\n",
    "    }\n",
    "\n",
    "    with Batch(backend=backend) as batch:\n",
    "        # Estimator\n",
    "        estimator = Estimator(session=batch, options=options)\n",
    "\n",
    "        # # estimator.options.default_shots = 3000\n",
    "\n",
    "        # # twirling\n",
    "        # estimator.options.twirling.shots_per_randomization = 100\n",
    "        # estimator.options.twirling.num_randomizations = 500\n",
    "        # estimator.options.twirling.strategy = 'all'\n",
    "\n",
    "        # # DD\n",
    "        # estimator.options.dynamical_decoupling.enable = True\n",
    "        # estimator.options.dynamical_decoupling.sequence_type = 'XY4'\n",
    "\n",
    "\n",
    "        # Additional options to enable and modify PEA based ZNE\n",
    "        # estimator.options.resilience.zne.amplifier = \"pea\"\n",
    "        estimator.options.resilience.zne.noise_factors = noise_factors\n",
    "\n",
    "        # #trex\n",
    "        # estimator.options.resilience.measure_noise_learning.num_randomizations = 100\n",
    "        # estimator.options.resilience.measure_noise_learning.shots_per_randomization = 100\n",
    "\n",
    "        # #pea learning\n",
    "        # estimator.options.resilience.layer_noise_learning.layer_pair_depths = [0, 4, 24]\n",
    "        # estimator.options.resilience.layer_noise_learning.shots_per_randomization = 100\n",
    "        # estimator.options.resilience.layer_noise_learning.num_randomizations = 15\n",
    "\n",
    "        # # experimental options\n",
    "        # estimator.options.experimental.execution.fast_parametric_update = True\n",
    "        # estimator.options.experimental.resilience.zne.amplifier = 'pea'\n",
    "        # estimator.options.experimental.resilience.zne.return_all_extrapolated = True\n",
    "        # estimator.options.experimental.resilience.zne.return_unextrapolated = True\n",
    "        # estimator.options.experimental.resilience.zne.extrapolated_noise_factors = [1, 1.3, 1.6]\n",
    "\n",
    "\n",
    "        job = estimator.run([pub], precision=1)\n"
   ]
  },
  {
   "cell_type": "code",
   "execution_count": 21,
   "metadata": {},
   "outputs": [
    {
     "name": "stdout",
     "output_type": "stream",
     "text": [
      "36965670-9448-4a27-acd2-0844f4b1cf6d\n"
     ]
    }
   ],
   "source": [
    "job_id = job.job_id()\n",
    "\n",
    "print(job_id)\n"
   ]
  },
  {
   "cell_type": "markdown",
   "metadata": {},
   "source": [
    "## Step 4: Post-process and analyze results"
   ]
  },
  {
   "cell_type": "markdown",
   "metadata": {},
   "source": [
    "#### Plot extrapolated values"
   ]
  },
  {
   "cell_type": "code",
   "execution_count": 82,
   "metadata": {},
   "outputs": [],
   "source": [
    "# qubit = 0\n",
    "# metadata = job_S_real.result().metadata\n",
    "# pub_result = job_S_real.result()[0]\n",
    "# data = pub_result.data\n",
    "\n",
    "# evs_auto = data.evs[qubit]\n",
    "# stds_auto = data.stds[qubit]\n",
    "# evs_extrap = data.evs_extrapolated[qubit]\n",
    "# stds_extrap = data.stds_extrapolated[qubit]\n",
    "# evs_raw = data.evs_noise_factors[qubit]\n",
    "# stds_raw = data.stds_noise_factors[qubit]\n",
    "\n",
    "\n",
    "# num_params = evs_auto.shape[0]\n",
    "# angles = np.asarray(parameters).ravel()\n",
    "# if angles.shape != (num_params,):\n",
    "#     raise ValueError(\n",
    "#         f\"Incorrect number of angles for input data {angles.size} != {num_params}\"\n",
    "#     )\n",
    "\n",
    "# # Make a square subplot\n",
    "# num_cols = int(np.ceil(np.sqrt(num_params)))\n",
    "# num_rows = int(np.ceil(num_params / num_cols))\n",
    "# fig, axes = plt.subplots(\n",
    "#     num_rows, num_cols, sharex=True, sharey=True, figsize=(12, 5)\n",
    "# )\n",
    "# fig.suptitle(f\"ZNE data for virtual qubit {qubit}\")\n",
    "\n",
    "# for pidx, ax in zip(range(num_params), axes.flat):\n",
    "    \n",
    "#     # Plot auto extrapolated\n",
    "#     ax.errorbar(\n",
    "#         0, evs_auto[pidx], stds_auto[pidx], fmt=\"o\", label=\"PEA (automatic)\"\n",
    "#     )\n",
    "    \n",
    "#     extrapolated_noise_factors = metadata['resilience']['zne']['extrapolated_noise_factors']\n",
    "#     pub_metadata = pub_result.metadata\n",
    "\n",
    "#     # # Plot extrapolators\n",
    "#     # extrapolator = np.asarray(metadata[\"resilience\"][\"zne\"]['extrapolator'], dtype=object)[0]\n",
    "#     # for i, method in enumerate(extrapolator):\n",
    "#     #     ax.errorbar(\n",
    "#     #         extrapolated_noise_factors, evs_extrap[pidx, i], stds_extrap[pidx, i], fmt=\"-\", alpha=0.5, label=f\"PEA ({method})\"\n",
    "#     #     )\n",
    "\n",
    "#     # Plot raw\n",
    "#     ax.errorbar(\n",
    "#         metadata['resilience']['zne']['noise_factors'], evs_raw[pidx], stds_raw[pidx], fmt=\"d\", label=\"Raw\"\n",
    "#     )\n",
    "\n",
    "#     ax.set_yticks([0, 0.5, 1, 1.5, 2])\n",
    "#     ax.set_ylim(-max(1, 1.1*max(evs_auto)), max(1, 1.1*max(evs_auto)))\n",
    "    \n",
    "#     # ax.set_xticks([0, *noise_factors])\n",
    "#     ax.set_title(f\"θ/π = {angles[pidx]/np.pi:.2f}\")\n",
    "#     if pidx == 0:\n",
    "#         ax.set_ylabel(r\"$\\langle Z_{\" + str(qubit) + r\"} \\rangle$\")\n",
    "#     if pidx == num_params - 1:\n",
    "#         ax.set_xlabel(\"Noise Factor\")\n",
    "#         ax.legend()\n"
   ]
  },
  {
   "cell_type": "markdown",
   "metadata": {},
   "source": [
    "### Calculate projected $\\tilde{H}$ and $S$ matrices\n",
    "First calculate the phase accumulated by the |0> state during the uncontrolled time evolution"
   ]
  },
  {
   "cell_type": "code",
   "execution_count": 22,
   "metadata": {},
   "outputs": [],
   "source": [
    "prefactors = []\n",
    "E0t_array = []\n",
    "for i, circ in enumerate(iter(qc_evol.assign_parameters([(i*dt)/num_trotter_steps]) for i in range(1, krylov_dim))):\n",
    "    phase = 1.0\n",
    "    E0t = 0\n",
    "    for instruction in circ.data:\n",
    "        if instruction.operation.name != 'swap' and instruction.operation.name != 'barrier':\n",
    "            # All the non-swap gates are XX+YY+ZZ rotations, which add a phase to the all-zeros state.\n",
    "            if instruction.operation.params:\n",
    "                E0t += float(instruction.operation.params[0])\n",
    "                # phase *= np.exp(1j*float(instruction.operation.params[0])/2)\n",
    "                phase *= np.exp(-1j*float(instruction.operation.params[0])/2) # NY added, we need to `subtract` the E0 * t so minus sign\n",
    "            # assert(float(instruction.operation.params[0]._symbol_expr) == i*dt/n_T_step)\n",
    "    prefactors.append(phase)"
   ]
  },
  {
   "cell_type": "markdown",
   "metadata": {},
   "source": [
    "Once we have the results of the circuit executions we can post-process the data to calculate the matrix elements of $\\tilde{S}$"
   ]
  },
  {
   "cell_type": "code",
   "execution_count": 74,
   "metadata": {},
   "outputs": [],
   "source": [
    "results = job.result()[0]"
   ]
  },
  {
   "cell_type": "code",
   "execution_count": 75,
   "metadata": {},
   "outputs": [],
   "source": [
    "import itertools\n",
    "# Assemble S, the overlap matrix of dimension D:\n",
    "S_first_row = np.zeros(krylov_dim, dtype=complex)\n",
    "S_first_row[0] = 1+0j\n",
    "\n",
    "# Add in ancilla-only measurements:\n",
    "for i in range(krylov_dim-1):\n",
    "\n",
    "    # Get expectation values from experiment\n",
    "    expval_real = results.data.evs[0, i] # automatic extrapolated evs if ZNE is used\n",
    "    expval_imag = results.data.evs[1, i] # automatic extrapolated evs if ZNE is used\n",
    "\n",
    "    # Get expectation values\n",
    "    expval = expval_real + 1j*expval_imag\n",
    "    # Get the coefficients and expectation values corresponding to actual terms in the Hamiltonian (as opposed to the ancilla-only measurements).\n",
    "    S_first_row[i+1] += prefactors[i]*expval\n",
    "\n",
    "S_first_row_list =  S_first_row.tolist() #for saving purposes     \n",
    "            \n",
    "            \n",
    "S_circ = np.zeros((krylov_dim, krylov_dim), dtype=complex)\n",
    "\n",
    "# Distribute entries from first row across matrix:\n",
    "for i,j in itertools.product(range(krylov_dim),repeat=2):\n",
    "    if i >= j:\n",
    "        S_circ[j,i] = S_first_row[i-j]\n",
    "    else:\n",
    "        S_circ[j,i] = np.conj(S_first_row[j-i])"
   ]
  },
  {
   "cell_type": "code",
   "execution_count": 76,
   "metadata": {},
   "outputs": [
    {
     "data": {
      "text/latex": [
       "$\\displaystyle \\left[\\begin{array}{cccccccccccccccccccc}1.0 & -0.611979999999999 - 0.199536 i & -0.0526 - 0.018308 i & 0.307632000000001 + 0.2695 i & -0.24604 - 0.095196 i & 0.227032 - 0.213432 i & -0.108059999999999 + 0.233988 i & -0.242112000000001 - 0.163371999999999 i & 0.395092 + 0.267207999999999 i & -0.00425600000000036 - 0.246356 i & -0.478448000000001 - 0.174095999999999 i & 0.564212000000001 + 0.571311999999998 i & -0.441576000000001 - 0.535823999999997 i & 0.453300000000001 + 0.316147999999998 i & -0.391708 - 0.270427999999999 i & 0.0701720000000004 + 0.175708 i & 0.134188000000001 + 0.181595999999999 i & 0.074351999999998 - 0.407904 i & -0.29338 + 0.199016000000002 i & 0.157968 + 0.0653639999999993 i\\\\-0.611979999999999 + 0.199536 i & 1.0 & -0.611979999999999 - 0.199536 i & -0.0526 - 0.018308 i & 0.307632000000001 + 0.2695 i & -0.24604 - 0.095196 i & 0.227032 - 0.213432 i & -0.108059999999999 + 0.233988 i & -0.242112000000001 - 0.163371999999999 i & 0.395092 + 0.267207999999999 i & -0.00425600000000036 - 0.246356 i & -0.478448000000001 - 0.174095999999999 i & 0.564212000000001 + 0.571311999999998 i & -0.441576000000001 - 0.535823999999997 i & 0.453300000000001 + 0.316147999999998 i & -0.391708 - 0.270427999999999 i & 0.0701720000000004 + 0.175708 i & 0.134188000000001 + 0.181595999999999 i & 0.074351999999998 - 0.407904 i & -0.29338 + 0.199016000000002 i\\\\-0.0526 + 0.018308 i & -0.611979999999999 + 0.199536 i & 1.0 & -0.611979999999999 - 0.199536 i & -0.0526 - 0.018308 i & 0.307632000000001 + 0.2695 i & -0.24604 - 0.095196 i & 0.227032 - 0.213432 i & -0.108059999999999 + 0.233988 i & -0.242112000000001 - 0.163371999999999 i & 0.395092 + 0.267207999999999 i & -0.00425600000000036 - 0.246356 i & -0.478448000000001 - 0.174095999999999 i & 0.564212000000001 + 0.571311999999998 i & -0.441576000000001 - 0.535823999999997 i & 0.453300000000001 + 0.316147999999998 i & -0.391708 - 0.270427999999999 i & 0.0701720000000004 + 0.175708 i & 0.134188000000001 + 0.181595999999999 i & 0.074351999999998 - 0.407904 i\\\\0.307632000000001 - 0.2695 i & -0.0526 + 0.018308 i & -0.611979999999999 + 0.199536 i & 1.0 & -0.611979999999999 - 0.199536 i & -0.0526 - 0.018308 i & 0.307632000000001 + 0.2695 i & -0.24604 - 0.095196 i & 0.227032 - 0.213432 i & -0.108059999999999 + 0.233988 i & -0.242112000000001 - 0.163371999999999 i & 0.395092 + 0.267207999999999 i & -0.00425600000000036 - 0.246356 i & -0.478448000000001 - 0.174095999999999 i & 0.564212000000001 + 0.571311999999998 i & -0.441576000000001 - 0.535823999999997 i & 0.453300000000001 + 0.316147999999998 i & -0.391708 - 0.270427999999999 i & 0.0701720000000004 + 0.175708 i & 0.134188000000001 + 0.181595999999999 i\\\\-0.24604 + 0.095196 i & 0.307632000000001 - 0.2695 i & -0.0526 + 0.018308 i & -0.611979999999999 + 0.199536 i & 1.0 & -0.611979999999999 - 0.199536 i & -0.0526 - 0.018308 i & 0.307632000000001 + 0.2695 i & -0.24604 - 0.095196 i & 0.227032 - 0.213432 i & -0.108059999999999 + 0.233988 i & -0.242112000000001 - 0.163371999999999 i & 0.395092 + 0.267207999999999 i & -0.00425600000000036 - 0.246356 i & -0.478448000000001 - 0.174095999999999 i & 0.564212000000001 + 0.571311999999998 i & -0.441576000000001 - 0.535823999999997 i & 0.453300000000001 + 0.316147999999998 i & -0.391708 - 0.270427999999999 i & 0.0701720000000004 + 0.175708 i\\\\0.227032 + 0.213432 i & -0.24604 + 0.095196 i & 0.307632000000001 - 0.2695 i & -0.0526 + 0.018308 i & -0.611979999999999 + 0.199536 i & 1.0 & -0.611979999999999 - 0.199536 i & -0.0526 - 0.018308 i & 0.307632000000001 + 0.2695 i & -0.24604 - 0.095196 i & 0.227032 - 0.213432 i & -0.108059999999999 + 0.233988 i & -0.242112000000001 - 0.163371999999999 i & 0.395092 + 0.267207999999999 i & -0.00425600000000036 - 0.246356 i & -0.478448000000001 - 0.174095999999999 i & 0.564212000000001 + 0.571311999999998 i & -0.441576000000001 - 0.535823999999997 i & 0.453300000000001 + 0.316147999999998 i & -0.391708 - 0.270427999999999 i\\\\-0.108059999999999 - 0.233988 i & 0.227032 + 0.213432 i & -0.24604 + 0.095196 i & 0.307632000000001 - 0.2695 i & -0.0526 + 0.018308 i & -0.611979999999999 + 0.199536 i & 1.0 & -0.611979999999999 - 0.199536 i & -0.0526 - 0.018308 i & 0.307632000000001 + 0.2695 i & -0.24604 - 0.095196 i & 0.227032 - 0.213432 i & -0.108059999999999 + 0.233988 i & -0.242112000000001 - 0.163371999999999 i & 0.395092 + 0.267207999999999 i & -0.00425600000000036 - 0.246356 i & -0.478448000000001 - 0.174095999999999 i & 0.564212000000001 + 0.571311999999998 i & -0.441576000000001 - 0.535823999999997 i & 0.453300000000001 + 0.316147999999998 i\\\\-0.242112000000001 + 0.163371999999999 i & -0.108059999999999 - 0.233988 i & 0.227032 + 0.213432 i & -0.24604 + 0.095196 i & 0.307632000000001 - 0.2695 i & -0.0526 + 0.018308 i & -0.611979999999999 + 0.199536 i & 1.0 & -0.611979999999999 - 0.199536 i & -0.0526 - 0.018308 i & 0.307632000000001 + 0.2695 i & -0.24604 - 0.095196 i & 0.227032 - 0.213432 i & -0.108059999999999 + 0.233988 i & -0.242112000000001 - 0.163371999999999 i & 0.395092 + 0.267207999999999 i & -0.00425600000000036 - 0.246356 i & -0.478448000000001 - 0.174095999999999 i & 0.564212000000001 + 0.571311999999998 i & -0.441576000000001 - 0.535823999999997 i\\\\0.395092 - 0.267207999999999 i & -0.242112000000001 + 0.163371999999999 i & -0.108059999999999 - 0.233988 i & 0.227032 + 0.213432 i & -0.24604 + 0.095196 i & 0.307632000000001 - 0.2695 i & -0.0526 + 0.018308 i & -0.611979999999999 + 0.199536 i & 1.0 & -0.611979999999999 - 0.199536 i & -0.0526 - 0.018308 i & 0.307632000000001 + 0.2695 i & -0.24604 - 0.095196 i & 0.227032 - 0.213432 i & -0.108059999999999 + 0.233988 i & -0.242112000000001 - 0.163371999999999 i & 0.395092 + 0.267207999999999 i & -0.00425600000000036 - 0.246356 i & -0.478448000000001 - 0.174095999999999 i & 0.564212000000001 + 0.571311999999998 i\\\\-0.00425600000000036 + 0.246356 i & 0.395092 - 0.267207999999999 i & -0.242112000000001 + 0.163371999999999 i & -0.108059999999999 - 0.233988 i & 0.227032 + 0.213432 i & -0.24604 + 0.095196 i & 0.307632000000001 - 0.2695 i & -0.0526 + 0.018308 i & -0.611979999999999 + 0.199536 i & 1.0 & -0.611979999999999 - 0.199536 i & -0.0526 - 0.018308 i & 0.307632000000001 + 0.2695 i & -0.24604 - 0.095196 i & 0.227032 - 0.213432 i & -0.108059999999999 + 0.233988 i & -0.242112000000001 - 0.163371999999999 i & 0.395092 + 0.267207999999999 i & -0.00425600000000036 - 0.246356 i & -0.478448000000001 - 0.174095999999999 i\\\\-0.478448000000001 + 0.174095999999999 i & -0.00425600000000036 + 0.246356 i & 0.395092 - 0.267207999999999 i & -0.242112000000001 + 0.163371999999999 i & -0.108059999999999 - 0.233988 i & 0.227032 + 0.213432 i & -0.24604 + 0.095196 i & 0.307632000000001 - 0.2695 i & -0.0526 + 0.018308 i & -0.611979999999999 + 0.199536 i & 1.0 & -0.611979999999999 - 0.199536 i & -0.0526 - 0.018308 i & 0.307632000000001 + 0.2695 i & -0.24604 - 0.095196 i & 0.227032 - 0.213432 i & -0.108059999999999 + 0.233988 i & -0.242112000000001 - 0.163371999999999 i & 0.395092 + 0.267207999999999 i & -0.00425600000000036 - 0.246356 i\\\\0.564212000000001 - 0.571311999999998 i & -0.478448000000001 + 0.174095999999999 i & -0.00425600000000036 + 0.246356 i & 0.395092 - 0.267207999999999 i & -0.242112000000001 + 0.163371999999999 i & -0.108059999999999 - 0.233988 i & 0.227032 + 0.213432 i & -0.24604 + 0.095196 i & 0.307632000000001 - 0.2695 i & -0.0526 + 0.018308 i & -0.611979999999999 + 0.199536 i & 1.0 & -0.611979999999999 - 0.199536 i & -0.0526 - 0.018308 i & 0.307632000000001 + 0.2695 i & -0.24604 - 0.095196 i & 0.227032 - 0.213432 i & -0.108059999999999 + 0.233988 i & -0.242112000000001 - 0.163371999999999 i & 0.395092 + 0.267207999999999 i\\\\-0.441576000000001 + 0.535823999999997 i & 0.564212000000001 - 0.571311999999998 i & -0.478448000000001 + 0.174095999999999 i & -0.00425600000000036 + 0.246356 i & 0.395092 - 0.267207999999999 i & -0.242112000000001 + 0.163371999999999 i & -0.108059999999999 - 0.233988 i & 0.227032 + 0.213432 i & -0.24604 + 0.095196 i & 0.307632000000001 - 0.2695 i & -0.0526 + 0.018308 i & -0.611979999999999 + 0.199536 i & 1.0 & -0.611979999999999 - 0.199536 i & -0.0526 - 0.018308 i & 0.307632000000001 + 0.2695 i & -0.24604 - 0.095196 i & 0.227032 - 0.213432 i & -0.108059999999999 + 0.233988 i & -0.242112000000001 - 0.163371999999999 i\\\\0.453300000000001 - 0.316147999999998 i & -0.441576000000001 + 0.535823999999997 i & 0.564212000000001 - 0.571311999999998 i & -0.478448000000001 + 0.174095999999999 i & -0.00425600000000036 + 0.246356 i & 0.395092 - 0.267207999999999 i & -0.242112000000001 + 0.163371999999999 i & -0.108059999999999 - 0.233988 i & 0.227032 + 0.213432 i & -0.24604 + 0.095196 i & 0.307632000000001 - 0.2695 i & -0.0526 + 0.018308 i & -0.611979999999999 + 0.199536 i & 1.0 & -0.611979999999999 - 0.199536 i & -0.0526 - 0.018308 i & 0.307632000000001 + 0.2695 i & -0.24604 - 0.095196 i & 0.227032 - 0.213432 i & -0.108059999999999 + 0.233988 i\\\\-0.391708 + 0.270427999999999 i & 0.453300000000001 - 0.316147999999998 i & -0.441576000000001 + 0.535823999999997 i & 0.564212000000001 - 0.571311999999998 i & -0.478448000000001 + 0.174095999999999 i & -0.00425600000000036 + 0.246356 i & 0.395092 - 0.267207999999999 i & -0.242112000000001 + 0.163371999999999 i & -0.108059999999999 - 0.233988 i & 0.227032 + 0.213432 i & -0.24604 + 0.095196 i & 0.307632000000001 - 0.2695 i & -0.0526 + 0.018308 i & -0.611979999999999 + 0.199536 i & 1.0 & -0.611979999999999 - 0.199536 i & -0.0526 - 0.018308 i & 0.307632000000001 + 0.2695 i & -0.24604 - 0.095196 i & 0.227032 - 0.213432 i\\\\0.0701720000000004 - 0.175708 i & -0.391708 + 0.270427999999999 i & 0.453300000000001 - 0.316147999999998 i & -0.441576000000001 + 0.535823999999997 i & 0.564212000000001 - 0.571311999999998 i & -0.478448000000001 + 0.174095999999999 i & -0.00425600000000036 + 0.246356 i & 0.395092 - 0.267207999999999 i & -0.242112000000001 + 0.163371999999999 i & -0.108059999999999 - 0.233988 i & 0.227032 + 0.213432 i & -0.24604 + 0.095196 i & 0.307632000000001 - 0.2695 i & -0.0526 + 0.018308 i & -0.611979999999999 + 0.199536 i & 1.0 & -0.611979999999999 - 0.199536 i & -0.0526 - 0.018308 i & 0.307632000000001 + 0.2695 i & -0.24604 - 0.095196 i\\\\0.134188000000001 - 0.181595999999999 i & 0.0701720000000004 - 0.175708 i & -0.391708 + 0.270427999999999 i & 0.453300000000001 - 0.316147999999998 i & -0.441576000000001 + 0.535823999999997 i & 0.564212000000001 - 0.571311999999998 i & -0.478448000000001 + 0.174095999999999 i & -0.00425600000000036 + 0.246356 i & 0.395092 - 0.267207999999999 i & -0.242112000000001 + 0.163371999999999 i & -0.108059999999999 - 0.233988 i & 0.227032 + 0.213432 i & -0.24604 + 0.095196 i & 0.307632000000001 - 0.2695 i & -0.0526 + 0.018308 i & -0.611979999999999 + 0.199536 i & 1.0 & -0.611979999999999 - 0.199536 i & -0.0526 - 0.018308 i & 0.307632000000001 + 0.2695 i\\\\0.074351999999998 + 0.407904 i & 0.134188000000001 - 0.181595999999999 i & 0.0701720000000004 - 0.175708 i & -0.391708 + 0.270427999999999 i & 0.453300000000001 - 0.316147999999998 i & -0.441576000000001 + 0.535823999999997 i & 0.564212000000001 - 0.571311999999998 i & -0.478448000000001 + 0.174095999999999 i & -0.00425600000000036 + 0.246356 i & 0.395092 - 0.267207999999999 i & -0.242112000000001 + 0.163371999999999 i & -0.108059999999999 - 0.233988 i & 0.227032 + 0.213432 i & -0.24604 + 0.095196 i & 0.307632000000001 - 0.2695 i & -0.0526 + 0.018308 i & -0.611979999999999 + 0.199536 i & 1.0 & -0.611979999999999 - 0.199536 i & -0.0526 - 0.018308 i\\\\-0.29338 - 0.199016000000002 i & 0.074351999999998 + 0.407904 i & 0.134188000000001 - 0.181595999999999 i & 0.0701720000000004 - 0.175708 i & -0.391708 + 0.270427999999999 i & 0.453300000000001 - 0.316147999999998 i & -0.441576000000001 + 0.535823999999997 i & 0.564212000000001 - 0.571311999999998 i & -0.478448000000001 + 0.174095999999999 i & -0.00425600000000036 + 0.246356 i & 0.395092 - 0.267207999999999 i & -0.242112000000001 + 0.163371999999999 i & -0.108059999999999 - 0.233988 i & 0.227032 + 0.213432 i & -0.24604 + 0.095196 i & 0.307632000000001 - 0.2695 i & -0.0526 + 0.018308 i & -0.611979999999999 + 0.199536 i & 1.0 & -0.611979999999999 - 0.199536 i\\\\0.157968 - 0.0653639999999993 i & -0.29338 - 0.199016000000002 i & 0.074351999999998 + 0.407904 i & 0.134188000000001 - 0.181595999999999 i & 0.0701720000000004 - 0.175708 i & -0.391708 + 0.270427999999999 i & 0.453300000000001 - 0.316147999999998 i & -0.441576000000001 + 0.535823999999997 i & 0.564212000000001 - 0.571311999999998 i & -0.478448000000001 + 0.174095999999999 i & -0.00425600000000036 + 0.246356 i & 0.395092 - 0.267207999999999 i & -0.242112000000001 + 0.163371999999999 i & -0.108059999999999 - 0.233988 i & 0.227032 + 0.213432 i & -0.24604 + 0.095196 i & 0.307632000000001 - 0.2695 i & -0.0526 + 0.018308 i & -0.611979999999999 + 0.199536 i & 1.0\\end{array}\\right]$"
      ],
      "text/plain": [
       "Matrix([\n",
       "[                                     1.0,          -0.611979999999999 - 0.199536*I,                     -0.0526 - 0.018308*I,             0.307632000000001 + 0.2695*I,                    -0.24604 - 0.095196*I,                    0.227032 - 0.213432*I,          -0.108059999999999 + 0.233988*I, -0.242112000000001 - 0.163371999999999*I,           0.395092 + 0.267207999999999*I,        -0.00425600000000036 - 0.246356*I, -0.478448000000001 - 0.174095999999999*I,  0.564212000000001 + 0.571311999999998*I, -0.441576000000001 - 0.535823999999997*I,  0.453300000000001 + 0.316147999999998*I,          -0.391708 - 0.270427999999999*I,          0.0701720000000004 + 0.175708*I,  0.134188000000001 + 0.181595999999999*I,           0.074351999999998 - 0.407904*I,           -0.29338 + 0.199016000000002*I,          0.157968 + 0.0653639999999993*I],\n",
       "[         -0.611979999999999 + 0.199536*I,                                      1.0,          -0.611979999999999 - 0.199536*I,                     -0.0526 - 0.018308*I,             0.307632000000001 + 0.2695*I,                    -0.24604 - 0.095196*I,                    0.227032 - 0.213432*I,          -0.108059999999999 + 0.233988*I, -0.242112000000001 - 0.163371999999999*I,           0.395092 + 0.267207999999999*I,        -0.00425600000000036 - 0.246356*I, -0.478448000000001 - 0.174095999999999*I,  0.564212000000001 + 0.571311999999998*I, -0.441576000000001 - 0.535823999999997*I,  0.453300000000001 + 0.316147999999998*I,          -0.391708 - 0.270427999999999*I,          0.0701720000000004 + 0.175708*I,  0.134188000000001 + 0.181595999999999*I,           0.074351999999998 - 0.407904*I,           -0.29338 + 0.199016000000002*I],\n",
       "[                    -0.0526 + 0.018308*I,          -0.611979999999999 + 0.199536*I,                                      1.0,          -0.611979999999999 - 0.199536*I,                     -0.0526 - 0.018308*I,             0.307632000000001 + 0.2695*I,                    -0.24604 - 0.095196*I,                    0.227032 - 0.213432*I,          -0.108059999999999 + 0.233988*I, -0.242112000000001 - 0.163371999999999*I,           0.395092 + 0.267207999999999*I,        -0.00425600000000036 - 0.246356*I, -0.478448000000001 - 0.174095999999999*I,  0.564212000000001 + 0.571311999999998*I, -0.441576000000001 - 0.535823999999997*I,  0.453300000000001 + 0.316147999999998*I,          -0.391708 - 0.270427999999999*I,          0.0701720000000004 + 0.175708*I,  0.134188000000001 + 0.181595999999999*I,           0.074351999999998 - 0.407904*I],\n",
       "[            0.307632000000001 - 0.2695*I,                     -0.0526 + 0.018308*I,          -0.611979999999999 + 0.199536*I,                                      1.0,          -0.611979999999999 - 0.199536*I,                     -0.0526 - 0.018308*I,             0.307632000000001 + 0.2695*I,                    -0.24604 - 0.095196*I,                    0.227032 - 0.213432*I,          -0.108059999999999 + 0.233988*I, -0.242112000000001 - 0.163371999999999*I,           0.395092 + 0.267207999999999*I,        -0.00425600000000036 - 0.246356*I, -0.478448000000001 - 0.174095999999999*I,  0.564212000000001 + 0.571311999999998*I, -0.441576000000001 - 0.535823999999997*I,  0.453300000000001 + 0.316147999999998*I,          -0.391708 - 0.270427999999999*I,          0.0701720000000004 + 0.175708*I,  0.134188000000001 + 0.181595999999999*I],\n",
       "[                   -0.24604 + 0.095196*I,             0.307632000000001 - 0.2695*I,                     -0.0526 + 0.018308*I,          -0.611979999999999 + 0.199536*I,                                      1.0,          -0.611979999999999 - 0.199536*I,                     -0.0526 - 0.018308*I,             0.307632000000001 + 0.2695*I,                    -0.24604 - 0.095196*I,                    0.227032 - 0.213432*I,          -0.108059999999999 + 0.233988*I, -0.242112000000001 - 0.163371999999999*I,           0.395092 + 0.267207999999999*I,        -0.00425600000000036 - 0.246356*I, -0.478448000000001 - 0.174095999999999*I,  0.564212000000001 + 0.571311999999998*I, -0.441576000000001 - 0.535823999999997*I,  0.453300000000001 + 0.316147999999998*I,          -0.391708 - 0.270427999999999*I,          0.0701720000000004 + 0.175708*I],\n",
       "[                   0.227032 + 0.213432*I,                    -0.24604 + 0.095196*I,             0.307632000000001 - 0.2695*I,                     -0.0526 + 0.018308*I,          -0.611979999999999 + 0.199536*I,                                      1.0,          -0.611979999999999 - 0.199536*I,                     -0.0526 - 0.018308*I,             0.307632000000001 + 0.2695*I,                    -0.24604 - 0.095196*I,                    0.227032 - 0.213432*I,          -0.108059999999999 + 0.233988*I, -0.242112000000001 - 0.163371999999999*I,           0.395092 + 0.267207999999999*I,        -0.00425600000000036 - 0.246356*I, -0.478448000000001 - 0.174095999999999*I,  0.564212000000001 + 0.571311999999998*I, -0.441576000000001 - 0.535823999999997*I,  0.453300000000001 + 0.316147999999998*I,          -0.391708 - 0.270427999999999*I],\n",
       "[         -0.108059999999999 - 0.233988*I,                    0.227032 + 0.213432*I,                    -0.24604 + 0.095196*I,             0.307632000000001 - 0.2695*I,                     -0.0526 + 0.018308*I,          -0.611979999999999 + 0.199536*I,                                      1.0,          -0.611979999999999 - 0.199536*I,                     -0.0526 - 0.018308*I,             0.307632000000001 + 0.2695*I,                    -0.24604 - 0.095196*I,                    0.227032 - 0.213432*I,          -0.108059999999999 + 0.233988*I, -0.242112000000001 - 0.163371999999999*I,           0.395092 + 0.267207999999999*I,        -0.00425600000000036 - 0.246356*I, -0.478448000000001 - 0.174095999999999*I,  0.564212000000001 + 0.571311999999998*I, -0.441576000000001 - 0.535823999999997*I,  0.453300000000001 + 0.316147999999998*I],\n",
       "[-0.242112000000001 + 0.163371999999999*I,          -0.108059999999999 - 0.233988*I,                    0.227032 + 0.213432*I,                    -0.24604 + 0.095196*I,             0.307632000000001 - 0.2695*I,                     -0.0526 + 0.018308*I,          -0.611979999999999 + 0.199536*I,                                      1.0,          -0.611979999999999 - 0.199536*I,                     -0.0526 - 0.018308*I,             0.307632000000001 + 0.2695*I,                    -0.24604 - 0.095196*I,                    0.227032 - 0.213432*I,          -0.108059999999999 + 0.233988*I, -0.242112000000001 - 0.163371999999999*I,           0.395092 + 0.267207999999999*I,        -0.00425600000000036 - 0.246356*I, -0.478448000000001 - 0.174095999999999*I,  0.564212000000001 + 0.571311999999998*I, -0.441576000000001 - 0.535823999999997*I],\n",
       "[          0.395092 - 0.267207999999999*I, -0.242112000000001 + 0.163371999999999*I,          -0.108059999999999 - 0.233988*I,                    0.227032 + 0.213432*I,                    -0.24604 + 0.095196*I,             0.307632000000001 - 0.2695*I,                     -0.0526 + 0.018308*I,          -0.611979999999999 + 0.199536*I,                                      1.0,          -0.611979999999999 - 0.199536*I,                     -0.0526 - 0.018308*I,             0.307632000000001 + 0.2695*I,                    -0.24604 - 0.095196*I,                    0.227032 - 0.213432*I,          -0.108059999999999 + 0.233988*I, -0.242112000000001 - 0.163371999999999*I,           0.395092 + 0.267207999999999*I,        -0.00425600000000036 - 0.246356*I, -0.478448000000001 - 0.174095999999999*I,  0.564212000000001 + 0.571311999999998*I],\n",
       "[       -0.00425600000000036 + 0.246356*I,           0.395092 - 0.267207999999999*I, -0.242112000000001 + 0.163371999999999*I,          -0.108059999999999 - 0.233988*I,                    0.227032 + 0.213432*I,                    -0.24604 + 0.095196*I,             0.307632000000001 - 0.2695*I,                     -0.0526 + 0.018308*I,          -0.611979999999999 + 0.199536*I,                                      1.0,          -0.611979999999999 - 0.199536*I,                     -0.0526 - 0.018308*I,             0.307632000000001 + 0.2695*I,                    -0.24604 - 0.095196*I,                    0.227032 - 0.213432*I,          -0.108059999999999 + 0.233988*I, -0.242112000000001 - 0.163371999999999*I,           0.395092 + 0.267207999999999*I,        -0.00425600000000036 - 0.246356*I, -0.478448000000001 - 0.174095999999999*I],\n",
       "[-0.478448000000001 + 0.174095999999999*I,        -0.00425600000000036 + 0.246356*I,           0.395092 - 0.267207999999999*I, -0.242112000000001 + 0.163371999999999*I,          -0.108059999999999 - 0.233988*I,                    0.227032 + 0.213432*I,                    -0.24604 + 0.095196*I,             0.307632000000001 - 0.2695*I,                     -0.0526 + 0.018308*I,          -0.611979999999999 + 0.199536*I,                                      1.0,          -0.611979999999999 - 0.199536*I,                     -0.0526 - 0.018308*I,             0.307632000000001 + 0.2695*I,                    -0.24604 - 0.095196*I,                    0.227032 - 0.213432*I,          -0.108059999999999 + 0.233988*I, -0.242112000000001 - 0.163371999999999*I,           0.395092 + 0.267207999999999*I,        -0.00425600000000036 - 0.246356*I],\n",
       "[ 0.564212000000001 - 0.571311999999998*I, -0.478448000000001 + 0.174095999999999*I,        -0.00425600000000036 + 0.246356*I,           0.395092 - 0.267207999999999*I, -0.242112000000001 + 0.163371999999999*I,          -0.108059999999999 - 0.233988*I,                    0.227032 + 0.213432*I,                    -0.24604 + 0.095196*I,             0.307632000000001 - 0.2695*I,                     -0.0526 + 0.018308*I,          -0.611979999999999 + 0.199536*I,                                      1.0,          -0.611979999999999 - 0.199536*I,                     -0.0526 - 0.018308*I,             0.307632000000001 + 0.2695*I,                    -0.24604 - 0.095196*I,                    0.227032 - 0.213432*I,          -0.108059999999999 + 0.233988*I, -0.242112000000001 - 0.163371999999999*I,           0.395092 + 0.267207999999999*I],\n",
       "[-0.441576000000001 + 0.535823999999997*I,  0.564212000000001 - 0.571311999999998*I, -0.478448000000001 + 0.174095999999999*I,        -0.00425600000000036 + 0.246356*I,           0.395092 - 0.267207999999999*I, -0.242112000000001 + 0.163371999999999*I,          -0.108059999999999 - 0.233988*I,                    0.227032 + 0.213432*I,                    -0.24604 + 0.095196*I,             0.307632000000001 - 0.2695*I,                     -0.0526 + 0.018308*I,          -0.611979999999999 + 0.199536*I,                                      1.0,          -0.611979999999999 - 0.199536*I,                     -0.0526 - 0.018308*I,             0.307632000000001 + 0.2695*I,                    -0.24604 - 0.095196*I,                    0.227032 - 0.213432*I,          -0.108059999999999 + 0.233988*I, -0.242112000000001 - 0.163371999999999*I],\n",
       "[ 0.453300000000001 - 0.316147999999998*I, -0.441576000000001 + 0.535823999999997*I,  0.564212000000001 - 0.571311999999998*I, -0.478448000000001 + 0.174095999999999*I,        -0.00425600000000036 + 0.246356*I,           0.395092 - 0.267207999999999*I, -0.242112000000001 + 0.163371999999999*I,          -0.108059999999999 - 0.233988*I,                    0.227032 + 0.213432*I,                    -0.24604 + 0.095196*I,             0.307632000000001 - 0.2695*I,                     -0.0526 + 0.018308*I,          -0.611979999999999 + 0.199536*I,                                      1.0,          -0.611979999999999 - 0.199536*I,                     -0.0526 - 0.018308*I,             0.307632000000001 + 0.2695*I,                    -0.24604 - 0.095196*I,                    0.227032 - 0.213432*I,          -0.108059999999999 + 0.233988*I],\n",
       "[         -0.391708 + 0.270427999999999*I,  0.453300000000001 - 0.316147999999998*I, -0.441576000000001 + 0.535823999999997*I,  0.564212000000001 - 0.571311999999998*I, -0.478448000000001 + 0.174095999999999*I,        -0.00425600000000036 + 0.246356*I,           0.395092 - 0.267207999999999*I, -0.242112000000001 + 0.163371999999999*I,          -0.108059999999999 - 0.233988*I,                    0.227032 + 0.213432*I,                    -0.24604 + 0.095196*I,             0.307632000000001 - 0.2695*I,                     -0.0526 + 0.018308*I,          -0.611979999999999 + 0.199536*I,                                      1.0,          -0.611979999999999 - 0.199536*I,                     -0.0526 - 0.018308*I,             0.307632000000001 + 0.2695*I,                    -0.24604 - 0.095196*I,                    0.227032 - 0.213432*I],\n",
       "[         0.0701720000000004 - 0.175708*I,          -0.391708 + 0.270427999999999*I,  0.453300000000001 - 0.316147999999998*I, -0.441576000000001 + 0.535823999999997*I,  0.564212000000001 - 0.571311999999998*I, -0.478448000000001 + 0.174095999999999*I,        -0.00425600000000036 + 0.246356*I,           0.395092 - 0.267207999999999*I, -0.242112000000001 + 0.163371999999999*I,          -0.108059999999999 - 0.233988*I,                    0.227032 + 0.213432*I,                    -0.24604 + 0.095196*I,             0.307632000000001 - 0.2695*I,                     -0.0526 + 0.018308*I,          -0.611979999999999 + 0.199536*I,                                      1.0,          -0.611979999999999 - 0.199536*I,                     -0.0526 - 0.018308*I,             0.307632000000001 + 0.2695*I,                    -0.24604 - 0.095196*I],\n",
       "[ 0.134188000000001 - 0.181595999999999*I,          0.0701720000000004 - 0.175708*I,          -0.391708 + 0.270427999999999*I,  0.453300000000001 - 0.316147999999998*I, -0.441576000000001 + 0.535823999999997*I,  0.564212000000001 - 0.571311999999998*I, -0.478448000000001 + 0.174095999999999*I,        -0.00425600000000036 + 0.246356*I,           0.395092 - 0.267207999999999*I, -0.242112000000001 + 0.163371999999999*I,          -0.108059999999999 - 0.233988*I,                    0.227032 + 0.213432*I,                    -0.24604 + 0.095196*I,             0.307632000000001 - 0.2695*I,                     -0.0526 + 0.018308*I,          -0.611979999999999 + 0.199536*I,                                      1.0,          -0.611979999999999 - 0.199536*I,                     -0.0526 - 0.018308*I,             0.307632000000001 + 0.2695*I],\n",
       "[          0.074351999999998 + 0.407904*I,  0.134188000000001 - 0.181595999999999*I,          0.0701720000000004 - 0.175708*I,          -0.391708 + 0.270427999999999*I,  0.453300000000001 - 0.316147999999998*I, -0.441576000000001 + 0.535823999999997*I,  0.564212000000001 - 0.571311999999998*I, -0.478448000000001 + 0.174095999999999*I,        -0.00425600000000036 + 0.246356*I,           0.395092 - 0.267207999999999*I, -0.242112000000001 + 0.163371999999999*I,          -0.108059999999999 - 0.233988*I,                    0.227032 + 0.213432*I,                    -0.24604 + 0.095196*I,             0.307632000000001 - 0.2695*I,                     -0.0526 + 0.018308*I,          -0.611979999999999 + 0.199536*I,                                      1.0,          -0.611979999999999 - 0.199536*I,                     -0.0526 - 0.018308*I],\n",
       "[          -0.29338 - 0.199016000000002*I,           0.074351999999998 + 0.407904*I,  0.134188000000001 - 0.181595999999999*I,          0.0701720000000004 - 0.175708*I,          -0.391708 + 0.270427999999999*I,  0.453300000000001 - 0.316147999999998*I, -0.441576000000001 + 0.535823999999997*I,  0.564212000000001 - 0.571311999999998*I, -0.478448000000001 + 0.174095999999999*I,        -0.00425600000000036 + 0.246356*I,           0.395092 - 0.267207999999999*I, -0.242112000000001 + 0.163371999999999*I,          -0.108059999999999 - 0.233988*I,                    0.227032 + 0.213432*I,                    -0.24604 + 0.095196*I,             0.307632000000001 - 0.2695*I,                     -0.0526 + 0.018308*I,          -0.611979999999999 + 0.199536*I,                                      1.0,          -0.611979999999999 - 0.199536*I],\n",
       "[         0.157968 - 0.0653639999999993*I,           -0.29338 - 0.199016000000002*I,           0.074351999999998 + 0.407904*I,  0.134188000000001 - 0.181595999999999*I,          0.0701720000000004 - 0.175708*I,          -0.391708 + 0.270427999999999*I,  0.453300000000001 - 0.316147999999998*I, -0.441576000000001 + 0.535823999999997*I,  0.564212000000001 - 0.571311999999998*I, -0.478448000000001 + 0.174095999999999*I,        -0.00425600000000036 + 0.246356*I,           0.395092 - 0.267207999999999*I, -0.242112000000001 + 0.163371999999999*I,          -0.108059999999999 - 0.233988*I,                    0.227032 + 0.213432*I,                    -0.24604 + 0.095196*I,             0.307632000000001 - 0.2695*I,                     -0.0526 + 0.018308*I,          -0.611979999999999 + 0.199536*I,                                      1.0]])"
      ]
     },
     "execution_count": 76,
     "metadata": {},
     "output_type": "execute_result"
    }
   ],
   "source": [
    "from sympy import Matrix\n",
    "Matrix(S_circ)"
   ]
  },
  {
   "cell_type": "markdown",
   "metadata": {},
   "source": [
    "And the matrix elements of $\\tilde{H}$"
   ]
  },
  {
   "cell_type": "code",
   "execution_count": 77,
   "metadata": {},
   "outputs": [
    {
     "data": {
      "text/plain": [
       "15"
      ]
     },
     "execution_count": 77,
     "metadata": {},
     "output_type": "execute_result"
    }
   ],
   "source": [
    "len(H_op.paulis)"
   ]
  },
  {
   "cell_type": "code",
   "execution_count": 78,
   "metadata": {},
   "outputs": [],
   "source": [
    "observable_list = []\n",
    "for pauli, coeff in zip(H_op.paulis, H_op.coeffs):\n",
    "    # print(pauli)\n",
    "    observable_H_real = pauli[::-1].to_label() + 'X'\n",
    "    observable_H_imag = pauli[::-1].to_label() + 'Y'\n",
    "    observable_list.append([observable_H_real])\n",
    "    observable_list.append([observable_H_imag])"
   ]
  },
  {
   "cell_type": "code",
   "execution_count": 79,
   "metadata": {},
   "outputs": [],
   "source": [
    "import itertools\n",
    "# Assemble S, the overlap matrix of dimension D:\n",
    "H_first_row = np.zeros(krylov_dim, dtype=complex)\n",
    "H_first_row[0] = H_expval\n",
    "\n",
    "for obs_idx, (pauli, coeff) in enumerate(zip(H_op.paulis, H_op.coeffs)):\n",
    "    # Add in ancilla-only measurements:\n",
    "    for i in range(krylov_dim-1):\n",
    "\n",
    "        # Get expectation values from experiment\n",
    "        expval_real = results.data.evs[2 + 2*obs_idx][i] # automatic extrapolated evs if ZNE is used\n",
    "        expval_imag = results.data.evs[2 + 2*obs_idx + 1][i] # automatic extrapolated evs if ZNE is used\n",
    "\n",
    "        # Get expectation values\n",
    "        expval = expval_real + 1j*expval_imag\n",
    "        # Get the coefficients and expectation values corresponding to actual terms in the Hamiltonian (as opposed to the ancilla-only measurements).\n",
    "        H_first_row[i+1] += prefactors[i]*coeff*expval\n",
    "        \n",
    "H_first_row_list = H_first_row.tolist()           \n",
    "            \n",
    "H_eff_circ = np.zeros((krylov_dim, krylov_dim), dtype=complex)\n",
    "\n",
    "# Distribute entries from first row across matrix:\n",
    "for i,j in itertools.product(range(krylov_dim),repeat=2):\n",
    "    if i >= j:\n",
    "        H_eff_circ[j,i] = H_first_row[i-j]\n",
    "    else:\n",
    "        H_eff_circ[j,i] = np.conj(H_first_row[j-i])\n",
    "\n",
    "\n",
    "\n"
   ]
  },
  {
   "cell_type": "code",
   "execution_count": 80,
   "metadata": {},
   "outputs": [
    {
     "data": {
      "text/latex": [
       "$\\displaystyle \\left[\\begin{array}{cccccccccccccccccccc}-1.0 & -0.00797199999999917 + 2.154344 i & 1.132768 - 1.62714 i & -0.254744 - 0.0177919999999995 i & -1.032204 + 0.376484000000001 i & 0.602287999999999 - 0.197176 i & 0.330184000000001 + 0.809139999999999 i & -0.119480000000002 - 0.877624 i & 0.00285999999999862 - 0.710631999999999 i & -1.180744 + 1.905572 i & 1.826832 - 0.996544000000006 i & -0.472052 - 0.270227999999998 i & -0.954727999999998 + 0.0267720000000036 i & 0.583616000000001 + 0.325127999999998 i & 0.0151280000000018 + 0.684531999999999 i & 0.785395999999999 - 1.3673 i & -1.316448 + 0.202268000000008 i & 0.0379560000000046 + 0.957427999999999 i & 1.226568 - 0.251468000000005 i & -0.720440000000002 - 0.637803999999996 i\\\\-0.00797199999999917 - 2.154344 i & -1.0 & -0.00797199999999917 + 2.154344 i & 1.132768 - 1.62714 i & -0.254744 - 0.0177919999999995 i & -1.032204 + 0.376484000000001 i & 0.602287999999999 - 0.197176 i & 0.330184000000001 + 0.809139999999999 i & -0.119480000000002 - 0.877624 i & 0.00285999999999862 - 0.710631999999999 i & -1.180744 + 1.905572 i & 1.826832 - 0.996544000000006 i & -0.472052 - 0.270227999999998 i & -0.954727999999998 + 0.0267720000000036 i & 0.583616000000001 + 0.325127999999998 i & 0.0151280000000018 + 0.684531999999999 i & 0.785395999999999 - 1.3673 i & -1.316448 + 0.202268000000008 i & 0.0379560000000046 + 0.957427999999999 i & 1.226568 - 0.251468000000005 i\\\\1.132768 + 1.62714 i & -0.00797199999999917 - 2.154344 i & -1.0 & -0.00797199999999917 + 2.154344 i & 1.132768 - 1.62714 i & -0.254744 - 0.0177919999999995 i & -1.032204 + 0.376484000000001 i & 0.602287999999999 - 0.197176 i & 0.330184000000001 + 0.809139999999999 i & -0.119480000000002 - 0.877624 i & 0.00285999999999862 - 0.710631999999999 i & -1.180744 + 1.905572 i & 1.826832 - 0.996544000000006 i & -0.472052 - 0.270227999999998 i & -0.954727999999998 + 0.0267720000000036 i & 0.583616000000001 + 0.325127999999998 i & 0.0151280000000018 + 0.684531999999999 i & 0.785395999999999 - 1.3673 i & -1.316448 + 0.202268000000008 i & 0.0379560000000046 + 0.957427999999999 i\\\\-0.254744 + 0.0177919999999995 i & 1.132768 + 1.62714 i & -0.00797199999999917 - 2.154344 i & -1.0 & -0.00797199999999917 + 2.154344 i & 1.132768 - 1.62714 i & -0.254744 - 0.0177919999999995 i & -1.032204 + 0.376484000000001 i & 0.602287999999999 - 0.197176 i & 0.330184000000001 + 0.809139999999999 i & -0.119480000000002 - 0.877624 i & 0.00285999999999862 - 0.710631999999999 i & -1.180744 + 1.905572 i & 1.826832 - 0.996544000000006 i & -0.472052 - 0.270227999999998 i & -0.954727999999998 + 0.0267720000000036 i & 0.583616000000001 + 0.325127999999998 i & 0.0151280000000018 + 0.684531999999999 i & 0.785395999999999 - 1.3673 i & -1.316448 + 0.202268000000008 i\\\\-1.032204 - 0.376484000000001 i & -0.254744 + 0.0177919999999995 i & 1.132768 + 1.62714 i & -0.00797199999999917 - 2.154344 i & -1.0 & -0.00797199999999917 + 2.154344 i & 1.132768 - 1.62714 i & -0.254744 - 0.0177919999999995 i & -1.032204 + 0.376484000000001 i & 0.602287999999999 - 0.197176 i & 0.330184000000001 + 0.809139999999999 i & -0.119480000000002 - 0.877624 i & 0.00285999999999862 - 0.710631999999999 i & -1.180744 + 1.905572 i & 1.826832 - 0.996544000000006 i & -0.472052 - 0.270227999999998 i & -0.954727999999998 + 0.0267720000000036 i & 0.583616000000001 + 0.325127999999998 i & 0.0151280000000018 + 0.684531999999999 i & 0.785395999999999 - 1.3673 i\\\\0.602287999999999 + 0.197176 i & -1.032204 - 0.376484000000001 i & -0.254744 + 0.0177919999999995 i & 1.132768 + 1.62714 i & -0.00797199999999917 - 2.154344 i & -1.0 & -0.00797199999999917 + 2.154344 i & 1.132768 - 1.62714 i & -0.254744 - 0.0177919999999995 i & -1.032204 + 0.376484000000001 i & 0.602287999999999 - 0.197176 i & 0.330184000000001 + 0.809139999999999 i & -0.119480000000002 - 0.877624 i & 0.00285999999999862 - 0.710631999999999 i & -1.180744 + 1.905572 i & 1.826832 - 0.996544000000006 i & -0.472052 - 0.270227999999998 i & -0.954727999999998 + 0.0267720000000036 i & 0.583616000000001 + 0.325127999999998 i & 0.0151280000000018 + 0.684531999999999 i\\\\0.330184000000001 - 0.809139999999999 i & 0.602287999999999 + 0.197176 i & -1.032204 - 0.376484000000001 i & -0.254744 + 0.0177919999999995 i & 1.132768 + 1.62714 i & -0.00797199999999917 - 2.154344 i & -1.0 & -0.00797199999999917 + 2.154344 i & 1.132768 - 1.62714 i & -0.254744 - 0.0177919999999995 i & -1.032204 + 0.376484000000001 i & 0.602287999999999 - 0.197176 i & 0.330184000000001 + 0.809139999999999 i & -0.119480000000002 - 0.877624 i & 0.00285999999999862 - 0.710631999999999 i & -1.180744 + 1.905572 i & 1.826832 - 0.996544000000006 i & -0.472052 - 0.270227999999998 i & -0.954727999999998 + 0.0267720000000036 i & 0.583616000000001 + 0.325127999999998 i\\\\-0.119480000000002 + 0.877624 i & 0.330184000000001 - 0.809139999999999 i & 0.602287999999999 + 0.197176 i & -1.032204 - 0.376484000000001 i & -0.254744 + 0.0177919999999995 i & 1.132768 + 1.62714 i & -0.00797199999999917 - 2.154344 i & -1.0 & -0.00797199999999917 + 2.154344 i & 1.132768 - 1.62714 i & -0.254744 - 0.0177919999999995 i & -1.032204 + 0.376484000000001 i & 0.602287999999999 - 0.197176 i & 0.330184000000001 + 0.809139999999999 i & -0.119480000000002 - 0.877624 i & 0.00285999999999862 - 0.710631999999999 i & -1.180744 + 1.905572 i & 1.826832 - 0.996544000000006 i & -0.472052 - 0.270227999999998 i & -0.954727999999998 + 0.0267720000000036 i\\\\0.00285999999999862 + 0.710631999999999 i & -0.119480000000002 + 0.877624 i & 0.330184000000001 - 0.809139999999999 i & 0.602287999999999 + 0.197176 i & -1.032204 - 0.376484000000001 i & -0.254744 + 0.0177919999999995 i & 1.132768 + 1.62714 i & -0.00797199999999917 - 2.154344 i & -1.0 & -0.00797199999999917 + 2.154344 i & 1.132768 - 1.62714 i & -0.254744 - 0.0177919999999995 i & -1.032204 + 0.376484000000001 i & 0.602287999999999 - 0.197176 i & 0.330184000000001 + 0.809139999999999 i & -0.119480000000002 - 0.877624 i & 0.00285999999999862 - 0.710631999999999 i & -1.180744 + 1.905572 i & 1.826832 - 0.996544000000006 i & -0.472052 - 0.270227999999998 i\\\\-1.180744 - 1.905572 i & 0.00285999999999862 + 0.710631999999999 i & -0.119480000000002 + 0.877624 i & 0.330184000000001 - 0.809139999999999 i & 0.602287999999999 + 0.197176 i & -1.032204 - 0.376484000000001 i & -0.254744 + 0.0177919999999995 i & 1.132768 + 1.62714 i & -0.00797199999999917 - 2.154344 i & -1.0 & -0.00797199999999917 + 2.154344 i & 1.132768 - 1.62714 i & -0.254744 - 0.0177919999999995 i & -1.032204 + 0.376484000000001 i & 0.602287999999999 - 0.197176 i & 0.330184000000001 + 0.809139999999999 i & -0.119480000000002 - 0.877624 i & 0.00285999999999862 - 0.710631999999999 i & -1.180744 + 1.905572 i & 1.826832 - 0.996544000000006 i\\\\1.826832 + 0.996544000000006 i & -1.180744 - 1.905572 i & 0.00285999999999862 + 0.710631999999999 i & -0.119480000000002 + 0.877624 i & 0.330184000000001 - 0.809139999999999 i & 0.602287999999999 + 0.197176 i & -1.032204 - 0.376484000000001 i & -0.254744 + 0.0177919999999995 i & 1.132768 + 1.62714 i & -0.00797199999999917 - 2.154344 i & -1.0 & -0.00797199999999917 + 2.154344 i & 1.132768 - 1.62714 i & -0.254744 - 0.0177919999999995 i & -1.032204 + 0.376484000000001 i & 0.602287999999999 - 0.197176 i & 0.330184000000001 + 0.809139999999999 i & -0.119480000000002 - 0.877624 i & 0.00285999999999862 - 0.710631999999999 i & -1.180744 + 1.905572 i\\\\-0.472052 + 0.270227999999998 i & 1.826832 + 0.996544000000006 i & -1.180744 - 1.905572 i & 0.00285999999999862 + 0.710631999999999 i & -0.119480000000002 + 0.877624 i & 0.330184000000001 - 0.809139999999999 i & 0.602287999999999 + 0.197176 i & -1.032204 - 0.376484000000001 i & -0.254744 + 0.0177919999999995 i & 1.132768 + 1.62714 i & -0.00797199999999917 - 2.154344 i & -1.0 & -0.00797199999999917 + 2.154344 i & 1.132768 - 1.62714 i & -0.254744 - 0.0177919999999995 i & -1.032204 + 0.376484000000001 i & 0.602287999999999 - 0.197176 i & 0.330184000000001 + 0.809139999999999 i & -0.119480000000002 - 0.877624 i & 0.00285999999999862 - 0.710631999999999 i\\\\-0.954727999999998 - 0.0267720000000036 i & -0.472052 + 0.270227999999998 i & 1.826832 + 0.996544000000006 i & -1.180744 - 1.905572 i & 0.00285999999999862 + 0.710631999999999 i & -0.119480000000002 + 0.877624 i & 0.330184000000001 - 0.809139999999999 i & 0.602287999999999 + 0.197176 i & -1.032204 - 0.376484000000001 i & -0.254744 + 0.0177919999999995 i & 1.132768 + 1.62714 i & -0.00797199999999917 - 2.154344 i & -1.0 & -0.00797199999999917 + 2.154344 i & 1.132768 - 1.62714 i & -0.254744 - 0.0177919999999995 i & -1.032204 + 0.376484000000001 i & 0.602287999999999 - 0.197176 i & 0.330184000000001 + 0.809139999999999 i & -0.119480000000002 - 0.877624 i\\\\0.583616000000001 - 0.325127999999998 i & -0.954727999999998 - 0.0267720000000036 i & -0.472052 + 0.270227999999998 i & 1.826832 + 0.996544000000006 i & -1.180744 - 1.905572 i & 0.00285999999999862 + 0.710631999999999 i & -0.119480000000002 + 0.877624 i & 0.330184000000001 - 0.809139999999999 i & 0.602287999999999 + 0.197176 i & -1.032204 - 0.376484000000001 i & -0.254744 + 0.0177919999999995 i & 1.132768 + 1.62714 i & -0.00797199999999917 - 2.154344 i & -1.0 & -0.00797199999999917 + 2.154344 i & 1.132768 - 1.62714 i & -0.254744 - 0.0177919999999995 i & -1.032204 + 0.376484000000001 i & 0.602287999999999 - 0.197176 i & 0.330184000000001 + 0.809139999999999 i\\\\0.0151280000000018 - 0.684531999999999 i & 0.583616000000001 - 0.325127999999998 i & -0.954727999999998 - 0.0267720000000036 i & -0.472052 + 0.270227999999998 i & 1.826832 + 0.996544000000006 i & -1.180744 - 1.905572 i & 0.00285999999999862 + 0.710631999999999 i & -0.119480000000002 + 0.877624 i & 0.330184000000001 - 0.809139999999999 i & 0.602287999999999 + 0.197176 i & -1.032204 - 0.376484000000001 i & -0.254744 + 0.0177919999999995 i & 1.132768 + 1.62714 i & -0.00797199999999917 - 2.154344 i & -1.0 & -0.00797199999999917 + 2.154344 i & 1.132768 - 1.62714 i & -0.254744 - 0.0177919999999995 i & -1.032204 + 0.376484000000001 i & 0.602287999999999 - 0.197176 i\\\\0.785395999999999 + 1.3673 i & 0.0151280000000018 - 0.684531999999999 i & 0.583616000000001 - 0.325127999999998 i & -0.954727999999998 - 0.0267720000000036 i & -0.472052 + 0.270227999999998 i & 1.826832 + 0.996544000000006 i & -1.180744 - 1.905572 i & 0.00285999999999862 + 0.710631999999999 i & -0.119480000000002 + 0.877624 i & 0.330184000000001 - 0.809139999999999 i & 0.602287999999999 + 0.197176 i & -1.032204 - 0.376484000000001 i & -0.254744 + 0.0177919999999995 i & 1.132768 + 1.62714 i & -0.00797199999999917 - 2.154344 i & -1.0 & -0.00797199999999917 + 2.154344 i & 1.132768 - 1.62714 i & -0.254744 - 0.0177919999999995 i & -1.032204 + 0.376484000000001 i\\\\-1.316448 - 0.202268000000008 i & 0.785395999999999 + 1.3673 i & 0.0151280000000018 - 0.684531999999999 i & 0.583616000000001 - 0.325127999999998 i & -0.954727999999998 - 0.0267720000000036 i & -0.472052 + 0.270227999999998 i & 1.826832 + 0.996544000000006 i & -1.180744 - 1.905572 i & 0.00285999999999862 + 0.710631999999999 i & -0.119480000000002 + 0.877624 i & 0.330184000000001 - 0.809139999999999 i & 0.602287999999999 + 0.197176 i & -1.032204 - 0.376484000000001 i & -0.254744 + 0.0177919999999995 i & 1.132768 + 1.62714 i & -0.00797199999999917 - 2.154344 i & -1.0 & -0.00797199999999917 + 2.154344 i & 1.132768 - 1.62714 i & -0.254744 - 0.0177919999999995 i\\\\0.0379560000000046 - 0.957427999999999 i & -1.316448 - 0.202268000000008 i & 0.785395999999999 + 1.3673 i & 0.0151280000000018 - 0.684531999999999 i & 0.583616000000001 - 0.325127999999998 i & -0.954727999999998 - 0.0267720000000036 i & -0.472052 + 0.270227999999998 i & 1.826832 + 0.996544000000006 i & -1.180744 - 1.905572 i & 0.00285999999999862 + 0.710631999999999 i & -0.119480000000002 + 0.877624 i & 0.330184000000001 - 0.809139999999999 i & 0.602287999999999 + 0.197176 i & -1.032204 - 0.376484000000001 i & -0.254744 + 0.0177919999999995 i & 1.132768 + 1.62714 i & -0.00797199999999917 - 2.154344 i & -1.0 & -0.00797199999999917 + 2.154344 i & 1.132768 - 1.62714 i\\\\1.226568 + 0.251468000000005 i & 0.0379560000000046 - 0.957427999999999 i & -1.316448 - 0.202268000000008 i & 0.785395999999999 + 1.3673 i & 0.0151280000000018 - 0.684531999999999 i & 0.583616000000001 - 0.325127999999998 i & -0.954727999999998 - 0.0267720000000036 i & -0.472052 + 0.270227999999998 i & 1.826832 + 0.996544000000006 i & -1.180744 - 1.905572 i & 0.00285999999999862 + 0.710631999999999 i & -0.119480000000002 + 0.877624 i & 0.330184000000001 - 0.809139999999999 i & 0.602287999999999 + 0.197176 i & -1.032204 - 0.376484000000001 i & -0.254744 + 0.0177919999999995 i & 1.132768 + 1.62714 i & -0.00797199999999917 - 2.154344 i & -1.0 & -0.00797199999999917 + 2.154344 i\\\\-0.720440000000002 + 0.637803999999996 i & 1.226568 + 0.251468000000005 i & 0.0379560000000046 - 0.957427999999999 i & -1.316448 - 0.202268000000008 i & 0.785395999999999 + 1.3673 i & 0.0151280000000018 - 0.684531999999999 i & 0.583616000000001 - 0.325127999999998 i & -0.954727999999998 - 0.0267720000000036 i & -0.472052 + 0.270227999999998 i & 1.826832 + 0.996544000000006 i & -1.180744 - 1.905572 i & 0.00285999999999862 + 0.710631999999999 i & -0.119480000000002 + 0.877624 i & 0.330184000000001 - 0.809139999999999 i & 0.602287999999999 + 0.197176 i & -1.032204 - 0.376484000000001 i & -0.254744 + 0.0177919999999995 i & 1.132768 + 1.62714 i & -0.00797199999999917 - 2.154344 i & -1.0\\end{array}\\right]$"
      ],
      "text/plain": [
       "Matrix([\n",
       "[                                     -1.0,         -0.00797199999999917 + 2.154344*I,                      1.132768 - 1.62714*I,          -0.254744 - 0.0177919999999995*I,           -1.032204 + 0.376484000000001*I,            0.602287999999999 - 0.197176*I,   0.330184000000001 + 0.809139999999999*I,           -0.119480000000002 - 0.877624*I, 0.00285999999999862 - 0.710631999999999*I,                    -1.180744 + 1.905572*I,            1.826832 - 0.996544000000006*I,           -0.472052 - 0.270227999999998*I, -0.954727999999998 + 0.0267720000000036*I,   0.583616000000001 + 0.325127999999998*I,  0.0151280000000018 + 0.684531999999999*I,              0.785395999999999 - 1.3673*I,           -1.316448 + 0.202268000000008*I,  0.0379560000000046 + 0.957427999999999*I,            1.226568 - 0.251468000000005*I,  -0.720440000000002 - 0.637803999999996*I],\n",
       "[        -0.00797199999999917 - 2.154344*I,                                      -1.0,         -0.00797199999999917 + 2.154344*I,                      1.132768 - 1.62714*I,          -0.254744 - 0.0177919999999995*I,           -1.032204 + 0.376484000000001*I,            0.602287999999999 - 0.197176*I,   0.330184000000001 + 0.809139999999999*I,           -0.119480000000002 - 0.877624*I, 0.00285999999999862 - 0.710631999999999*I,                    -1.180744 + 1.905572*I,            1.826832 - 0.996544000000006*I,           -0.472052 - 0.270227999999998*I, -0.954727999999998 + 0.0267720000000036*I,   0.583616000000001 + 0.325127999999998*I,  0.0151280000000018 + 0.684531999999999*I,              0.785395999999999 - 1.3673*I,           -1.316448 + 0.202268000000008*I,  0.0379560000000046 + 0.957427999999999*I,            1.226568 - 0.251468000000005*I],\n",
       "[                     1.132768 + 1.62714*I,         -0.00797199999999917 - 2.154344*I,                                      -1.0,         -0.00797199999999917 + 2.154344*I,                      1.132768 - 1.62714*I,          -0.254744 - 0.0177919999999995*I,           -1.032204 + 0.376484000000001*I,            0.602287999999999 - 0.197176*I,   0.330184000000001 + 0.809139999999999*I,           -0.119480000000002 - 0.877624*I, 0.00285999999999862 - 0.710631999999999*I,                    -1.180744 + 1.905572*I,            1.826832 - 0.996544000000006*I,           -0.472052 - 0.270227999999998*I, -0.954727999999998 + 0.0267720000000036*I,   0.583616000000001 + 0.325127999999998*I,  0.0151280000000018 + 0.684531999999999*I,              0.785395999999999 - 1.3673*I,           -1.316448 + 0.202268000000008*I,  0.0379560000000046 + 0.957427999999999*I],\n",
       "[         -0.254744 + 0.0177919999999995*I,                      1.132768 + 1.62714*I,         -0.00797199999999917 - 2.154344*I,                                      -1.0,         -0.00797199999999917 + 2.154344*I,                      1.132768 - 1.62714*I,          -0.254744 - 0.0177919999999995*I,           -1.032204 + 0.376484000000001*I,            0.602287999999999 - 0.197176*I,   0.330184000000001 + 0.809139999999999*I,           -0.119480000000002 - 0.877624*I, 0.00285999999999862 - 0.710631999999999*I,                    -1.180744 + 1.905572*I,            1.826832 - 0.996544000000006*I,           -0.472052 - 0.270227999999998*I, -0.954727999999998 + 0.0267720000000036*I,   0.583616000000001 + 0.325127999999998*I,  0.0151280000000018 + 0.684531999999999*I,              0.785395999999999 - 1.3673*I,           -1.316448 + 0.202268000000008*I],\n",
       "[          -1.032204 - 0.376484000000001*I,          -0.254744 + 0.0177919999999995*I,                      1.132768 + 1.62714*I,         -0.00797199999999917 - 2.154344*I,                                      -1.0,         -0.00797199999999917 + 2.154344*I,                      1.132768 - 1.62714*I,          -0.254744 - 0.0177919999999995*I,           -1.032204 + 0.376484000000001*I,            0.602287999999999 - 0.197176*I,   0.330184000000001 + 0.809139999999999*I,           -0.119480000000002 - 0.877624*I, 0.00285999999999862 - 0.710631999999999*I,                    -1.180744 + 1.905572*I,            1.826832 - 0.996544000000006*I,           -0.472052 - 0.270227999999998*I, -0.954727999999998 + 0.0267720000000036*I,   0.583616000000001 + 0.325127999999998*I,  0.0151280000000018 + 0.684531999999999*I,              0.785395999999999 - 1.3673*I],\n",
       "[           0.602287999999999 + 0.197176*I,           -1.032204 - 0.376484000000001*I,          -0.254744 + 0.0177919999999995*I,                      1.132768 + 1.62714*I,         -0.00797199999999917 - 2.154344*I,                                      -1.0,         -0.00797199999999917 + 2.154344*I,                      1.132768 - 1.62714*I,          -0.254744 - 0.0177919999999995*I,           -1.032204 + 0.376484000000001*I,            0.602287999999999 - 0.197176*I,   0.330184000000001 + 0.809139999999999*I,           -0.119480000000002 - 0.877624*I, 0.00285999999999862 - 0.710631999999999*I,                    -1.180744 + 1.905572*I,            1.826832 - 0.996544000000006*I,           -0.472052 - 0.270227999999998*I, -0.954727999999998 + 0.0267720000000036*I,   0.583616000000001 + 0.325127999999998*I,  0.0151280000000018 + 0.684531999999999*I],\n",
       "[  0.330184000000001 - 0.809139999999999*I,            0.602287999999999 + 0.197176*I,           -1.032204 - 0.376484000000001*I,          -0.254744 + 0.0177919999999995*I,                      1.132768 + 1.62714*I,         -0.00797199999999917 - 2.154344*I,                                      -1.0,         -0.00797199999999917 + 2.154344*I,                      1.132768 - 1.62714*I,          -0.254744 - 0.0177919999999995*I,           -1.032204 + 0.376484000000001*I,            0.602287999999999 - 0.197176*I,   0.330184000000001 + 0.809139999999999*I,           -0.119480000000002 - 0.877624*I, 0.00285999999999862 - 0.710631999999999*I,                    -1.180744 + 1.905572*I,            1.826832 - 0.996544000000006*I,           -0.472052 - 0.270227999999998*I, -0.954727999999998 + 0.0267720000000036*I,   0.583616000000001 + 0.325127999999998*I],\n",
       "[          -0.119480000000002 + 0.877624*I,   0.330184000000001 - 0.809139999999999*I,            0.602287999999999 + 0.197176*I,           -1.032204 - 0.376484000000001*I,          -0.254744 + 0.0177919999999995*I,                      1.132768 + 1.62714*I,         -0.00797199999999917 - 2.154344*I,                                      -1.0,         -0.00797199999999917 + 2.154344*I,                      1.132768 - 1.62714*I,          -0.254744 - 0.0177919999999995*I,           -1.032204 + 0.376484000000001*I,            0.602287999999999 - 0.197176*I,   0.330184000000001 + 0.809139999999999*I,           -0.119480000000002 - 0.877624*I, 0.00285999999999862 - 0.710631999999999*I,                    -1.180744 + 1.905572*I,            1.826832 - 0.996544000000006*I,           -0.472052 - 0.270227999999998*I, -0.954727999999998 + 0.0267720000000036*I],\n",
       "[0.00285999999999862 + 0.710631999999999*I,           -0.119480000000002 + 0.877624*I,   0.330184000000001 - 0.809139999999999*I,            0.602287999999999 + 0.197176*I,           -1.032204 - 0.376484000000001*I,          -0.254744 + 0.0177919999999995*I,                      1.132768 + 1.62714*I,         -0.00797199999999917 - 2.154344*I,                                      -1.0,         -0.00797199999999917 + 2.154344*I,                      1.132768 - 1.62714*I,          -0.254744 - 0.0177919999999995*I,           -1.032204 + 0.376484000000001*I,            0.602287999999999 - 0.197176*I,   0.330184000000001 + 0.809139999999999*I,           -0.119480000000002 - 0.877624*I, 0.00285999999999862 - 0.710631999999999*I,                    -1.180744 + 1.905572*I,            1.826832 - 0.996544000000006*I,           -0.472052 - 0.270227999999998*I],\n",
       "[                   -1.180744 - 1.905572*I, 0.00285999999999862 + 0.710631999999999*I,           -0.119480000000002 + 0.877624*I,   0.330184000000001 - 0.809139999999999*I,            0.602287999999999 + 0.197176*I,           -1.032204 - 0.376484000000001*I,          -0.254744 + 0.0177919999999995*I,                      1.132768 + 1.62714*I,         -0.00797199999999917 - 2.154344*I,                                      -1.0,         -0.00797199999999917 + 2.154344*I,                      1.132768 - 1.62714*I,          -0.254744 - 0.0177919999999995*I,           -1.032204 + 0.376484000000001*I,            0.602287999999999 - 0.197176*I,   0.330184000000001 + 0.809139999999999*I,           -0.119480000000002 - 0.877624*I, 0.00285999999999862 - 0.710631999999999*I,                    -1.180744 + 1.905572*I,            1.826832 - 0.996544000000006*I],\n",
       "[           1.826832 + 0.996544000000006*I,                    -1.180744 - 1.905572*I, 0.00285999999999862 + 0.710631999999999*I,           -0.119480000000002 + 0.877624*I,   0.330184000000001 - 0.809139999999999*I,            0.602287999999999 + 0.197176*I,           -1.032204 - 0.376484000000001*I,          -0.254744 + 0.0177919999999995*I,                      1.132768 + 1.62714*I,         -0.00797199999999917 - 2.154344*I,                                      -1.0,         -0.00797199999999917 + 2.154344*I,                      1.132768 - 1.62714*I,          -0.254744 - 0.0177919999999995*I,           -1.032204 + 0.376484000000001*I,            0.602287999999999 - 0.197176*I,   0.330184000000001 + 0.809139999999999*I,           -0.119480000000002 - 0.877624*I, 0.00285999999999862 - 0.710631999999999*I,                    -1.180744 + 1.905572*I],\n",
       "[          -0.472052 + 0.270227999999998*I,            1.826832 + 0.996544000000006*I,                    -1.180744 - 1.905572*I, 0.00285999999999862 + 0.710631999999999*I,           -0.119480000000002 + 0.877624*I,   0.330184000000001 - 0.809139999999999*I,            0.602287999999999 + 0.197176*I,           -1.032204 - 0.376484000000001*I,          -0.254744 + 0.0177919999999995*I,                      1.132768 + 1.62714*I,         -0.00797199999999917 - 2.154344*I,                                      -1.0,         -0.00797199999999917 + 2.154344*I,                      1.132768 - 1.62714*I,          -0.254744 - 0.0177919999999995*I,           -1.032204 + 0.376484000000001*I,            0.602287999999999 - 0.197176*I,   0.330184000000001 + 0.809139999999999*I,           -0.119480000000002 - 0.877624*I, 0.00285999999999862 - 0.710631999999999*I],\n",
       "[-0.954727999999998 - 0.0267720000000036*I,           -0.472052 + 0.270227999999998*I,            1.826832 + 0.996544000000006*I,                    -1.180744 - 1.905572*I, 0.00285999999999862 + 0.710631999999999*I,           -0.119480000000002 + 0.877624*I,   0.330184000000001 - 0.809139999999999*I,            0.602287999999999 + 0.197176*I,           -1.032204 - 0.376484000000001*I,          -0.254744 + 0.0177919999999995*I,                      1.132768 + 1.62714*I,         -0.00797199999999917 - 2.154344*I,                                      -1.0,         -0.00797199999999917 + 2.154344*I,                      1.132768 - 1.62714*I,          -0.254744 - 0.0177919999999995*I,           -1.032204 + 0.376484000000001*I,            0.602287999999999 - 0.197176*I,   0.330184000000001 + 0.809139999999999*I,           -0.119480000000002 - 0.877624*I],\n",
       "[  0.583616000000001 - 0.325127999999998*I, -0.954727999999998 - 0.0267720000000036*I,           -0.472052 + 0.270227999999998*I,            1.826832 + 0.996544000000006*I,                    -1.180744 - 1.905572*I, 0.00285999999999862 + 0.710631999999999*I,           -0.119480000000002 + 0.877624*I,   0.330184000000001 - 0.809139999999999*I,            0.602287999999999 + 0.197176*I,           -1.032204 - 0.376484000000001*I,          -0.254744 + 0.0177919999999995*I,                      1.132768 + 1.62714*I,         -0.00797199999999917 - 2.154344*I,                                      -1.0,         -0.00797199999999917 + 2.154344*I,                      1.132768 - 1.62714*I,          -0.254744 - 0.0177919999999995*I,           -1.032204 + 0.376484000000001*I,            0.602287999999999 - 0.197176*I,   0.330184000000001 + 0.809139999999999*I],\n",
       "[ 0.0151280000000018 - 0.684531999999999*I,   0.583616000000001 - 0.325127999999998*I, -0.954727999999998 - 0.0267720000000036*I,           -0.472052 + 0.270227999999998*I,            1.826832 + 0.996544000000006*I,                    -1.180744 - 1.905572*I, 0.00285999999999862 + 0.710631999999999*I,           -0.119480000000002 + 0.877624*I,   0.330184000000001 - 0.809139999999999*I,            0.602287999999999 + 0.197176*I,           -1.032204 - 0.376484000000001*I,          -0.254744 + 0.0177919999999995*I,                      1.132768 + 1.62714*I,         -0.00797199999999917 - 2.154344*I,                                      -1.0,         -0.00797199999999917 + 2.154344*I,                      1.132768 - 1.62714*I,          -0.254744 - 0.0177919999999995*I,           -1.032204 + 0.376484000000001*I,            0.602287999999999 - 0.197176*I],\n",
       "[             0.785395999999999 + 1.3673*I,  0.0151280000000018 - 0.684531999999999*I,   0.583616000000001 - 0.325127999999998*I, -0.954727999999998 - 0.0267720000000036*I,           -0.472052 + 0.270227999999998*I,            1.826832 + 0.996544000000006*I,                    -1.180744 - 1.905572*I, 0.00285999999999862 + 0.710631999999999*I,           -0.119480000000002 + 0.877624*I,   0.330184000000001 - 0.809139999999999*I,            0.602287999999999 + 0.197176*I,           -1.032204 - 0.376484000000001*I,          -0.254744 + 0.0177919999999995*I,                      1.132768 + 1.62714*I,         -0.00797199999999917 - 2.154344*I,                                      -1.0,         -0.00797199999999917 + 2.154344*I,                      1.132768 - 1.62714*I,          -0.254744 - 0.0177919999999995*I,           -1.032204 + 0.376484000000001*I],\n",
       "[          -1.316448 - 0.202268000000008*I,              0.785395999999999 + 1.3673*I,  0.0151280000000018 - 0.684531999999999*I,   0.583616000000001 - 0.325127999999998*I, -0.954727999999998 - 0.0267720000000036*I,           -0.472052 + 0.270227999999998*I,            1.826832 + 0.996544000000006*I,                    -1.180744 - 1.905572*I, 0.00285999999999862 + 0.710631999999999*I,           -0.119480000000002 + 0.877624*I,   0.330184000000001 - 0.809139999999999*I,            0.602287999999999 + 0.197176*I,           -1.032204 - 0.376484000000001*I,          -0.254744 + 0.0177919999999995*I,                      1.132768 + 1.62714*I,         -0.00797199999999917 - 2.154344*I,                                      -1.0,         -0.00797199999999917 + 2.154344*I,                      1.132768 - 1.62714*I,          -0.254744 - 0.0177919999999995*I],\n",
       "[ 0.0379560000000046 - 0.957427999999999*I,           -1.316448 - 0.202268000000008*I,              0.785395999999999 + 1.3673*I,  0.0151280000000018 - 0.684531999999999*I,   0.583616000000001 - 0.325127999999998*I, -0.954727999999998 - 0.0267720000000036*I,           -0.472052 + 0.270227999999998*I,            1.826832 + 0.996544000000006*I,                    -1.180744 - 1.905572*I, 0.00285999999999862 + 0.710631999999999*I,           -0.119480000000002 + 0.877624*I,   0.330184000000001 - 0.809139999999999*I,            0.602287999999999 + 0.197176*I,           -1.032204 - 0.376484000000001*I,          -0.254744 + 0.0177919999999995*I,                      1.132768 + 1.62714*I,         -0.00797199999999917 - 2.154344*I,                                      -1.0,         -0.00797199999999917 + 2.154344*I,                      1.132768 - 1.62714*I],\n",
       "[           1.226568 + 0.251468000000005*I,  0.0379560000000046 - 0.957427999999999*I,           -1.316448 - 0.202268000000008*I,              0.785395999999999 + 1.3673*I,  0.0151280000000018 - 0.684531999999999*I,   0.583616000000001 - 0.325127999999998*I, -0.954727999999998 - 0.0267720000000036*I,           -0.472052 + 0.270227999999998*I,            1.826832 + 0.996544000000006*I,                    -1.180744 - 1.905572*I, 0.00285999999999862 + 0.710631999999999*I,           -0.119480000000002 + 0.877624*I,   0.330184000000001 - 0.809139999999999*I,            0.602287999999999 + 0.197176*I,           -1.032204 - 0.376484000000001*I,          -0.254744 + 0.0177919999999995*I,                      1.132768 + 1.62714*I,         -0.00797199999999917 - 2.154344*I,                                      -1.0,         -0.00797199999999917 + 2.154344*I],\n",
       "[ -0.720440000000002 + 0.637803999999996*I,            1.226568 + 0.251468000000005*I,  0.0379560000000046 - 0.957427999999999*I,           -1.316448 - 0.202268000000008*I,              0.785395999999999 + 1.3673*I,  0.0151280000000018 - 0.684531999999999*I,   0.583616000000001 - 0.325127999999998*I, -0.954727999999998 - 0.0267720000000036*I,           -0.472052 + 0.270227999999998*I,            1.826832 + 0.996544000000006*I,                    -1.180744 - 1.905572*I, 0.00285999999999862 + 0.710631999999999*I,           -0.119480000000002 + 0.877624*I,   0.330184000000001 - 0.809139999999999*I,            0.602287999999999 + 0.197176*I,           -1.032204 - 0.376484000000001*I,          -0.254744 + 0.0177919999999995*I,                      1.132768 + 1.62714*I,         -0.00797199999999917 - 2.154344*I,                                      -1.0]])"
      ]
     },
     "execution_count": 80,
     "metadata": {},
     "output_type": "execute_result"
    }
   ],
   "source": [
    "from sympy import Matrix\n",
    "Matrix(H_eff_circ)"
   ]
  },
  {
   "cell_type": "markdown",
   "metadata": {},
   "source": [
    "Finally, we can solve the generalized eigenvalue problem for $\\tilde{H}$:\n",
    "\n",
    "$$\\tilde{H} \\vec{c} = c \\tilde{S} \\vec{c}$$\n",
    "\n",
    "and get an estimate of the ground state energy $c_{min}$"
   ]
  },
  {
   "cell_type": "code",
   "execution_count": 81,
   "metadata": {},
   "outputs": [
    {
     "data": {
      "text/plain": [
       "array([-1.08566693e+00-1.08204043e-16j, -7.46936732e-01-1.15784931e-16j,\n",
       "       -1.62441959e-02-7.96535331e-17j, -1.14478059e-02+1.38780242e-16j,\n",
       "       -1.09526676e-02-2.31420320e-17j, -3.39213893e-03+9.49280352e-17j,\n",
       "       -3.02778689e-03+1.33740683e-16j,  1.28951666e-03-1.26310328e-18j,\n",
       "        2.20004791e-03-1.57972911e-16j,  6.99278850e-03-2.71797926e-17j,\n",
       "        1.36285390e-02+6.41264534e-17j,  1.55463059e-02+1.19364469e-16j,\n",
       "        1.36876290e-01+6.71450234e-17j,  8.02515780e-01+5.56022969e-17j,\n",
       "        9.45038853e-01-9.79108706e-17j,  1.99592369e+00+1.20785241e-17j,\n",
       "        3.39679983e+00-2.14632200e-16j,  3.82926847e+00-1.30725087e-16j,\n",
       "        4.94667538e+00-2.67897191e-16j,  5.78491276e+00+1.17360319e-16j])"
      ]
     },
     "execution_count": 81,
     "metadata": {},
     "output_type": "execute_result"
    }
   ],
   "source": [
    "np.sort(np.linalg.eig(S_circ).eigenvalues)"
   ]
  },
  {
   "cell_type": "code",
   "execution_count": 82,
   "metadata": {},
   "outputs": [
    {
     "name": "stdout",
     "output_type": "stream",
     "text": [
      "The estimated ground state energy is:  -1.0\n",
      "The estimated ground state energy is:  -3.6615888087382493\n",
      "The estimated ground state energy is:  -3.3968444618545632\n",
      "The estimated ground state energy is:  -4.423664965279025\n",
      "The estimated ground state energy is:  -4.263542467798736\n",
      "The estimated ground state energy is:  -4.077033880767266\n",
      "The estimated ground state energy is:  -4.633325431212645\n",
      "The estimated ground state energy is:  -4.5669260005894134\n",
      "The estimated ground state energy is:  -4.753348224688817\n",
      "The estimated ground state energy is:  -4.724593629036799\n",
      "The estimated ground state energy is:  -4.717514175911141\n",
      "The estimated ground state energy is:  -4.708115202358089\n",
      "The estimated ground state energy is:  -4.706417782700822\n",
      "The estimated ground state energy is:  -4.829127578469539\n",
      "The estimated ground state energy is:  -5.403205197630456\n",
      "The estimated ground state energy is:  -5.481729699455297\n",
      "The estimated ground state energy is:  -5.537954723017724\n",
      "The estimated ground state energy is:  -5.4070240875702575\n",
      "The estimated ground state energy is:  -5.367108924159165\n",
      "The estimated ground state energy is:  -5.434447432407883\n"
     ]
    }
   ],
   "source": [
    "gnd_en_circ_est_list = []\n",
    "for d in range(1, krylov_dim+1):\n",
    "    # Solve generalized eigenvalue problem\n",
    "    gnd_en_circ_est = solve_regularized_gen_eig(H_eff_circ[:d, :d], S_circ[:d, :d], threshold=0.3)\n",
    "    gnd_en_circ_est_list.append(gnd_en_circ_est)\n",
    "    print('The estimated ground state energy is: ', gnd_en_circ_est)"
   ]
  },
  {
   "cell_type": "code",
   "execution_count": 83,
   "metadata": {},
   "outputs": [
    {
     "ename": "ArpackNoConvergence",
     "evalue": "ARPACK error -1: No convergence (641 iterations, 8/10 eigenvectors converged)",
     "output_type": "error",
     "traceback": [
      "\u001b[0;31m---------------------------------------------------------------------------\u001b[0m",
      "\u001b[0;31mArpackNoConvergence\u001b[0m                       Traceback (most recent call last)",
      "Cell \u001b[0;32mIn[83], line 1\u001b[0m\n\u001b[0;32m----> 1\u001b[0m gs_en \u001b[38;5;241m=\u001b[39m \u001b[38;5;28mmin\u001b[39m(\u001b[43msp\u001b[49m\u001b[38;5;241;43m.\u001b[39;49m\u001b[43msparse\u001b[49m\u001b[38;5;241;43m.\u001b[39;49m\u001b[43mlinalg\u001b[49m\u001b[38;5;241;43m.\u001b[39;49m\u001b[43meigsh\u001b[49m\u001b[43m(\u001b[49m\u001b[43mH_op\u001b[49m\u001b[38;5;241;43m.\u001b[39;49m\u001b[43mto_matrix\u001b[49m\u001b[43m(\u001b[49m\u001b[43m)\u001b[49m\u001b[43m,\u001b[49m\u001b[43m \u001b[49m\u001b[43mwhich\u001b[49m\u001b[43m \u001b[49m\u001b[38;5;241;43m=\u001b[39;49m\u001b[43m \u001b[49m\u001b[38;5;124;43m\"\u001b[39;49m\u001b[38;5;124;43mSA\u001b[39;49m\u001b[38;5;124;43m\"\u001b[39;49m\u001b[43m,\u001b[49m\u001b[43m \u001b[49m\u001b[43mk\u001b[49m\u001b[43m \u001b[49m\u001b[38;5;241;43m=\u001b[39;49m\u001b[43m \u001b[49m\u001b[38;5;241;43m10\u001b[39;49m\u001b[43m)\u001b[49m[\u001b[38;5;241m0\u001b[39m])\n\u001b[1;32m      2\u001b[0m \u001b[38;5;28mprint\u001b[39m(\u001b[38;5;124m'\u001b[39m\u001b[38;5;124mgs_en\u001b[39m\u001b[38;5;124m'\u001b[39m, gs_en)\n",
      "File \u001b[0;32m~/opt/miniconda3/envs/krylov-1.0/lib/python3.12/site-packages/scipy/sparse/linalg/_eigen/arpack/arpack.py:1577\u001b[0m, in \u001b[0;36meigsh\u001b[0;34m(A, k, M, sigma, which, v0, ncv, maxiter, tol, return_eigenvectors, Minv, OPinv, mode)\u001b[0m\n\u001b[1;32m   1575\u001b[0m \u001b[38;5;28;01melif\u001b[39;00m which \u001b[38;5;241m==\u001b[39m \u001b[38;5;124m'\u001b[39m\u001b[38;5;124mSA\u001b[39m\u001b[38;5;124m'\u001b[39m:\n\u001b[1;32m   1576\u001b[0m     which \u001b[38;5;241m=\u001b[39m \u001b[38;5;124m'\u001b[39m\u001b[38;5;124mSR\u001b[39m\u001b[38;5;124m'\u001b[39m\n\u001b[0;32m-> 1577\u001b[0m ret \u001b[38;5;241m=\u001b[39m \u001b[43meigs\u001b[49m\u001b[43m(\u001b[49m\u001b[43mA\u001b[49m\u001b[43m,\u001b[49m\u001b[43m \u001b[49m\u001b[43mk\u001b[49m\u001b[43m,\u001b[49m\u001b[43m \u001b[49m\u001b[43mM\u001b[49m\u001b[38;5;241;43m=\u001b[39;49m\u001b[43mM\u001b[49m\u001b[43m,\u001b[49m\u001b[43m \u001b[49m\u001b[43msigma\u001b[49m\u001b[38;5;241;43m=\u001b[39;49m\u001b[43msigma\u001b[49m\u001b[43m,\u001b[49m\u001b[43m \u001b[49m\u001b[43mwhich\u001b[49m\u001b[38;5;241;43m=\u001b[39;49m\u001b[43mwhich\u001b[49m\u001b[43m,\u001b[49m\u001b[43m \u001b[49m\u001b[43mv0\u001b[49m\u001b[38;5;241;43m=\u001b[39;49m\u001b[43mv0\u001b[49m\u001b[43m,\u001b[49m\n\u001b[1;32m   1578\u001b[0m \u001b[43m           \u001b[49m\u001b[43mncv\u001b[49m\u001b[38;5;241;43m=\u001b[39;49m\u001b[43mncv\u001b[49m\u001b[43m,\u001b[49m\u001b[43m \u001b[49m\u001b[43mmaxiter\u001b[49m\u001b[38;5;241;43m=\u001b[39;49m\u001b[43mmaxiter\u001b[49m\u001b[43m,\u001b[49m\u001b[43m \u001b[49m\u001b[43mtol\u001b[49m\u001b[38;5;241;43m=\u001b[39;49m\u001b[43mtol\u001b[49m\u001b[43m,\u001b[49m\n\u001b[1;32m   1579\u001b[0m \u001b[43m           \u001b[49m\u001b[43mreturn_eigenvectors\u001b[49m\u001b[38;5;241;43m=\u001b[39;49m\u001b[43mreturn_eigenvectors\u001b[49m\u001b[43m,\u001b[49m\u001b[43m \u001b[49m\u001b[43mMinv\u001b[49m\u001b[38;5;241;43m=\u001b[39;49m\u001b[43mMinv\u001b[49m\u001b[43m,\u001b[49m\n\u001b[1;32m   1580\u001b[0m \u001b[43m           \u001b[49m\u001b[43mOPinv\u001b[49m\u001b[38;5;241;43m=\u001b[39;49m\u001b[43mOPinv\u001b[49m\u001b[43m)\u001b[49m\n\u001b[1;32m   1582\u001b[0m \u001b[38;5;28;01mif\u001b[39;00m return_eigenvectors:\n\u001b[1;32m   1583\u001b[0m     \u001b[38;5;28;01mreturn\u001b[39;00m ret[\u001b[38;5;241m0\u001b[39m]\u001b[38;5;241m.\u001b[39mreal, ret[\u001b[38;5;241m1\u001b[39m]\n",
      "File \u001b[0;32m~/opt/miniconda3/envs/krylov-1.0/lib/python3.12/site-packages/scipy/sparse/linalg/_eigen/arpack/arpack.py:1355\u001b[0m, in \u001b[0;36meigs\u001b[0;34m(A, k, M, sigma, which, v0, ncv, maxiter, tol, return_eigenvectors, Minv, OPinv, OPpart)\u001b[0m\n\u001b[1;32m   1353\u001b[0m \u001b[38;5;28;01mwith\u001b[39;00m _ARPACK_LOCK:\n\u001b[1;32m   1354\u001b[0m     \u001b[38;5;28;01mwhile\u001b[39;00m \u001b[38;5;129;01mnot\u001b[39;00m params\u001b[38;5;241m.\u001b[39mconverged:\n\u001b[0;32m-> 1355\u001b[0m         \u001b[43mparams\u001b[49m\u001b[38;5;241;43m.\u001b[39;49m\u001b[43miterate\u001b[49m\u001b[43m(\u001b[49m\u001b[43m)\u001b[49m\n\u001b[1;32m   1357\u001b[0m     \u001b[38;5;28;01mreturn\u001b[39;00m params\u001b[38;5;241m.\u001b[39mextract(return_eigenvectors)\n",
      "File \u001b[0;32m~/opt/miniconda3/envs/krylov-1.0/lib/python3.12/site-packages/scipy/sparse/linalg/_eigen/arpack/arpack.py:760\u001b[0m, in \u001b[0;36m_UnsymmetricArpackParams.iterate\u001b[0;34m(self)\u001b[0m\n\u001b[1;32m    758\u001b[0m     \u001b[38;5;28;01mpass\u001b[39;00m\n\u001b[1;32m    759\u001b[0m \u001b[38;5;28;01melif\u001b[39;00m \u001b[38;5;28mself\u001b[39m\u001b[38;5;241m.\u001b[39minfo \u001b[38;5;241m==\u001b[39m \u001b[38;5;241m1\u001b[39m:\n\u001b[0;32m--> 760\u001b[0m     \u001b[38;5;28;43mself\u001b[39;49m\u001b[38;5;241;43m.\u001b[39;49m\u001b[43m_raise_no_convergence\u001b[49m\u001b[43m(\u001b[49m\u001b[43m)\u001b[49m\n\u001b[1;32m    761\u001b[0m \u001b[38;5;28;01melse\u001b[39;00m:\n\u001b[1;32m    762\u001b[0m     \u001b[38;5;28;01mraise\u001b[39;00m ArpackError(\u001b[38;5;28mself\u001b[39m\u001b[38;5;241m.\u001b[39minfo, infodict\u001b[38;5;241m=\u001b[39m\u001b[38;5;28mself\u001b[39m\u001b[38;5;241m.\u001b[39miterate_infodict)\n",
      "File \u001b[0;32m~/opt/miniconda3/envs/krylov-1.0/lib/python3.12/site-packages/scipy/sparse/linalg/_eigen/arpack/arpack.py:377\u001b[0m, in \u001b[0;36m_ArpackParams._raise_no_convergence\u001b[0;34m(self)\u001b[0m\n\u001b[1;32m    375\u001b[0m     vec \u001b[38;5;241m=\u001b[39m np\u001b[38;5;241m.\u001b[39mzeros((\u001b[38;5;28mself\u001b[39m\u001b[38;5;241m.\u001b[39mn, \u001b[38;5;241m0\u001b[39m))\n\u001b[1;32m    376\u001b[0m     k_ok \u001b[38;5;241m=\u001b[39m \u001b[38;5;241m0\u001b[39m\n\u001b[0;32m--> 377\u001b[0m \u001b[38;5;28;01mraise\u001b[39;00m ArpackNoConvergence(msg \u001b[38;5;241m%\u001b[39m (num_iter, k_ok, \u001b[38;5;28mself\u001b[39m\u001b[38;5;241m.\u001b[39mk), ev, vec)\n",
      "\u001b[0;31mArpackNoConvergence\u001b[0m: ARPACK error -1: No convergence (641 iterations, 8/10 eigenvectors converged)"
     ]
    }
   ],
   "source": [
    "gs_en = min(sp.sparse.linalg.eigsh(H_op.to_matrix(), which = \"SA\", k = 10)[0])\n",
    "print('gs_en', gs_en)\n"
   ]
  },
  {
   "cell_type": "code",
   "execution_count": null,
   "metadata": {},
   "outputs": [
    {
     "name": "stdout",
     "output_type": "stream",
     "text": [
      "n_sys_qubits 6\n",
      "n_exc 1 , subspace dimension 7\n",
      "single particle ground state energy:  -5.0\n"
     ]
    }
   ],
   "source": [
    "gs_en = single_particle_gs(H_op, n_qubits)"
   ]
  },
  {
   "cell_type": "code",
   "execution_count": null,
   "metadata": {},
   "outputs": [
    {
     "data": {
      "image/png": "[encoded data removed]",
      "text/plain": [
       "<Figure size 640x480 with 1 Axes>"
      ]
     },
     "metadata": {},
     "output_type": "display_data"
    }
   ],
   "source": [
    "# plt.plot(range(1, krylov_dim+1), gnd_en_circ_est_list_0, color = 'blue', linestyle='-.' , label = 'estimate - res 0 ')\n",
    "# plt.plot(range(1, krylov_dim+1), gnd_en_circ_est_list_1, color = 'yellow', linestyle='-.' , label = 'estimate - res 1 ')\n",
    "# plt.plot(range(1, krylov_dim+1), gnd_en_circ_est_list_2, color = 'green', linestyle='-.' , label = 'estimate - res 2')\n",
    "plt.plot(range(1, krylov_dim+1), gnd_en_circ_est_list, color = 'orange', linestyle='-.' , label = 'estimate')\n",
    "plt.plot(range(1, krylov_dim+1), [gs_en]*krylov_dim, color = 'red', linestyle='-' , label = 'exact')\n",
    "plt.xticks(range(1, krylov_dim+1), range(1, krylov_dim+1))\n",
    "plt.legend()\n",
    "plt.xlabel('Krylov space dimension')\n",
    "plt.ylabel('Energy')\n",
    "plt.title('Estimating Ground state energy with Quantum Krylov')\n",
    "plt.show()"
   ]
  },
  {
   "cell_type": "markdown",
   "metadata": {},
   "source": [
    "### Check Paulis"
   ]
  },
  {
   "cell_type": "markdown",
   "metadata": {},
   "source": [
    "#### Theory calculation (phase issue with real expvals)"
   ]
  },
  {
   "cell_type": "code",
   "execution_count": 105,
   "metadata": {},
   "outputs": [],
   "source": [
    "# THIS FUNCTION CALCULATES THE PAULI MATRICES FOR EACH DIMENSION IN d_list, USING NOBU'S k-PARTICLE CODE\n",
    "# Note that passing in vectors_kp is optional but if you already have it from the Krylov matrix calculation, it can save time.\n",
    "from utils_k_particle import compute_pauli_matrices\n",
    "from utils_k_particle import get_indexes_for_m_particles, k_particle_excitation, simulate_unitary_kparticle_from_interaction_list\n",
    "\n",
    "fixed_control = 0\n",
    "excitations = [int(n_qubits/2)+1]\n",
    "H = H_op     \n",
    "\n",
    "k = len(excitations)\n",
    "indices = get_indexes_for_m_particles(n_qubits, k)\n",
    "\n",
    "initial_state_kp = k_particle_excitation(n_qubits, excitations, indices)\n",
    "vectors_kp = [simulate_unitary_kparticle_from_interaction_list(interaction_list, initial_state_kp, n_qubits, k, num_trotter_steps, param = (i*dt)/num_trotter_steps, as_sparse = True) for i in range(krylov_dim)]\n",
    "\n",
    "all_exp_vals, vectors_kp = compute_pauli_matrices(n_qubits, fixed_control, excitations, H, interaction_list, num_trotter_steps, dt, list(range(krylov_dim)), vectors_kp)\n",
    "\n",
    "\n",
    "\n",
    "H_first_row_exact = np.zeros(krylov_dim, dtype=complex)\n",
    "prefactors_exact = [1+0j] + prefactors\n",
    "for i, expvals_dict in enumerate(all_exp_vals):\n",
    "\n",
    "\n",
    "    res_dict_sim = {}\n",
    "    for obs_idx, (pauli, coeff) in enumerate(zip(H_op.paulis, H_op.coeffs)):\n",
    "        # Get expectation values from experiment\n",
    "        obs = observables_H_cliff[obs_idx]\n",
    "        new_obs = obs[:-1]\n",
    "        expval_real = expvals_dict[new_obs + 'X']\n",
    "        expval_imag = expvals_dict[new_obs + 'Y']\n",
    "\n",
    "\n",
    "        expval = expval_real + 1j*expval_imag\n",
    "\n",
    "        H_first_row_exact[i] += prefactors_exact[i]*coeff*expval\n",
    "\n",
    "\n",
    "\n",
    "H_first_row_exact_list = H_first_row_exact.tolist()           \n",
    "            \n",
    "H_eff_circ_exact = np.zeros((krylov_dim, krylov_dim), dtype=complex)\n",
    "\n",
    "# Distribute entries from first row across matrix:\n",
    "for i,j in itertools.product(range(krylov_dim),repeat=2):\n",
    "    if i >= j:\n",
    "        H_eff_circ_exact[j,i] = H_first_row_exact[i-j]\n",
    "    else:\n",
    "        H_eff_circ_exact[j,i] = np.conj(H_first_row_exact[j-i])"
   ]
  },
  {
   "cell_type": "code",
   "execution_count": 106,
   "metadata": {},
   "outputs": [
    {
     "data": {
      "text/latex": [
       "$\\displaystyle \\left[\\begin{matrix}-1.0 & 1.574896636172 + 1.68065305025305 i & -1.88010222236495 - 1.36045156899213 i & 0.501484835797266 + 0.338070486957958 i & 0.98032426964642 - 0.530138472481496 i & -0.690113993640722 + 1.109375 i & -0.306832618286145 - 0.612680863883094 i & 0.262129581691104 - 0.0719796695665475 i & 0.109255335564696 - 0.313435134444483 i & 0.484493831686177 + 0.701351736957959 i\\\\1.574896636172 - 1.68065305025305 i & -1.0 & 1.574896636172 + 1.68065305025305 i & -1.88010222236495 - 1.36045156899213 i & 0.501484835797266 + 0.338070486957958 i & 0.98032426964642 - 0.530138472481496 i & -0.690113993640722 + 1.109375 i & -0.306832618286145 - 0.612680863883094 i & 0.262129581691104 - 0.0719796695665475 i & 0.109255335564696 - 0.313435134444483 i\\\\-1.88010222236495 + 1.36045156899213 i & 1.574896636172 - 1.68065305025305 i & -1.0 & 1.574896636172 + 1.68065305025305 i & -1.88010222236495 - 1.36045156899213 i & 0.501484835797266 + 0.338070486957958 i & 0.98032426964642 - 0.530138472481496 i & -0.690113993640722 + 1.109375 i & -0.306832618286145 - 0.612680863883094 i & 0.262129581691104 - 0.0719796695665475 i\\\\0.501484835797266 - 0.338070486957958 i & -1.88010222236495 + 1.36045156899213 i & 1.574896636172 - 1.68065305025305 i & -1.0 & 1.574896636172 + 1.68065305025305 i & -1.88010222236495 - 1.36045156899213 i & 0.501484835797266 + 0.338070486957958 i & 0.98032426964642 - 0.530138472481496 i & -0.690113993640722 + 1.109375 i & -0.306832618286145 - 0.612680863883094 i\\\\0.98032426964642 + 0.530138472481496 i & 0.501484835797266 - 0.338070486957958 i & -1.88010222236495 + 1.36045156899213 i & 1.574896636172 - 1.68065305025305 i & -1.0 & 1.574896636172 + 1.68065305025305 i & -1.88010222236495 - 1.36045156899213 i & 0.501484835797266 + 0.338070486957958 i & 0.98032426964642 - 0.530138472481496 i & -0.690113993640722 + 1.109375 i\\\\-0.690113993640722 - 1.109375 i & 0.98032426964642 + 0.530138472481496 i & 0.501484835797266 - 0.338070486957958 i & -1.88010222236495 + 1.36045156899213 i & 1.574896636172 - 1.68065305025305 i & -1.0 & 1.574896636172 + 1.68065305025305 i & -1.88010222236495 - 1.36045156899213 i & 0.501484835797266 + 0.338070486957958 i & 0.98032426964642 - 0.530138472481496 i\\\\-0.306832618286145 + 0.612680863883094 i & -0.690113993640722 - 1.109375 i & 0.98032426964642 + 0.530138472481496 i & 0.501484835797266 - 0.338070486957958 i & -1.88010222236495 + 1.36045156899213 i & 1.574896636172 - 1.68065305025305 i & -1.0 & 1.574896636172 + 1.68065305025305 i & -1.88010222236495 - 1.36045156899213 i & 0.501484835797266 + 0.338070486957958 i\\\\0.262129581691104 + 0.0719796695665475 i & -0.306832618286145 + 0.612680863883094 i & -0.690113993640722 - 1.109375 i & 0.98032426964642 + 0.530138472481496 i & 0.501484835797266 - 0.338070486957958 i & -1.88010222236495 + 1.36045156899213 i & 1.574896636172 - 1.68065305025305 i & -1.0 & 1.574896636172 + 1.68065305025305 i & -1.88010222236495 - 1.36045156899213 i\\\\0.109255335564696 + 0.313435134444483 i & 0.262129581691104 + 0.0719796695665475 i & -0.306832618286145 + 0.612680863883094 i & -0.690113993640722 - 1.109375 i & 0.98032426964642 + 0.530138472481496 i & 0.501484835797266 - 0.338070486957958 i & -1.88010222236495 + 1.36045156899213 i & 1.574896636172 - 1.68065305025305 i & -1.0 & 1.574896636172 + 1.68065305025305 i\\\\0.484493831686177 - 0.701351736957959 i & 0.109255335564696 + 0.313435134444483 i & 0.262129581691104 + 0.0719796695665475 i & -0.306832618286145 + 0.612680863883094 i & -0.690113993640722 - 1.109375 i & 0.98032426964642 + 0.530138472481496 i & 0.501484835797266 - 0.338070486957958 i & -1.88010222236495 + 1.36045156899213 i & 1.574896636172 - 1.68065305025305 i & -1.0\\end{matrix}\\right]$"
      ],
      "text/plain": [
       "Matrix([\n",
       "[                                    -1.0,      1.574896636172 + 1.68065305025305*I,   -1.88010222236495 - 1.36045156899213*I,  0.501484835797266 + 0.338070486957958*I,  0.98032426964642 - 0.530138472481496*I,         -0.690113993640722 + 1.109375*I, -0.306832618286145 - 0.612680863883094*I, 0.262129581691104 - 0.0719796695665475*I,  0.109255335564696 - 0.313435134444483*I,  0.484493831686177 + 0.701351736957959*I],\n",
       "[     1.574896636172 - 1.68065305025305*I,                                     -1.0,      1.574896636172 + 1.68065305025305*I,   -1.88010222236495 - 1.36045156899213*I, 0.501484835797266 + 0.338070486957958*I,  0.98032426964642 - 0.530138472481496*I,          -0.690113993640722 + 1.109375*I, -0.306832618286145 - 0.612680863883094*I, 0.262129581691104 - 0.0719796695665475*I,  0.109255335564696 - 0.313435134444483*I],\n",
       "[  -1.88010222236495 + 1.36045156899213*I,      1.574896636172 - 1.68065305025305*I,                                     -1.0,      1.574896636172 + 1.68065305025305*I,  -1.88010222236495 - 1.36045156899213*I, 0.501484835797266 + 0.338070486957958*I,   0.98032426964642 - 0.530138472481496*I,          -0.690113993640722 + 1.109375*I, -0.306832618286145 - 0.612680863883094*I, 0.262129581691104 - 0.0719796695665475*I],\n",
       "[ 0.501484835797266 - 0.338070486957958*I,   -1.88010222236495 + 1.36045156899213*I,      1.574896636172 - 1.68065305025305*I,                                     -1.0,     1.574896636172 + 1.68065305025305*I,  -1.88010222236495 - 1.36045156899213*I,  0.501484835797266 + 0.338070486957958*I,   0.98032426964642 - 0.530138472481496*I,          -0.690113993640722 + 1.109375*I, -0.306832618286145 - 0.612680863883094*I],\n",
       "[  0.98032426964642 + 0.530138472481496*I,  0.501484835797266 - 0.338070486957958*I,   -1.88010222236495 + 1.36045156899213*I,      1.574896636172 - 1.68065305025305*I,                                    -1.0,     1.574896636172 + 1.68065305025305*I,   -1.88010222236495 - 1.36045156899213*I,  0.501484835797266 + 0.338070486957958*I,   0.98032426964642 - 0.530138472481496*I,          -0.690113993640722 + 1.109375*I],\n",
       "[         -0.690113993640722 - 1.109375*I,   0.98032426964642 + 0.530138472481496*I,  0.501484835797266 - 0.338070486957958*I,   -1.88010222236495 + 1.36045156899213*I,     1.574896636172 - 1.68065305025305*I,                                    -1.0,      1.574896636172 + 1.68065305025305*I,   -1.88010222236495 - 1.36045156899213*I,  0.501484835797266 + 0.338070486957958*I,   0.98032426964642 - 0.530138472481496*I],\n",
       "[-0.306832618286145 + 0.612680863883094*I,          -0.690113993640722 - 1.109375*I,   0.98032426964642 + 0.530138472481496*I,  0.501484835797266 - 0.338070486957958*I,  -1.88010222236495 + 1.36045156899213*I,     1.574896636172 - 1.68065305025305*I,                                     -1.0,      1.574896636172 + 1.68065305025305*I,   -1.88010222236495 - 1.36045156899213*I,  0.501484835797266 + 0.338070486957958*I],\n",
       "[0.262129581691104 + 0.0719796695665475*I, -0.306832618286145 + 0.612680863883094*I,          -0.690113993640722 - 1.109375*I,   0.98032426964642 + 0.530138472481496*I, 0.501484835797266 - 0.338070486957958*I,  -1.88010222236495 + 1.36045156899213*I,      1.574896636172 - 1.68065305025305*I,                                     -1.0,      1.574896636172 + 1.68065305025305*I,   -1.88010222236495 - 1.36045156899213*I],\n",
       "[ 0.109255335564696 + 0.313435134444483*I, 0.262129581691104 + 0.0719796695665475*I, -0.306832618286145 + 0.612680863883094*I,          -0.690113993640722 - 1.109375*I,  0.98032426964642 + 0.530138472481496*I, 0.501484835797266 - 0.338070486957958*I,   -1.88010222236495 + 1.36045156899213*I,      1.574896636172 - 1.68065305025305*I,                                     -1.0,      1.574896636172 + 1.68065305025305*I],\n",
       "[ 0.484493831686177 - 0.701351736957959*I,  0.109255335564696 + 0.313435134444483*I, 0.262129581691104 + 0.0719796695665475*I, -0.306832618286145 + 0.612680863883094*I,         -0.690113993640722 - 1.109375*I,  0.98032426964642 + 0.530138472481496*I,  0.501484835797266 - 0.338070486957958*I,   -1.88010222236495 + 1.36045156899213*I,      1.574896636172 - 1.68065305025305*I,                                     -1.0]])"
      ]
     },
     "execution_count": 106,
     "metadata": {},
     "output_type": "execute_result"
    }
   ],
   "source": [
    "Matrix(H_eff_circ_exact)"
   ]
  },
  {
   "cell_type": "markdown",
   "metadata": {},
   "source": [
    "#### Numerical calculation (few qubits only!)"
   ]
  },
  {
   "cell_type": "code",
   "execution_count": 107,
   "metadata": {},
   "outputs": [],
   "source": [
    "from qiskit.quantum_info import Statevector, Pauli\n",
    "\n",
    "H_first_row_sim = np.zeros(krylov_dim, dtype=complex)\n",
    "H_first_row_sim[0] = H_expval\n",
    "\n",
    "S_first_row_sim = np.zeros(krylov_dim, dtype=complex)\n",
    "S_first_row_sim[0] = 1+0j\n",
    "\n",
    "all_exp_vals_sim = []\n",
    "for i, param in enumerate(parameters):\n",
    "\n",
    "    H_real_circ_cliff = H_real_circ.assign_parameters({t:param})\n",
    "    H_imag_circ_cliff = H_imag_circ.assign_parameters({t:param})\n",
    "    S_real_circ_cliff = S_real_circ.assign_parameters({t:param})\n",
    "    S_imag_circ_cliff = S_imag_circ.assign_parameters({t:param})\n",
    "\n",
    "    observables_S_cliff = 'I'*(n_qubits) + 'Z'\n",
    "\n",
    "    observables_H_cliff = []\n",
    "    for pauli, coeff in zip(H_op.paulis, H_op.coeffs):\n",
    "        # print(pauli)\n",
    "        observable = pauli[::-1].to_label() + 'Z'\n",
    "        observables_H_cliff.append(observable)\n",
    "\n",
    "\n",
    "\n",
    "    # Get expectation values from experiment\n",
    "    S_expval_real = Statevector(S_real_circ_cliff).expectation_value(Pauli('I'*(n_qubits) + 'Z'))\n",
    "    S_expval_imag = Statevector(S_imag_circ_cliff).expectation_value(Pauli('I'*(n_qubits) + 'Z'))\n",
    "\n",
    "    # Get expectation values\n",
    "    S_expval = S_expval_real + 1j*S_expval_imag\n",
    "\n",
    "    S_first_row_sim[i+1] += prefactors[i]*S_expval\n",
    "\n",
    "\n",
    "    res_dict_sim = {}\n",
    "    for obs_idx, (pauli, coeff) in enumerate(zip(H_op.paulis, H_op.coeffs)):\n",
    "        # Get expectation values from experiment\n",
    "        expval_real = Statevector(H_real_circ_cliff).expectation_value(Pauli(observables_H_cliff[obs_idx]))\n",
    "        expval_imag = Statevector(H_imag_circ_cliff).expectation_value(Pauli(observables_H_cliff[obs_idx]))\n",
    "        obs = observables_H_cliff[obs_idx]\n",
    "        new_obs = obs[:-1]\n",
    "        res_dict_sim[new_obs + 'X'] = expval_real\n",
    "        res_dict_sim[new_obs + 'Y'] = expval_imag\n",
    "\n",
    "\n",
    "        expval = expval_real + 1j*expval_imag\n",
    "\n",
    "\n",
    "        H_first_row_sim[i+1] += prefactors[i]*coeff*expval\n",
    "\n",
    "    all_exp_vals_sim.append(res_dict_sim)\n",
    "\n",
    "\n",
    "H_first_row_sim_list = H_first_row_sim.tolist()           \n",
    "            \n",
    "H_eff_circ_sim = np.zeros((krylov_dim, krylov_dim), dtype=complex)\n",
    "\n",
    "# Distribute entries from first row across matrix:\n",
    "for i,j in itertools.product(range(krylov_dim),repeat=2):\n",
    "    if i >= j:\n",
    "        H_eff_circ_sim[j,i] = H_first_row_sim[i-j]\n",
    "    else:\n",
    "        H_eff_circ_sim[j,i] = np.conj(H_first_row_sim[j-i])\n",
    "\n",
    "            \n",
    "            \n",
    "S_circ_sim = np.zeros((krylov_dim, krylov_dim), dtype=complex)\n",
    "\n",
    "# Distribute entries from first row across matrix:\n",
    "for i,j in itertools.product(range(krylov_dim),repeat=2):\n",
    "    if i >= j:\n",
    "        S_circ_sim[j,i] = S_first_row_sim[i-j]\n",
    "    else:\n",
    "        S_circ_sim[j,i] = np.conj(S_first_row_sim[j-i])\n"
   ]
  },
  {
   "cell_type": "code",
   "execution_count": 108,
   "metadata": {},
   "outputs": [
    {
     "name": "stdout",
     "output_type": "stream",
     "text": [
      "The estimated ground state energy is:  -1.0\n",
      "The estimated ground state energy is:  -3.6605762752747246\n",
      "The estimated ground state energy is:  -4.460359410171026\n",
      "The estimated ground state energy is:  -4.31317056826243\n",
      "The estimated ground state energy is:  -4.7294630016623165\n",
      "The estimated ground state energy is:  -4.57418046634093\n",
      "The estimated ground state energy is:  -5.093617843722571\n",
      "The estimated ground state energy is:  -5.118070467436698\n",
      "The estimated ground state energy is:  -5.665052613368128\n",
      "The estimated ground state energy is:  -5.729189955986785\n"
     ]
    }
   ],
   "source": [
    "gnd_en_circ_sim_est_list = []\n",
    "for d in range(1, krylov_dim+1):\n",
    "    # Solve generalized eigenvalue problem\n",
    "    gnd_en_circ_est = solve_regularized_gen_eig(H_eff_circ_sim[:d, :d], S_circ_sim[:d, :d], threshold=4e-2)\n",
    "    gnd_en_circ_sim_est_list.append(gnd_en_circ_est)\n",
    "    print('The estimated ground state energy is: ', gnd_en_circ_est)"
   ]
  },
  {
   "cell_type": "code",
   "execution_count": 152,
   "metadata": {},
   "outputs": [
    {
     "data": {
      "image/png": "[encoded data removed]",
      "text/plain": [
       "<Figure size 640x480 with 1 Axes>"
      ]
     },
     "metadata": {},
     "output_type": "display_data"
    }
   ],
   "source": [
    "plt.plot(range(1, krylov_dim+1), gnd_en_circ_est_list, color = 'orange', linestyle='-.' , label = 'estimate - res 1 heron')\n",
    "plt.plot(range(1, krylov_dim+1), gnd_en_circ_sim_est_list, color = 'blue', linestyle='-.' , label = 'estimate - sim')\n",
    "plt.plot(range(1, krylov_dim+1), [gs_en]*krylov_dim, color = 'red', linestyle='-' , label = 'exact')\n",
    "plt.xticks(range(1, krylov_dim+1), range(1, krylov_dim+1))\n",
    "plt.legend()\n",
    "plt.xlabel('Krylov space dimension')\n",
    "plt.ylabel('Energy')\n",
    "plt.title('Estimating Ground state energy with Quantum Krylov')\n",
    "plt.show()"
   ]
  },
  {
   "cell_type": "markdown",
   "metadata": {},
   "source": [
    "#### Experimental values"
   ]
  },
  {
   "cell_type": "code",
   "execution_count": 140,
   "metadata": {},
   "outputs": [],
   "source": [
    "all_exp_vals_exp = []\n",
    "for idx in range(krylov_dim-1):\n",
    "    res_dict = {}\n",
    "    for obs_idx, (pauli, coeff) in enumerate(zip(H_op.paulis, H_op.coeffs)):\n",
    "        # Get expectation values from experiment\n",
    "        expval_real = H_real_results.data.evs[obs_idx][idx]\n",
    "        expval_imag = H_imag_results.data.evs[obs_idx][idx]\n",
    "        obs = observables_H_cliff[obs_idx]\n",
    "        new_obs = obs[:-1]\n",
    "        res_dict[new_obs + 'X'] = expval_real\n",
    "        res_dict[new_obs + 'Y'] = expval_imag\n",
    "    all_exp_vals_exp.append(res_dict)\n",
    "\n"
   ]
  },
  {
   "cell_type": "markdown",
   "metadata": {},
   "source": [
    "#### Compare"
   ]
  },
  {
   "cell_type": "code",
   "execution_count": 149,
   "metadata": {},
   "outputs": [
    {
     "name": "stdout",
     "output_type": "stream",
     "text": [
      "PAULI    EXP    SIM\n",
      "IIIIZZX -0.004 0.199\n",
      "IIIIZZY -0.049 -0.612\n",
      "IIIZZIX -0.005 0.199\n",
      "IIIZZIY 0.0 -0.612\n",
      "IIZZIIX -0.002 -0.199\n",
      "IIZZIIY -0.019 0.612\n",
      "IZZIIIX 0.021 -0.199\n",
      "IZZIIIY 0.008 0.612\n",
      "ZZIIIIX 0.001 0.199\n",
      "ZZIIIIY 0.031 -0.612\n",
      "IIIIXXX -0.0 -0.0\n",
      "IIIIXXY 0.01 0.0\n",
      "IIIXXIX -0.0 0.0\n",
      "IIIXXIY 0.0 0.0\n",
      "IIXXIIX -0.0 -0.484\n",
      "IIXXIIY 0.01 -0.157\n",
      "IXXIIIX -0.001 -0.491\n",
      "IXXIIIY -0.0 -0.154\n",
      "XXIIIIX 0.003 0.0\n",
      "XXIIIIY 0.002 0.0\n",
      "IIIIYYX -0.003 0.0\n",
      "IIIIYYY 0.002 -0.0\n",
      "IIIYYIX 0.002 -0.0\n",
      "IIIYYIY 0.003 -0.0\n",
      "IIYYIIX 0.004 -0.484\n",
      "IIYYIIY 0.01 -0.157\n",
      "IYYIIIX 0.038 -0.491\n",
      "IYYIIIY -0.011 -0.154\n",
      "YYIIIIX -0.0 -0.0\n",
      "YYIIIIY 0.0 0.0\n"
     ]
    }
   ],
   "source": [
    "idx  = 0\n",
    "print('PAULI', '   EXP', '   SIM')\n",
    "for pauli, val in all_exp_vals_exp[idx].items():\n",
    "    \n",
    "    # if pauli[-1] == 'X' and abs(np.round(phase_factor.real, 2)) > 0:\n",
    "    #     all_exp_vals[idx+1][pauli] = phase_factor.real*all_exp_vals[idx+1][pauli]\n",
    "    # if pauli[-1] == 'Y' and abs(np.round(phase_factor.imag, 2)) > 0:\n",
    "    #     all_exp_vals[idx+1][pauli] = phase_factor.imag*all_exp_vals[idx+1][pauli]\n",
    "\n",
    "\n",
    "    print(pauli, np.round(val, 3), np.round(all_exp_vals_sim[idx][pauli],3) )#, np.round(all_exp_vals[idx+1][pauli], 3))"
   ]
  },
  {
   "cell_type": "code",
   "execution_count": 112,
   "metadata": {},
   "outputs": [
    {
     "name": "stdout",
     "output_type": "stream",
     "text": [
      "IIIZZIX 1.851 2.283\n",
      "IIIZZIY 0.284 0.278\n",
      "IIZZIIX 1.931 2.382\n",
      "IIZZIIY 0.202 0.198\n",
      "IZZIIIX 0.769 0.948\n",
      "IIIIXXX 2.845026813638794e+17 inf\n",
      "IIIXXIX 3.533339867983525e+17 inf\n",
      "IIIXXIY 1.3891352118779706e+17 inf\n",
      "IIXXIIX 0.635 inf\n",
      "IIXXIIY 1.199 inf\n",
      "IXXIIIY 2.069 2.069\n",
      "XXIIIIY 5.765001297232687e+16 2.179\n",
      "IIIIYYX 1.8997944401832097e+18 inf\n",
      "IIIIYYY 5.7525604930955437e+17 inf\n",
      "IIIYYIX 3.484167010586783e+16 inf\n",
      "IYYIIIX 0.337 0.337\n",
      "YYIIIIX 3.19503439136049e+16 0.516\n",
      "YYIIIIY 6.159127066059349e+16 0.997\n"
     ]
    }
   ],
   "source": [
    "idx  = 0\n",
    "for pauli, val in all_exp_vals_exp[idx].items():\n",
    "    if abs(val) > 0.1:\n",
    "        damp_sim = abs(val/all_exp_vals_sim[idx][pauli])\n",
    "        damp_ex = abs(val/all_exp_vals[idx+1][pauli])\n",
    "        print(pauli, np.round(damp_sim, 3), np.round(damp_ex,3))"
   ]
  },
  {
   "cell_type": "markdown",
   "metadata": {},
   "source": [
    "### Save data"
   ]
  },
  {
   "cell_type": "code",
   "execution_count": null,
   "metadata": {},
   "outputs": [],
   "source": [
    "import os\n",
    "import pickle\n",
    "import time\n",
    "\n",
    "time_string = time.strftime(\"%m%d%Y_%H%M%S\")\n",
    "data_dir_path = f'data/{backend_id}_{n_qubits}q_{time_string}/'\n",
    "# Save experiment parameters\n",
    "var_dict = {k: globals()[k] for k in [ 'n_qubits',\n",
    "                                        'J',\n",
    "                                        'H_tot',\n",
    "                                        'dt',\n",
    "                                        'krylov_dim',\n",
    "                                        'num_trotter_steps',\n",
    "                                        'dt_circ',\n",
    "                                        'parameters',\n",
    "                                        'backend_id',\n",
    "                                        'shots',\n",
    "                                        'observables_S',\n",
    "                                        'observables_H',\n",
    "                                        'pub_S_real',\n",
    "                                        'pub_S_imag',\n",
    "                                        'pub_H_real',\n",
    "                                        'pub_H_imag',\n",
    "                                        'job_S_real_id',\n",
    "                                        'job_S_imag_id',\n",
    "                                        'job_H_real_id',\n",
    "                                        'job_H_imag_id',\n",
    "                                        'S_expval',\n",
    "                                        'H_expval',\n",
    "                                        'prefactors',\n",
    "                                        'S_first_row_list',\n",
    "                                        'H_first_row_list',\n",
    "                                        'n_exc',\n",
    "                                        'gs_en',]}\n",
    "\n",
    "\n",
    "\n",
    "# Save to Box folder (avoid Github large file storage issues)\n",
    "os.makedirs(os.path.dirname(data_dir_path), exist_ok=True)\n",
    "fname = data_dir_path + \"experiment_parameters.pickle\"\n",
    "with open(fname, \"wb\") as f:\n",
    "    pickle.dump(var_dict, f)\n",
    "\n",
    "\n",
    "np.save(data_dir_path + 'S_real_results_evs', S_real_results.data.evs)\n",
    "np.save(data_dir_path + 'S_imag_results_evs', S_imag_results.data.evs)\n",
    "np.save(data_dir_path + 'H_real_results_evs', H_real_results.data.evs)\n",
    "np.save(data_dir_path + 'H_imag_results_evs', H_imag_results.data.evs)\n",
    "\n",
    "np.save(data_dir_path + 'S_real_results_metadata', S_real_results.metadata)\n",
    "np.save(data_dir_path + 'S_imag_results_metadata', S_imag_results.metadata)\n",
    "np.save(data_dir_path + 'H_real_results_metadata', H_real_results.metadata)\n",
    "np.save(data_dir_path + 'H_imag_results_metadata', H_imag_results.metadata)"
   ]
  },
  {
   "cell_type": "code",
   "execution_count": null,
   "metadata": {},
   "outputs": [],
   "source": []
  }
 ],
 "metadata": {
  "kernelspec": {
   "display_name": "Python 3",
   "language": "python",
   "name": "python3"
  },
  "language_info": {
   "codemirror_mode": {
    "name": "ipython",
    "version": 3
   },
   "file_extension": ".py",
   "mimetype": "text/x-python",
   "name": "python",
   "nbconvert_exporter": "python",
   "pygments_lexer": "ipython3",
   "version": "3.12.1"
  }
 },
 "nbformat": 4,
 "nbformat_minor": 2
}
