{
 "cells": [
  {
   "cell_type": "markdown",
   "metadata": {},
   "source": [
    "# Resampling for expectation value calculations\n",
    "\n",
    "**Pedro Rivero**  \n",
    "Technical Lead @ IBM Quantum  \n",
    "pedro.rivero@ibm.com\n",
    "\n",
    "<!-- - **Co-authors**: *Abdullah Ash Saki, Ritajit Majumdar, Haimeng Zhang*\n",
    "- **Collaborators**: *Drew Vandeth, Mirko Amico, Nate Earnest-Noble, Borja Peropadre* -->"
   ]
  },
  {
   "cell_type": "code",
   "execution_count": 1,
   "metadata": {},
   "outputs": [],
   "source": [
    "from qiskit import QuantumCircuit\n",
    "\n",
    "circuit = QuantumCircuit(1)\n",
    "circuit.h(0)\n",
    "circuit.measure_all()"
   ]
  },
  {
   "cell_type": "code",
   "execution_count": 2,
   "metadata": {},
   "outputs": [],
   "source": [
    "from qiskit.primitives import Sampler\n",
    "\n",
    "SHOTS = 10_000\n",
    "\n",
    "sampler = Sampler()\n",
    "job = sampler.run(circuit, shots=SHOTS)\n",
    "result = job.result()"
   ]
  },
  {
   "cell_type": "markdown",
   "metadata": {},
   "source": [
    "## Theoretical calculation"
   ]
  },
  {
   "cell_type": "code",
   "execution_count": 3,
   "metadata": {},
   "outputs": [],
   "source": [
    "# Observe-like functions may be produced directly from (all-commuting) SparsePauliOp inputs\n",
    "def observe(readout):\n",
    "    \"\"\"Observe Pauli-Z.\"\"\"\n",
    "    return +1 if readout == 0 else -1"
   ]
  },
  {
   "cell_type": "code",
   "execution_count": 4,
   "metadata": {},
   "outputs": [
    {
     "name": "stdout",
     "output_type": "stream",
     "text": [
      "Mean: 0.0040000000000000036\n",
      "Std. error: 0.010000420033182807\n"
     ]
    }
   ],
   "source": [
    "from numpy import sqrt\n",
    "\n",
    "readout_dist = result.quasi_dists[0]\n",
    "oberved_dist = {observe(readout): probability for readout, probability in readout_dist.items()}\n",
    "\n",
    "average = sum(observation * probability for observation, probability in oberved_dist.items())\n",
    "variance = sum(probability * (observation - average)**2 for observation, probability in oberved_dist.items())\n",
    "variance *= SHOTS / (SHOTS - 1)  # Note: variance adjustment to remove bias\n",
    "std_error = sqrt(variance / SHOTS)  # Note: std error of the mean, not of the samples\n",
    "\n",
    "print(\"Mean:\", average)  # ≈ 0.0\n",
    "# print(\"Variance:\", variance)  # ≈ 1.0\n",
    "print(\"Std. error:\", std_error)  # ≈ variance / sqrt(SHOTS)"
   ]
  },
  {
   "cell_type": "markdown",
   "metadata": {},
   "source": [
    "## Bootstrapping"
   ]
  },
  {
   "cell_type": "code",
   "execution_count": 5,
   "metadata": {},
   "outputs": [],
   "source": [
    "def compute_expval(result, *args, **kwargs):\n",
    "    \"\"\"Compute expecation value from result.\"\"\"\n",
    "    readout_dist = result.quasi_dists[0]\n",
    "    oberved_dist = {observe(readout): probability for readout, probability in readout_dist.items()}\n",
    "    average = sum(observation * probability for observation, probability in oberved_dist.items())\n",
    "    return average"
   ]
  },
  {
   "cell_type": "code",
   "execution_count": 6,
   "metadata": {
    "editable": true,
    "slideshow": {
     "slide_type": ""
    },
    "tags": []
   },
   "outputs": [],
   "source": [
    "from quantum_enablement.resampling import Bootstrap\n",
    "\n",
    "NUM_RESAMPLES = 1_000\n",
    "\n",
    "bootstrap = Bootstrap(seed=0)\n",
    "resampled_results = [bootstrap.resample_result(result) for _ in range(NUM_RESAMPLES)]\n",
    "bootstrap_expvals = [compute_expval(result) for result in resampled_results]"
   ]
  },
  {
   "cell_type": "code",
   "execution_count": 7,
   "metadata": {},
   "outputs": [
    {
     "name": "stdout",
     "output_type": "stream",
     "text": [
      "Mean: 0.004105000000000002\n",
      "Std. error: 0.009809230142880529\n"
     ]
    }
   ],
   "source": [
    "from numpy import mean, var, sqrt\n",
    "\n",
    "average = mean(bootstrap_expvals)\n",
    "variance = var(bootstrap_expvals)\n",
    "variance *= NUM_RESAMPLES / (NUM_RESAMPLES - 1)  # Note: variance adjustment to remove bias\n",
    "std_error = sqrt(variance)\n",
    "\n",
    "print(\"Mean:\", average)\n",
    "print(\"Std. error:\", std_error)"
   ]
  },
  {
   "cell_type": "code",
   "execution_count": null,
   "metadata": {},
   "outputs": [],
   "source": []
  }
 ],
 "metadata": {
  "kernelspec": {
   "display_name": "quantum-enablement",
   "language": "python",
   "name": "quantum-enablement"
  },
  "language_info": {
   "codemirror_mode": {
    "name": "ipython",
    "version": 3
   },
   "file_extension": ".py",
   "mimetype": "text/x-python",
   "name": "python",
   "nbconvert_exporter": "python",
   "pygments_lexer": "ipython3",
   "version": "3.12.1"
  }
 },
 "nbformat": 4,
 "nbformat_minor": 4
}
