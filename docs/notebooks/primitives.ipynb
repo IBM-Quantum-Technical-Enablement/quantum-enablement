{
 "cells": [
  {
   "cell_type": "markdown",
   "id": "25d21259-071f-4aaa-8bd4-3ac352f72f29",
   "metadata": {},
   "source": [
    "**Abdullah Ash Saki**  \n",
    "Enabling Technologies Researcher @ IBM Quantum  \n",
    "saki@ibm.com\n",
    "\n",
    "**Pedro Rivero**  \n",
    "Technical Lead @ IBM Quantum  \n",
    "pedro.rivero@ibm.com"
   ]
  },
  {
   "cell_type": "markdown",
   "id": "325a4244",
   "metadata": {},
   "source": [
    "# Primitives V2"
   ]
  },
  {
   "cell_type": "markdown",
   "id": "034b14ad-8204-4172-b894-08cc3561e4d6",
   "metadata": {},
   "source": [
    "## Sampler"
   ]
  },
  {
   "cell_type": "code",
   "execution_count": 1,
   "id": "dd0ff427-4583-4826-91eb-df3b5c9ca804",
   "metadata": {
    "scrolled": true
   },
   "outputs": [],
   "source": [
    "from qiskit.circuit import Parameter, QuantumCircuit, ClassicalRegister, QuantumRegister\n",
    "from qiskit.primitives import StatevectorSampler as Sampler\n",
    "\n",
    "import numpy as np"
   ]
  },
  {
   "cell_type": "code",
   "execution_count": 33,
   "id": "b301d20f-8927-4bbe-8692-37dbf938e0b0",
   "metadata": {
    "scrolled": true
   },
   "outputs": [
    {
     "data": {
      "text/plain": [
       "<qiskit.circuit.instructionset.InstructionSet at 0x141de3be0>"
      ]
     },
     "execution_count": 33,
     "metadata": {},
     "output_type": "execute_result"
    }
   ],
   "source": [
    "# Define our circuit registers, including classical registers called 'alpha' and 'beta'.\n",
    "qreg = QuantumRegister(3)\n",
    "alpha = ClassicalRegister(2, \"alpha\")\n",
    "beta = ClassicalRegister(1, \"beta\")\n",
    "\n",
    "# Define a quantum circuit with two parameters.\n",
    "circuit = QuantumCircuit(qreg, alpha, beta)\n",
    "circuit.h(0)\n",
    "circuit.cx(0, 1)\n",
    "circuit.cx(1, 2)\n",
    "circuit.ry(Parameter(\"a\"), 0)\n",
    "circuit.rz(Parameter(\"b\"), 0)\n",
    "circuit.cx(1, 2)\n",
    "circuit.cx(0, 1)\n",
    "circuit.h(0)\n",
    "circuit.measure([0, 1], alpha)\n",
    "circuit.measure([2], beta)"
   ]
  },
  {
   "cell_type": "code",
   "execution_count": 3,
   "id": "749ceeac-a778-4325-a819-7f91693faa04",
   "metadata": {
    "scrolled": true
   },
   "outputs": [
    {
     "data": {
      "text/plain": [
       "(100, 2)"
      ]
     },
     "execution_count": 3,
     "metadata": {},
     "output_type": "execute_result"
    }
   ],
   "source": [
    "# Define a sweep over parameter values, where the second axis is over \n",
    "# the two parameters in the circuit.\n",
    "params = np.column_stack([\n",
    "    np.linspace(-np.pi, np.pi, 100), \n",
    "    np.linspace(-4 * np.pi, 4 * np.pi, 100)\n",
    "])\n",
    "\n",
    "params.shape"
   ]
  },
  {
   "cell_type": "code",
   "execution_count": 4,
   "id": "a2c6ff97-715d-4c1c-a638-114f8d69340e",
   "metadata": {
    "scrolled": true
   },
   "outputs": [],
   "source": [
    "# Instantiate a new statevector simulation based sampler object.\n",
    "sampler = Sampler()\n",
    "\n",
    "# Start a job that will return shots for all 100 parameter value sets.\n",
    "pub = (circuit, params)\n",
    "job = sampler.run([pub], shots=256)"
   ]
  },
  {
   "cell_type": "code",
   "execution_count": 5,
   "id": "5bd77a2c-94ce-41fc-985a-fc51d34529fd",
   "metadata": {},
   "outputs": [
    {
     "data": {
      "text/plain": [
       "PrimitiveResult([PubResult(data=DataBin<100>(alpha=BitArray(<shape=(100,), num_shots=256, num_bits=2>), beta=BitArray(<shape=(100,), num_shots=256, num_bits=1>)), metadata={'shots': 256})], metadata={})"
      ]
     },
     "execution_count": 5,
     "metadata": {},
     "output_type": "execute_result"
    }
   ],
   "source": [
    "# Retrieve the primitive result\n",
    "job.result()"
   ]
  },
  {
   "cell_type": "code",
   "execution_count": 6,
   "id": "df5580e9-2ee2-47fb-aa95-139f7345d3ce",
   "metadata": {
    "scrolled": true
   },
   "outputs": [
    {
     "data": {
      "text/plain": [
       "PubResult(data=DataBin<100>(alpha=BitArray(<shape=(100,), num_shots=256, num_bits=2>), beta=BitArray(<shape=(100,), num_shots=256, num_bits=1>)), metadata={'shots': 256})"
      ]
     },
     "execution_count": 6,
     "metadata": {},
     "output_type": "execute_result"
    }
   ],
   "source": [
    "# Extract the result for the 0th pub (this example only has one pub).\n",
    "result = job.result()[0]\n",
    "result"
   ]
  },
  {
   "cell_type": "code",
   "execution_count": 7,
   "id": "5730ac3a-c241-4402-ae34-064cc8a613f9",
   "metadata": {},
   "outputs": [
    {
     "data": {
      "text/plain": [
       "DataBin<100>(alpha=BitArray(<shape=(100,), num_shots=256, num_bits=2>), beta=BitArray(<shape=(100,), num_shots=256, num_bits=1>))"
      ]
     },
     "execution_count": 7,
     "metadata": {},
     "output_type": "execute_result"
    }
   ],
   "source": [
    "# Pub results have data\n",
    "result.data"
   ]
  },
  {
   "cell_type": "code",
   "execution_count": 8,
   "id": "645acf71-fc30-42ab-806f-3e646883174e",
   "metadata": {},
   "outputs": [
    {
     "data": {
      "text/plain": [
       "{'shots': 256}"
      ]
     },
     "execution_count": 8,
     "metadata": {},
     "output_type": "execute_result"
    }
   ],
   "source": [
    "# Pub results have metadata\n",
    "result.metadata"
   ]
  },
  {
   "cell_type": "code",
   "execution_count": 31,
   "id": "d7234040-ebc6-453c-9fbb-8a3c8c7827f8",
   "metadata": {},
   "outputs": [
    {
     "data": {
      "text/plain": [
       "dict_keys(['evs', 'stds'])"
      ]
     },
     "execution_count": 31,
     "metadata": {},
     "output_type": "execute_result"
    }
   ],
   "source": [
    "from dataclasses import fields, asdict\n",
    "asdict(result.data).keys()"
   ]
  },
  {
   "cell_type": "code",
   "execution_count": 11,
   "id": "ecfd43eb-ef41-46d5-b09b-d54de26472ce",
   "metadata": {
    "scrolled": true
   },
   "outputs": [
    {
     "data": {
      "text/plain": [
       "{'00': 100, '11': 131, '10': 16, '01': 9}"
      ]
     },
     "execution_count": 11,
     "metadata": {},
     "output_type": "execute_result"
    }
   ],
   "source": [
    "# We can turn the data from the 22nd sweep index into a counts dict.\n",
    "result.data.alpha.get_counts(22)"
   ]
  },
  {
   "cell_type": "code",
   "execution_count": 12,
   "id": "51ba9777-b760-4983-9c8c-96143c51d7b7",
   "metadata": {
    "scrolled": true
   },
   "outputs": [
    {
     "data": {
      "text/plain": [
       "['00',\n",
       " '00',\n",
       " '11',\n",
       " '00',\n",
       " '11',\n",
       " '00',\n",
       " '10',\n",
       " '11',\n",
       " '11',\n",
       " '11',\n",
       " '11',\n",
       " '11',\n",
       " '00',\n",
       " '00',\n",
       " '10',\n",
       " '11',\n",
       " '00',\n",
       " '11',\n",
       " '11',\n",
       " '00',\n",
       " '00',\n",
       " '11',\n",
       " '00',\n",
       " '10',\n",
       " '00',\n",
       " '01',\n",
       " '10',\n",
       " '00',\n",
       " '11',\n",
       " '00',\n",
       " '00',\n",
       " '00',\n",
       " '10',\n",
       " '00',\n",
       " '11',\n",
       " '11',\n",
       " '11',\n",
       " '11',\n",
       " '00',\n",
       " '00',\n",
       " '00',\n",
       " '00',\n",
       " '00',\n",
       " '11',\n",
       " '00',\n",
       " '11',\n",
       " '00',\n",
       " '11',\n",
       " '00',\n",
       " '11',\n",
       " '00',\n",
       " '11',\n",
       " '10',\n",
       " '11',\n",
       " '00',\n",
       " '00',\n",
       " '00',\n",
       " '10',\n",
       " '00',\n",
       " '00',\n",
       " '11',\n",
       " '11',\n",
       " '01',\n",
       " '00',\n",
       " '11',\n",
       " '11',\n",
       " '00',\n",
       " '11',\n",
       " '00',\n",
       " '00',\n",
       " '11',\n",
       " '11',\n",
       " '11',\n",
       " '00',\n",
       " '11',\n",
       " '00',\n",
       " '11',\n",
       " '00',\n",
       " '11',\n",
       " '11',\n",
       " '11',\n",
       " '00',\n",
       " '00',\n",
       " '11',\n",
       " '10',\n",
       " '11',\n",
       " '11',\n",
       " '11',\n",
       " '10',\n",
       " '11',\n",
       " '00',\n",
       " '11',\n",
       " '00',\n",
       " '11',\n",
       " '11',\n",
       " '01',\n",
       " '11',\n",
       " '11',\n",
       " '00',\n",
       " '00',\n",
       " '11',\n",
       " '01',\n",
       " '11',\n",
       " '11',\n",
       " '00',\n",
       " '11',\n",
       " '00',\n",
       " '11',\n",
       " '10',\n",
       " '00',\n",
       " '11',\n",
       " '00',\n",
       " '00',\n",
       " '00',\n",
       " '00',\n",
       " '00',\n",
       " '00',\n",
       " '11',\n",
       " '00',\n",
       " '01',\n",
       " '00',\n",
       " '11',\n",
       " '00',\n",
       " '01',\n",
       " '11',\n",
       " '00',\n",
       " '00',\n",
       " '11',\n",
       " '11',\n",
       " '00',\n",
       " '11',\n",
       " '00',\n",
       " '11',\n",
       " '11',\n",
       " '11',\n",
       " '11',\n",
       " '11',\n",
       " '11',\n",
       " '11',\n",
       " '11',\n",
       " '11',\n",
       " '11',\n",
       " '11',\n",
       " '00',\n",
       " '00',\n",
       " '11',\n",
       " '11',\n",
       " '00',\n",
       " '11',\n",
       " '11',\n",
       " '00',\n",
       " '10',\n",
       " '11',\n",
       " '11',\n",
       " '11',\n",
       " '11',\n",
       " '11',\n",
       " '11',\n",
       " '00',\n",
       " '11',\n",
       " '11',\n",
       " '10',\n",
       " '11',\n",
       " '11',\n",
       " '00',\n",
       " '11',\n",
       " '11',\n",
       " '00',\n",
       " '11',\n",
       " '11',\n",
       " '11',\n",
       " '00',\n",
       " '00',\n",
       " '11',\n",
       " '00',\n",
       " '00',\n",
       " '00',\n",
       " '11',\n",
       " '00',\n",
       " '00',\n",
       " '00',\n",
       " '11',\n",
       " '00',\n",
       " '11',\n",
       " '11',\n",
       " '11',\n",
       " '00',\n",
       " '11',\n",
       " '11',\n",
       " '11',\n",
       " '11',\n",
       " '00',\n",
       " '11',\n",
       " '00',\n",
       " '01',\n",
       " '11',\n",
       " '11',\n",
       " '11',\n",
       " '11',\n",
       " '01',\n",
       " '00',\n",
       " '00',\n",
       " '11',\n",
       " '01',\n",
       " '00',\n",
       " '11',\n",
       " '11',\n",
       " '10',\n",
       " '11',\n",
       " '11',\n",
       " '00',\n",
       " '00',\n",
       " '11',\n",
       " '00',\n",
       " '11',\n",
       " '11',\n",
       " '11',\n",
       " '11',\n",
       " '00',\n",
       " '11',\n",
       " '00',\n",
       " '11',\n",
       " '00',\n",
       " '11',\n",
       " '00',\n",
       " '11',\n",
       " '11',\n",
       " '00',\n",
       " '00',\n",
       " '11',\n",
       " '11',\n",
       " '00',\n",
       " '10',\n",
       " '11',\n",
       " '11',\n",
       " '00',\n",
       " '00',\n",
       " '00',\n",
       " '11',\n",
       " '11',\n",
       " '11',\n",
       " '00',\n",
       " '00',\n",
       " '11',\n",
       " '10',\n",
       " '11',\n",
       " '11',\n",
       " '10',\n",
       " '11',\n",
       " '00',\n",
       " '11',\n",
       " '00',\n",
       " '00',\n",
       " '00',\n",
       " '11',\n",
       " '11']"
      ]
     },
     "execution_count": 12,
     "metadata": {},
     "output_type": "execute_result"
    }
   ],
   "source": [
    "# Yo can also access the samples directly (i.e. `memory=True`)\n",
    "result.data.alpha.get_bitstrings(22)"
   ]
  },
  {
   "cell_type": "code",
   "execution_count": 13,
   "id": "489efced-f5f3-4972-bdd8-56d1106d46fe",
   "metadata": {
    "scrolled": true
   },
   "outputs": [
    {
     "data": {
      "text/plain": [
       "array([[[3],\n",
       "        [3],\n",
       "        [3],\n",
       "        ...,\n",
       "        [3],\n",
       "        [3],\n",
       "        [3]],\n",
       "\n",
       "       [[3],\n",
       "        [3],\n",
       "        [3],\n",
       "        ...,\n",
       "        [3],\n",
       "        [3],\n",
       "        [3]],\n",
       "\n",
       "       [[3],\n",
       "        [3],\n",
       "        [3],\n",
       "        ...,\n",
       "        [3],\n",
       "        [3],\n",
       "        [2]],\n",
       "\n",
       "       ...,\n",
       "\n",
       "       [[3],\n",
       "        [3],\n",
       "        [3],\n",
       "        ...,\n",
       "        [3],\n",
       "        [3],\n",
       "        [3]],\n",
       "\n",
       "       [[3],\n",
       "        [3],\n",
       "        [3],\n",
       "        ...,\n",
       "        [3],\n",
       "        [3],\n",
       "        [3]],\n",
       "\n",
       "       [[3],\n",
       "        [3],\n",
       "        [3],\n",
       "        ...,\n",
       "        [3],\n",
       "        [3],\n",
       "        [3]]], dtype=uint8)"
      ]
     },
     "execution_count": 13,
     "metadata": {},
     "output_type": "execute_result"
    }
   ],
   "source": [
    "# Or, for low-level applications, we can work directly with the binary data.\n",
    "result.data.alpha.array"
   ]
  },
  {
   "cell_type": "markdown",
   "id": "d8a1cf41-8e27-417e-837d-3970a338a53d",
   "metadata": {},
   "source": [
    "## Estimator"
   ]
  },
  {
   "cell_type": "code",
   "execution_count": 14,
   "id": "911b45eb-41b8-4182-97c2-5d8c78def03c",
   "metadata": {},
   "outputs": [],
   "source": [
    "from qiskit.circuit import Parameter, QuantumCircuit\n",
    "from qiskit.primitives import StatevectorEstimator as Estimator\n",
    "from qiskit.quantum_info import Pauli, SparsePauliOp\n",
    "\n",
    "import matplotlib.pyplot as plt\n",
    "import numpy as np"
   ]
  },
  {
   "cell_type": "code",
   "execution_count": 15,
   "id": "9db6d727-77eb-4ecf-8e3d-4b9f73b13335",
   "metadata": {},
   "outputs": [
    {
     "data": {
      "text/plain": [
       "<qiskit.circuit.instructionset.InstructionSet at 0x141dfd8a0>"
      ]
     },
     "execution_count": 15,
     "metadata": {},
     "output_type": "execute_result"
    }
   ],
   "source": [
    "# Define a circuit with two parameters.\n",
    "circuit = QuantumCircuit(2)\n",
    "circuit.h(0)\n",
    "circuit.cx(0, 1)\n",
    "circuit.ry(Parameter(\"a\"), 0)\n",
    "circuit.rz(Parameter(\"b\"), 0)\n",
    "circuit.cx(0, 1)\n",
    "circuit.h(0)"
   ]
  },
  {
   "cell_type": "code",
   "execution_count": 16,
   "id": "f6c1e5a6-df13-4c27-bf90-7a1e2c5efd02",
   "metadata": {},
   "outputs": [],
   "source": [
    "# Define a sweep over parameter values, where the second axis is over\n",
    "# the two parameters in the circuit.\n",
    "params = np.column_stack([\n",
    "    np.linspace(-np.pi, np.pi, 100),\n",
    "    np.linspace(-4 * np.pi, 4 * np.pi, 100)\n",
    "])"
   ]
  },
  {
   "cell_type": "code",
   "execution_count": 17,
   "id": "acbb292e-6dfb-42ba-a5d8-b6f621183b28",
   "metadata": {},
   "outputs": [],
   "source": [
    "# Define three observables. Many formats are supported here including classes\n",
    "# such as qiskit.quantum_info.SparsePauliOp. The inner length-1 lists cause this array\n",
    "# of observables to have shape (3, 1), rather than shape (3,) if they were omitted.\n",
    "observables = [[SparsePauliOp([\"XX\", \"IY\"], [0.5, 0.5])], [Pauli(\"XX\")], [Pauli(\"IY\")]]"
   ]
  },
  {
   "cell_type": "code",
   "execution_count": 18,
   "id": "660fb9ef-44e5-4f44-8459-22e3ef322fe0",
   "metadata": {},
   "outputs": [],
   "source": [
    "# Instantiate a new statevector simulation based estimator object.\n",
    "estimator = Estimator()\n",
    "\n",
    "# Estimate the expectation value for all 300 combinations of observables and parameter\n",
    "# values, where the pub result will have shape (3, 100). This shape is due to our array\n",
    "# of parameter bindings having shape (100,), combined with our array of observables having\n",
    "# shape (3, 1)\n",
    "pub = (circuit, observables, params)\n",
    "job = estimator.run([pub])\n",
    "# Extract the result for the 0th pub (this example only has one pub).\n",
    "result = job.result()[0]"
   ]
  },
  {
   "cell_type": "code",
   "execution_count": 19,
   "id": "d6eaa02e-d115-4f00-acf3-a1d541be7974",
   "metadata": {},
   "outputs": [
    {
     "data": {
      "text/plain": [
       "<matplotlib.legend.Legend at 0x141e3fa40>"
      ]
     },
     "execution_count": 19,
     "metadata": {},
     "output_type": "execute_result"
    },
    {
     "data": {
      "image/png": "[encoded data removed]",
      "text/plain": [
       "<Figure size 640x480 with 1 Axes>"
      ]
     },
     "metadata": {},
     "output_type": "display_data"
    }
   ],
   "source": [
    "# Pull out the array-based expectation value estimate data from the result and\n",
    "# plot a trace for each observable.\n",
    "for idx, pauli in enumerate(observables):\n",
    "    plt.plot(result.data.evs[idx], label=pauli)\n",
    "plt.legend()"
   ]
  },
  {
   "cell_type": "code",
   "execution_count": 20,
   "id": "3d212c83-5ec6-4b1f-8912-0fc94690bc8c",
   "metadata": {},
   "outputs": [
    {
     "data": {
      "text/plain": [
       "array([[0., 0., 0., 0., 0., 0., 0., 0., 0., 0., 0., 0., 0., 0., 0., 0.,\n",
       "        0., 0., 0., 0., 0., 0., 0., 0., 0., 0., 0., 0., 0., 0., 0., 0.,\n",
       "        0., 0., 0., 0., 0., 0., 0., 0., 0., 0., 0., 0., 0., 0., 0., 0.,\n",
       "        0., 0., 0., 0., 0., 0., 0., 0., 0., 0., 0., 0., 0., 0., 0., 0.,\n",
       "        0., 0., 0., 0., 0., 0., 0., 0., 0., 0., 0., 0., 0., 0., 0., 0.,\n",
       "        0., 0., 0., 0., 0., 0., 0., 0., 0., 0., 0., 0., 0., 0., 0., 0.,\n",
       "        0., 0., 0., 0.],\n",
       "       [0., 0., 0., 0., 0., 0., 0., 0., 0., 0., 0., 0., 0., 0., 0., 0.,\n",
       "        0., 0., 0., 0., 0., 0., 0., 0., 0., 0., 0., 0., 0., 0., 0., 0.,\n",
       "        0., 0., 0., 0., 0., 0., 0., 0., 0., 0., 0., 0., 0., 0., 0., 0.,\n",
       "        0., 0., 0., 0., 0., 0., 0., 0., 0., 0., 0., 0., 0., 0., 0., 0.,\n",
       "        0., 0., 0., 0., 0., 0., 0., 0., 0., 0., 0., 0., 0., 0., 0., 0.,\n",
       "        0., 0., 0., 0., 0., 0., 0., 0., 0., 0., 0., 0., 0., 0., 0., 0.,\n",
       "        0., 0., 0., 0.],\n",
       "       [0., 0., 0., 0., 0., 0., 0., 0., 0., 0., 0., 0., 0., 0., 0., 0.,\n",
       "        0., 0., 0., 0., 0., 0., 0., 0., 0., 0., 0., 0., 0., 0., 0., 0.,\n",
       "        0., 0., 0., 0., 0., 0., 0., 0., 0., 0., 0., 0., 0., 0., 0., 0.,\n",
       "        0., 0., 0., 0., 0., 0., 0., 0., 0., 0., 0., 0., 0., 0., 0., 0.,\n",
       "        0., 0., 0., 0., 0., 0., 0., 0., 0., 0., 0., 0., 0., 0., 0., 0.,\n",
       "        0., 0., 0., 0., 0., 0., 0., 0., 0., 0., 0., 0., 0., 0., 0., 0.,\n",
       "        0., 0., 0., 0.]])"
      ]
     },
     "execution_count": 20,
     "metadata": {},
     "output_type": "execute_result"
    }
   ],
   "source": [
    "# Error-bar information is also available, but the error is always 0 for the StatevectorEstimator.\n",
    "result.data.stds"
   ]
  },
  {
   "cell_type": "code",
   "execution_count": null,
   "id": "8afc8400-9c35-4305-97ce-a0a3af81025f",
   "metadata": {},
   "outputs": [],
   "source": []
  }
 ],
 "metadata": {
  "kernelspec": {
   "display_name": "qiskit",
   "language": "python",
   "name": "qiskit"
  },
  "language_info": {
   "codemirror_mode": {
    "name": "ipython",
    "version": 3
   },
   "file_extension": ".py",
   "mimetype": "text/x-python",
   "name": "python",
   "nbconvert_exporter": "python",
   "pygments_lexer": "ipython3",
   "version": "3.12.1"
  }
 },
 "nbformat": 4,
 "nbformat_minor": 5
}
