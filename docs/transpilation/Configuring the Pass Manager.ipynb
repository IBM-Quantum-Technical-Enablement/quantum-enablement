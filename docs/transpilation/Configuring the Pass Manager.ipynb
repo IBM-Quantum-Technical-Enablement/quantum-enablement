{
 "cells": [
  {
   "cell_type": "markdown",
   "metadata": {},
   "source": [
    "# 5. Preset Pass Manager\n",
    "References:\n",
    "- https://docs.quantum.ibm.com/transpile/transpiler-stages\n"
   ]
  },
  {
   "cell_type": "markdown",
   "metadata": {},
   "source": [
    "### Generate different circuit types"
   ]
  },
  {
   "cell_type": "code",
   "execution_count": null,
   "metadata": {},
   "outputs": [],
   "source": [
    "from qiskit.circuit.random import random_circuit\n",
    "from qiskit.circuit.library import TwoLocal\n",
    "import random\n",
    "import numpy as np\n",
    "\n",
    "num_qubits_list = [5, 10, 20]\n",
    "depth_list = [5, 10, 20]\n",
    "\n",
    "# use this for now\n",
    "num_qubits = num_qubits_list[-1]\n",
    "depth = depth_list[-1]\n",
    "\n",
    "# Random circuits\n",
    "random_circuit_list  = [random_circuit(num_qubits=num_qubits, depth=depth).decompose().decompose()]\n",
    "\n",
    "# Dense layered circuits\n",
    "parametrized_dense_layered_circuit_list = [TwoLocal(num_qubits=num_qubits, rotation_blocks='rx', entanglement_blocks='cx',  reps=depth, entanglement='pairwise').decompose().decompose()]\n",
    "\n",
    "# Staircase circuits\n",
    "parametrized_staircase_circuit_list = [TwoLocal(num_qubits=num_qubits, rotation_blocks='rx', entanglement_blocks='cx',  reps=depth, entanglement='linear').decompose().decompose()]\n",
    "\n",
    "#Assign parameters and measurements\n",
    "dense_layered_circuit_list, staircase_circuit_list = [], []\n",
    "for dense_circuit, staircase_circuit in zip(parametrized_dense_layered_circuit_list,parametrized_staircase_circuit_list):\n",
    "    num_params_dense = dense_circuit.num_parameters; num_params_stair = staircase_circuit.num_parameters\n",
    "    values_dense = [random.uniform(0, 2*np.pi) for _ in range(num_params_dense)]; values_stair = [random.uniform(0, 2*np.pi) for _ in range(num_params_stair)]\n",
    "    dense_circuit.assign_parameters(values_dense, inplace=True);  staircase_circuit.assign_parameters(values_stair, inplace=True)\n",
    "    dense_circuit.measure_all(); staircase_circuit.measure_all()\n",
    "    dense_layered_circuit_list.append(dense_circuit.decompose().decompose()); staircase_circuit_list.append(staircase_circuit.decompose().decompose())\n",
    "\n",
    "for circuit in random_circuit_list:\n",
    "    circuit.measure_all()\n",
    "\n",
    "\n"
   ]
  },
  {
   "cell_type": "code",
   "execution_count": null,
   "metadata": {},
   "outputs": [],
   "source": [
    "print('# CX:', random_circuit_list[0].decompose().count_ops()['cx'])\n",
    "print('2Q depth:',random_circuit_list[0].decompose().depth(lambda x: x[0].num_qubits==2) )\n",
    "random_circuit_list[0].draw(fold=-1)"
   ]
  },
  {
   "cell_type": "code",
   "execution_count": null,
   "metadata": {},
   "outputs": [],
   "source": [
    "print('# CX:', dense_layered_circuit_list[0].decompose().count_ops()['cx'])\n",
    "print('2Q depth:',dense_layered_circuit_list[0].decompose().depth(lambda x: x[0].num_qubits==2) )\n",
    "dense_layered_circuit_list[0].draw(fold=-1)"
   ]
  },
  {
   "cell_type": "code",
   "execution_count": null,
   "metadata": {},
   "outputs": [],
   "source": [
    "print('# CX:', staircase_circuit_list[0].decompose().count_ops()['cx'])\n",
    "print('2Q depth:',staircase_circuit_list[0].decompose().depth(lambda x: x[0].num_qubits==2) )\n",
    "staircase_circuit_list[0].draw(fold=-1)"
   ]
  },
  {
   "cell_type": "markdown",
   "metadata": {},
   "source": [
    "## Optimize circuit for hardware topology (routing+optimizations)"
   ]
  },
  {
   "cell_type": "markdown",
   "metadata": {},
   "source": [
    "### Define hardware topology"
   ]
  },
  {
   "cell_type": "code",
   "execution_count": null,
   "metadata": {},
   "outputs": [],
   "source": [
    "from qiskit.providers.fake_provider import Fake20QV1\n",
    "from qiskit.transpiler import CouplingMap\n",
    "\n",
    "backend = Fake20QV1()\n",
    "\n",
    "# Get a coupling map\n",
    "coupling_map_list = backend.configuration().coupling_map\n",
    "coupling_map_obj = CouplingMap(coupling_map_list)\n",
    "\n",
    "\n",
    "# Get supported basis gates\n",
    "basis_gates = backend.configuration().basis_gates\n",
    "\n",
    "#Backend properties\n",
    "backend_properties = backend.properties()\n",
    "\n",
    "print('basis:', basis_gates)\n",
    "coupling_map_obj.draw()"
   ]
  },
  {
   "cell_type": "markdown",
   "metadata": {},
   "source": [
    "### Simple mapping\n",
    "Let's not dwell on mapping for now. This is an important topic that we'll tackle later"
   ]
  },
  {
   "cell_type": "code",
   "execution_count": null,
   "metadata": {},
   "outputs": [],
   "source": [
    "from qiskit.transpiler import PassManager\n",
    "from qiskit.transpiler.passes import TrivialLayout, FullAncillaAllocation, ApplyLayout\n",
    "\n",
    "# Enlarge circuit to include physical qubits\n",
    "set_layout = TrivialLayout(coupling_map_obj)\n",
    "allocate_ancillas = FullAncillaAllocation(coupling_map_obj)\n",
    "layout = ApplyLayout()\n",
    "\n",
    "pm = PassManager([set_layout, allocate_ancillas, layout])\n",
    "\n",
    "lt_random_circuit_list = pm.run(random_circuit_list)\n",
    "lt_dense_circuit_list = pm.run(dense_layered_circuit_list)\n",
    "lt_staircase_circuit_list = pm.run(staircase_circuit_list)\n"
   ]
  },
  {
   "cell_type": "code",
   "execution_count": null,
   "metadata": {},
   "outputs": [],
   "source": [
    "print('Random circuits')\n",
    "print('# CX before:', random_circuit_list[0].decompose().count_ops()['cx'], ', after:', lt_random_circuit_list[0].decompose().count_ops()['cx'])\n",
    "print('2Q depth before:', random_circuit_list[0].decompose().depth(lambda x: x[0].num_qubits==2), ', after',  lt_random_circuit_list[0].decompose().depth(lambda x: x[0].num_qubits==2))\n",
    "# lt_random_circuit_list[0].draw(fold=-1)\n",
    "\n",
    "print('')\n",
    "print('Dense circuits')\n",
    "print('# CX before:', dense_layered_circuit_list[0].decompose().count_ops()['cx'], ', after:', lt_dense_circuit_list[0].decompose().count_ops()['cx'])\n",
    "print('2Q depth before:', dense_layered_circuit_list[0].decompose().depth(lambda x: x[0].num_qubits==2), ', after',  lt_dense_circuit_list[0].decompose().depth(lambda x: x[0].num_qubits==2))\n",
    "\n",
    "print('')\n",
    "print('Staircase circuits')\n",
    "print('# CX before:', staircase_circuit_list[0].decompose().count_ops()['cx'], ', after:', lt_staircase_circuit_list[0].decompose().count_ops()['cx'])\n",
    "print('2Q depth before:', staircase_circuit_list[0].decompose().depth(lambda x: x[0].num_qubits==2), ', after',  lt_staircase_circuit_list[0].decompose().depth(lambda x: x[0].num_qubits==2))\n"
   ]
  },
  {
   "cell_type": "markdown",
   "metadata": {},
   "source": [
    "### Routing\n",
    "This is a necessary step to map virtual circuit to hardware topology, most likely the number of 2Q gates will increase"
   ]
  },
  {
   "cell_type": "code",
   "execution_count": null,
   "metadata": {},
   "outputs": [],
   "source": [
    "from qiskit.transpiler import PassManager\n",
    "from qiskit.transpiler.passes import SabreSwap\n",
    "\n",
    "trials = 100\n",
    "sabre_routing = SabreSwap(coupling_map=coupling_map_obj, trials=trials, heuristic='lookahead')\n",
    "\n",
    "pm = PassManager([sabre_routing])\n",
    "\n",
    "rt_random_circuit_list = pm.run(lt_random_circuit_list)\n",
    "rt_random_circuit_list = [circuit.decompose() for circuit in rt_random_circuit_list]\n",
    "\n",
    "rt_dense_circuit_list = pm.run(lt_dense_circuit_list)\n",
    "rt_dense_circuit_list = [circuit.decompose() for circuit in rt_dense_circuit_list]\n",
    "\n",
    "rt_staircase_circuit_list = pm.run(lt_staircase_circuit_list)\n",
    "rt_staircase_circuit_list = [circuit.decompose() for circuit in rt_staircase_circuit_list]\n",
    "\n"
   ]
  },
  {
   "cell_type": "code",
   "execution_count": null,
   "metadata": {},
   "outputs": [],
   "source": [
    "print('Random circuits')\n",
    "print('# CX before:', lt_random_circuit_list[0].decompose().count_ops()['cx'], ', after:', rt_random_circuit_list[0].decompose().count_ops()['cx'])\n",
    "print('2Q depth before:', lt_random_circuit_list[0].decompose().depth(lambda x: x[0].num_qubits==2), ', after',  rt_random_circuit_list[0].decompose().depth(lambda x: x[0].num_qubits==2))\n",
    "# lt_random_circuit_list[0].draw(fold=-1)\n",
    "\n",
    "print('')\n",
    "print('Dense circuits')\n",
    "print('# CX before:', lt_dense_circuit_list[0].decompose().count_ops()['cx'], ', after:', rt_dense_circuit_list[0].decompose().count_ops()['cx'])\n",
    "print('2Q depth before:', lt_dense_circuit_list[0].decompose().depth(lambda x: x[0].num_qubits==2), ', after',  rt_dense_circuit_list[0].decompose().depth(lambda x: x[0].num_qubits==2))\n",
    "\n",
    "print('')\n",
    "print('Staircase circuits')\n",
    "print('# CX before:', lt_staircase_circuit_list[0].decompose().count_ops()['cx'], ', after:', rt_staircase_circuit_list[0].decompose().count_ops()['cx'])\n",
    "print('2Q depth before:', lt_staircase_circuit_list[0].decompose().depth(lambda x: x[0].num_qubits==2), ', after',  rt_staircase_circuit_list[0].decompose().depth(lambda x: x[0].num_qubits==2))\n"
   ]
  },
  {
   "cell_type": "markdown",
   "metadata": {},
   "source": [
    "### Collect"
   ]
  },
  {
   "cell_type": "code",
   "execution_count": null,
   "metadata": {},
   "outputs": [],
   "source": [
    "from qiskit.transpiler import PassManager\n",
    "from qiskit.transpiler.passes import Collect2qBlocks, ConsolidateBlocks, Collect1qRuns\n",
    "\n",
    "approximation_degree = 0.99\n",
    "collect_2q = Collect2qBlocks()\n",
    "collect_1q = Collect1qRuns()\n",
    "consolidate = ConsolidateBlocks(basis_gates=basis_gates, approximation_degree=approximation_degree)\n",
    "\n",
    "pm = PassManager([collect_2q, collect_1q, consolidate])\n",
    "\n",
    "cl_random_circuit_list = pm.run(rt_random_circuit_list)\n",
    "\n",
    "cl_dense_circuit_list = pm.run(rt_dense_circuit_list)\n",
    "\n",
    "cl_staircase_circuit_list = pm.run(rt_staircase_circuit_list)"
   ]
  },
  {
   "cell_type": "code",
   "execution_count": null,
   "metadata": {},
   "outputs": [],
   "source": [
    "print('Random circuits')\n",
    "print('# CX before:', rt_random_circuit_list[0].decompose().count_ops()['cx'], ', after:', cl_random_circuit_list[0].decompose().count_ops()['cx'])\n",
    "print('2Q depth before:', rt_random_circuit_list[0].decompose().depth(lambda x: x[0].num_qubits==2), ', after',  cl_random_circuit_list[0].decompose().depth(lambda x: x[0].num_qubits==2))\n",
    "# lt_random_circuit_list[0].draw(fold=-1)\n",
    "\n",
    "print('')\n",
    "print('Dense circuits')\n",
    "print('# CX before:', rt_dense_circuit_list[0].decompose().count_ops()['cx'], ', after:', cl_dense_circuit_list[0].decompose().count_ops()['cx'])\n",
    "print('2Q depth before:', rt_dense_circuit_list[0].decompose().depth(lambda x: x[0].num_qubits==2), ', after',  cl_dense_circuit_list[0].decompose().depth(lambda x: x[0].num_qubits==2))\n",
    "\n",
    "print('')\n",
    "print('Staircase circuits')\n",
    "print('# CX before:', rt_staircase_circuit_list[0].decompose().count_ops()['cx'], ', after:', cl_staircase_circuit_list[0].decompose().count_ops()['cx'])\n",
    "print('2Q depth before:', rt_staircase_circuit_list[0].decompose().depth(lambda x: x[0].num_qubits==2), ', after',  cl_staircase_circuit_list[0].decompose().depth(lambda x: x[0].num_qubits==2))\n"
   ]
  },
  {
   "cell_type": "markdown",
   "metadata": {},
   "source": [
    "### Synthesis\n",
    "This step synthesize gates according to some basis"
   ]
  },
  {
   "cell_type": "code",
   "execution_count": null,
   "metadata": {},
   "outputs": [],
   "source": [
    "from qiskit.transpiler import PassManager\n",
    "from qiskit.transpiler.passes import UnitarySynthesis, HighLevelSynthesis, BasisTranslator\n",
    "from qiskit.circuit.equivalence_library import SessionEquivalenceLibrary as sel\n",
    "\n",
    "approximation_degree = 0.99\n",
    "natural_direction = False\n",
    "un_synthesis = UnitarySynthesis(basis_gates = basis_gates, \n",
    "                             approximation_degree=approximation_degree,\n",
    "                             coupling_map=coupling_map_obj,\n",
    "                             backend_props = backend_properties,\n",
    "                             natural_direction=natural_direction\n",
    "                             )\n",
    "\n",
    "hl_synthesis = HighLevelSynthesis(coupling_map=coupling_map_obj,\n",
    "                                    basis_gates=basis_gates,\n",
    "                                    use_qubit_indices=True,\n",
    "                                    equivalence_library=sel,\n",
    "                                    min_qubits=3)\n",
    "\n",
    "basis_trans = BasisTranslator(sel, basis_gates, min_qubits=3)\n",
    "\n",
    "pm = PassManager([un_synthesis, hl_synthesis, basis_trans])\n",
    "\n",
    "synth_random_circuit_list = pm.run(cl_random_circuit_list)\n",
    "synth_dense_circuit_list = pm.run(cl_dense_circuit_list)\n",
    "synth_staircase_circuit_list = pm.run(cl_staircase_circuit_list)"
   ]
  },
  {
   "cell_type": "code",
   "execution_count": null,
   "metadata": {},
   "outputs": [],
   "source": [
    "print('Random circuits')\n",
    "print('# CX before:', cl_random_circuit_list[0].decompose().count_ops()['cx'], ', after:', synth_random_circuit_list[0].decompose().count_ops()['cx'])\n",
    "print('2Q depth before:', cl_random_circuit_list[0].decompose().depth(lambda x: x[0].num_qubits==2), ', after',  synth_random_circuit_list[0].decompose().depth(lambda x: x[0].num_qubits==2))\n",
    "# lt_random_circuit_list[0].draw(fold=-1)\n",
    "\n",
    "print('')\n",
    "print('Dense circuits')\n",
    "print('# CX before:', cl_dense_circuit_list[0].decompose().count_ops()['cx'], ', after:', synth_dense_circuit_list[0].decompose().count_ops()['cx'])\n",
    "print('2Q depth before:', cl_dense_circuit_list[0].decompose().depth(lambda x: x[0].num_qubits==2), ', after',  synth_dense_circuit_list[0].decompose().depth(lambda x: x[0].num_qubits==2))\n",
    "\n",
    "print('')\n",
    "print('Staircase circuits')\n",
    "print('# CX before:', cl_staircase_circuit_list[0].decompose().count_ops()['cx'], ', after:', synth_staircase_circuit_list[0].decompose().count_ops()['cx'])\n",
    "print('2Q depth before:', cl_staircase_circuit_list[0].decompose().depth(lambda x: x[0].num_qubits==2), ', after',  synth_staircase_circuit_list[0].decompose().depth(lambda x: x[0].num_qubits==2))\n"
   ]
  },
  {
   "cell_type": "markdown",
   "metadata": {},
   "source": [
    "### Optimization"
   ]
  },
  {
   "cell_type": "markdown",
   "metadata": {},
   "source": [
    "#### Hoare optimization"
   ]
  },
  {
   "cell_type": "code",
   "execution_count": null,
   "metadata": {},
   "outputs": [],
   "source": [
    "from qiskit.transpiler import PassManager\n",
    "from qiskit.transpiler.passes import HoareOptimizer\n",
    "\n",
    "hoare_opt = HoareOptimizer()\n",
    "\n",
    "pm = PassManager([hoare_opt])\n",
    "\n",
    "ho_random_circuit_list = pm.run(synth_random_circuit_list)\n",
    "ho_dense_circuit_list = pm.run(synth_dense_circuit_list)\n",
    "ho_staircase_circuit_list = pm.run(synth_staircase_circuit_list)"
   ]
  },
  {
   "cell_type": "code",
   "execution_count": null,
   "metadata": {},
   "outputs": [],
   "source": [
    "# ho_random_circuit_list = synth_random_circuit_list\n",
    "# ho_dense_circuit_list = synth_dense_circuit_list\n",
    "# ho_staircase_circuit_list = synth_staircase_circuit_list"
   ]
  },
  {
   "cell_type": "code",
   "execution_count": null,
   "metadata": {},
   "outputs": [],
   "source": [
    "print('Random circuits')\n",
    "print('# CX before:', synth_random_circuit_list[0].decompose().count_ops()['cx'], ', after:', ho_random_circuit_list[0].decompose().count_ops()['cx'])\n",
    "print('2Q depth before:', synth_random_circuit_list[0].decompose().depth(lambda x: x[0].num_qubits==2), ', after',  ho_random_circuit_list[0].decompose().depth(lambda x: x[0].num_qubits==2))\n",
    "# lt_random_circuit_list[0].draw(fold=-1)\n",
    "\n",
    "print('')\n",
    "print('Dense circuits')\n",
    "print('# CX before:', synth_dense_circuit_list[0].decompose().count_ops()['cx'], ', after:', ho_dense_circuit_list[0].decompose().count_ops()['cx'])\n",
    "print('2Q depth before:', synth_dense_circuit_list[0].decompose().depth(lambda x: x[0].num_qubits==2), ', after',  ho_dense_circuit_list[0].decompose().depth(lambda x: x[0].num_qubits==2))\n",
    "\n",
    "print('')\n",
    "print('Staircase circuits')\n",
    "print('# CX before:', synth_staircase_circuit_list[0].decompose().count_ops()['cx'], ', after:', ho_staircase_circuit_list[0].decompose().count_ops()['cx'])\n",
    "print('2Q depth before:', synth_staircase_circuit_list[0].decompose().depth(lambda x: x[0].num_qubits==2), ', after',  ho_staircase_circuit_list[0].decompose().depth(lambda x: x[0].num_qubits==2))\n"
   ]
  },
  {
   "cell_type": "markdown",
   "metadata": {},
   "source": [
    "#### Simplify through commutations"
   ]
  },
  {
   "cell_type": "code",
   "execution_count": null,
   "metadata": {},
   "outputs": [],
   "source": [
    "from qiskit.transpiler import PassManager\n",
    "from qiskit.transpiler.passes import CommutationAnalysis, CommutativeCancellation, CommutativeInverseCancellation, Optimize1qGatesSimpleCommutation\n",
    "\n",
    "comm_analysis = CommutationAnalysis()\n",
    "comm_1q = Optimize1qGatesSimpleCommutation()\n",
    "comm_canc = CommutativeCancellation(basis_gates=basis_gates)\n",
    "comm_inv_canc = CommutativeInverseCancellation(matrix_based = True, max_qubits = 4)\n",
    "\n",
    "pm = PassManager([comm_analysis,comm_1q, comm_canc, comm_inv_canc])\n",
    "\n",
    "comm_random_circuit_list = pm.run(ho_random_circuit_list)\n",
    "comm_dense_circuit_list = pm.run(ho_dense_circuit_list)\n",
    "comm_staircase_circuit_list = pm.run(ho_staircase_circuit_list)"
   ]
  },
  {
   "cell_type": "code",
   "execution_count": null,
   "metadata": {},
   "outputs": [],
   "source": [
    "print('Random circuits')\n",
    "print('# CX before:', ho_random_circuit_list[0].decompose().count_ops()['cx'], ', after:', comm_random_circuit_list[0].decompose().count_ops()['cx'])\n",
    "print('2Q depth before:', ho_random_circuit_list[0].decompose().depth(lambda x: x[0].num_qubits==2), ', after',  comm_random_circuit_list[0].decompose().depth(lambda x: x[0].num_qubits==2))\n",
    "# lt_random_circuit_list[0].draw(fold=-1)\n",
    "\n",
    "print('')\n",
    "print('Dense circuits')\n",
    "print('# CX before:', ho_dense_circuit_list[0].decompose().count_ops()['cx'], ', after:', comm_dense_circuit_list[0].decompose().count_ops()['cx'])\n",
    "print('2Q depth before:', ho_dense_circuit_list[0].decompose().depth(lambda x: x[0].num_qubits==2), ', after', comm_dense_circuit_list[0].decompose().depth(lambda x: x[0].num_qubits==2))\n",
    "\n",
    "print('')\n",
    "print('Staircase circuits')\n",
    "print('# CX before:', ho_staircase_circuit_list[0].decompose().count_ops()['cx'], ', after:', comm_staircase_circuit_list[0].decompose().count_ops()['cx'])\n",
    "print('2Q depth before:', ho_staircase_circuit_list[0].decompose().depth(lambda x: x[0].num_qubits==2), ', after',  comm_staircase_circuit_list[0].decompose().depth(lambda x: x[0].num_qubits==2))\n"
   ]
  },
  {
   "cell_type": "markdown",
   "metadata": {},
   "source": [
    "#### Optimize consecutive gates"
   ]
  },
  {
   "cell_type": "code",
   "execution_count": null,
   "metadata": {},
   "outputs": [],
   "source": [
    "from qiskit.transpiler import PassManager\n",
    "from qiskit.transpiler.passes import Optimize1qGates, Optimize1qGatesDecomposition, CXCancellation, InverseCancellation\n",
    "from qiskit.circuit.library.standard_gates import (\n",
    "    CXGate,\n",
    "    ECRGate,\n",
    "    CZGate,\n",
    "    XGate,\n",
    "    YGate,\n",
    "    ZGate,\n",
    "    TGate,\n",
    "    TdgGate,\n",
    "    SwapGate,\n",
    "    SGate,\n",
    "    SdgGate,\n",
    "    HGate,\n",
    "    CYGate,\n",
    "    SXGate,\n",
    "    SXdgGate,\n",
    ")\n",
    "\n",
    "\n",
    "gates_to_cancel = [\n",
    "                        CXGate(),\n",
    "                        ECRGate(),\n",
    "                        CZGate(),\n",
    "                        CYGate(),\n",
    "                        XGate(),\n",
    "                        YGate(),\n",
    "                        ZGate(),\n",
    "                        HGate(),\n",
    "                        SwapGate(),\n",
    "                        (TGate(), TdgGate()),\n",
    "                        (SGate(), SdgGate()),\n",
    "                        (SXGate(), SXdgGate()),\n",
    "                    ]\n",
    "\n",
    "opt_1q = Optimize1qGates()\n",
    "opt_1q_dec = Optimize1qGatesDecomposition()\n",
    "cx_canc = CXCancellation()\n",
    "inv_canc = InverseCancellation(gates_to_cancel=gates_to_cancel)\n",
    "\n",
    "pm = PassManager([opt_1q, opt_1q_dec, cx_canc, inv_canc])\n",
    "\n",
    "opt_random_circuit_list = pm.run(comm_random_circuit_list)\n",
    "opt_dense_circuit_list = pm.run(comm_dense_circuit_list)\n",
    "opt_staircase_circuit_list = pm.run(comm_staircase_circuit_list)"
   ]
  },
  {
   "cell_type": "code",
   "execution_count": null,
   "metadata": {},
   "outputs": [],
   "source": [
    "print('Random circuits')\n",
    "print('# CX before:', comm_random_circuit_list[0].decompose().count_ops()['cx'], ', after:', opt_random_circuit_list[0].decompose().count_ops()['cx'])\n",
    "print('2Q depth before:', comm_random_circuit_list[0].decompose().depth(lambda x: x[0].num_qubits==2), ', after',  opt_random_circuit_list[0].decompose().depth(lambda x: x[0].num_qubits==2))\n",
    "# lt_random_circuit_list[0].draw(fold=-1)\n",
    "\n",
    "print('')\n",
    "print('Dense circuits')\n",
    "print('# CX before:', comm_dense_circuit_list[0].decompose().count_ops()['cx'], ', after:', opt_dense_circuit_list[0].decompose().count_ops()['cx'])\n",
    "print('2Q depth before:', comm_dense_circuit_list[0].decompose().depth(lambda x: x[0].num_qubits==2), ', after', opt_dense_circuit_list[0].decompose().depth(lambda x: x[0].num_qubits==2))\n",
    "\n",
    "print('')\n",
    "print('Staircase circuits')\n",
    "print('# CX before:', comm_staircase_circuit_list[0].decompose().count_ops()['cx'], ', after:', opt_staircase_circuit_list[0].decompose().count_ops()['cx'])\n",
    "print('2Q depth before:', comm_staircase_circuit_list[0].decompose().depth(lambda x: x[0].num_qubits==2), ', after',  opt_staircase_circuit_list[0].decompose().depth(lambda x: x[0].num_qubits==2))\n"
   ]
  },
  {
   "cell_type": "markdown",
   "metadata": {},
   "source": [
    "### Optimize gates preceding a measurement"
   ]
  },
  {
   "cell_type": "code",
   "execution_count": null,
   "metadata": {},
   "outputs": [],
   "source": [
    "from qiskit.transpiler import PassManager\n",
    "from qiskit.transpiler.passes import OptimizeSwapBeforeMeasure, RemoveDiagonalGatesBeforeMeasure\n",
    "\n",
    "opt_swap_meas = OptimizeSwapBeforeMeasure()\n",
    "opt_diag_meas = RemoveDiagonalGatesBeforeMeasure()\n",
    "\n",
    "pm = PassManager([opt_swap_meas, opt_diag_meas])\n",
    "\n",
    "opt_meas_random_circuit_list = pm.run(opt_random_circuit_list)\n",
    "opt_meas_dense_circuit_list = pm.run(opt_dense_circuit_list)\n",
    "opt_meas_staircase_circuit_list = pm.run(opt_staircase_circuit_list)"
   ]
  },
  {
   "cell_type": "code",
   "execution_count": null,
   "metadata": {},
   "outputs": [],
   "source": [
    "print('Random circuits')\n",
    "print('# CX before:', opt_random_circuit_list[0].decompose().count_ops()['cx'], ', after:', opt_meas_random_circuit_list[0].decompose().count_ops()['cx'])\n",
    "print('2Q depth before:', opt_random_circuit_list[0].decompose().depth(lambda x: x[0].num_qubits==2), ', after',  opt_meas_random_circuit_list[0].decompose().depth(lambda x: x[0].num_qubits==2))\n",
    "\n",
    "print('')\n",
    "print('Dense circuits')\n",
    "print('# CX before:', opt_dense_circuit_list[0].decompose().count_ops()['cx'], ', after:', opt_meas_dense_circuit_list[0].decompose().count_ops()['cx'])\n",
    "print('2Q depth before:', opt_dense_circuit_list[0].decompose().depth(lambda x: x[0].num_qubits==2), ', after', opt_meas_dense_circuit_list[0].decompose().depth(lambda x: x[0].num_qubits==2))\n",
    "\n",
    "print('')\n",
    "print('Staircase circuits')\n",
    "print('# CX before:', opt_staircase_circuit_list[0].decompose().count_ops()['cx'], ', after:', opt_meas_staircase_circuit_list[0].decompose().count_ops()['cx'])\n",
    "print('2Q depth before:', opt_staircase_circuit_list[0].decompose().depth(lambda x: x[0].num_qubits==2), ', after',  opt_meas_staircase_circuit_list[0].decompose().depth(lambda x: x[0].num_qubits==2))\n"
   ]
  },
  {
   "cell_type": "code",
   "execution_count": null,
   "metadata": {},
   "outputs": [],
   "source": [
    "opt_meas_random_circuit_list[0].draw('mpl', idle_wires=False, fold=-1, scale=0.5)"
   ]
  },
  {
   "cell_type": "code",
   "execution_count": null,
   "metadata": {},
   "outputs": [],
   "source": [
    "opt_meas_dense_circuit_list[0].draw('mpl', idle_wires=False, fold=-1, scale=0.5)"
   ]
  },
  {
   "cell_type": "code",
   "execution_count": null,
   "metadata": {},
   "outputs": [],
   "source": [
    "opt_meas_staircase_circuit_list[0].draw('mpl', idle_wires=False, fold=-1, scale=0.5)"
   ]
  },
  {
   "cell_type": "code",
   "execution_count": null,
   "metadata": {},
   "outputs": [],
   "source": [
    "backend.run(opt_meas_random_circuit_list[0])"
   ]
  },
  {
   "cell_type": "markdown",
   "metadata": {},
   "source": [
    "## Use transpile function directly\n",
    "Optimization level 3 implements the following passes:\n",
    "\n",
    "- ContainsInstruction \n",
    "- UnitarySynthesis\n",
    "- HighLevelSynthesis \n",
    "- BasisTranslator from source basis set() to target basis {'rz', 'delay', 'snapshot', 'sx', 'x', 'measure', 'ecr', 'barrier'}.\n",
    "- OptimizeSwapBeforeMeasure \n",
    "- RemoveDiagonalGatesBeforeMeasure \n",
    "- SetLayout \n",
    "- VF2Layout \n",
    "- BarrierBeforeFinalMeasurements \n",
    "- SabreLayout \n",
    "- CheckMap \n",
    "- VF2PostLayout \n",
    "- ApplyLayout \n",
    "- UnitarySynthesis \n",
    "- HighLevelSynthesis \n",
    "- BasisTranslator from source basis {('swap', 2), ('ry', 1), ('cx', 2), ('rz', 1)} to target basis {'rz', 'delay', 'snapshot', 'sx', 'x', 'measure', 'ecr', 'barrier'}.\n",
    "- CheckGateDirection\n",
    "- GateDirection \n",
    "- Depth \n",
    "- Size \n",
    "- MinimumPoint \n",
    "- Collect2qBlocks \n",
    "- ConsolidateBlocks \n",
    "- UnitarySynthesis \n",
    "- Optimize1qGatesDecomposition \n",
    "- CommutationAnalysis \n",
    "- CommutativeCancellation \n",
    "- GatesInBasis \n",
    "- Depth \n",
    "- Size \n",
    "- MinimumPoint \n",
    "- Collect2qBlocks \n",
    "- ConsolidateBlocks \n",
    "- UnitarySynthesis \n",
    "- Optimize1qGatesDecomposition \n",
    "- CommutationAnalysis \n",
    "- CommutativeCancellation \n",
    "- GatesInBasis \n",
    "- Depth \n",
    "- Size \n",
    "- MinimumPoint \n",
    "- Collect2qBlocks \n",
    "- ConsolidateBlocks \n",
    "- UnitarySynthesis \n",
    "- Optimize1qGatesDecomposition \n",
    "- CommutationAnalysis \n",
    "- CommutativeCancellation \n",
    "- GatesInBasis \n",
    "- Depth \n",
    "- Size \n",
    "- MinimumPoint \n",
    "- Collect2qBlocks \n",
    "- ConsolidateBlocks \n",
    "- UnitarySynthesis \n",
    "- Optimize1qGatesDecomposition \n",
    "- CommutationAnalysis \n",
    "- CommutativeCancellation \n",
    "- GatesInBasis \n",
    "- Depth \n",
    "- Size \n",
    "- MinimumPoint \n",
    "- Collect2qBlocks \n",
    "- ConsolidateBlocks \n",
    "- UnitarySynthesis \n",
    "- Optimize1qGatesDecomposition \n",
    "- CommutationAnalysis \n",
    "- CommutativeCancellation \n",
    "- GatesInBasis \n",
    "- Depth \n",
    "- Size \n",
    "- MinimumPoint \n",
    "- ContainsInstruction \n",
    "- InstructionDurationCheck \n",
    "- ValidatePulseGates \n",
    "\n"
   ]
  },
  {
   "cell_type": "code",
   "execution_count": null,
   "metadata": {},
   "outputs": [],
   "source": [
    "from qiskit.compiler.transpiler import transpile\n",
    "\n",
    "random_circuit_list_trans = transpile(random_circuit_list, backend=backend, optimization_level = 3, approximation_degree=0.99)\n",
    "dense_circuit_list_trans = transpile(dense_layered_circuit_list, backend=backend, optimization_level = 3)\n",
    "staircase_circuit_list_trans = transpile(staircase_circuit_list, backend=backend, optimization_level = 3)"
   ]
  },
  {
   "cell_type": "code",
   "execution_count": null,
   "metadata": {},
   "outputs": [],
   "source": [
    "print('Random circuits')\n",
    "print('# CX before:', opt_meas_random_circuit_list[0].decompose().count_ops()['cx'], ', after:', random_circuit_list_trans[0].decompose().count_ops()['cx'])\n",
    "print('2Q depth before:', opt_meas_random_circuit_list[0].decompose().depth(lambda x: x[0].num_qubits==2), ', after',  random_circuit_list_trans[0].decompose().depth(lambda x: x[0].num_qubits==2))\n",
    "\n",
    "print('')\n",
    "print('Dense circuits')\n",
    "print('# CX before:', opt_meas_dense_circuit_list[0].decompose().count_ops()['cx'], ', after:', dense_circuit_list_trans[0].decompose().count_ops()['cx'])\n",
    "print('2Q depth before:', opt_meas_dense_circuit_list[0].decompose().depth(lambda x: x[0].num_qubits==2), ', after', dense_circuit_list_trans[0].decompose().depth(lambda x: x[0].num_qubits==2))\n",
    "\n",
    "print('')\n",
    "print('Staircase circuits')\n",
    "print('# CX before:', opt_meas_staircase_circuit_list[0].decompose().count_ops()['cx'], ', after:', staircase_circuit_list_trans[0].decompose().count_ops()['cx'])\n",
    "print('2Q depth before:', opt_meas_staircase_circuit_list[0].decompose().depth(lambda x: x[0].num_qubits==2), ', after',  staircase_circuit_list_trans[0].decompose().depth(lambda x: x[0].num_qubits==2))\n"
   ]
  },
  {
   "cell_type": "markdown",
   "metadata": {},
   "source": [
    "## Use AI transpiler service"
   ]
  },
  {
   "cell_type": "code",
   "execution_count": null,
   "metadata": {},
   "outputs": [],
   "source": [
    "from qiskit_transpiler_service.transpiler_service import TranspilerService\n"
   ]
  },
  {
   "cell_type": "code",
   "execution_count": null,
   "metadata": {},
   "outputs": [],
   "source": [
    "ai_cloud_transpiler_service = TranspilerService(\n",
    "    backend_name='ibm_sherbrooke',\n",
    "    ai=True,\n",
    "    optimization_level=1,\n",
    ")\n",
    "random_circuit_list_ai_trans = ai_cloud_transpiler_service.run(random_circuit_list)\n",
    "dense_circuit_list_ai_trans = ai_cloud_transpiler_service.run(dense_layered_circuit_list)\n",
    "staircase_circuit_list_ai_trans = ai_cloud_transpiler_service.run(staircase_circuit_list)"
   ]
  },
  {
   "cell_type": "code",
   "execution_count": null,
   "metadata": {},
   "outputs": [],
   "source": [
    "print('Random circuits')\n",
    "print('# CX before:', random_circuit_list_trans[0].decompose().count_ops()['cx'], ', after:', random_circuit_list_ai_trans[0].decompose().count_ops()['cx'])\n",
    "print('2Q depth before:', random_circuit_list_trans[0].decompose().depth(lambda x: x[0].num_qubits==2), ', after',  random_circuit_list_ai_trans[0].decompose().depth(lambda x: x[0].num_qubits==2))\n",
    "\n",
    "print('')\n",
    "print('Dense circuits')\n",
    "print('# CX before:', dense_circuit_list_trans[0].decompose().count_ops()['cx'], ', after:', dense_circuit_list_ai_trans[0].decompose().count_ops()['cx'])\n",
    "print('2Q depth before:', dense_circuit_list_trans[0].decompose().depth(lambda x: x[0].num_qubits==2), ', after', dense_circuit_list_ai_trans[0].decompose().depth(lambda x: x[0].num_qubits==2))\n",
    "\n",
    "print('')\n",
    "print('Staircase circuits')\n",
    "print('# CX before:', staircase_circuit_list_trans[0].decompose().count_ops()['cx'], ', after:', staircase_circuit_list_ai_trans[0].decompose().count_ops()['cx'])\n",
    "print('2Q depth before:', staircase_circuit_list_trans[0].decompose().depth(lambda x: x[0].num_qubits==2), ', after',  staircase_circuit_list_ai_trans[0].decompose().depth(lambda x: x[0].num_qubits==2))\n"
   ]
  },
  {
   "cell_type": "code",
   "execution_count": null,
   "metadata": {},
   "outputs": [],
   "source": []
  },
  {
   "cell_type": "code",
   "execution_count": null,
   "metadata": {},
   "outputs": [],
   "source": []
  }
 ],
 "metadata": {
  "kernelspec": {
   "display_name": "qeet_enablement",
   "language": "python",
   "name": "python3"
  },
  "language_info": {
   "codemirror_mode": {
    "name": "ipython",
    "version": 3
   },
   "file_extension": ".py",
   "mimetype": "text/x-python",
   "name": "python",
   "nbconvert_exporter": "python",
   "pygments_lexer": "ipython3",
   "version": "3.12.2"
  }
 },
 "nbformat": 4,
 "nbformat_minor": 2
}
