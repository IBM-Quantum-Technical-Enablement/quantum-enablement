{
 "cells": [
  {
   "cell_type": "markdown",
   "metadata": {},
   "source": [
    "## Qiskit ADAPT-VQE tutorial"
   ]
  },
  {
   "cell_type": "markdown",
   "metadata": {},
   "source": [
    "### Define the molecule\n",
    "We start by defining the molecule using ``pyscf``. As an example we select the $H_2$ molecule and build it by providing its geometry.\n",
    "This part of the code is based on ``Example_Molecules.ipynb`` jupyter notebook found at https://learning.quantum.ibm.com/course/quantum-chemistry-with-vqe/."
   ]
  },
  {
   "cell_type": "code",
   "execution_count": 1,
   "metadata": {},
   "outputs": [
    {
     "data": {
      "text/plain": [
       "<pyscf.gto.mole.Mole at 0x7f9a984ee890>"
      ]
     },
     "execution_count": 1,
     "metadata": {},
     "output_type": "execute_result"
    }
   ],
   "source": [
    "from pyscf import ao2mo, gto, mcscf, scf\n",
    "\n",
    "distance = 0.735\n",
    "a = distance / 2\n",
    "mol = gto.Mole()\n",
    "mol.build(\n",
    "        verbose=0,\n",
    "        atom=[\n",
    "            [\"H\", (0, 0, -a)],\n",
    "            [\"H\", (0, 0, a)],\n",
    "        ],\n",
    "        basis=\"sto-6g\",\n",
    "        spin=0,\n",
    "        charge=0,\n",
    "        symmetry=\"Dooh\",\n",
    "    )"
   ]
  },
  {
   "cell_type": "code",
   "execution_count": 2,
   "metadata": {},
   "outputs": [
    {
     "name": "stdout",
     "output_type": "stream",
     "text": [
      "Nuclear energy: 0.7199689944489797\n",
      "Electronic energy: -1.8455976628764188\n",
      "Total energy: -1.125628668427439\n",
      "Total energy - nuclear energy: -1.8455976628764188\n"
     ]
    },
    {
     "name": "stderr",
     "output_type": "stream",
     "text": [
      "/opt/anaconda3/envs/quantum/lib/python3.10/site-packages/pyscf/dft/libxc.py:771: UserWarning: Since PySCF-2.3, B3LYP (and B3P86) are changed to the VWN-RPA variant, corresponding to the original definition by Stephens et al. (issue 1480) and the same as the B3LYP functional in Gaussian. To restore the VWN5 definition, you can put the setting \"B3LYP_WITH_VWN5 = True\" in pyscf_conf.py\n",
      "  warnings.warn('Since PySCF-2.3, B3LYP (and B3P86) are changed to the VWN-RPA variant, '\n"
     ]
    }
   ],
   "source": [
    "print(f\"Nuclear energy: {mol.energy_nuc()}\")\n",
    "print(f\"Electronic energy: {mol.energy_elec()[0]}\")\n",
    "print(f\"Total energy: {mol.energy_tot()}\")\n",
    "print(f\"Total energy - nuclear energy: {mol.energy_tot() - mol.energy_nuc()}\")"
   ]
  },
  {
   "cell_type": "code",
   "execution_count": 3,
   "metadata": {},
   "outputs": [
    {
     "name": "stdout",
     "output_type": "stream",
     "text": [
      "range(0, 2)\n"
     ]
    }
   ],
   "source": [
    "active_space = range(mol.nelectron // 2 - 1, mol.nelectron // 2 + 1)\n",
    "print(active_space)"
   ]
  },
  {
   "cell_type": "markdown",
   "metadata": {},
   "source": [
    "### Generate the fermionic Hamiltonian\n",
    "We generate the fermionic Hamiltonian consisting of creation and annihilation operators. Single-electron (h1e) and double-electron (h2e) operators are extracted below."
   ]
  },
  {
   "cell_type": "code",
   "execution_count": 4,
   "metadata": {},
   "outputs": [],
   "source": [
    "mf = scf.RHF(mol)\n",
    "E1 = mf.kernel()\n",
    "mx = mcscf.CASCI(mf, ncas=2, nelecas=(1, 1))\n",
    "mo = mx.sort_mo(active_space, base=0)\n",
    "E2 = mx.kernel(mo)[:2]"
   ]
  },
  {
   "cell_type": "code",
   "execution_count": 5,
   "metadata": {},
   "outputs": [],
   "source": [
    "h1e, ecore = mx.get_h1eff()\n",
    "h2e = ao2mo.restore(1, mx.get_h2eff(), mx.ncas)"
   ]
  },
  {
   "cell_type": "markdown",
   "metadata": {},
   "source": [
    "### Map the fermionic Hamiltonian to a qubit operator\n",
    "Now, we map the fermionic Hamiltonian to a qubit Hamiltonian using the Jordan-Wigner transformation. Here, we implement the Jordan-Wigner mapper directly using only ``PySCF``, ``numpy``, and ``Qiskit``, as implemented in https://learning.quantum.ibm.com/course/quantum-chemistry-with-vqe/the-hamiltonian."
   ]
  },
  {
   "cell_type": "code",
   "execution_count": 6,
   "metadata": {},
   "outputs": [],
   "source": [
    "#------------Loading packages and defining necessary functions for mapping the fermionic Hamiltonian to one usable on IBM Quantum Systems---------------------\n",
    "\n",
    "import numpy as np\n",
    "from qiskit.quantum_info import SparsePauliOp\n",
    "\n",
    "\n",
    "def cholesky(V, eps):\n",
    "    # see https://arxiv.org/pdf/1711.02242.pdf section B2\n",
    "    # see https://arxiv.org/abs/1808.02625\n",
    "    # see https://arxiv.org/abs/2104.08957\n",
    "    no = V.shape[0]\n",
    "    chmax, ng = 20 * no, 0\n",
    "    W = V.reshape(no**2, no**2)\n",
    "    L = np.zeros((no**2, chmax))\n",
    "    Dmax = np.diagonal(W).copy()\n",
    "    nu_max = np.argmax(Dmax)\n",
    "    vmax = Dmax[nu_max]\n",
    "    while vmax > eps:\n",
    "        L[:, ng] = W[:, nu_max]\n",
    "        if ng > 0:\n",
    "            L[:, ng] -= np.dot(L[:, 0:ng], (L.T)[0:ng, nu_max])\n",
    "        L[:, ng] /= np.sqrt(vmax)\n",
    "        Dmax[: no**2] -= L[: no**2, ng] ** 2\n",
    "        ng += 1\n",
    "        nu_max = np.argmax(Dmax)\n",
    "        vmax = Dmax[nu_max]\n",
    "    L = L[:, :ng].reshape((no, no, ng))\n",
    "    print(\n",
    "        \"accuracy of Cholesky decomposition \",\n",
    "        np.abs(np.einsum(\"prg,qsg->prqs\", L, L) - V).max(),\n",
    "    )\n",
    "    return L, ng\n",
    "\n",
    "\n",
    "def identity(n):\n",
    "    return SparsePauliOp.from_list([(\"I\" * n, 1)])\n",
    "\n",
    "\n",
    "def creators_destructors(n, mapping=\"jordan_wigner\"):\n",
    "    c_list = []\n",
    "    if mapping == \"jordan_wigner\":\n",
    "        for p in range(n):\n",
    "            if p == 0:\n",
    "                l, r = \"I\" * (n - 1), \"\"\n",
    "            elif p == n - 1:\n",
    "                l, r = \"\", \"Z\" * (n - 1)\n",
    "            else:\n",
    "                l, r = \"I\" * (n - p - 1), \"Z\" * p\n",
    "            cp = SparsePauliOp.from_list([(l + \"X\" + r, 0.5), (l + \"Y\" + r, 0.5j)])\n",
    "            c_list.append(cp)\n",
    "    else:\n",
    "        raise ValueError(\"Unsupported mapping.\")\n",
    "    d_list = [cp.adjoint() for cp in c_list]\n",
    "    return c_list, d_list\n",
    "\n",
    "\n",
    "def build_hamiltonian(ecore: float, h1e: np.ndarray, h2e: np.ndarray) -> SparsePauliOp:\n",
    "    ncas, _ = h1e.shape\n",
    "\n",
    "    C, D = creators_destructors(2 * ncas, mapping=\"jordan_wigner\")\n",
    "    Exc = []\n",
    "    for p in range(ncas):\n",
    "        Excp = [C[p] @ D[p] + C[ncas + p] @ D[ncas + p]]\n",
    "        for r in range(p + 1, ncas):\n",
    "            Excp.append(\n",
    "                C[p] @ D[r]\n",
    "                + C[ncas + p] @ D[ncas + r]\n",
    "                + C[r] @ D[p]\n",
    "                + C[ncas + r] @ D[ncas + p]\n",
    "            )\n",
    "        Exc.append(Excp)\n",
    "\n",
    "    # low-rank decomposition of the Hamiltonian\n",
    "    Lop, ng = cholesky(h2e, 1e-6)\n",
    "    t1e = h1e - 0.5 * np.einsum(\"pxxr->pr\", h2e)\n",
    "\n",
    "    H = ecore * identity(2 * ncas)\n",
    "    # one-body term\n",
    "    for p in range(ncas):\n",
    "        for r in range(p, ncas):\n",
    "            H += t1e[p, r] * Exc[p][r - p]\n",
    "    # two-body term\n",
    "    for g in range(ng):\n",
    "        Lg = 0 * identity(2 * ncas)\n",
    "        for p in range(ncas):\n",
    "            for r in range(p, ncas):\n",
    "                Lg += Lop[p, r, g] * Exc[p][r - p]\n",
    "        H += 0.5 * Lg @ Lg\n",
    "\n",
    "    return H.chop().simplify()"
   ]
  },
  {
   "cell_type": "code",
   "execution_count": 7,
   "metadata": {},
   "outputs": [
    {
     "name": "stdout",
     "output_type": "stream",
     "text": [
      "accuracy of Cholesky decomposition  6.655392125243921e-17\n",
      "SparsePauliOp(['IIII', 'IIIZ', 'IZII', 'IIZI', 'ZIII', 'IZIZ', 'IIZZ', 'ZIIZ', 'IZZI', 'ZZII', 'ZIZI', 'YYYY', 'XXYY', 'YYXX', 'XXXX'],\n",
      "              coeffs=[-0.09820182+0.j, -0.1740751 +0.j, -0.1740751 +0.j,  0.2242933 +0.j,\n",
      "  0.2242933 +0.j,  0.16891402+0.j,  0.1210099 +0.j,  0.16631441+0.j,\n",
      "  0.16631441+0.j,  0.1210099 +0.j,  0.17504456+0.j,  0.04530451+0.j,\n",
      "  0.04530451+0.j,  0.04530451+0.j,  0.04530451+0.j])\n"
     ]
    }
   ],
   "source": [
    "H = build_hamiltonian(ecore, h1e, h2e)\n",
    "print(H)"
   ]
  },
  {
   "cell_type": "markdown",
   "metadata": {},
   "source": [
    "### Remark\n",
    "Compare with the exact ground state energy below. There is a mismatch with this and the pyscf computed energies."
   ]
  },
  {
   "cell_type": "code",
   "execution_count": 9,
   "metadata": {},
   "outputs": [
    {
     "name": "stdout",
     "output_type": "stream",
     "text": [
      "-1.1459778538543868\n"
     ]
    }
   ],
   "source": [
    "from qiskit_algorithms import NumPyMinimumEigensolver\n",
    "\n",
    "exact_solver = NumPyMinimumEigensolver()\n",
    "exact_result = exact_solver.compute_minimum_eigenvalue(H)\n",
    "print(exact_result.eigenvalue)"
   ]
  },
  {
   "cell_type": "markdown",
   "metadata": {},
   "source": [
    "### Outline of the ADAPT-VQE algorithm\n",
    "https://arxiv.org/abs/1812.11173 \n",
    "\n",
    "1. Initiate the quantum computer in the Hartree-Fock state. In Jordan-Wigner transformation, this has a bitstring representation implemented with $X$-gates.\n",
    "\n",
    "2. Define the pool of operators as the set of excitation operators generated by the UCC ansatz. Note that under the Jordan-Wigner transformation, these operators are anti-Hermitian. \n",
    "\n",
    "3. Define the following conditions for termination: CONVERGED, CYCLICITY, MAXIMUM.\n",
    "    - CONVERGED: Gradient of all operators from the pool are smaller than some threshold.\n",
    "    - CYCLICITY: Aborted due to a cyclic selection of evolution operators.\n",
    "    - MAXIMUM: Maximum number of iterations reached.\n",
    "    \n",
    "4. while not TERMINATE (CONVERGED or CYCLICITY or MAXIMUM):\n",
    "    - Compute the gradient of each operator from the pool and select the operator with the maximum gradient\n",
    "    - Append the ansatz with $\\textrm{exp}(j*\\theta_i*\\textrm{operator}_i)$\n",
    "    - Run VQE over all parameters $\\theta_i$"
   ]
  },
  {
   "cell_type": "markdown",
   "metadata": {},
   "source": [
    "### Initial state\n",
    "We initate the quantum computer to the Hartree-Fock state."
   ]
  },
  {
   "cell_type": "code",
   "execution_count": 11,
   "metadata": {},
   "outputs": [],
   "source": [
    "def hartree_fock_bitstring(num_spatial_orbitals: int, num_particles: tuple[int, int]) -> list[bool]:\n",
    "    \"\"\"Compute the bitstring representing the Hartree-Fock state for the specified system.\n",
    "\n",
    "    Args:\n",
    "        num_spatial_orbitals: The number of spatial orbitals, has a min. value of 1.\n",
    "        num_particles: The number of particles as a tuple storing the number of alpha- and beta-spin\n",
    "                       electrons in the first and second number, respectively.\n",
    "\n",
    "    Returns:\n",
    "        The bitstring representing the state of the Hartree-Fock state as array of bools.\n",
    "\n",
    "    Raises:\n",
    "        ValueError: If the total number of particles is larger than the number of orbitals.\n",
    "    \"\"\"\n",
    "    # validate the input\n",
    "    assert num_spatial_orbitals >= 1\n",
    "    num_alpha, num_beta = num_particles\n",
    "\n",
    "    if any(n > num_spatial_orbitals for n in num_particles):\n",
    "        raise ValueError(\"# of particles must be less than or equal to # of orbitals.\")\n",
    "\n",
    "    half_orbitals = num_spatial_orbitals\n",
    "    bitstr = np.zeros(2 * num_spatial_orbitals, bool)\n",
    "    bitstr[:num_alpha] = True\n",
    "    bitstr[half_orbitals : (half_orbitals + num_beta)] = True\n",
    "\n",
    "    return bitstr.tolist()"
   ]
  },
  {
   "cell_type": "markdown",
   "metadata": {},
   "source": [
    "We build the circuit preparing the Hartree-Fock state in Jordan-Wigner transform."
   ]
  },
  {
   "cell_type": "code",
   "execution_count": 12,
   "metadata": {},
   "outputs": [
    {
     "name": "stderr",
     "output_type": "stream",
     "text": [
      "/opt/anaconda3/envs/quantum/lib/python3.10/site-packages/qiskit/visualization/circuit/matplotlib.py:266: FutureWarning: The default matplotlib drawer scheme will be changed to \"iqp\" in a following release. To silence this warning, specify the current default explicitly as style=\"clifford\", or the new default as style=\"iqp\".\n",
      "  self._style, def_font_ratio = load_style(self._style)\n"
     ]
    },
    {
     "data": {
      "image/png": "[encoded data removed]",
      "text/plain": [
       "<Figure size 203.885x367.889 with 1 Axes>"
      ]
     },
     "execution_count": 12,
     "metadata": {},
     "output_type": "execute_result"
    }
   ],
   "source": [
    "from qiskit import QuantumCircuit\n",
    "\n",
    "num_spatial_orbitals = mx.ncas\n",
    "num_particles = mol.nelec\n",
    "\n",
    "# Get the Hartree-Fock initial state in bitsting representation\n",
    "hf_bitstring = hartree_fock_bitstring(num_spatial_orbitals, num_particles)\n",
    "\n",
    "# Get the corresponding circuit in Jordan-Wigner transform\n",
    "hf_circuit = QuantumCircuit(len(hf_bitstring))\n",
    "for i, hf_bit in enumerate(hf_bitstring):\n",
    "    if hf_bit:\n",
    "        hf_circuit.x(i)\n",
    "\n",
    "hf_circuit.draw(output = 'mpl')"
   ]
  },
  {
   "cell_type": "markdown",
   "metadata": {},
   "source": [
    "### Operator pool\n",
    "We define the set of operators as the single and double excitation operators generated by the UCC ansatz. These operators are also represented under the Jordan-Wigner transform. Note that this results in anti-Hermitian excitation operators, but we omit the complex phase 1j for simplicity. Therefore, they appear Hermitian."
   ]
  },
  {
   "cell_type": "code",
   "execution_count": 13,
   "metadata": {},
   "outputs": [
    {
     "name": "stdout",
     "output_type": "stream",
     "text": [
      "[SparsePauliOp(['IIXY', 'IIYX'],\n",
      "              coeffs=[ 0.5+0.j, -0.5+0.j]), SparsePauliOp(['XYII', 'YXII'],\n",
      "              coeffs=[ 0.5+0.j, -0.5+0.j]), SparsePauliOp(['YYXY', 'XYYY', 'XXXY', 'YXYY', 'XYXX', 'YYYX', 'YXXX', 'XXYX'],\n",
      "              coeffs=[-0.125+0.j, -0.125+0.j, -0.125+0.j,  0.125+0.j, -0.125+0.j,  0.125+0.j,\n",
      "  0.125+0.j,  0.125+0.j])]\n"
     ]
    }
   ],
   "source": [
    "from qiskit_nature.second_q.circuit.library.ansatzes import UCC\n",
    "from qiskit_nature.second_q.mappers import JordanWignerMapper\n",
    "\n",
    "qubit_mapper = JordanWignerMapper()\n",
    "\n",
    "# Define the pool of operators as those generated by the UCC ansatz\n",
    "ucc = UCC(num_spatial_orbitals, num_particles, 'sd', qubit_mapper)\n",
    "excitation_pool = ucc.operators  # TODO\n",
    "print(excitation_pool)"
   ]
  },
  {
   "cell_type": "markdown",
   "metadata": {},
   "source": [
    "### Gradient of the excitation operators\n",
    "We compute the gradient of all excitation operators in the pool given the current optimized ansatz. Note that the following computation requires the operators from the pool to be anti-Hermitian, and should be replaced with an appropriate alternative method if this is not the case."
   ]
  },
  {
   "cell_type": "code",
   "execution_count": 16,
   "metadata": {},
   "outputs": [],
   "source": [
    "def compute_gradients(ansatz, hamiltonian, excitation_pool, estimator, params=None):\n",
    "    \"\"\"\n",
    "    Computes the gradients for all available excitation operators.\n",
    "    Args:\n",
    "        ansatz: ansatz built so far.\n",
    "        hamiltonian: Hamiltonian after qubit mapping in SparsePauliOp format.\n",
    "        excitation_pool: anti-Hermitian operators whose gradients need to be computed.\n",
    "        estimator: an instance of the Qiskit Estimator primitive\n",
    "        params: parameters to be assigned to the ansatz, if any.\n",
    "    Returns:\n",
    "        List of computed gradients in the same order as the excitation operators in the excitation pool.\n",
    "    \"\"\"\n",
    "    # The excitations operators are applied later as exp(i*theta*excitation).\n",
    "    # For this commutator, we need to explicitly pull in the imaginary phase.\n",
    "    if params is not None:\n",
    "        ansatz_opt = ansatz.assign_parameters(params)\n",
    "    else:\n",
    "        ansatz_opt = ansatz\n",
    "    # We recall that 1j was omitted earlier for the anti-Hermitian operators.\n",
    "    commutators = [1j * (hamiltonian @ exc - exc @ hamiltonian) for exc in excitation_pool]\n",
    "    ansatz_list = [ansatz_opt for _ in range(len(commutators))]\n",
    "    gradients = estimator.run(ansatz_list, commutators).result().values\n",
    "\n",
    "    return gradients"
   ]
  },
  {
   "cell_type": "markdown",
   "metadata": {},
   "source": [
    "Let's grow the ansatz step by step by before putting the code into a loop. First, our ansatz is simply the Hartree-Fock initial state. Now we will compute the gradient of each operator in the excitation pool and select the operator with the largest gradient to append to our current ansatz with a corresponding variational parameter. For now, we use an exact simulator by defining the options of the Qiskit Estimator primitive."
   ]
  },
  {
   "cell_type": "code",
   "execution_count": 19,
   "metadata": {},
   "outputs": [
    {
     "name": "stdout",
     "output_type": "stream",
     "text": [
      "[ 0.          0.         -0.36243609]\n",
      "Found operator SparsePauliOp(['YYXY', 'XYYY', 'XXXY', 'YXYY', 'XYXX', 'YYYX', 'YXXX', 'XXYX'],\n",
      "              coeffs=[-0.125+0.j, -0.125+0.j, -0.125+0.j,  0.125+0.j, -0.125+0.j,  0.125+0.j,\n",
      "  0.125+0.j,  0.125+0.j]) with maximum gradient 0.362436085015165 at index 2.\n"
     ]
    }
   ],
   "source": [
    "import numpy as np\n",
    "from qiskit.primitives import Estimator\n",
    "\n",
    "ansatz = hf_circuit\n",
    "hamiltonian = H\n",
    "estimator = Estimator(options={\"shots\": None, \"approximation\": True})\n",
    "\n",
    "gradients = compute_gradients(ansatz, hamiltonian, excitation_pool, estimator)\n",
    "print(gradients)\n",
    "\n",
    "max_gradient = np.max(np.abs(gradients))\n",
    "max_index = np.argmax(np.abs(gradients))\n",
    "max_operator = excitation_pool[max_index]\n",
    "print(f\"Found operator {max_operator} with maximum gradient {max_gradient} at index {max_index}.\")"
   ]
  },
  {
   "cell_type": "markdown",
   "metadata": {},
   "source": [
    "### Expand the Ansatz\n",
    "We found that the third operator in the pool, which is the double-excitation operator in this case, has the largest gradient magnitude. Therefore, we will now append it to the ansatz as $\\textrm{exp}(i*\\theta_0*\\textrm{max\\_operator})$, where $\\theta_0$ is the corresponding time evolution parameter. This will be our variational parameter to be optimized in the VQE step. Now we can easily time-evolve the selected operator by using the ``EvolvedOperatorAnsatz`` from Qiskit. Note that the operator to be complex exponentiated and evolved consists of summed Pauli operators. Therefore, the evolution parameter of this ansatz class can be specified to run with different methods such as ``LieTrotter``, ``SuzukiTrotter``, or exactly with ``MatrixExponential`` for small problems."
   ]
  },
  {
   "cell_type": "code",
   "execution_count": 20,
   "metadata": {},
   "outputs": [
    {
     "name": "stderr",
     "output_type": "stream",
     "text": [
      "/opt/anaconda3/envs/quantum/lib/python3.10/site-packages/qiskit/visualization/circuit/matplotlib.py:266: FutureWarning: The default matplotlib drawer scheme will be changed to \"iqp\" in a following release. To silence this warning, specify the current default explicitly as style=\"clifford\", or the new default as style=\"iqp\".\n",
      "  self._style, def_font_ratio = load_style(self._style)\n"
     ]
    },
    {
     "data": {
      "image/png": "[encoded data removed]",
      "text/plain": [
       "<Figure size 1207.22x367.889 with 1 Axes>"
      ]
     },
     "execution_count": 20,
     "metadata": {},
     "output_type": "execute_result"
    }
   ],
   "source": [
    "from qiskit.circuit.library import EvolvedOperatorAnsatz\n",
    "from qiskit.synthesis import MatrixExponential, SuzukiTrotter, LieTrotter\n",
    "\n",
    "ansatz = EvolvedOperatorAnsatz(operators=max_operator, evolution=MatrixExponential(), parameter_prefix='theta', initial_state=hf_circuit)\n",
    "ansatz.decompose().draw(output = 'mpl')"
   ]
  },
  {
   "cell_type": "markdown",
   "metadata": {},
   "source": [
    "Note that adding an operator to the ansatz does not drain the pool, i.e. the operator we added can again be selected in another iteration."
   ]
  },
  {
   "cell_type": "markdown",
   "metadata": {},
   "source": [
    "### Run VQE\n",
    "We are now ready to run a full VQE on the ansatz that we have so far. We define the cost function as the expectation of the Hamiltonian as usual, and set up the Estimator primitive and randomly initiate the parameters to be optimized."
   ]
  },
  {
   "cell_type": "code",
   "execution_count": 21,
   "metadata": {},
   "outputs": [],
   "source": [
    "def cost_func(params, ansatz, H, estimator):\n",
    "    energy = estimator.run(ansatz, H, parameter_values=params).result().values[0]\n",
    "    return energy"
   ]
  },
  {
   "cell_type": "code",
   "execution_count": 22,
   "metadata": {},
   "outputs": [],
   "source": [
    "from qiskit.primitives import Estimator\n",
    "\n",
    "estimator = Estimator(options={\"shots\": None, \"approximation\": True})"
   ]
  },
  {
   "cell_type": "code",
   "execution_count": 24,
   "metadata": {},
   "outputs": [
    {
     "name": "stdout",
     "output_type": "stream",
     "text": [
      "[3.44440489]\n"
     ]
    }
   ],
   "source": [
    "# Random start for the ansatz parameters\n",
    "x0 = 2 * np.pi * np.random.random(ansatz.num_parameters)\n",
    "print(x0)"
   ]
  },
  {
   "cell_type": "markdown",
   "metadata": {},
   "source": [
    "Now we classically optimize the $\\theta_0$ parameter of our ansatz using the ``minimize`` function from ``scipy``."
   ]
  },
  {
   "cell_type": "code",
   "execution_count": 28,
   "metadata": {},
   "outputs": [
    {
     "name": "stdout",
     "output_type": "stream",
     "text": [
      " message: Optimization terminated successfully.\n",
      " success: True\n",
      "  status: 1\n",
      "     fun: -1.1459778287234819\n",
      "       x: [ 4.824e+00]\n",
      "    nfev: 22\n",
      "   maxcv: 0.0\n",
      "   Normal return from subroutine COBYLA\n",
      "\n",
      "Found ground energy: -1.1459778287234819, exact energy: -1.1459778538543868, difference: 2.513090491262915e-08\n",
      "\n",
      "   NFVALS =   22   F =-1.145978E+00    MAXCV = 0.000000E+00\n",
      "   X = 4.824088E+00\n"
     ]
    }
   ],
   "source": [
    "from scipy.optimize import minimize\n",
    "\n",
    "res = minimize(cost_func, x0, args=(ansatz, H, estimator), method=\"cobyla\", options={'maxiter': 50, 'disp': True})\n",
    "print(res)\n",
    "\n",
    "# Note this returns the total energy, and we are often interested in the electronic energy\n",
    "ground_energy = getattr(res, 'fun')\n",
    "print(f\"Found ground energy: {ground_energy}, exact energy: {exact_result.eigenvalue}, difference: {ground_energy - exact_result.eigenvalue}\")"
   ]
  },
  {
   "cell_type": "markdown",
   "metadata": {},
   "source": [
    "NOTE: The ground state energy went below the exact value computed by ``pyscf``. This numerical error is due to the approximation error in the simulation of the EvolvedOperatorAnsatz evolution (LieTrotter in this case)."
   ]
  },
  {
   "cell_type": "code",
   "execution_count": 29,
   "metadata": {},
   "outputs": [
    {
     "name": "stdout",
     "output_type": "stream",
     "text": [
      "[4.82408771]\n"
     ]
    }
   ],
   "source": [
    "# Optimal parameters so far\n",
    "x_opt =  getattr(res, 'x')\n",
    "print(x_opt)"
   ]
  },
  {
   "cell_type": "markdown",
   "metadata": {},
   "source": [
    "### Another iteration of the algorithm\n",
    "We now compute the gradients again to see if we need another iteration."
   ]
  },
  {
   "cell_type": "code",
   "execution_count": 30,
   "metadata": {},
   "outputs": [
    {
     "name": "stdout",
     "output_type": "stream",
     "text": [
      "[0.         0.         0.00040531]\n",
      "Found maximum gradient 0.00040530591672278266 at index 2\n",
      "Maximum gradient is below the threshold: True\n"
     ]
    }
   ],
   "source": [
    "gradient_threshold = 1e-3\n",
    "\n",
    "gradients = compute_gradients(ansatz, hamiltonian, excitation_pool, estimator, params=x_opt)\n",
    "print(gradients)\n",
    "\n",
    "max_gradient = np.max(np.abs(gradients))\n",
    "max_index = np.argmax(np.abs(gradients))\n",
    "\n",
    "print(f\"Found maximum gradient {max_gradient} at index {max_index}\")\n",
    "print(f\"Maximum gradient is below the threshold: {max_gradient < gradient_threshold}\")"
   ]
  },
  {
   "cell_type": "markdown",
   "metadata": {},
   "source": [
    "Since the maximum gradient is below the threshold, we do not append another operator to the ansatz, and the algorithm terminates."
   ]
  },
  {
   "cell_type": "markdown",
   "metadata": {},
   "source": [
    "### Putting it all together\n",
    "Now we automate the algorithm in a single loop."
   ]
  },
  {
   "cell_type": "code",
   "execution_count": 34,
   "metadata": {},
   "outputs": [
    {
     "name": "stdout",
     "output_type": "stream",
     "text": [
      "\n",
      "   Normal return from subroutine COBYLA\n",
      "\n",
      "   NFVALS =   24   F =-1.145978E+00    MAXCV = 0.000000E+00\n",
      "   X = 4.824100E+00\n",
      "Found ground energy: -1.14597783349519, exact energy: -1.1459778538543868, difference: 2.03591967729011e-08\n"
     ]
    }
   ],
   "source": [
    "# Define the conditions for termination\n",
    "gradient_threshold = 1e-3\n",
    "max_iter = 10\n",
    "terminate = False\n",
    "\n",
    "# Initiate the problem\n",
    "ansatz = hf_circuit\n",
    "hamiltonian = H\n",
    "excitation_pool = ucc.operators  # TODO\n",
    "estimator = Estimator(options={\"shots\": None, \"approximation\": True})\n",
    "params = None\n",
    "\n",
    "iter = 0\n",
    "operator_list = []\n",
    "while not terminate:\n",
    "    gradients = compute_gradients(ansatz, hamiltonian, excitation_pool, estimator, params)\n",
    "    max_gradient = np.max(np.abs(gradients))\n",
    "    # Check convergence\n",
    "    if max_gradient > gradient_threshold:\n",
    "        # Find the operator with the largest gradient\n",
    "        max_index = np.argmax(np.abs(gradients))\n",
    "        max_operator = excitation_pool[max_index]\n",
    "        # Grow the ansatz\n",
    "        operator_list.append(max_operator)\n",
    "        ansatz = EvolvedOperatorAnsatz(operators=operator_list, evolution=LieTrotter(), parameter_prefix='theta', initial_state=hf_circuit) \n",
    "        # Run VQE on the current ansatz\n",
    "        x0 = 2 * np.pi * np.random.random(ansatz.num_parameters)\n",
    "        res = minimize(cost_func, x0, args=(ansatz, H, estimator), method=\"cobyla\", options={'maxiter': 50, 'disp': True})\n",
    "        x_opt =  getattr(res, 'x')\n",
    "        params = x_opt\n",
    "        # Terminate if maximum number of iterations reached\n",
    "        iter += 1\n",
    "        if iter >= max_iter:\n",
    "            terminate = True\n",
    "    # Terminate if converged\n",
    "    else:\n",
    "        terminate = True\n",
    "    \n",
    "# Note this returns the total energy, and we are often interested in the electronic energy\n",
    "ground_energy = getattr(res, 'fun')\n",
    "print(f\"Found ground energy: {ground_energy}, exact energy: {exact_result.eigenvalue}, difference: {ground_energy - exact_result.eigenvalue}\")"
   ]
  }
 ],
 "metadata": {
  "kernelspec": {
   "display_name": "quantum",
   "language": "python",
   "name": "python3"
  },
  "language_info": {
   "codemirror_mode": {
    "name": "ipython",
    "version": 3
   },
   "file_extension": ".py",
   "mimetype": "text/x-python",
   "name": "python",
   "nbconvert_exporter": "python",
   "pygments_lexer": "ipython3",
   "version": "3.10.13"
  }
 },
 "nbformat": 4,
 "nbformat_minor": 2
}
