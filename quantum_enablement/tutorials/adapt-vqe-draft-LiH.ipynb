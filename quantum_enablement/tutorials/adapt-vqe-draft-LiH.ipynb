{
 "cells": [
  {
   "cell_type": "markdown",
   "metadata": {},
   "source": [
    "## Qiskit ADAPT-VQE tutorial"
   ]
  },
  {
   "cell_type": "markdown",
   "metadata": {},
   "source": [
    "### Define the molecule\n",
    "We start by defining the molecule using ``pyscf``. As an example we select the LiH molecule and build it by providing its geometry.\n",
    "This part of the code is based on ``Example_Molecules.ipynb`` jupyter notebook found at https://learning.quantum.ibm.com/course/quantum-chemistry-with-vqe/."
   ]
  },
  {
   "cell_type": "code",
   "execution_count": 2,
   "metadata": {},
   "outputs": [],
   "source": [
    "from pyscf import ao2mo, gto, mcscf, scf\n",
    "\n",
    "# LiH\n",
    "distance = 0.735\n",
    "mol = gto.Mole()\n",
    "mol.build(\n",
    "    verbose=0,\n",
    "    atom=[[\"Li\", (0, 0, 0)], [\"H\", (0, 0, distance)]],\n",
    "    basis=\"sto-6g\",\n",
    "    spin=0,\n",
    "    charge=0,\n",
    "    symmetry=\"Coov\",\n",
    ")\n",
    "cas_space_symmetry = {\"A1\": 3, \"E1x\": 1, \"E1y\": 1}"
   ]
  },
  {
   "cell_type": "code",
   "execution_count": 3,
   "metadata": {},
   "outputs": [
    {
     "name": "stdout",
     "output_type": "stream",
     "text": [
      "Nuclear energy: 2.159906983346939\n",
      "Electronic energy: -9.788591664808054\n"
     ]
    },
    {
     "name": "stderr",
     "output_type": "stream",
     "text": [
      "/opt/anaconda3/envs/quantum/lib/python3.10/site-packages/pyscf/dft/libxc.py:771: UserWarning: Since PySCF-2.3, B3LYP (and B3P86) are changed to the VWN-RPA variant, corresponding to the original definition by Stephens et al. (issue 1480) and the same as the B3LYP functional in Gaussian. To restore the VWN5 definition, you can put the setting \"B3LYP_WITH_VWN5 = True\" in pyscf_conf.py\n",
      "  warnings.warn('Since PySCF-2.3, B3LYP (and B3P86) are changed to the VWN-RPA variant, '\n"
     ]
    },
    {
     "name": "stdout",
     "output_type": "stream",
     "text": [
      "Total energy: -7.628684681461115\n",
      "Total energy - nuclear energy: -9.788591664808054\n"
     ]
    }
   ],
   "source": [
    "print(f\"Nuclear energy: {mol.energy_nuc()}\")\n",
    "print(f\"Electronic energy: {mol.energy_elec()[0]}\")\n",
    "print(f\"Total energy: {mol.energy_tot()}\")\n",
    "print(f\"Total energy - nuclear energy: {mol.energy_tot() - mol.energy_nuc()}\")"
   ]
  },
  {
   "cell_type": "markdown",
   "metadata": {},
   "source": [
    "### Generate the fermionic Hamiltonian\n",
    "We generate the fermionic Hamiltonian consisting of creation and annihilation operators. Single-electron (h1e) and double-electron (h2e) operators are extracted below."
   ]
  },
  {
   "cell_type": "code",
   "execution_count": 4,
   "metadata": {},
   "outputs": [],
   "source": [
    "mf = scf.RHF(mol)\n",
    "E1 = mf.kernel()\n",
    "mx = mcscf.CASCI(mf, ncas=5, nelecas=(1, 1))\n",
    "mo = mcscf.sort_mo_by_irrep(mx, mf.mo_coeff, cas_space_symmetry)\n",
    "E2 = mx.kernel(mo)[:2]"
   ]
  },
  {
   "cell_type": "code",
   "execution_count": 5,
   "metadata": {},
   "outputs": [],
   "source": [
    "h1e, ecore = mx.get_h1eff()\n",
    "h2e = ao2mo.restore(1, mx.get_h2eff(), mx.ncas)"
   ]
  },
  {
   "cell_type": "markdown",
   "metadata": {},
   "source": [
    "### Map the fermionic Hamiltonian to a qubit operator\n",
    "Now, we map the fermionic Hamiltonian to a qubit Hamiltonian using the Jordan-Wigner transformation. Here, we implement the Jordan-Wigner mapper directly using only ``PySCF``, ``numpy``, and ``Qiskit``, as implemented in https://learning.quantum.ibm.com/course/quantum-chemistry-with-vqe/the-hamiltonian."
   ]
  },
  {
   "cell_type": "code",
   "execution_count": 6,
   "metadata": {},
   "outputs": [],
   "source": [
    "#------------Loading packages and defining necessary functions for mapping the fermionic Hamiltonian to one usable on IBM Quantum Systems---------------------\n",
    "\n",
    "import numpy as np\n",
    "from qiskit.quantum_info import SparsePauliOp\n",
    "\n",
    "\n",
    "def cholesky(V, eps):\n",
    "    # see https://arxiv.org/pdf/1711.02242.pdf section B2\n",
    "    # see https://arxiv.org/abs/1808.02625\n",
    "    # see https://arxiv.org/abs/2104.08957\n",
    "    no = V.shape[0]\n",
    "    chmax, ng = 20 * no, 0\n",
    "    W = V.reshape(no**2, no**2)\n",
    "    L = np.zeros((no**2, chmax))\n",
    "    Dmax = np.diagonal(W).copy()\n",
    "    nu_max = np.argmax(Dmax)\n",
    "    vmax = Dmax[nu_max]\n",
    "    while vmax > eps:\n",
    "        L[:, ng] = W[:, nu_max]\n",
    "        if ng > 0:\n",
    "            L[:, ng] -= np.dot(L[:, 0:ng], (L.T)[0:ng, nu_max])\n",
    "        L[:, ng] /= np.sqrt(vmax)\n",
    "        Dmax[: no**2] -= L[: no**2, ng] ** 2\n",
    "        ng += 1\n",
    "        nu_max = np.argmax(Dmax)\n",
    "        vmax = Dmax[nu_max]\n",
    "    L = L[:, :ng].reshape((no, no, ng))\n",
    "    print(\n",
    "        \"accuracy of Cholesky decomposition \",\n",
    "        np.abs(np.einsum(\"prg,qsg->prqs\", L, L) - V).max(),\n",
    "    )\n",
    "    return L, ng\n",
    "\n",
    "\n",
    "def identity(n):\n",
    "    return SparsePauliOp.from_list([(\"I\" * n, 1)])\n",
    "\n",
    "\n",
    "def creators_destructors(n, mapping=\"jordan_wigner\"):\n",
    "    c_list = []\n",
    "    if mapping == \"jordan_wigner\":\n",
    "        for p in range(n):\n",
    "            if p == 0:\n",
    "                l, r = \"I\" * (n - 1), \"\"\n",
    "            elif p == n - 1:\n",
    "                l, r = \"\", \"Z\" * (n - 1)\n",
    "            else:\n",
    "                l, r = \"I\" * (n - p - 1), \"Z\" * p\n",
    "            cp = SparsePauliOp.from_list([(l + \"X\" + r, 0.5), (l + \"Y\" + r, 0.5j)])\n",
    "            c_list.append(cp)\n",
    "    else:\n",
    "        raise ValueError(\"Unsupported mapping.\")\n",
    "    d_list = [cp.adjoint() for cp in c_list]\n",
    "    return c_list, d_list\n",
    "\n",
    "\n",
    "def build_hamiltonian(ecore: float, h1e: np.ndarray, h2e: np.ndarray) -> SparsePauliOp:\n",
    "    ncas, _ = h1e.shape\n",
    "\n",
    "    C, D = creators_destructors(2 * ncas, mapping=\"jordan_wigner\")\n",
    "    Exc = []\n",
    "    for p in range(ncas):\n",
    "        Excp = [C[p] @ D[p] + C[ncas + p] @ D[ncas + p]]\n",
    "        for r in range(p + 1, ncas):\n",
    "            Excp.append(\n",
    "                C[p] @ D[r]\n",
    "                + C[ncas + p] @ D[ncas + r]\n",
    "                + C[r] @ D[p]\n",
    "                + C[ncas + r] @ D[ncas + p]\n",
    "            )\n",
    "        Exc.append(Excp)\n",
    "\n",
    "    # low-rank decomposition of the Hamiltonian\n",
    "    Lop, ng = cholesky(h2e, 1e-6)\n",
    "    t1e = h1e - 0.5 * np.einsum(\"pxxr->pr\", h2e)\n",
    "\n",
    "    H = ecore * identity(2 * ncas)\n",
    "    # one-body term\n",
    "    for p in range(ncas):\n",
    "        for r in range(p, ncas):\n",
    "            H += t1e[p, r] * Exc[p][r - p]\n",
    "    # two-body term\n",
    "    for g in range(ng):\n",
    "        Lg = 0 * identity(2 * ncas)\n",
    "        for p in range(ncas):\n",
    "            for r in range(p, ncas):\n",
    "                Lg += Lop[p, r, g] * Exc[p][r - p]\n",
    "        H += 0.5 * Lg @ Lg\n",
    "\n",
    "    return H.chop().simplify()"
   ]
  },
  {
   "cell_type": "code",
   "execution_count": 7,
   "metadata": {},
   "outputs": [
    {
     "name": "stdout",
     "output_type": "stream",
     "text": [
      "accuracy of Cholesky decomposition  2.7755575615628914e-16\n",
      "The Hamiltonian consists of 276 10-qubit Pauli operators.\n"
     ]
    }
   ],
   "source": [
    "H = build_hamiltonian(ecore, h1e, h2e)\n",
    "print(f\"The Hamiltonian consists of {len(H)} {2 * mx.ncas}-qubit Pauli operators.\")"
   ]
  },
  {
   "cell_type": "markdown",
   "metadata": {},
   "source": [
    "### Remark\n",
    "Compare with the exact ground state energy below. There is a mismatch with this and the pyscf computed energies."
   ]
  },
  {
   "cell_type": "code",
   "execution_count": 8,
   "metadata": {},
   "outputs": [
    {
     "name": "stdout",
     "output_type": "stream",
     "text": [
      "-7.646812245579224\n"
     ]
    }
   ],
   "source": [
    "from qiskit_algorithms import NumPyMinimumEigensolver\n",
    "\n",
    "exact_solver = NumPyMinimumEigensolver()\n",
    "exact_result = exact_solver.compute_minimum_eigenvalue(H)\n",
    "print(exact_result.eigenvalue)"
   ]
  },
  {
   "cell_type": "markdown",
   "metadata": {},
   "source": [
    "### Outline of the ADAPT-VQE algorithm\n",
    "This algorithm was first introduced in https://arxiv.org/abs/1812.1117.\n",
    "\n",
    "1. Initiate the quantum computer in the Hartree-Fock state. In Jordan-Wigner transformation, this has a bitstring representation implemented with $X$-gates.\n",
    "\n",
    "2. Define the pool of operators as the set of excitation operators generated by the UCC ansatz. Note that under the Jordan-Wigner transformation, these operators are anti-Hermitian. \n",
    "\n",
    "3. Define the following conditions for termination: CONVERGED, MAXIMUM.\n",
    "    - CONVERGED: Gradient of all operators from the pool are smaller than some threshold.\n",
    "    - MAXIMUM: Maximum number of iterations reached.\n",
    "    \n",
    "4. while not TERMINATE (CONVERGED or MAXIMUM):\n",
    "    - Compute the gradient of each operator from the pool and select the operator with the maximum gradient\n",
    "    - Append the ansatz with $\\textrm{exp}(j*\\theta_i*\\textrm{operator}_i)$\n",
    "    - Run VQE over all parameters $\\theta_i$"
   ]
  },
  {
   "cell_type": "markdown",
   "metadata": {},
   "source": [
    "### Initial state\n",
    "A common strategy is to initiate the quantum computer to the Hartree-Fock state, which we do with the help of the function below."
   ]
  },
  {
   "cell_type": "code",
   "execution_count": 9,
   "metadata": {},
   "outputs": [],
   "source": [
    "def hartree_fock_bitstring(num_spatial_orbitals: int, num_particles: tuple[int, int]) -> list[bool]:\n",
    "    \"\"\"Compute the bitstring representing the Hartree-Fock state for the specified system.\n",
    "\n",
    "    Args:\n",
    "        num_spatial_orbitals: The number of spatial orbitals, has a min. value of 1.\n",
    "        num_particles: The number of particles as a tuple storing the number of alpha- and beta-spin\n",
    "                       electrons in the first and second number, respectively.\n",
    "\n",
    "    Returns:\n",
    "        The bitstring representing the state of the Hartree-Fock state as array of bools.\n",
    "\n",
    "    Raises:\n",
    "        ValueError: If the total number of particles is larger than the number of orbitals.\n",
    "    \"\"\"\n",
    "    # validate the input\n",
    "    assert num_spatial_orbitals >= 1\n",
    "    num_alpha, num_beta = num_particles\n",
    "\n",
    "    if any(n > num_spatial_orbitals for n in num_particles):\n",
    "        raise ValueError(\"# of particles must be less than or equal to # of orbitals.\")\n",
    "\n",
    "    half_orbitals = num_spatial_orbitals\n",
    "    bitstr = np.zeros(2 * num_spatial_orbitals, bool)\n",
    "    bitstr[:num_alpha] = True\n",
    "    bitstr[half_orbitals : (half_orbitals + num_beta)] = True\n",
    "\n",
    "    return bitstr.tolist()"
   ]
  },
  {
   "cell_type": "markdown",
   "metadata": {},
   "source": [
    "We build the circuit preparing the Hartree-Fock state in Jordan-Wigner transform."
   ]
  },
  {
   "cell_type": "code",
   "execution_count": 10,
   "metadata": {},
   "outputs": [
    {
     "name": "stderr",
     "output_type": "stream",
     "text": [
      "/opt/anaconda3/envs/quantum/lib/python3.10/site-packages/qiskit/visualization/circuit/matplotlib.py:266: FutureWarning: The default matplotlib drawer scheme will be changed to \"iqp\" in a following release. To silence this warning, specify the current default explicitly as style=\"clifford\", or the new default as style=\"iqp\".\n",
      "  self._style, def_font_ratio = load_style(self._style)\n"
     ]
    },
    {
     "data": {
      "image/png": "[encoded data removed]",
      "text/plain": [
       "<Figure size 203.885x869.556 with 1 Axes>"
      ]
     },
     "execution_count": 10,
     "metadata": {},
     "output_type": "execute_result"
    }
   ],
   "source": [
    "from qiskit import QuantumCircuit\n",
    "\n",
    "num_spatial_orbitals = mx.ncas\n",
    "num_particles = mol.nelec\n",
    "\n",
    "# Get the Hartree-Fock initial state in boolean bitstring representation\n",
    "hf_bitstring = hartree_fock_bitstring(num_spatial_orbitals, num_particles)\n",
    "\n",
    "# Under the Jordan-Wigner transform, corresponding circuit is found by flipping the qubits by an X-gate as indicated by the boolean list\n",
    "hf_circuit = QuantumCircuit(len(hf_bitstring))\n",
    "for i, hf_bit in enumerate(hf_bitstring):\n",
    "    if hf_bit:\n",
    "        hf_circuit.x(i)\n",
    "\n",
    "hf_circuit.draw(output = 'mpl')"
   ]
  },
  {
   "cell_type": "markdown",
   "metadata": {},
   "source": [
    "### Operator pool\n",
    "We define the set of operators as the single and double excitation operators generated by the UCC ansatz. These operators are also represented under the Jordan-Wigner transform. Note that this results in anti-Hermitian excitation operators, but we omit the complex phase 1j for simplicity. Therefore, they appear Hermitian."
   ]
  },
  {
   "cell_type": "code",
   "execution_count": 11,
   "metadata": {},
   "outputs": [
    {
     "name": "stdout",
     "output_type": "stream",
     "text": [
      "The excitation pool consists of 54 operators.\n"
     ]
    }
   ],
   "source": [
    "from qiskit_nature.second_q.circuit.library.ansatzes import UCC\n",
    "from qiskit_nature.second_q.mappers import JordanWignerMapper\n",
    "\n",
    "qubit_mapper = JordanWignerMapper()\n",
    "\n",
    "# Define the pool of operators as the single and double excitation operators generated by the UCC ansatz\n",
    "ucc = UCC(num_spatial_orbitals, num_particles, 'sd', qubit_mapper)\n",
    "excitation_pool =  ucc.operators  # TODO\n",
    "print(f\"The excitation pool consists of {len(excitation_pool)} operators.\")"
   ]
  },
  {
   "cell_type": "markdown",
   "metadata": {},
   "source": [
    "### Gradient of the excitation operators\n",
    "We compute the gradient of all excitation operators in the pool given the current optimized ansatz. "
   ]
  },
  {
   "cell_type": "code",
   "execution_count": 12,
   "metadata": {},
   "outputs": [],
   "source": [
    "def compute_gradients(ansatz, hamiltonian, excitation_pool, estimator, params=None):\n",
    "    \"\"\"\n",
    "    Computes the gradients for all available excitation operators.\n",
    "    Args:\n",
    "        ansatz: ansatz built so far.\n",
    "        hamiltonian: Hamiltonian after qubit mapping in SparsePauliOp format.\n",
    "        excitation_pool: anti-Hermitian operators whose gradients need to be computed.\n",
    "        estimator: an instance of the Qiskit Estimator primitive\n",
    "        params: parameters to be assigned to the ansatz, if any.\n",
    "    Returns:\n",
    "        List of computed gradients in the same order as the excitation operators in the excitation pool.\n",
    "    \"\"\"\n",
    "    # The excitations operators are applied later as exp(i*theta*excitation).\n",
    "    # For this commutator, we need to explicitly pull in the imaginary phase.\n",
    "    if params is not None:\n",
    "        ansatz_opt = ansatz.assign_parameters(params)\n",
    "    else:\n",
    "        ansatz_opt = ansatz\n",
    "    # We recall that 1j was omitted earlier for the anti-Hermitian operators.\n",
    "    commutators = [1j * (hamiltonian @ exc - exc @ hamiltonian) for exc in excitation_pool]\n",
    "    ansatz_list = [ansatz_opt for _ in range(len(commutators))]\n",
    "    gradients = estimator.run(ansatz_list, commutators).result().values\n",
    "\n",
    "    return gradients"
   ]
  },
  {
   "cell_type": "markdown",
   "metadata": {},
   "source": [
    "Let's grow the ansatz step by step by before putting the code into a loop. First, our ansatz is simply the Hartree-Fock initial state. Now we will compute the gradient of each operator in the excitation pool and select the operator with the largest gradient to append to our current ansatz with a corresponding variational parameter. For now, we use an exact simulator by defining the options of the Qiskit Estimator primitive."
   ]
  },
  {
   "cell_type": "code",
   "execution_count": 13,
   "metadata": {},
   "outputs": [
    {
     "name": "stdout",
     "output_type": "stream",
     "text": [
      "[ 0.          0.         -0.3773396   0.          0.         -0.08933881\n",
      "  0.          0.         -0.3773396   0.          0.         -0.08933881\n",
      "  0.          0.         -0.05904723  0.          0.         -0.04093015\n",
      "  0.          0.          0.          0.         -0.05904723  0.\n",
      "  0.         -0.04093015  0.          0.          0.         -0.24891225\n",
      "  0.          0.          0.05362656 -0.04093015  0.          0.\n",
      " -0.08729688  0.          0.          0.         -0.04093015  0.\n",
      "  0.         -0.08729688  0.          0.          0.          0.05362656\n",
      "  0.          0.         -0.05430852  0.          0.          0.        ]\n",
      "Found operator SparsePauliOp(['IIIIIXZZZY', 'IIIIIYZZZX'],\n",
      "              coeffs=[ 0.5+0.j, -0.5+0.j]) with maximum gradient 0.37733960483964873 at index 2.\n"
     ]
    }
   ],
   "source": [
    "import numpy as np\n",
    "from qiskit.primitives import Estimator\n",
    "\n",
    "ansatz = hf_circuit\n",
    "hamiltonian = H\n",
    "estimator = Estimator(options={\"shots\": None, \"approximation\": True})\n",
    "\n",
    "gradients = compute_gradients(ansatz, hamiltonian, excitation_pool, estimator)\n",
    "print(gradients)\n",
    "\n",
    "max_gradient = np.max(np.abs(gradients))\n",
    "max_index = np.argmax(np.abs(gradients))\n",
    "max_operator = excitation_pool[max_index]\n",
    "print(f\"Found operator {max_operator} with maximum gradient {max_gradient} at index {max_index}.\")"
   ]
  },
  {
   "cell_type": "markdown",
   "metadata": {},
   "source": [
    "### Expand the Ansatz\n",
    "We found that a double-excitation operator in the pool has the largest gradient magnitude. Therefore, we will now append it to the ansatz as $\\textrm{exp}(i*\\theta_0*\\textrm{max\\_operator})$, where $\\theta_0$ is the corresponding time evolution parameter. This will be our variational parameter to be optimized in the VQE step. Now we can easily time-evolve the selected operator by using the ``EvolvedOperatorAnsatz`` from Qiskit. Note that the operator to be complex exponentiated and evolved consists of summed Pauli operators. Therefore, the evolution parameter of this ansatz class can be specified to run with different methods such as ``LieTrotter``, ``SuzukiTrotter``, or exactly with ``MatrixExponential`` to test small problems."
   ]
  },
  {
   "cell_type": "code",
   "execution_count": 14,
   "metadata": {},
   "outputs": [
    {
     "name": "stderr",
     "output_type": "stream",
     "text": [
      "/opt/anaconda3/envs/quantum/lib/python3.10/site-packages/qiskit/visualization/circuit/matplotlib.py:266: FutureWarning: The default matplotlib drawer scheme will be changed to \"iqp\" in a following release. To silence this warning, specify the current default explicitly as style=\"clifford\", or the new default as style=\"iqp\".\n",
      "  self._style, def_font_ratio = load_style(self._style)\n"
     ]
    },
    {
     "data": {
      "image/png": "[encoded data removed]",
      "text/plain": [
       "<Figure size 705.552x869.556 with 1 Axes>"
      ]
     },
     "execution_count": 14,
     "metadata": {},
     "output_type": "execute_result"
    }
   ],
   "source": [
    "from qiskit.circuit.library import EvolvedOperatorAnsatz\n",
    "from qiskit.synthesis import LieTrotter, MatrixExponential\n",
    "\n",
    "ansatz = EvolvedOperatorAnsatz(operators=max_operator, evolution=MatrixExponential(), parameter_prefix='theta', initial_state=hf_circuit)\n",
    "ansatz.decompose().draw(output = 'mpl')"
   ]
  },
  {
   "cell_type": "markdown",
   "metadata": {},
   "source": [
    "Note that adding an operator to the ansatz does not drain the pool, i.e. the operator we added can again be selected in another iteration."
   ]
  },
  {
   "cell_type": "markdown",
   "metadata": {},
   "source": [
    "### Run VQE\n",
    "We are now ready to run a full VQE on the ansatz that we have so far. We define the cost function as the expectation of the Hamiltonian as usual, and set up the Estimator primitive and randomly initiate the parameters to be optimized."
   ]
  },
  {
   "cell_type": "code",
   "execution_count": 15,
   "metadata": {},
   "outputs": [],
   "source": [
    "def cost_func(params, ansatz, H, estimator):\n",
    "    energy = estimator.run(ansatz, H, parameter_values=params).result().values[0]\n",
    "    return energy"
   ]
  },
  {
   "cell_type": "code",
   "execution_count": 16,
   "metadata": {},
   "outputs": [
    {
     "name": "stdout",
     "output_type": "stream",
     "text": [
      "-4.339808448288726\n"
     ]
    }
   ],
   "source": [
    "from qiskit.primitives import Estimator\n",
    "\n",
    "estimator = Estimator(options={\"shots\": None, \"approximation\": True})\n",
    "\n",
    "hf_energy = estimator.run(hf_circuit, H).result().values[0]  # TODO something is wrong here\n",
    "print(hf_energy)"
   ]
  },
  {
   "cell_type": "code",
   "execution_count": 17,
   "metadata": {},
   "outputs": [
    {
     "name": "stdout",
     "output_type": "stream",
     "text": [
      "[2.03535564]\n"
     ]
    }
   ],
   "source": [
    "# Random start for the ansatz parameters\n",
    "x0 = 2 * np.pi * np.random.random(ansatz.num_parameters)\n",
    "print(x0)"
   ]
  },
  {
   "cell_type": "markdown",
   "metadata": {},
   "source": [
    "Now we classically optimize the $\\theta_0$ parameter of our ansatz using the ``minimize`` function from ``scipy``."
   ]
  },
  {
   "cell_type": "code",
   "execution_count": 18,
   "metadata": {},
   "outputs": [
    {
     "name": "stdout",
     "output_type": "stream",
     "text": [
      " message: Optimization terminated successfully.\n",
      " success: True\n",
      "  status: 1\n",
      "     fun: -4.9237835278935576\n",
      "       x: [ 1.883e+00]\n",
      "    nfev: 22\n",
      "   maxcv: 0.0\n",
      "\n",
      "Found ground energy: -4.9237835278935576, exact energy: -7.646812245579224, difference: 2.7230287176856667\n",
      "   Normal return from subroutine COBYLA\n",
      "\n",
      "   NFVALS =   22   F =-4.923784E+00    MAXCV = 0.000000E+00\n",
      "   X = 1.883200E+00\n"
     ]
    }
   ],
   "source": [
    "from scipy.optimize import minimize\n",
    "\n",
    "res = minimize(cost_func, x0, args=(ansatz, H, estimator), method=\"cobyla\", options={'maxiter': 50, 'disp': True})\n",
    "print(res)\n",
    "\n",
    "\n",
    "# Note this returns the total energy, and we are often interested in the electronic energy\n",
    "ground_energy = getattr(res, 'fun')\n",
    "print(f\"Found ground energy: {ground_energy}, exact energy: {exact_result.eigenvalue}, difference: {ground_energy - exact_result.eigenvalue}\")"
   ]
  },
  {
   "cell_type": "markdown",
   "metadata": {},
   "source": [
    "NOTE: The ground state energy went below the exact value computed by ``pyscf``. This numerical error is due to the approximation error in the simulation of the EvolvedOperatorAnsatz evolution (LieTrotter in this case)."
   ]
  },
  {
   "cell_type": "code",
   "execution_count": 19,
   "metadata": {},
   "outputs": [
    {
     "name": "stdout",
     "output_type": "stream",
     "text": [
      "[1.88320018]\n"
     ]
    }
   ],
   "source": [
    "# Optimal parameters so far\n",
    "x_opt =  getattr(res, 'x')\n",
    "print(x_opt)"
   ]
  },
  {
   "cell_type": "markdown",
   "metadata": {},
   "source": [
    "### Another iteration of the algorithm\n",
    "We now compute the gradients again to see if we need another iteration."
   ]
  },
  {
   "cell_type": "code",
   "execution_count": 20,
   "metadata": {},
   "outputs": [
    {
     "name": "stdout",
     "output_type": "stream",
     "text": [
      "[ 0.00000000e+00  0.00000000e+00  1.13378270e-04  0.00000000e+00\n",
      "  0.00000000e+00 -3.52174396e-02  0.00000000e+00  0.00000000e+00\n",
      " -2.30153061e-01  0.00000000e+00  0.00000000e+00 -1.12519121e-01\n",
      "  0.00000000e+00  0.00000000e+00  1.13947934e-03  0.00000000e+00\n",
      "  0.00000000e+00  1.04682381e-03  0.00000000e+00  0.00000000e+00\n",
      "  0.00000000e+00  0.00000000e+00  1.13947934e-03  0.00000000e+00\n",
      "  0.00000000e+00  1.04682381e-03  0.00000000e+00  0.00000000e+00\n",
      "  0.00000000e+00  8.63356013e-02  0.00000000e+00  0.00000000e+00\n",
      "  2.85501592e-02 -4.09301450e-02  0.00000000e+00  0.00000000e+00\n",
      " -8.72968838e-02  0.00000000e+00  0.00000000e+00  0.00000000e+00\n",
      " -4.09301450e-02  0.00000000e+00  0.00000000e+00 -8.72968838e-02\n",
      "  0.00000000e+00  0.00000000e+00  0.00000000e+00 -9.55896595e-03\n",
      "  0.00000000e+00  0.00000000e+00 -3.52730485e-03  0.00000000e+00\n",
      "  0.00000000e+00  0.00000000e+00]\n",
      "Found maximum gradient 0.23015306140726227 at index 8\n",
      "Maximum gradient is below the threshold: False\n"
     ]
    }
   ],
   "source": [
    "gradient_threshold = 1e-3\n",
    "\n",
    "gradients = compute_gradients(ansatz, hamiltonian, excitation_pool, estimator, params=x_opt)\n",
    "print(gradients)\n",
    "\n",
    "max_gradient = np.max(np.abs(gradients))\n",
    "max_index = np.argmax(np.abs(gradients))\n",
    "\n",
    "print(f\"Found maximum gradient {max_gradient} at index {max_index}\")\n",
    "print(f\"Maximum gradient is below the threshold: {max_gradient < gradient_threshold}\")"
   ]
  },
  {
   "cell_type": "markdown",
   "metadata": {},
   "source": [
    "Since the maximum gradient is not below the threshold, we append the operator at index 8 to the ansatz. Note that this was the second operator with the maximum gradient in the previous step."
   ]
  },
  {
   "cell_type": "code",
   "execution_count": 21,
   "metadata": {},
   "outputs": [
    {
     "name": "stderr",
     "output_type": "stream",
     "text": [
      "/opt/anaconda3/envs/quantum/lib/python3.10/site-packages/qiskit/visualization/circuit/matplotlib.py:266: FutureWarning: The default matplotlib drawer scheme will be changed to \"iqp\" in a following release. To silence this warning, specify the current default explicitly as style=\"clifford\", or the new default as style=\"iqp\".\n",
      "  self._style, def_font_ratio = load_style(self._style)\n"
     ]
    },
    {
     "data": {
      "image/png": "[encoded data removed]",
      "text/plain": [
       "<Figure size 1207.22x869.556 with 1 Axes>"
      ]
     },
     "execution_count": 21,
     "metadata": {},
     "output_type": "execute_result"
    }
   ],
   "source": [
    "# Initiate the list of operators with the first one \n",
    "operator_list = [max_operator]\n",
    "# Append the second operator\n",
    "operator_list.append(excitation_pool[max_index])\n",
    "\n",
    "ansatz = EvolvedOperatorAnsatz(operators=operator_list, evolution=LieTrotter(), parameter_prefix='theta', initial_state=hf_circuit) \n",
    "ansatz.decompose().draw(output = 'mpl')"
   ]
  },
  {
   "cell_type": "code",
   "execution_count": 22,
   "metadata": {},
   "outputs": [
    {
     "name": "stdout",
     "output_type": "stream",
     "text": [
      "[0.44339671 0.04100537]\n",
      " message: Optimization terminated successfully.\n",
      " success: True\n",
      "  status: 1\n",
      "     fun: -5.433843342342847\n",
      "       x: [ 1.817e+00  1.817e+00]\n",
      "    nfev: 34\n",
      "   maxcv: 0.0\n",
      "   Normal return from subroutine COBYLA\n",
      "\n",
      "   NFVALS =   34   F =-5.433843E+00    MAXCV = 0.000000E+00\n",
      "   X = 1.817188E+00   1.817200E+00\n",
      "\n",
      "Found ground energy: -5.433843342342847, exact energy: -7.646812245579224, difference: 2.2129689032363773\n"
     ]
    }
   ],
   "source": [
    "# Random start for the ansatz parameters\n",
    "x0 = 2 * np.pi * np.random.random(ansatz.num_parameters)\n",
    "print(x0)\n",
    "\n",
    "res = minimize(cost_func, x0, args=(ansatz, H, estimator), method=\"cobyla\", options={'maxiter': 50, 'disp': True})\n",
    "print(res)\n",
    "\n",
    "# Note this returns the total energy, and we are often interested in the electronic energy\n",
    "ground_energy = getattr(res, 'fun')\n",
    "print(f\"Found ground energy: {ground_energy}, exact energy: {exact_result.eigenvalue}, difference: {ground_energy - exact_result.eigenvalue}\")"
   ]
  },
  {
   "cell_type": "markdown",
   "metadata": {},
   "source": [
    "### Putting it all together\n",
    "Now we automate the algorithm in a single loop."
   ]
  },
  {
   "cell_type": "code",
   "execution_count": 23,
   "metadata": {},
   "outputs": [
    {
     "name": "stdout",
     "output_type": "stream",
     "text": [
      "Iter: 0\n",
      "Maximum gradient: 0.37733960483964873\n",
      "Operator: SparsePauliOp(['IIIIIXZZZY', 'IIIIIYZZZX'],\n",
      "              coeffs=[ 0.5+0.j, -0.5+0.j]) at index 2\n",
      "Optimization terminated successfully    (Exit mode 0)\n",
      "            Current function value: -4.923783304405997\n",
      "            Iterations: 3\n",
      "            Function evaluations: 8\n",
      "            Gradient evaluations: 3\n",
      "Result at iter 0: -4.923783304405997\n",
      "Iter: 1\n",
      "Maximum gradient: 0.22987808370878116\n",
      "Operator: SparsePauliOp(['XZZZYIIIII', 'YZZZXIIIII'],\n",
      "              coeffs=[ 0.5+0.j, -0.5+0.j]) at index 8\n",
      "Optimization terminated successfully    (Exit mode 0)\n",
      "            Current function value: -5.433843335377542\n",
      "            Iterations: 6\n",
      "            Function evaluations: 19\n",
      "            Gradient evaluations: 6\n",
      "Result at iter 1: -5.433843335377542\n",
      "Iter: 2\n",
      "Maximum gradient: 0.17401184266509448\n",
      "Operator: SparsePauliOp(['YZZZYXZZZY', 'XZZZYYZZZY', 'XZZZXXZZZY', 'YZZZXYZZZY', 'XZZZYXZZZX', 'YZZZYYZZZX', 'YZZZXXZZZX', 'XZZZXYZZZX'],\n",
      "              coeffs=[-0.125+0.j, -0.125+0.j, -0.125+0.j,  0.125+0.j, -0.125+0.j,  0.125+0.j,\n",
      "  0.125+0.j,  0.125+0.j]) at index 29\n",
      "Optimization terminated successfully    (Exit mode 0)\n",
      "            Current function value: -5.441845269731562\n",
      "            Iterations: 14\n",
      "            Function evaluations: 59\n",
      "            Gradient evaluations: 14\n",
      "Result at iter 2: -5.441845269731562\n",
      "Iter: 3\n",
      "Maximum gradient: 0.08729688376396207\n",
      "Operator: SparsePauliOp(['IIYYIIIXYI', 'IIXYIIIYYI', 'IIXXIIIXYI', 'IIYXIIIYYI', 'IIXYIIIXXI', 'IIYYIIIYXI', 'IIYXIIIXXI', 'IIXXIIIYXI'],\n",
      "              coeffs=[-0.125+0.j, -0.125+0.j, -0.125+0.j,  0.125+0.j, -0.125+0.j,  0.125+0.j,\n",
      "  0.125+0.j,  0.125+0.j]) at index 36\n",
      "Optimization terminated successfully    (Exit mode 0)\n",
      "            Current function value: -5.605545493042757\n",
      "            Iterations: 11\n",
      "            Function evaluations: 59\n",
      "            Gradient evaluations: 11\n",
      "Result at iter 3: -5.605545493042757\n",
      "Iter: 4\n",
      "Maximum gradient: 0.09489516148503484\n",
      "Operator: SparsePauliOp(['IIIIIXZZYI', 'IIIIIYZZXI'],\n",
      "              coeffs=[ 0.5+0.j, -0.5+0.j]) at index 5\n",
      "Optimization terminated successfully    (Exit mode 0)\n",
      "            Current function value: -5.6111067246105835\n",
      "            Iterations: 8\n",
      "            Function evaluations: 48\n",
      "            Gradient evaluations: 8\n",
      "Result at iter 4: -5.6111067246105835\n",
      "Iter: 5\n",
      "Maximum gradient: 0.085286662389115\n",
      "Operator: SparsePauliOp(['YZZZYXZZYI', 'XZZZYYZZYI', 'XZZZXXZZYI', 'YZZZXYZZYI', 'XZZZYXZZXI', 'YZZZYYZZXI', 'YZZZXXZZXI', 'XZZZXYZZXI'],\n",
      "              coeffs=[-0.125+0.j, -0.125+0.j, -0.125+0.j,  0.125+0.j, -0.125+0.j,  0.125+0.j,\n",
      "  0.125+0.j,  0.125+0.j]) at index 47\n",
      "Optimization terminated successfully    (Exit mode 0)\n",
      "            Current function value: -5.46383951373802\n",
      "            Iterations: 33\n",
      "            Function evaluations: 243\n",
      "            Gradient evaluations: 33\n",
      "Result at iter 5: -5.46383951373802\n",
      "Iter: 6\n",
      "Maximum gradient: 0.0534286166603873\n",
      "Operator: SparsePauliOp(['IIYYIIIXYI', 'IIXYIIIYYI', 'IIXXIIIXYI', 'IIYXIIIYYI', 'IIXYIIIXXI', 'IIYYIIIYXI', 'IIYXIIIXXI', 'IIXXIIIYXI'],\n",
      "              coeffs=[-0.125+0.j, -0.125+0.j, -0.125+0.j,  0.125+0.j, -0.125+0.j,  0.125+0.j,\n",
      "  0.125+0.j,  0.125+0.j]) at index 36\n",
      "Optimization terminated successfully    (Exit mode 0)\n",
      "            Current function value: -5.6095832248433535\n",
      "            Iterations: 27\n",
      "            Function evaluations: 219\n",
      "            Gradient evaluations: 27\n",
      "Result at iter 6: -5.6095832248433535\n",
      "Iter: 7\n",
      "Maximum gradient: 0.08838249655239569\n",
      "Operator: SparsePauliOp(['XZZYIIIIII', 'YZZXIIIIII'],\n",
      "              coeffs=[ 0.5+0.j, -0.5+0.j]) at index 11\n",
      "Optimization terminated successfully    (Exit mode 0)\n",
      "            Current function value: -5.596307498372947\n",
      "            Iterations: 31\n",
      "            Function evaluations: 290\n",
      "            Gradient evaluations: 31\n",
      "Result at iter 7: -5.596307498372947\n",
      "Iter: 8\n",
      "Maximum gradient: 0.18563356064787884\n",
      "Operator: SparsePauliOp(['IIIIIXZZZY', 'IIIIIYZZZX'],\n",
      "              coeffs=[ 0.5+0.j, -0.5+0.j]) at index 2\n",
      "Iteration limit reached    (Exit mode 9)\n",
      "            Current function value: -5.613222522794777\n",
      "            Iterations: 50\n",
      "            Function evaluations: 506\n",
      "            Gradient evaluations: 50\n",
      "Result at iter 8: -5.613222522794777\n",
      "Iter: 9\n",
      "Maximum gradient: 0.1081115913882267\n",
      "Operator: SparsePauliOp(['YZZZYXZZZY', 'XZZZYYZZZY', 'XZZZXXZZZY', 'YZZZXYZZZY', 'XZZZYXZZZX', 'YZZZYYZZZX', 'YZZZXXZZZX', 'XZZZXYZZZX'],\n",
      "              coeffs=[-0.125+0.j, -0.125+0.j, -0.125+0.j,  0.125+0.j, -0.125+0.j,  0.125+0.j,\n",
      "  0.125+0.j,  0.125+0.j]) at index 29\n",
      "Optimization terminated successfully    (Exit mode 0)\n",
      "            Current function value: -5.6147891313592915\n",
      "            Iterations: 38\n",
      "            Function evaluations: 424\n",
      "            Gradient evaluations: 38\n",
      "Result at iter 9: -5.6147891313592915\n",
      "Iter: 10\n",
      "Maximum gradient: 0.11693575049004674\n",
      "Operator: SparsePauliOp(['YZZYIXZZZY', 'XZZYIYZZZY', 'XZZXIXZZZY', 'YZZXIYZZZY', 'XZZYIXZZZX', 'YZZYIYZZZX', 'YZZXIXZZZX', 'XZZXIYZZZX'],\n",
      "              coeffs=[-0.125+0.j, -0.125+0.j, -0.125+0.j,  0.125+0.j, -0.125+0.j,  0.125+0.j,\n",
      "  0.125+0.j,  0.125+0.j]) at index 32\n",
      "Optimization terminated successfully    (Exit mode 0)\n",
      "            Current function value: -5.620018276708998\n",
      "            Iterations: 43\n",
      "            Function evaluations: 523\n",
      "            Gradient evaluations: 43\n",
      "Result at iter 10: -5.620018276708998\n",
      "Iter: 11\n",
      "Maximum gradient: 0.05020975876455552\n",
      "Operator: SparsePauliOp(['IIYZYIIXZY', 'IIXZYIIYZY', 'IIXZXIIXZY', 'IIYZXIIYZY', 'IIXZYIIXZX', 'IIYZYIIYZX', 'IIYZXIIXZX', 'IIXZXIIYZX'],\n",
      "              coeffs=[-0.125+0.j, -0.125+0.j, -0.125+0.j,  0.125+0.j, -0.125+0.j,  0.125+0.j,\n",
      "  0.125+0.j,  0.125+0.j]) at index 14\n",
      "Optimization terminated successfully    (Exit mode 0)\n",
      "            Current function value: -5.47602247370904\n",
      "            Iterations: 36\n",
      "            Function evaluations: 474\n",
      "            Gradient evaluations: 36\n",
      "Result at iter 11: -5.47602247370904\n",
      "Iter: 12\n",
      "Maximum gradient: 0.041370697521550454\n",
      "Operator: SparsePauliOp(['IYZYIIXZYI', 'IXZYIIYZYI', 'IXZXIIXZYI', 'IYZXIIYZYI', 'IXZYIIXZXI', 'IYZYIIYZXI', 'IYZXIIXZXI', 'IXZXIIYZXI'],\n",
      "              coeffs=[-0.125+0.j, -0.125+0.j, -0.125+0.j,  0.125+0.j, -0.125+0.j,  0.125+0.j,\n",
      "  0.125+0.j,  0.125+0.j]) at index 43\n",
      "Optimization terminated successfully    (Exit mode 0)\n",
      "            Current function value: -5.606529759551997\n",
      "            Iterations: 35\n",
      "            Function evaluations: 498\n",
      "            Gradient evaluations: 35\n",
      "Result at iter 12: -5.606529759551997\n",
      "Iter: 13\n",
      "Maximum gradient: 0.0950683034684355\n",
      "Operator: SparsePauliOp(['IIIIIXZZYI', 'IIIIIYZZXI'],\n",
      "              coeffs=[ 0.5+0.j, -0.5+0.j]) at index 5\n",
      "Iteration limit reached    (Exit mode 9)\n",
      "            Current function value: -5.587383353624025\n",
      "            Iterations: 50\n",
      "            Function evaluations: 754\n",
      "            Gradient evaluations: 50\n",
      "Result at iter 13: -5.587383353624025\n",
      "Iter: 14\n",
      "Maximum gradient: 0.2015978680722992\n",
      "Operator: SparsePauliOp(['IIIIIXZZZY', 'IIIIIYZZZX'],\n",
      "              coeffs=[ 0.5+0.j, -0.5+0.j]) at index 2\n"
     ]
    },
    {
     "ename": "KeyboardInterrupt",
     "evalue": "",
     "output_type": "error",
     "traceback": [
      "\u001b[0;31m---------------------------------------------------------------------------\u001b[0m",
      "\u001b[0;31mKeyboardInterrupt\u001b[0m                         Traceback (most recent call last)",
      "Cell \u001b[0;32mIn[23], line 31\u001b[0m\n\u001b[1;32m     29\u001b[0m \u001b[38;5;66;03m# Run VQE on the current ansatz\u001b[39;00m\n\u001b[1;32m     30\u001b[0m x0 \u001b[38;5;241m=\u001b[39m \u001b[38;5;241m2\u001b[39m \u001b[38;5;241m*\u001b[39m np\u001b[38;5;241m.\u001b[39mpi \u001b[38;5;241m*\u001b[39m np\u001b[38;5;241m.\u001b[39mrandom\u001b[38;5;241m.\u001b[39mrandom(ansatz\u001b[38;5;241m.\u001b[39mnum_parameters)\n\u001b[0;32m---> 31\u001b[0m res \u001b[38;5;241m=\u001b[39m \u001b[43mminimize\u001b[49m\u001b[43m(\u001b[49m\u001b[43mcost_func\u001b[49m\u001b[43m,\u001b[49m\u001b[43m \u001b[49m\u001b[43mx0\u001b[49m\u001b[43m,\u001b[49m\u001b[43m \u001b[49m\u001b[43margs\u001b[49m\u001b[38;5;241;43m=\u001b[39;49m\u001b[43m(\u001b[49m\u001b[43mansatz\u001b[49m\u001b[43m,\u001b[49m\u001b[43m \u001b[49m\u001b[43mH\u001b[49m\u001b[43m,\u001b[49m\u001b[43m \u001b[49m\u001b[43mestimator\u001b[49m\u001b[43m)\u001b[49m\u001b[43m,\u001b[49m\u001b[43m \u001b[49m\u001b[43mmethod\u001b[49m\u001b[38;5;241;43m=\u001b[39;49m\u001b[38;5;124;43m\"\u001b[39;49m\u001b[38;5;124;43mslsqp\u001b[39;49m\u001b[38;5;124;43m\"\u001b[39;49m\u001b[43m,\u001b[49m\u001b[43m \u001b[49m\u001b[43moptions\u001b[49m\u001b[38;5;241;43m=\u001b[39;49m\u001b[43m{\u001b[49m\u001b[38;5;124;43m'\u001b[39;49m\u001b[38;5;124;43mmaxiter\u001b[39;49m\u001b[38;5;124;43m'\u001b[39;49m\u001b[43m:\u001b[49m\u001b[43m \u001b[49m\u001b[38;5;241;43m50\u001b[39;49m\u001b[43m,\u001b[49m\u001b[43m \u001b[49m\u001b[38;5;124;43m'\u001b[39;49m\u001b[38;5;124;43mdisp\u001b[39;49m\u001b[38;5;124;43m'\u001b[39;49m\u001b[43m:\u001b[49m\u001b[43m \u001b[49m\u001b[38;5;28;43;01mTrue\u001b[39;49;00m\u001b[43m}\u001b[49m\u001b[43m)\u001b[49m\n\u001b[1;32m     32\u001b[0m \u001b[38;5;28mprint\u001b[39m(\u001b[38;5;124mf\u001b[39m\u001b[38;5;124m\"\u001b[39m\u001b[38;5;124mResult at iter \u001b[39m\u001b[38;5;132;01m{\u001b[39;00m\u001b[38;5;28miter\u001b[39m\u001b[38;5;132;01m}\u001b[39;00m\u001b[38;5;124m: \u001b[39m\u001b[38;5;132;01m{\u001b[39;00m\u001b[38;5;28mgetattr\u001b[39m(res,\u001b[38;5;250m \u001b[39m\u001b[38;5;124m'\u001b[39m\u001b[38;5;124mfun\u001b[39m\u001b[38;5;124m'\u001b[39m)\u001b[38;5;132;01m}\u001b[39;00m\u001b[38;5;124m\"\u001b[39m)\n\u001b[1;32m     33\u001b[0m x_opt \u001b[38;5;241m=\u001b[39m  \u001b[38;5;28mgetattr\u001b[39m(res, \u001b[38;5;124m'\u001b[39m\u001b[38;5;124mx\u001b[39m\u001b[38;5;124m'\u001b[39m)\n",
      "File \u001b[0;32m/opt/anaconda3/envs/quantum/lib/python3.10/site-packages/scipy/optimize/_minimize.py:722\u001b[0m, in \u001b[0;36mminimize\u001b[0;34m(fun, x0, args, method, jac, hess, hessp, bounds, constraints, tol, callback, options)\u001b[0m\n\u001b[1;32m    719\u001b[0m     res \u001b[38;5;241m=\u001b[39m _minimize_cobyla(fun, x0, args, constraints, callback\u001b[38;5;241m=\u001b[39mcallback,\n\u001b[1;32m    720\u001b[0m                            bounds\u001b[38;5;241m=\u001b[39mbounds, \u001b[38;5;241m*\u001b[39m\u001b[38;5;241m*\u001b[39moptions)\n\u001b[1;32m    721\u001b[0m \u001b[38;5;28;01melif\u001b[39;00m meth \u001b[38;5;241m==\u001b[39m \u001b[38;5;124m'\u001b[39m\u001b[38;5;124mslsqp\u001b[39m\u001b[38;5;124m'\u001b[39m:\n\u001b[0;32m--> 722\u001b[0m     res \u001b[38;5;241m=\u001b[39m \u001b[43m_minimize_slsqp\u001b[49m\u001b[43m(\u001b[49m\u001b[43mfun\u001b[49m\u001b[43m,\u001b[49m\u001b[43m \u001b[49m\u001b[43mx0\u001b[49m\u001b[43m,\u001b[49m\u001b[43m \u001b[49m\u001b[43margs\u001b[49m\u001b[43m,\u001b[49m\u001b[43m \u001b[49m\u001b[43mjac\u001b[49m\u001b[43m,\u001b[49m\u001b[43m \u001b[49m\u001b[43mbounds\u001b[49m\u001b[43m,\u001b[49m\n\u001b[1;32m    723\u001b[0m \u001b[43m                          \u001b[49m\u001b[43mconstraints\u001b[49m\u001b[43m,\u001b[49m\u001b[43m \u001b[49m\u001b[43mcallback\u001b[49m\u001b[38;5;241;43m=\u001b[39;49m\u001b[43mcallback\u001b[49m\u001b[43m,\u001b[49m\u001b[43m \u001b[49m\u001b[38;5;241;43m*\u001b[39;49m\u001b[38;5;241;43m*\u001b[39;49m\u001b[43moptions\u001b[49m\u001b[43m)\u001b[49m\n\u001b[1;32m    724\u001b[0m \u001b[38;5;28;01melif\u001b[39;00m meth \u001b[38;5;241m==\u001b[39m \u001b[38;5;124m'\u001b[39m\u001b[38;5;124mtrust-constr\u001b[39m\u001b[38;5;124m'\u001b[39m:\n\u001b[1;32m    725\u001b[0m     res \u001b[38;5;241m=\u001b[39m _minimize_trustregion_constr(fun, x0, args, jac, hess, hessp,\n\u001b[1;32m    726\u001b[0m                                        bounds, constraints,\n\u001b[1;32m    727\u001b[0m                                        callback\u001b[38;5;241m=\u001b[39mcallback, \u001b[38;5;241m*\u001b[39m\u001b[38;5;241m*\u001b[39moptions)\n",
      "File \u001b[0;32m/opt/anaconda3/envs/quantum/lib/python3.10/site-packages/scipy/optimize/_slsqp_py.py:441\u001b[0m, in \u001b[0;36m_minimize_slsqp\u001b[0;34m(func, x0, args, jac, bounds, constraints, maxiter, ftol, iprint, disp, eps, callback, finite_diff_rel_step, **unknown_options)\u001b[0m\n\u001b[1;32m    438\u001b[0m     c \u001b[38;5;241m=\u001b[39m _eval_constraint(x, cons)\n\u001b[1;32m    440\u001b[0m \u001b[38;5;28;01mif\u001b[39;00m mode \u001b[38;5;241m==\u001b[39m \u001b[38;5;241m-\u001b[39m\u001b[38;5;241m1\u001b[39m:  \u001b[38;5;66;03m# gradient evaluation required\u001b[39;00m\n\u001b[0;32m--> 441\u001b[0m     g \u001b[38;5;241m=\u001b[39m append(\u001b[43mwrapped_grad\u001b[49m\u001b[43m(\u001b[49m\u001b[43mx\u001b[49m\u001b[43m)\u001b[49m, \u001b[38;5;241m0.0\u001b[39m)\n\u001b[1;32m    442\u001b[0m     a \u001b[38;5;241m=\u001b[39m _eval_con_normals(x, cons, la, n, m, meq, mieq)\n\u001b[1;32m    444\u001b[0m \u001b[38;5;28;01mif\u001b[39;00m majiter \u001b[38;5;241m>\u001b[39m majiter_prev:\n\u001b[1;32m    445\u001b[0m     \u001b[38;5;66;03m# call callback if major iteration has incremented\u001b[39;00m\n",
      "File \u001b[0;32m/opt/anaconda3/envs/quantum/lib/python3.10/site-packages/scipy/optimize/_optimize.py:416\u001b[0m, in \u001b[0;36m_clip_x_for_func.<locals>.eval\u001b[0;34m(x)\u001b[0m\n\u001b[1;32m    414\u001b[0m \u001b[38;5;28;01mdef\u001b[39;00m \u001b[38;5;21meval\u001b[39m(x):\n\u001b[1;32m    415\u001b[0m     x \u001b[38;5;241m=\u001b[39m _check_clip_x(x, bounds)\n\u001b[0;32m--> 416\u001b[0m     \u001b[38;5;28;01mreturn\u001b[39;00m \u001b[43mfunc\u001b[49m\u001b[43m(\u001b[49m\u001b[43mx\u001b[49m\u001b[43m)\u001b[49m\n",
      "File \u001b[0;32m/opt/anaconda3/envs/quantum/lib/python3.10/site-packages/scipy/optimize/_differentiable_functions.py:284\u001b[0m, in \u001b[0;36mScalarFunction.grad\u001b[0;34m(self, x)\u001b[0m\n\u001b[1;32m    282\u001b[0m \u001b[38;5;28;01mif\u001b[39;00m \u001b[38;5;129;01mnot\u001b[39;00m np\u001b[38;5;241m.\u001b[39marray_equal(x, \u001b[38;5;28mself\u001b[39m\u001b[38;5;241m.\u001b[39mx):\n\u001b[1;32m    283\u001b[0m     \u001b[38;5;28mself\u001b[39m\u001b[38;5;241m.\u001b[39m_update_x_impl(x)\n\u001b[0;32m--> 284\u001b[0m \u001b[38;5;28;43mself\u001b[39;49m\u001b[38;5;241;43m.\u001b[39;49m\u001b[43m_update_grad\u001b[49m\u001b[43m(\u001b[49m\u001b[43m)\u001b[49m\n\u001b[1;32m    285\u001b[0m \u001b[38;5;28;01mreturn\u001b[39;00m \u001b[38;5;28mself\u001b[39m\u001b[38;5;241m.\u001b[39mg\n",
      "File \u001b[0;32m/opt/anaconda3/envs/quantum/lib/python3.10/site-packages/scipy/optimize/_differentiable_functions.py:267\u001b[0m, in \u001b[0;36mScalarFunction._update_grad\u001b[0;34m(self)\u001b[0m\n\u001b[1;32m    265\u001b[0m \u001b[38;5;28;01mdef\u001b[39;00m \u001b[38;5;21m_update_grad\u001b[39m(\u001b[38;5;28mself\u001b[39m):\n\u001b[1;32m    266\u001b[0m     \u001b[38;5;28;01mif\u001b[39;00m \u001b[38;5;129;01mnot\u001b[39;00m \u001b[38;5;28mself\u001b[39m\u001b[38;5;241m.\u001b[39mg_updated:\n\u001b[0;32m--> 267\u001b[0m         \u001b[38;5;28;43mself\u001b[39;49m\u001b[38;5;241;43m.\u001b[39;49m\u001b[43m_update_grad_impl\u001b[49m\u001b[43m(\u001b[49m\u001b[43m)\u001b[49m\n\u001b[1;32m    268\u001b[0m         \u001b[38;5;28mself\u001b[39m\u001b[38;5;241m.\u001b[39mg_updated \u001b[38;5;241m=\u001b[39m \u001b[38;5;28;01mTrue\u001b[39;00m\n",
      "File \u001b[0;32m/opt/anaconda3/envs/quantum/lib/python3.10/site-packages/scipy/optimize/_differentiable_functions.py:181\u001b[0m, in \u001b[0;36mScalarFunction.__init__.<locals>.update_grad\u001b[0;34m()\u001b[0m\n\u001b[1;32m    179\u001b[0m \u001b[38;5;28mself\u001b[39m\u001b[38;5;241m.\u001b[39m_update_fun()\n\u001b[1;32m    180\u001b[0m \u001b[38;5;28mself\u001b[39m\u001b[38;5;241m.\u001b[39mngev \u001b[38;5;241m+\u001b[39m\u001b[38;5;241m=\u001b[39m \u001b[38;5;241m1\u001b[39m\n\u001b[0;32m--> 181\u001b[0m \u001b[38;5;28mself\u001b[39m\u001b[38;5;241m.\u001b[39mg \u001b[38;5;241m=\u001b[39m \u001b[43mapprox_derivative\u001b[49m\u001b[43m(\u001b[49m\u001b[43mfun_wrapped\u001b[49m\u001b[43m,\u001b[49m\u001b[43m \u001b[49m\u001b[38;5;28;43mself\u001b[39;49m\u001b[38;5;241;43m.\u001b[39;49m\u001b[43mx\u001b[49m\u001b[43m,\u001b[49m\u001b[43m \u001b[49m\u001b[43mf0\u001b[49m\u001b[38;5;241;43m=\u001b[39;49m\u001b[38;5;28;43mself\u001b[39;49m\u001b[38;5;241;43m.\u001b[39;49m\u001b[43mf\u001b[49m\u001b[43m,\u001b[49m\n\u001b[1;32m    182\u001b[0m \u001b[43m                           \u001b[49m\u001b[38;5;241;43m*\u001b[39;49m\u001b[38;5;241;43m*\u001b[39;49m\u001b[43mfinite_diff_options\u001b[49m\u001b[43m)\u001b[49m\n",
      "File \u001b[0;32m/opt/anaconda3/envs/quantum/lib/python3.10/site-packages/scipy/optimize/_numdiff.py:519\u001b[0m, in \u001b[0;36mapprox_derivative\u001b[0;34m(fun, x0, method, rel_step, abs_step, f0, bounds, sparsity, as_linear_operator, args, kwargs)\u001b[0m\n\u001b[1;32m    516\u001b[0m     use_one_sided \u001b[38;5;241m=\u001b[39m \u001b[38;5;28;01mFalse\u001b[39;00m\n\u001b[1;32m    518\u001b[0m \u001b[38;5;28;01mif\u001b[39;00m sparsity \u001b[38;5;129;01mis\u001b[39;00m \u001b[38;5;28;01mNone\u001b[39;00m:\n\u001b[0;32m--> 519\u001b[0m     \u001b[38;5;28;01mreturn\u001b[39;00m \u001b[43m_dense_difference\u001b[49m\u001b[43m(\u001b[49m\u001b[43mfun_wrapped\u001b[49m\u001b[43m,\u001b[49m\u001b[43m \u001b[49m\u001b[43mx0\u001b[49m\u001b[43m,\u001b[49m\u001b[43m \u001b[49m\u001b[43mf0\u001b[49m\u001b[43m,\u001b[49m\u001b[43m \u001b[49m\u001b[43mh\u001b[49m\u001b[43m,\u001b[49m\n\u001b[1;32m    520\u001b[0m \u001b[43m                             \u001b[49m\u001b[43muse_one_sided\u001b[49m\u001b[43m,\u001b[49m\u001b[43m \u001b[49m\u001b[43mmethod\u001b[49m\u001b[43m)\u001b[49m\n\u001b[1;32m    521\u001b[0m \u001b[38;5;28;01melse\u001b[39;00m:\n\u001b[1;32m    522\u001b[0m     \u001b[38;5;28;01mif\u001b[39;00m \u001b[38;5;129;01mnot\u001b[39;00m issparse(sparsity) \u001b[38;5;129;01mand\u001b[39;00m \u001b[38;5;28mlen\u001b[39m(sparsity) \u001b[38;5;241m==\u001b[39m \u001b[38;5;241m2\u001b[39m:\n",
      "File \u001b[0;32m/opt/anaconda3/envs/quantum/lib/python3.10/site-packages/scipy/optimize/_numdiff.py:590\u001b[0m, in \u001b[0;36m_dense_difference\u001b[0;34m(fun, x0, f0, h, use_one_sided, method)\u001b[0m\n\u001b[1;32m    588\u001b[0m     x \u001b[38;5;241m=\u001b[39m x0 \u001b[38;5;241m+\u001b[39m h_vecs[i]\n\u001b[1;32m    589\u001b[0m     dx \u001b[38;5;241m=\u001b[39m x[i] \u001b[38;5;241m-\u001b[39m x0[i]  \u001b[38;5;66;03m# Recompute dx as exactly representable number.\u001b[39;00m\n\u001b[0;32m--> 590\u001b[0m     df \u001b[38;5;241m=\u001b[39m \u001b[43mfun\u001b[49m\u001b[43m(\u001b[49m\u001b[43mx\u001b[49m\u001b[43m)\u001b[49m \u001b[38;5;241m-\u001b[39m f0\n\u001b[1;32m    591\u001b[0m \u001b[38;5;28;01melif\u001b[39;00m method \u001b[38;5;241m==\u001b[39m \u001b[38;5;124m'\u001b[39m\u001b[38;5;124m3-point\u001b[39m\u001b[38;5;124m'\u001b[39m \u001b[38;5;129;01mand\u001b[39;00m use_one_sided[i]:\n\u001b[1;32m    592\u001b[0m     x1 \u001b[38;5;241m=\u001b[39m x0 \u001b[38;5;241m+\u001b[39m h_vecs[i]\n",
      "File \u001b[0;32m/opt/anaconda3/envs/quantum/lib/python3.10/site-packages/scipy/optimize/_numdiff.py:470\u001b[0m, in \u001b[0;36mapprox_derivative.<locals>.fun_wrapped\u001b[0;34m(x)\u001b[0m\n\u001b[1;32m    467\u001b[0m \u001b[38;5;28;01mif\u001b[39;00m xp\u001b[38;5;241m.\u001b[39misdtype(x\u001b[38;5;241m.\u001b[39mdtype, \u001b[38;5;124m\"\u001b[39m\u001b[38;5;124mreal floating\u001b[39m\u001b[38;5;124m\"\u001b[39m):\n\u001b[1;32m    468\u001b[0m     x \u001b[38;5;241m=\u001b[39m xp\u001b[38;5;241m.\u001b[39mastype(x, x0\u001b[38;5;241m.\u001b[39mdtype)\n\u001b[0;32m--> 470\u001b[0m f \u001b[38;5;241m=\u001b[39m np\u001b[38;5;241m.\u001b[39matleast_1d(\u001b[43mfun\u001b[49m\u001b[43m(\u001b[49m\u001b[43mx\u001b[49m\u001b[43m,\u001b[49m\u001b[43m \u001b[49m\u001b[38;5;241;43m*\u001b[39;49m\u001b[43margs\u001b[49m\u001b[43m,\u001b[49m\u001b[43m \u001b[49m\u001b[38;5;241;43m*\u001b[39;49m\u001b[38;5;241;43m*\u001b[39;49m\u001b[43mkwargs\u001b[49m\u001b[43m)\u001b[49m)\n\u001b[1;32m    471\u001b[0m \u001b[38;5;28;01mif\u001b[39;00m f\u001b[38;5;241m.\u001b[39mndim \u001b[38;5;241m>\u001b[39m \u001b[38;5;241m1\u001b[39m:\n\u001b[1;32m    472\u001b[0m     \u001b[38;5;28;01mraise\u001b[39;00m \u001b[38;5;167;01mRuntimeError\u001b[39;00m(\u001b[38;5;124m\"\u001b[39m\u001b[38;5;124m`fun` return value has \u001b[39m\u001b[38;5;124m\"\u001b[39m\n\u001b[1;32m    473\u001b[0m                        \u001b[38;5;124m\"\u001b[39m\u001b[38;5;124mmore than 1 dimension.\u001b[39m\u001b[38;5;124m\"\u001b[39m)\n",
      "File \u001b[0;32m/opt/anaconda3/envs/quantum/lib/python3.10/site-packages/scipy/optimize/_differentiable_functions.py:145\u001b[0m, in \u001b[0;36mScalarFunction.__init__.<locals>.fun_wrapped\u001b[0;34m(x)\u001b[0m\n\u001b[1;32m    141\u001b[0m \u001b[38;5;28mself\u001b[39m\u001b[38;5;241m.\u001b[39mnfev \u001b[38;5;241m+\u001b[39m\u001b[38;5;241m=\u001b[39m \u001b[38;5;241m1\u001b[39m\n\u001b[1;32m    142\u001b[0m \u001b[38;5;66;03m# Send a copy because the user may overwrite it.\u001b[39;00m\n\u001b[1;32m    143\u001b[0m \u001b[38;5;66;03m# Overwriting results in undefined behaviour because\u001b[39;00m\n\u001b[1;32m    144\u001b[0m \u001b[38;5;66;03m# fun(self.x) will change self.x, with the two no longer linked.\u001b[39;00m\n\u001b[0;32m--> 145\u001b[0m fx \u001b[38;5;241m=\u001b[39m \u001b[43mfun\u001b[49m\u001b[43m(\u001b[49m\u001b[43mnp\u001b[49m\u001b[38;5;241;43m.\u001b[39;49m\u001b[43mcopy\u001b[49m\u001b[43m(\u001b[49m\u001b[43mx\u001b[49m\u001b[43m)\u001b[49m\u001b[43m,\u001b[49m\u001b[43m \u001b[49m\u001b[38;5;241;43m*\u001b[39;49m\u001b[43margs\u001b[49m\u001b[43m)\u001b[49m\n\u001b[1;32m    146\u001b[0m \u001b[38;5;66;03m# Make sure the function returns a true scalar\u001b[39;00m\n\u001b[1;32m    147\u001b[0m \u001b[38;5;28;01mif\u001b[39;00m \u001b[38;5;129;01mnot\u001b[39;00m np\u001b[38;5;241m.\u001b[39misscalar(fx):\n",
      "Cell \u001b[0;32mIn[15], line 2\u001b[0m, in \u001b[0;36mcost_func\u001b[0;34m(params, ansatz, H, estimator)\u001b[0m\n\u001b[1;32m      1\u001b[0m \u001b[38;5;28;01mdef\u001b[39;00m \u001b[38;5;21mcost_func\u001b[39m(params, ansatz, H, estimator):\n\u001b[0;32m----> 2\u001b[0m     energy \u001b[38;5;241m=\u001b[39m \u001b[43mestimator\u001b[49m\u001b[38;5;241;43m.\u001b[39;49m\u001b[43mrun\u001b[49m\u001b[43m(\u001b[49m\u001b[43mansatz\u001b[49m\u001b[43m,\u001b[49m\u001b[43m \u001b[49m\u001b[43mH\u001b[49m\u001b[43m,\u001b[49m\u001b[43m \u001b[49m\u001b[43mparameter_values\u001b[49m\u001b[38;5;241;43m=\u001b[39;49m\u001b[43mparams\u001b[49m\u001b[43m)\u001b[49m\u001b[38;5;241;43m.\u001b[39;49m\u001b[43mresult\u001b[49m\u001b[43m(\u001b[49m\u001b[43m)\u001b[49m\u001b[38;5;241m.\u001b[39mvalues[\u001b[38;5;241m0\u001b[39m]\n\u001b[1;32m      3\u001b[0m     \u001b[38;5;28;01mreturn\u001b[39;00m energy\n",
      "File \u001b[0;32m/opt/anaconda3/envs/quantum/lib/python3.10/site-packages/qiskit/primitives/primitive_job.py:55\u001b[0m, in \u001b[0;36mPrimitiveJob.result\u001b[0;34m(self)\u001b[0m\n\u001b[1;32m     53\u001b[0m \u001b[38;5;250m\u001b[39m\u001b[38;5;124;03m\"\"\"Return the results of the job.\"\"\"\u001b[39;00m\n\u001b[1;32m     54\u001b[0m \u001b[38;5;28mself\u001b[39m\u001b[38;5;241m.\u001b[39m_check_submitted()\n\u001b[0;32m---> 55\u001b[0m \u001b[38;5;28;01mreturn\u001b[39;00m \u001b[38;5;28;43mself\u001b[39;49m\u001b[38;5;241;43m.\u001b[39;49m\u001b[43m_future\u001b[49m\u001b[38;5;241;43m.\u001b[39;49m\u001b[43mresult\u001b[49m\u001b[43m(\u001b[49m\u001b[43m)\u001b[49m\n",
      "File \u001b[0;32m/opt/anaconda3/envs/quantum/lib/python3.10/concurrent/futures/_base.py:453\u001b[0m, in \u001b[0;36mFuture.result\u001b[0;34m(self, timeout)\u001b[0m\n\u001b[1;32m    450\u001b[0m \u001b[38;5;28;01melif\u001b[39;00m \u001b[38;5;28mself\u001b[39m\u001b[38;5;241m.\u001b[39m_state \u001b[38;5;241m==\u001b[39m FINISHED:\n\u001b[1;32m    451\u001b[0m     \u001b[38;5;28;01mreturn\u001b[39;00m \u001b[38;5;28mself\u001b[39m\u001b[38;5;241m.\u001b[39m__get_result()\n\u001b[0;32m--> 453\u001b[0m \u001b[38;5;28;43mself\u001b[39;49m\u001b[38;5;241;43m.\u001b[39;49m\u001b[43m_condition\u001b[49m\u001b[38;5;241;43m.\u001b[39;49m\u001b[43mwait\u001b[49m\u001b[43m(\u001b[49m\u001b[43mtimeout\u001b[49m\u001b[43m)\u001b[49m\n\u001b[1;32m    455\u001b[0m \u001b[38;5;28;01mif\u001b[39;00m \u001b[38;5;28mself\u001b[39m\u001b[38;5;241m.\u001b[39m_state \u001b[38;5;129;01min\u001b[39;00m [CANCELLED, CANCELLED_AND_NOTIFIED]:\n\u001b[1;32m    456\u001b[0m     \u001b[38;5;28;01mraise\u001b[39;00m CancelledError()\n",
      "File \u001b[0;32m/opt/anaconda3/envs/quantum/lib/python3.10/threading.py:320\u001b[0m, in \u001b[0;36mCondition.wait\u001b[0;34m(self, timeout)\u001b[0m\n\u001b[1;32m    318\u001b[0m \u001b[38;5;28;01mtry\u001b[39;00m:    \u001b[38;5;66;03m# restore state no matter what (e.g., KeyboardInterrupt)\u001b[39;00m\n\u001b[1;32m    319\u001b[0m     \u001b[38;5;28;01mif\u001b[39;00m timeout \u001b[38;5;129;01mis\u001b[39;00m \u001b[38;5;28;01mNone\u001b[39;00m:\n\u001b[0;32m--> 320\u001b[0m         \u001b[43mwaiter\u001b[49m\u001b[38;5;241;43m.\u001b[39;49m\u001b[43macquire\u001b[49m\u001b[43m(\u001b[49m\u001b[43m)\u001b[49m\n\u001b[1;32m    321\u001b[0m         gotit \u001b[38;5;241m=\u001b[39m \u001b[38;5;28;01mTrue\u001b[39;00m\n\u001b[1;32m    322\u001b[0m     \u001b[38;5;28;01melse\u001b[39;00m:\n",
      "\u001b[0;31mKeyboardInterrupt\u001b[0m: "
     ]
    }
   ],
   "source": [
    "# Define the conditions for termination\n",
    "gradient_threshold = 1e-3\n",
    "max_iter = 10\n",
    "terminate = False\n",
    "\n",
    "# Initiate the problem\n",
    "ansatz = hf_circuit\n",
    "hamiltonian = H\n",
    "excitation_pool = ucc.operators  # TODO\n",
    "estimator = Estimator(options={\"shots\": None, \"approximation\": True})\n",
    "params = None\n",
    "\n",
    "iter = 0\n",
    "operator_list = []\n",
    "while not terminate:\n",
    "    print(f\"Iter: {iter}\")\n",
    "    gradients = compute_gradients(ansatz, hamiltonian, excitation_pool, estimator, params)\n",
    "    max_gradient = np.max(np.abs(gradients))\n",
    "    print(f\"Maximum gradient: {max_gradient}\")\n",
    "    # Check convergence\n",
    "    if max_gradient > gradient_threshold:\n",
    "        # Find the operator with the largest gradient\n",
    "        max_index = np.argmax(np.abs(gradients))\n",
    "        max_operator = excitation_pool[max_index]\n",
    "        print(f\"Operator: {max_operator} at index {max_index}\")\n",
    "        # Grow the ansatz\n",
    "        operator_list.append(max_operator)\n",
    "        ansatz = EvolvedOperatorAnsatz(operators=operator_list, evolution=LieTrotter(), parameter_prefix='theta', initial_state=hf_circuit)  # TODO\n",
    "        # Run VQE on the current ansatz\n",
    "        x0 = 2 * np.pi * np.random.random(ansatz.num_parameters)\n",
    "        res = minimize(cost_func, x0, args=(ansatz, H, estimator), method=\"slsqp\", options={'maxiter': 50, 'disp': True})\n",
    "        print(f\"Result at iter {iter}: {getattr(res, 'fun')}\")\n",
    "        x_opt =  getattr(res, 'x')\n",
    "        params = x_opt\n",
    "        # Terminate if maximum number of iterations reached\n",
    "        iter += 1\n",
    "        if iter >= max_iter:\n",
    "            terminate = True\n",
    "    # Terminate if converged\n",
    "    else:\n",
    "        terminate = True\n",
    "    \n",
    "# Note this returns the total energy, and we are often interested in the electronic energy\n",
    "ground_energy = getattr(res, 'fun')\n",
    "print(f\"Found ground energy: {ground_energy}, exact energy: {exact_result.eigenvalue}, difference: {ground_energy - exact_result.eigenvalue}\")"
   ]
  }
 ],
 "metadata": {
  "kernelspec": {
   "display_name": "quantum",
   "language": "python",
   "name": "python3"
  },
  "language_info": {
   "codemirror_mode": {
    "name": "ipython",
    "version": 3
   },
   "file_extension": ".py",
   "mimetype": "text/x-python",
   "name": "python",
   "nbconvert_exporter": "python",
   "pygments_lexer": "ipython3",
   "version": "3.10.13"
  }
 },
 "nbformat": 4,
 "nbformat_minor": 2
}
